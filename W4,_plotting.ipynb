{
  "nbformat": 4,
  "nbformat_minor": 0,
  "metadata": {
    "kernelspec": {
      "name": "python3",
      "display_name": "Python 3"
    },
    "colab": {
      "name": "W4, plotting.ipynb",
      "provenance": [],
      "collapsed_sections": [],
      "toc_visible": true,
      "include_colab_link": true
    }
  },
  "cells": [
    {
      "cell_type": "markdown",
      "metadata": {
        "id": "view-in-github",
        "colab_type": "text"
      },
      "source": [
        "<a href=\"https://colab.research.google.com/github/ineslca/workbooks/blob/main/W4%2C_plotting.ipynb\" target=\"_parent\"><img src=\"https://colab.research.google.com/assets/colab-badge.svg\" alt=\"Open In Colab\"/></a>"
      ]
    },
    {
      "cell_type": "markdown",
      "metadata": {
        "id": "Vtj6NJmrYwHx"
      },
      "source": [
        "## Quantitative Methods 2:  Data Science and Visualisation\n",
        "## Workshop 4: Plotting revisited\n",
        "We've created some basic plots over the last couple of weeks, but it would be nice to control the quality, appearance, and information presented in our plots. We can do that by using optional arguments and styles, but also by using new libraries that open up new visualisation techniques and ways of sharing our outputs\n",
        "\n",
        "### Aims:\n",
        "\n",
        "- Experiment with new forms and tools\n",
        "- Understand how to change the appearance of standard plots\n",
        "- Work with different libraries\n",
        "- Create web-enabled graphs\n",
        "- Improve the quality of our plots"
      ]
    },
    {
      "cell_type": "markdown",
      "metadata": {
        "id": "O6KN49GzYwHy"
      },
      "source": [
        "## Downloading the Data\n",
        "Let's grab the data we will need this week from our course website and save it into our data folder. If you've not already created a data folder then do so using the following command. \n",
        "\n",
        "Don't worry if it generates an error, that means you've already got a data folder."
      ]
    },
    {
      "cell_type": "code",
      "metadata": {
        "id": "r0ldMs09YwHz"
      },
      "source": [
        "!mkdir data"
      ],
      "execution_count": null,
      "outputs": []
    },
    {
      "cell_type": "code",
      "metadata": {
        "id": "96sxJV5_YwH2",
        "colab": {
          "base_uri": "https://localhost:8080/"
        },
        "outputId": "c4039352-c4e5-4d50-cc01-f1fa6ed39d1e"
      },
      "source": [
        "!mkdir data/wk4\n",
        "!curl https://s3.eu-west-2.amazonaws.com/qm2/wk4/UN_Life_2012.csv -o ./data/wk4/UN_Life_2012.csv\n",
        "!curl https://s3.eu-west-2.amazonaws.com/qm2/wk4/UN_Life_all.csv -o ./data/wk4/UN_Life_all.csv\n",
        "!curl https://s3.eu-west-2.amazonaws.com/qm2/wk4/UN_Cities_all.csv -o ./data/wk4/UN_Cities_all.csv\n",
        "!curl https://s3.eu-west-2.amazonaws.com/qm2/wk4/tips.csv -o ./data/wk4/tips.csv"
      ],
      "execution_count": null,
      "outputs": [
        {
          "output_type": "stream",
          "text": [
            "  % Total    % Received % Xferd  Average Speed   Time    Time     Time  Current\n",
            "                                 Dload  Upload   Total   Spent    Left  Speed\n",
            "100 10127  100 10127    0     0  24520      0 --:--:-- --:--:-- --:--:-- 24580\n",
            "  % Total    % Received % Xferd  Average Speed   Time    Time     Time  Current\n",
            "                                 Dload  Upload   Total   Spent    Left  Speed\n",
            "100  354k  100  354k    0     0   460k      0 --:--:-- --:--:-- --:--:--  460k\n",
            "  % Total    % Received % Xferd  Average Speed   Time    Time     Time  Current\n",
            "                                 Dload  Upload   Total   Spent    Left  Speed\n",
            "100 6322k  100 6322k    0     0  5070k      0  0:00:01  0:00:01 --:--:-- 5070k\n",
            "  % Total    % Received % Xferd  Average Speed   Time    Time     Time  Current\n",
            "                                 Dload  Upload   Total   Spent    Left  Speed\n",
            "100  9729  100  9729    0     0  22731      0 --:--:-- --:--:-- --:--:-- 22678\n"
          ],
          "name": "stdout"
        }
      ]
    },
    {
      "cell_type": "markdown",
      "metadata": {
        "id": "2e97YS7HYwH5"
      },
      "source": [
        "`------------------`     "
      ]
    },
    {
      "cell_type": "code",
      "metadata": {
        "id": "rAWYpZcnYwH6"
      },
      "source": [
        "import matplotlib.pyplot as plt\n",
        "import pandas as pd\n",
        "import pylab\n",
        "%matplotlib inline\n",
        "pylab.rcParams['figure.figsize'] = (10., 8.)"
      ],
      "execution_count": null,
      "outputs": []
    },
    {
      "cell_type": "markdown",
      "metadata": {
        "id": "8RcSr_9QYwH-"
      },
      "source": [
        "## Life on Bars\n",
        "\n",
        "We're going to work with some data we looked at last week, on life expectancy, compiled by the UN. Here is the source:\n",
        "\n",
        "http://data.un.org/Data.aspx?d=WDI&f=Indicator_Code%3ASP.DYN.LE00.IN\n",
        "\n",
        "I've filtered and cleaned it, and focussed on just 2012 data:"
      ]
    },
    {
      "cell_type": "code",
      "metadata": {
        "id": "Gdt_CslJYwH-",
        "colab": {
          "base_uri": "https://localhost:8080/",
          "height": 198
        },
        "outputId": "e2dc95af-12a3-4334-8bb3-64b493981326"
      },
      "source": [
        "data_path = \"./data/wk4/UN_Life_2012.csv\"\n",
        "data = pd.read_csv(data_path)\n",
        "data.head()"
      ],
      "execution_count": null,
      "outputs": [
        {
          "output_type": "execute_result",
          "data": {
            "text/html": [
              "<div>\n",
              "<style scoped>\n",
              "    .dataframe tbody tr th:only-of-type {\n",
              "        vertical-align: middle;\n",
              "    }\n",
              "\n",
              "    .dataframe tbody tr th {\n",
              "        vertical-align: top;\n",
              "    }\n",
              "\n",
              "    .dataframe thead th {\n",
              "        text-align: right;\n",
              "    }\n",
              "</style>\n",
              "<table border=\"1\" class=\"dataframe\">\n",
              "  <thead>\n",
              "    <tr style=\"text-align: right;\">\n",
              "      <th></th>\n",
              "      <th>Country or Area</th>\n",
              "      <th>Year</th>\n",
              "      <th>Value</th>\n",
              "      <th>Value Footnotes</th>\n",
              "    </tr>\n",
              "  </thead>\n",
              "  <tbody>\n",
              "    <tr>\n",
              "      <th>0</th>\n",
              "      <td>Afghanistan</td>\n",
              "      <td>2012</td>\n",
              "      <td>60.509122</td>\n",
              "      <td>NaN</td>\n",
              "    </tr>\n",
              "    <tr>\n",
              "      <th>1</th>\n",
              "      <td>Albania</td>\n",
              "      <td>2012</td>\n",
              "      <td>77.350463</td>\n",
              "      <td>NaN</td>\n",
              "    </tr>\n",
              "    <tr>\n",
              "      <th>2</th>\n",
              "      <td>Algeria</td>\n",
              "      <td>2012</td>\n",
              "      <td>70.882171</td>\n",
              "      <td>NaN</td>\n",
              "    </tr>\n",
              "    <tr>\n",
              "      <th>3</th>\n",
              "      <td>Angola</td>\n",
              "      <td>2012</td>\n",
              "      <td>51.464000</td>\n",
              "      <td>NaN</td>\n",
              "    </tr>\n",
              "    <tr>\n",
              "      <th>4</th>\n",
              "      <td>Antigua and Barbuda</td>\n",
              "      <td>2012</td>\n",
              "      <td>75.665317</td>\n",
              "      <td>NaN</td>\n",
              "    </tr>\n",
              "  </tbody>\n",
              "</table>\n",
              "</div>"
            ],
            "text/plain": [
              "       Country or Area  Year      Value  Value Footnotes\n",
              "0          Afghanistan  2012  60.509122              NaN\n",
              "1              Albania  2012  77.350463              NaN\n",
              "2              Algeria  2012  70.882171              NaN\n",
              "3               Angola  2012  51.464000              NaN\n",
              "4  Antigua and Barbuda  2012  75.665317              NaN"
            ]
          },
          "metadata": {
            "tags": []
          },
          "execution_count": 9
        }
      ]
    },
    {
      "cell_type": "markdown",
      "metadata": {
        "id": "A5LUn88qYwIB"
      },
      "source": [
        "## Exercise\n",
        "\n",
        "Clean this data by removing the Year and Value Footnotes columns, and plot it on a labelled histogram. Then save this as an image file using \"plt.savefig(*filename*)\"."
      ]
    },
    {
      "cell_type": "code",
      "metadata": {
        "id": "woP7gty5Eeyx"
      },
      "source": [
        "data.drop(\"Year\", axis=1, inplace=True)\n",
        "data.drop(\"Value Footnotes\", axis=1, inplace=True)"
      ],
      "execution_count": null,
      "outputs": []
    },
    {
      "cell_type": "code",
      "metadata": {
        "id": "u-1NCkUvL8Bd",
        "colab": {
          "base_uri": "https://localhost:8080/",
          "height": 198
        },
        "outputId": "fb4b6218-df27-4297-885a-d2c90c59d66b"
      },
      "source": [
        "data.head()"
      ],
      "execution_count": null,
      "outputs": [
        {
          "output_type": "execute_result",
          "data": {
            "text/html": [
              "<div>\n",
              "<style scoped>\n",
              "    .dataframe tbody tr th:only-of-type {\n",
              "        vertical-align: middle;\n",
              "    }\n",
              "\n",
              "    .dataframe tbody tr th {\n",
              "        vertical-align: top;\n",
              "    }\n",
              "\n",
              "    .dataframe thead th {\n",
              "        text-align: right;\n",
              "    }\n",
              "</style>\n",
              "<table border=\"1\" class=\"dataframe\">\n",
              "  <thead>\n",
              "    <tr style=\"text-align: right;\">\n",
              "      <th></th>\n",
              "      <th>Country or Area</th>\n",
              "      <th>Value</th>\n",
              "    </tr>\n",
              "  </thead>\n",
              "  <tbody>\n",
              "    <tr>\n",
              "      <th>0</th>\n",
              "      <td>Afghanistan</td>\n",
              "      <td>60.509122</td>\n",
              "    </tr>\n",
              "    <tr>\n",
              "      <th>1</th>\n",
              "      <td>Albania</td>\n",
              "      <td>77.350463</td>\n",
              "    </tr>\n",
              "    <tr>\n",
              "      <th>2</th>\n",
              "      <td>Algeria</td>\n",
              "      <td>70.882171</td>\n",
              "    </tr>\n",
              "    <tr>\n",
              "      <th>3</th>\n",
              "      <td>Angola</td>\n",
              "      <td>51.464000</td>\n",
              "    </tr>\n",
              "    <tr>\n",
              "      <th>4</th>\n",
              "      <td>Antigua and Barbuda</td>\n",
              "      <td>75.665317</td>\n",
              "    </tr>\n",
              "  </tbody>\n",
              "</table>\n",
              "</div>"
            ],
            "text/plain": [
              "       Country or Area      Value\n",
              "0          Afghanistan  60.509122\n",
              "1              Albania  77.350463\n",
              "2              Algeria  70.882171\n",
              "3               Angola  51.464000\n",
              "4  Antigua and Barbuda  75.665317"
            ]
          },
          "metadata": {
            "tags": []
          },
          "execution_count": 11
        }
      ]
    },
    {
      "cell_type": "code",
      "metadata": {
        "id": "mflmMxKoFCiW",
        "colab": {
          "base_uri": "https://localhost:8080/",
          "height": 530
        },
        "outputId": "fb8b6974-6422-438a-97a1-a0ae442c79b2"
      },
      "source": [
        "datahist = data.hist(column='Value')\n",
        "plt.title('Life Expectancy distribution in 2012')\n",
        "plt.ylabel('Frequency in Country or Area')\n",
        "plt.xlabel('Life Expectancy Value')"
      ],
      "execution_count": null,
      "outputs": [
        {
          "output_type": "execute_result",
          "data": {
            "text/plain": [
              "Text(0.5, 0, 'Life Expectancy Value')"
            ]
          },
          "metadata": {
            "tags": []
          },
          "execution_count": 12
        },
        {
          "output_type": "display_data",
          "data": {
            "image/png": "[encoded data removed]",
            "text/plain": [
              "<Figure size 720x576 with 1 Axes>"
            ]
          },
          "metadata": {
            "tags": [],
            "needs_background": "light"
          }
        }
      ]
    },
    {
      "cell_type": "code",
      "metadata": {
        "colab": {
          "base_uri": "https://localhost:8080/",
          "height": 35
        },
        "id": "ISt7RisHtPKt",
        "outputId": "9cf97a84-0b73-46c9-e44f-7b228f387c00"
      },
      "source": [
        "plt.savefig('datahist')"
      ],
      "execution_count": null,
      "outputs": [
        {
          "output_type": "display_data",
          "data": {
            "text/plain": [
              "<Figure size 720x576 with 0 Axes>"
            ]
          },
          "metadata": {
            "tags": []
          }
        }
      ]
    },
    {
      "cell_type": "markdown",
      "metadata": {
        "id": "IewWf06gYwIC"
      },
      "source": [
        "Let's try to improve the look of this. First of all, with\n",
        "\n",
        "## ggplot\n",
        "\n",
        "`ggplot` is a library originally developed for the **R** programming language, and subsequently ported into Python. It has a slightly nicer default look. It's fairly simple to invoke:"
      ]
    },
    {
      "cell_type": "code",
      "metadata": {
        "id": "ECtwi8jhYwIC"
      },
      "source": [
        "plt.style.use('ggplot')"
      ],
      "execution_count": null,
      "outputs": []
    },
    {
      "cell_type": "code",
      "metadata": {
        "id": "8L4s_M1EYwIF",
        "colab": {
          "base_uri": "https://localhost:8080/",
          "height": 535
        },
        "outputId": "af19e1b0-81a9-4643-e9ae-e4a5fb403346"
      },
      "source": [
        "summary = data.hist(bins = 20)\n",
        "plt.xlabel('Life Expectancy [Years]')\n",
        "plt.ylabel('Frequency [Countries]')\n",
        "plt.title('World Life Expectancy Distribution in 2012')"
      ],
      "execution_count": null,
      "outputs": [
        {
          "output_type": "execute_result",
          "data": {
            "text/plain": [
              "Text(0.5, 1.0, 'World Life Expectancy Distribution in 2012')"
            ]
          },
          "metadata": {
            "tags": []
          },
          "execution_count": 15
        },
        {
          "output_type": "display_data",
          "data": {
            "image/png": "[encoded data removed]",
            "text/plain": [
              "<Figure size 720x576 with 1 Axes>"
            ]
          },
          "metadata": {
            "tags": []
          }
        }
      ]
    },
    {
      "cell_type": "markdown",
      "metadata": {
        "id": "o82XUi8rYwIJ"
      },
      "source": [
        "Let's now start to work with data that runs over a number of years"
      ]
    },
    {
      "cell_type": "code",
      "metadata": {
        "id": "nBByzBloYwIK",
        "colab": {
          "base_uri": "https://localhost:8080/",
          "height": 198
        },
        "outputId": "9252d783-4a79-4856-9301-2b3b2f3ec533"
      },
      "source": [
        "data_path = \"./data/wk4/UN_Life_all.csv\"\n",
        "life = pd.read_csv(data_path)\n",
        "life.head()"
      ],
      "execution_count": null,
      "outputs": [
        {
          "output_type": "execute_result",
          "data": {
            "text/html": [
              "<div>\n",
              "<style scoped>\n",
              "    .dataframe tbody tr th:only-of-type {\n",
              "        vertical-align: middle;\n",
              "    }\n",
              "\n",
              "    .dataframe tbody tr th {\n",
              "        vertical-align: top;\n",
              "    }\n",
              "\n",
              "    .dataframe thead th {\n",
              "        text-align: right;\n",
              "    }\n",
              "</style>\n",
              "<table border=\"1\" class=\"dataframe\">\n",
              "  <thead>\n",
              "    <tr style=\"text-align: right;\">\n",
              "      <th></th>\n",
              "      <th>Country or Area</th>\n",
              "      <th>Year</th>\n",
              "      <th>Value</th>\n",
              "      <th>Value Footnotes</th>\n",
              "    </tr>\n",
              "  </thead>\n",
              "  <tbody>\n",
              "    <tr>\n",
              "      <th>0</th>\n",
              "      <td>Afghanistan</td>\n",
              "      <td>2012</td>\n",
              "      <td>60.509122</td>\n",
              "      <td>NaN</td>\n",
              "    </tr>\n",
              "    <tr>\n",
              "      <th>1</th>\n",
              "      <td>Afghanistan</td>\n",
              "      <td>2011</td>\n",
              "      <td>60.065366</td>\n",
              "      <td>NaN</td>\n",
              "    </tr>\n",
              "    <tr>\n",
              "      <th>2</th>\n",
              "      <td>Afghanistan</td>\n",
              "      <td>2010</td>\n",
              "      <td>59.600098</td>\n",
              "      <td>NaN</td>\n",
              "    </tr>\n",
              "    <tr>\n",
              "      <th>3</th>\n",
              "      <td>Afghanistan</td>\n",
              "      <td>2009</td>\n",
              "      <td>59.112341</td>\n",
              "      <td>NaN</td>\n",
              "    </tr>\n",
              "    <tr>\n",
              "      <th>4</th>\n",
              "      <td>Afghanistan</td>\n",
              "      <td>2008</td>\n",
              "      <td>58.607098</td>\n",
              "      <td>NaN</td>\n",
              "    </tr>\n",
              "  </tbody>\n",
              "</table>\n",
              "</div>"
            ],
            "text/plain": [
              "  Country or Area  Year      Value  Value Footnotes\n",
              "0     Afghanistan  2012  60.509122              NaN\n",
              "1     Afghanistan  2011  60.065366              NaN\n",
              "2     Afghanistan  2010  59.600098              NaN\n",
              "3     Afghanistan  2009  59.112341              NaN\n",
              "4     Afghanistan  2008  58.607098              NaN"
            ]
          },
          "metadata": {
            "tags": []
          },
          "execution_count": 16
        }
      ]
    },
    {
      "cell_type": "code",
      "metadata": {
        "colab": {
          "base_uri": "https://localhost:8080/",
          "height": 198
        },
        "id": "Gr_PYAOAvIZS",
        "outputId": "0ce53c25-b58f-42c5-eafe-849e127a1add"
      },
      "source": [
        "life.drop(columns ='Value Footnotes', inplace=True)\n",
        "life.head()"
      ],
      "execution_count": null,
      "outputs": [
        {
          "output_type": "execute_result",
          "data": {
            "text/html": [
              "<div>\n",
              "<style scoped>\n",
              "    .dataframe tbody tr th:only-of-type {\n",
              "        vertical-align: middle;\n",
              "    }\n",
              "\n",
              "    .dataframe tbody tr th {\n",
              "        vertical-align: top;\n",
              "    }\n",
              "\n",
              "    .dataframe thead th {\n",
              "        text-align: right;\n",
              "    }\n",
              "</style>\n",
              "<table border=\"1\" class=\"dataframe\">\n",
              "  <thead>\n",
              "    <tr style=\"text-align: right;\">\n",
              "      <th></th>\n",
              "      <th>Country or Area</th>\n",
              "      <th>Year</th>\n",
              "      <th>Value</th>\n",
              "    </tr>\n",
              "  </thead>\n",
              "  <tbody>\n",
              "    <tr>\n",
              "      <th>0</th>\n",
              "      <td>Afghanistan</td>\n",
              "      <td>2012</td>\n",
              "      <td>60.509122</td>\n",
              "    </tr>\n",
              "    <tr>\n",
              "      <th>1</th>\n",
              "      <td>Afghanistan</td>\n",
              "      <td>2011</td>\n",
              "      <td>60.065366</td>\n",
              "    </tr>\n",
              "    <tr>\n",
              "      <th>2</th>\n",
              "      <td>Afghanistan</td>\n",
              "      <td>2010</td>\n",
              "      <td>59.600098</td>\n",
              "    </tr>\n",
              "    <tr>\n",
              "      <th>3</th>\n",
              "      <td>Afghanistan</td>\n",
              "      <td>2009</td>\n",
              "      <td>59.112341</td>\n",
              "    </tr>\n",
              "    <tr>\n",
              "      <th>4</th>\n",
              "      <td>Afghanistan</td>\n",
              "      <td>2008</td>\n",
              "      <td>58.607098</td>\n",
              "    </tr>\n",
              "  </tbody>\n",
              "</table>\n",
              "</div>"
            ],
            "text/plain": [
              "  Country or Area  Year      Value\n",
              "0     Afghanistan  2012  60.509122\n",
              "1     Afghanistan  2011  60.065366\n",
              "2     Afghanistan  2010  59.600098\n",
              "3     Afghanistan  2009  59.112341\n",
              "4     Afghanistan  2008  58.607098"
            ]
          },
          "metadata": {
            "tags": []
          },
          "execution_count": 17
        }
      ]
    },
    {
      "cell_type": "markdown",
      "metadata": {
        "id": "XCVv7sBeYwIN"
      },
      "source": [
        "Note that we deliberately *don't* use one of the columns as the index, because there are multiple years of data for multiple countries. Let's carry out a *sort* operation on the data - to put in order of country, then year:"
      ]
    },
    {
      "cell_type": "code",
      "metadata": {
        "id": "34d69IQhYwIN",
        "colab": {
          "base_uri": "https://localhost:8080/",
          "height": 198
        },
        "outputId": "4c9fb7f9-c223-4519-a2b6-01b693d82184"
      },
      "source": [
        "life.sort_values(by=['Country or Area','Year'], inplace=True)\n",
        "life.head()"
      ],
      "execution_count": null,
      "outputs": [
        {
          "output_type": "execute_result",
          "data": {
            "text/html": [
              "<div>\n",
              "<style scoped>\n",
              "    .dataframe tbody tr th:only-of-type {\n",
              "        vertical-align: middle;\n",
              "    }\n",
              "\n",
              "    .dataframe tbody tr th {\n",
              "        vertical-align: top;\n",
              "    }\n",
              "\n",
              "    .dataframe thead th {\n",
              "        text-align: right;\n",
              "    }\n",
              "</style>\n",
              "<table border=\"1\" class=\"dataframe\">\n",
              "  <thead>\n",
              "    <tr style=\"text-align: right;\">\n",
              "      <th></th>\n",
              "      <th>Country or Area</th>\n",
              "      <th>Year</th>\n",
              "      <th>Value</th>\n",
              "    </tr>\n",
              "  </thead>\n",
              "  <tbody>\n",
              "    <tr>\n",
              "      <th>52</th>\n",
              "      <td>Afghanistan</td>\n",
              "      <td>1960</td>\n",
              "      <td>31.580049</td>\n",
              "    </tr>\n",
              "    <tr>\n",
              "      <th>51</th>\n",
              "      <td>Afghanistan</td>\n",
              "      <td>1961</td>\n",
              "      <td>32.095976</td>\n",
              "    </tr>\n",
              "    <tr>\n",
              "      <th>50</th>\n",
              "      <td>Afghanistan</td>\n",
              "      <td>1962</td>\n",
              "      <td>32.611878</td>\n",
              "    </tr>\n",
              "    <tr>\n",
              "      <th>49</th>\n",
              "      <td>Afghanistan</td>\n",
              "      <td>1963</td>\n",
              "      <td>33.127317</td>\n",
              "    </tr>\n",
              "    <tr>\n",
              "      <th>48</th>\n",
              "      <td>Afghanistan</td>\n",
              "      <td>1964</td>\n",
              "      <td>33.641244</td>\n",
              "    </tr>\n",
              "  </tbody>\n",
              "</table>\n",
              "</div>"
            ],
            "text/plain": [
              "   Country or Area  Year      Value\n",
              "52     Afghanistan  1960  31.580049\n",
              "51     Afghanistan  1961  32.095976\n",
              "50     Afghanistan  1962  32.611878\n",
              "49     Afghanistan  1963  33.127317\n",
              "48     Afghanistan  1964  33.641244"
            ]
          },
          "metadata": {
            "tags": []
          },
          "execution_count": 18
        }
      ]
    },
    {
      "cell_type": "markdown",
      "metadata": {
        "id": "OERkOhnuYwIQ"
      },
      "source": [
        "## Selecting specific rows and columns\n",
        "\n",
        "Let's plot this data out..."
      ]
    },
    {
      "cell_type": "code",
      "metadata": {
        "id": "Mobdo_zKYwIQ",
        "colab": {
          "base_uri": "https://localhost:8080/",
          "height": 500
        },
        "outputId": "c0aed2d1-8f3a-4e70-b696-ae1cba04799a"
      },
      "source": [
        "life.plot()"
      ],
      "execution_count": null,
      "outputs": [
        {
          "output_type": "execute_result",
          "data": {
            "text/plain": [
              "<matplotlib.axes._subplots.AxesSubplot at 0x7f54660247b8>"
            ]
          },
          "metadata": {
            "tags": []
          },
          "execution_count": 19
        },
        {
          "output_type": "display_data",
          "data": {
            "image/png": "[encoded data removed]",
            "text/plain": [
              "<Figure size 720x576 with 1 Axes>"
            ]
          },
          "metadata": {
            "tags": []
          }
        }
      ]
    },
    {
      "cell_type": "markdown",
      "metadata": {
        "id": "eVdSA1nVYwIS"
      },
      "source": [
        "This is not super-useful - \"year\" is much higher than other values (no-one lives to 2,000 years old) and it's being plotted on the same axes, obliterating the variations you would otherwise see. To create a scatter graph, we have to specify our x and y columns and tell the graph to create a scatterplot:"
      ]
    },
    {
      "cell_type": "code",
      "metadata": {
        "id": "e2y0RgqmYwIT",
        "colab": {
          "base_uri": "https://localhost:8080/",
          "height": 517
        },
        "outputId": "2bb7aa91-ebed-4dac-e4b0-6a2183d12324"
      },
      "source": [
        "life.plot(x='Year', y='Value',  kind='scatter')"
      ],
      "execution_count": null,
      "outputs": [
        {
          "output_type": "execute_result",
          "data": {
            "text/plain": [
              "<matplotlib.axes._subplots.AxesSubplot at 0x7f5465fe62e8>"
            ]
          },
          "metadata": {
            "tags": []
          },
          "execution_count": 20
        },
        {
          "output_type": "display_data",
          "data": {
            "image/png": "[encoded data removed]",
            "text/plain": [
              "<Figure size 720x576 with 1 Axes>"
            ]
          },
          "metadata": {
            "tags": []
          }
        }
      ]
    },
    {
      "cell_type": "markdown",
      "metadata": {
        "id": "gdgX6JsUYwIV"
      },
      "source": [
        "This is a bit of a mess - the way the data is structured means that it's hard to colour each trace. It's not impossible, but in any case - that's a lot of data. Let's instead focus on the story of one or two countries.\n",
        "\n",
        "Let's use a selection which just picks out data for Afghanistan:"
      ]
    },
    {
      "cell_type": "code",
      "metadata": {
        "id": "WXySVSKhYwIW",
        "colab": {
          "base_uri": "https://localhost:8080/",
          "height": 517
        },
        "outputId": "410990dd-625a-4d3f-8357-fc1b8c6a0b9b"
      },
      "source": [
        "afghan = life.loc[life['Country or Area']=='Afghanistan']\n",
        "afghan.plot(x='Year', y= 'Value', kind='scatter')"
      ],
      "execution_count": null,
      "outputs": [
        {
          "output_type": "execute_result",
          "data": {
            "text/plain": [
              "<matplotlib.axes._subplots.AxesSubplot at 0x7f5465ec0eb8>"
            ]
          },
          "metadata": {
            "tags": []
          },
          "execution_count": 21
        },
        {
          "output_type": "display_data",
          "data": {
            "image/png": "[encoded data removed]",
            "text/plain": [
              "<Figure size 720x576 with 1 Axes>"
            ]
          },
          "metadata": {
            "tags": []
          }
        }
      ]
    },
    {
      "cell_type": "markdown",
      "metadata": {
        "id": "4Y8F4bG0YwIZ"
      },
      "source": [
        "This shows a somewhat linear increase over the last 50 years, with a couple of kinks. But how does this compare with its neighbours?"
      ]
    },
    {
      "cell_type": "markdown",
      "metadata": {
        "id": "0UAFLQwRYwIZ"
      },
      "source": [
        "## Plotting multiple countries\n",
        "Let's look at plotting multiple graphs on the same axis. First we create an axis object, and plot the data from Afghanistan on it:"
      ]
    },
    {
      "cell_type": "code",
      "metadata": {
        "id": "oqxrDFBeYwIa",
        "colab": {
          "base_uri": "https://localhost:8080/",
          "height": 517
        },
        "outputId": "0b173a20-5e3c-4739-bcb0-507c7febdecb"
      },
      "source": [
        "ax = life.loc[life['Country or Area']=='Afghanistan'].plot(x='Year', y= 'Value', kind='scatter', c = 'red', label = 'Afghanistan')\n",
        "ax.legend(loc='lower right')"
      ],
      "execution_count": null,
      "outputs": [
        {
          "output_type": "execute_result",
          "data": {
            "text/plain": [
              "<matplotlib.legend.Legend at 0x7f54660a4be0>"
            ]
          },
          "metadata": {
            "tags": []
          },
          "execution_count": 22
        },
        {
          "output_type": "display_data",
          "data": {
            "image/png": "[encoded data removed]",
            "text/plain": [
              "<Figure size 720x576 with 1 Axes>"
            ]
          },
          "metadata": {
            "tags": []
          }
        }
      ]
    },
    {
      "cell_type": "markdown",
      "metadata": {
        "id": "qHcObo_AYwId"
      },
      "source": [
        "Now, by passing \"ax\" as an optional argument, we can also draw data for Pakistan *on the same axes*:"
      ]
    },
    {
      "cell_type": "code",
      "metadata": {
        "id": "qUadsovRYwIe",
        "colab": {
          "base_uri": "https://localhost:8080/",
          "height": 517
        },
        "outputId": "b5728b8e-a586-421e-e37d-2b3c47a1d8d5"
      },
      "source": [
        "ax = life.loc[life['Country or Area']=='Afghanistan'].plot(x='Year', y= 'Value', kind='scatter', c = 'red', label = 'Afghanistan')\n",
        "life.loc[life['Country or Area']=='Pakistan'].plot(x='Year', y= 'Value', kind='scatter', c = 'black', ax=ax, label = 'Pakistan')\n",
        "ax.legend(loc='lower right')"
      ],
      "execution_count": null,
      "outputs": [
        {
          "output_type": "execute_result",
          "data": {
            "text/plain": [
              "<matplotlib.legend.Legend at 0x7f5465e14c18>"
            ]
          },
          "metadata": {
            "tags": []
          },
          "execution_count": 23
        },
        {
          "output_type": "display_data",
          "data": {
            "image/png": "[encoded data removed]",
            "text/plain": [
              "<Figure size 720x576 with 1 Axes>"
            ]
          },
          "metadata": {
            "tags": []
          }
        }
      ]
    },
    {
      "cell_type": "markdown",
      "metadata": {
        "id": "eETcBb12YwIg"
      },
      "source": [
        "From this we can see a large (>15 year) disparity between the two countries at the beginning of the reporting period, with a bit of a dip to the upward trend for Afghanistan in the 1980s, and again in the early 2000s, corresponding to the ooccupations by the USSR and the USA/UK respectively - the impact of these conflicts is apparent in the data. By the most recent data, the gap has narrowed to ~5 years. \n",
        "\n",
        "Let's look at two other countries."
      ]
    },
    {
      "cell_type": "markdown",
      "metadata": {
        "id": "Gv6Foku1YwIh"
      },
      "source": [
        "## Exercise\n",
        "\n",
        "Create a scatter graph to contrast and comment on the change of the life expectancies for Iran and Iraq in the 1970-2010 period. \n",
        "\n",
        "*Hint: you may need to refer to the original data to see how these countries are labelled.*"
      ]
    },
    {
      "cell_type": "code",
      "metadata": {
        "id": "GJ69eokYYwIh",
        "colab": {
          "base_uri": "https://localhost:8080/",
          "height": 518
        },
        "outputId": "c2b7ddb6-afd5-47ea-adbb-10f6bd81c8fa"
      },
      "source": [
        "ax = life.loc[life['Country or Area']=='Iran, Islamic Rep.'].plot(x='Year', y= 'Value', kind='scatter', c = 'red', label = 'Iran')\n",
        "life.loc[life['Country or Area']=='Iraq'].plot(x='Year', y= 'Value', kind='scatter', c = 'black', ax=ax, label = 'Iraq')\n",
        "ax.legend(loc='lower right')"
      ],
      "execution_count": null,
      "outputs": [
        {
          "output_type": "execute_result",
          "data": {
            "text/plain": [
              "<matplotlib.legend.Legend at 0x7f5465dd2198>"
            ]
          },
          "metadata": {
            "tags": []
          },
          "execution_count": 24
        },
        {
          "output_type": "display_data",
          "data": {
            "image/png": "[encoded data removed]",
            "text/plain": [
              "<Figure size 720x576 with 1 Axes>"
            ]
          },
          "metadata": {
            "tags": []
          }
        }
      ]
    },
    {
      "cell_type": "markdown",
      "metadata": {
        "id": "qrPTyLxsYwIk"
      },
      "source": [
        "**Stretch goal:** Show this data on a line plot, and compare it to the life expectancy in a Nordic country over the same period, using colour to distinguish."
      ]
    },
    {
      "cell_type": "code",
      "metadata": {
        "id": "69WJJxjsYwIl",
        "colab": {
          "base_uri": "https://localhost:8080/",
          "height": 517
        },
        "outputId": "2813a585-5609-4e61-d9c4-7d5b1efa434a"
      },
      "source": [
        "ax = life.loc[life['Country or Area']=='Iran, Islamic Rep.'].plot(x='Year', y= 'Value', kind='line', c = 'red', label = 'Iran')\n",
        "life.loc[life['Country or Area']=='Iraq'].plot(x='Year', y= 'Value', kind='line', c = 'black', ax=ax, label = 'Iraq')\n",
        "life.loc[life['Country or Area']=='Norway'].plot(x='Year', y='Value', kind='line', c = 'blue', ax=ax, label = 'Norway' )\n",
        "ax.legend(loc='lower right')"
      ],
      "execution_count": null,
      "outputs": [
        {
          "output_type": "execute_result",
          "data": {
            "text/plain": [
              "<matplotlib.legend.Legend at 0x7f5465d086d8>"
            ]
          },
          "metadata": {
            "tags": []
          },
          "execution_count": 25
        },
        {
          "output_type": "display_data",
          "data": {
            "image/png": "[encoded data removed]",
            "text/plain": [
              "<Figure size 720x576 with 1 Axes>"
            ]
          },
          "metadata": {
            "tags": []
          }
        }
      ]
    },
    {
      "cell_type": "markdown",
      "metadata": {
        "id": "_TMn9CpRYwIn"
      },
      "source": [
        "## Bokeh\n",
        "\n",
        "![](http://orig13.deviantart.net/4518/f/2009/311/5/8/5816cf598bb8b306dafe75a9c1ab59e1.jpg)\n",
        "\n",
        "Bokeh is a Python library which creates html charts for easy online sharing. Now, this might be a bit harder to work with in the context of a cms like Wordpress, but it's worth learning, as it also lets you export images from the interactives..."
      ]
    },
    {
      "cell_type": "markdown",
      "metadata": {
        "id": "_ptRYi6xYwIo"
      },
      "source": [
        "Let's  import this library via our package manager:"
      ]
    },
    {
      "cell_type": "code",
      "metadata": {
        "id": "07YCno6zYwIo",
        "colab": {
          "base_uri": "https://localhost:8080/"
        },
        "outputId": "48714f4c-a5f7-4325-9894-5e170c5b83eb"
      },
      "source": [
        "!pip install bokeh\n",
        "!pip install bkcharts"
      ],
      "execution_count": null,
      "outputs": [
        {
          "output_type": "stream",
          "text": [
            "Requirement already satisfied: bokeh in /usr/local/lib/python3.6/dist-packages (2.1.1)\n",
            "Requirement already satisfied: Jinja2>=2.7 in /usr/local/lib/python3.6/dist-packages (from bokeh) (2.11.2)\n",
            "Requirement already satisfied: packaging>=16.8 in /usr/local/lib/python3.6/dist-packages (from bokeh) (20.4)\n",
            "Requirement already satisfied: PyYAML>=3.10 in /usr/local/lib/python3.6/dist-packages (from bokeh) (3.13)\n",
            "Requirement already satisfied: tornado>=5.1 in /usr/local/lib/python3.6/dist-packages (from bokeh) (5.1.1)\n",
            "Requirement already satisfied: numpy>=1.11.3 in /usr/local/lib/python3.6/dist-packages (from bokeh) (1.18.5)\n",
            "Requirement already satisfied: python-dateutil>=2.1 in /usr/local/lib/python3.6/dist-packages (from bokeh) (2.8.1)\n",
            "Requirement already satisfied: pillow>=4.0 in /usr/local/lib/python3.6/dist-packages (from bokeh) (7.0.0)\n",
            "Requirement already satisfied: typing-extensions>=3.7.4 in /usr/local/lib/python3.6/dist-packages (from bokeh) (3.7.4.3)\n",
            "Requirement already satisfied: MarkupSafe>=0.23 in /usr/local/lib/python3.6/dist-packages (from Jinja2>=2.7->bokeh) (1.1.1)\n",
            "Requirement already satisfied: pyparsing>=2.0.2 in /usr/local/lib/python3.6/dist-packages (from packaging>=16.8->bokeh) (2.4.7)\n",
            "Requirement already satisfied: six in /usr/local/lib/python3.6/dist-packages (from packaging>=16.8->bokeh) (1.15.0)\n",
            "Requirement already satisfied: bkcharts in /usr/local/lib/python3.6/dist-packages (0.2)\n",
            "Requirement already satisfied: six>=1.5.2 in /usr/local/lib/python3.6/dist-packages (from bkcharts) (1.15.0)\n",
            "Requirement already satisfied: numpy>=1.7.1 in /usr/local/lib/python3.6/dist-packages (from bkcharts) (1.18.5)\n"
          ],
          "name": "stdout"
        }
      ]
    },
    {
      "cell_type": "code",
      "metadata": {
        "id": "PdOr4saTYwIr"
      },
      "source": [
        "from bokeh.plotting import figure, output_file, show, output_notebook"
      ],
      "execution_count": null,
      "outputs": []
    },
    {
      "cell_type": "markdown",
      "metadata": {
        "id": "d2MkZlOzYwIu"
      },
      "source": [
        "Let's plot all the data..."
      ]
    },
    {
      "cell_type": "code",
      "metadata": {
        "id": "NYfTLhmZYwIu"
      },
      "source": [
        "data_path = \"./data/wk4/Life_Expectancy_1.html\"\n",
        "output_file(data_path, title=\"Number of references per million words by year\")\n",
        "#output_notebook()\n",
        "p = figure(title= \"Life expectancy\", x_axis_label='Year', y_axis_label='Life expectancy [Years]')\n",
        "p.scatter(x=life['Year'], y = life['Value'])\n",
        "show(p)"
      ],
      "execution_count": null,
      "outputs": []
    },
    {
      "cell_type": "markdown",
      "metadata": {
        "id": "jRCL3-Y_YwIx"
      },
      "source": [
        "Go have a look in your Data Folder.  You'll now have a file called Life_Expectancy_1.html in there. Download this to open and view it.\n",
        "\n",
        "Bit of a mess. Let's instead look at two countries - Vietnam, and France, its previous historical colonial occupier."
      ]
    },
    {
      "cell_type": "code",
      "metadata": {
        "id": "yPCGOjnlYwIx"
      },
      "source": [
        "data_path = \"./data/wk4/Life_Expectancy_2.html\"\n",
        "\n",
        "output_file(data_path, title=\"Life Expectancy\")\n",
        "#output_notebook()\n",
        "p = figure(title= \"Life expectancy\", x_axis_label='Year', y_axis_label='Life expectancy [Years]')\n",
        "p.line(x=life[life['Country or Area']=='France']['Year'], y = life[life['Country or Area']=='France']['Value'], legend_label='France')\n",
        "p.line(x=life[life['Country or Area']=='Vietnam']['Year'], y = life[life['Country or Area']=='Vietnam']['Value'], legend_label = 'Vietnam')\n",
        "show(p)"
      ],
      "execution_count": null,
      "outputs": []
    },
    {
      "cell_type": "markdown",
      "metadata": {
        "id": "M25GxgT1YwI1"
      },
      "source": [
        "Go have a look in your Data Folder again.  You'll now have a file called Life_Expectancy_2.html in there."
      ]
    },
    {
      "cell_type": "markdown",
      "metadata": {
        "id": "P3KMA_SpYwI1"
      },
      "source": [
        "## Exercise:\n",
        "Using the resulting html page, create a .png file which covers the period 1960-1985.\n",
        "\n",
        "**Stretch goals:**\n",
        "\n",
        "- Modify the p.legend.location variable so the legend shows in the top left of the graph.\n",
        "- Set line_color (an optional argument) to black for France and blue for Vietnam\n"
      ]
    },
    {
      "cell_type": "code",
      "metadata": {
        "id": "MZEzSjehX_zQ"
      },
      "source": [
        "from bokeh.models import Range1d\n",
        "p.x_range = Range1d(start=1960, end=1985)"
      ],
      "execution_count": null,
      "outputs": []
    },
    {
      "cell_type": "markdown",
      "metadata": {
        "id": "gsPQmLKGYwI1"
      },
      "source": [
        "## Seaborn\n",
        "\n",
        "![](https://media.giphy.com/media/yoJC2A59OCZHs1LXvW/giphy.gif)\n",
        "\n",
        "Seaborn is a library used for creating a range of visualisations that are difficult to create in other ways, including cluster maps, kdes, violin plots, and scatter matrices.\n",
        "\n"
      ]
    },
    {
      "cell_type": "code",
      "metadata": {
        "id": "yGnL3gcAYwI2"
      },
      "source": [
        "import seaborn"
      ],
      "execution_count": null,
      "outputs": []
    },
    {
      "cell_type": "markdown",
      "metadata": {
        "id": "uo0vAuX9YwI5"
      },
      "source": [
        "First off, importing this will change the default look of graphs:"
      ]
    },
    {
      "cell_type": "code",
      "metadata": {
        "id": "ha6U9CSuYwI5"
      },
      "source": [
        "life['Value'].hist()"
      ],
      "execution_count": null,
      "outputs": []
    },
    {
      "cell_type": "markdown",
      "metadata": {
        "id": "3hpodrobYwI7"
      },
      "source": [
        "But let's work with some functions specific to Seaborn. For example, we can do a boxplot for the whole dataset (not very exciting, but bear with me):"
      ]
    },
    {
      "cell_type": "code",
      "metadata": {
        "id": "ncQnAvX4YwI9"
      },
      "source": [
        "seaborn.boxplot(data=life['Value'])"
      ],
      "execution_count": null,
      "outputs": []
    },
    {
      "cell_type": "markdown",
      "metadata": {
        "id": "9hYUcvBaYwI_"
      },
      "source": [
        "And we can create a violin plot of the data - which is effectively a (smoothed) histogram of the data. Compare it to the above histogram."
      ]
    },
    {
      "cell_type": "code",
      "metadata": {
        "id": "iQ1H3KxSYwI_"
      },
      "source": [
        "seaborn.violinplot(data=life['Value'], inner='quartile')"
      ],
      "execution_count": null,
      "outputs": []
    },
    {
      "cell_type": "markdown",
      "metadata": {
        "id": "sBISbe8uYwJC"
      },
      "source": [
        "More generally, we can not only show a distribution, we can also show multiple distributions (e.g. at different timepoints) and shade and split the distribution by a binary variable (e.g. sex). Here is a built-in example from the seaborn library which shows a much more sophisticated violin plot."
      ]
    },
    {
      "cell_type": "code",
      "metadata": {
        "id": "BvGyS__yYwJD"
      },
      "source": [
        "#tips = seaborn.load_dataset(\"tips\")\n",
        "tips = pd.read_csv('./data/wk4/tips.csv', error_bad_lines=False)\n"
      ],
      "execution_count": null,
      "outputs": []
    },
    {
      "cell_type": "code",
      "metadata": {
        "id": "3GWeI93qYwJH"
      },
      "source": [
        "seaborn.set(style=\"whitegrid\", palette=\"pastel\", color_codes=True)\n",
        "seaborn.set_color_codes(\"dark\")\n",
        "\n",
        "# Load the example tips dataset\n",
        "\n",
        "# Draw a nested violinplot and split the violins for easier comparison\n",
        "seaborn.violinplot(x=\"day\", y=\"tip\", hue=\"sex\", data=tips, split=True,\n",
        "               inner=\"quart\", palette={\"Male\": \"b\", \"Female\": \"y\"})\n",
        "seaborn.despine(left=True)"
      ],
      "execution_count": null,
      "outputs": []
    },
    {
      "cell_type": "markdown",
      "metadata": {
        "id": "JRBdkdGnYwJL"
      },
      "source": [
        "This example is a bit unusual because it's not a histogram - the \"y\" axis is the tip for a given day (\"x\"). Then the data is split by gender. In this graph, we are showing a very rich dataset - the distribution of tips,  gender and time. Thus we're showing a complex dataset in an accessible way. **What does this graph tell us?**"
      ]
    },
    {
      "cell_type": "code",
      "metadata": {
        "id": "LUPyNGD7cIsA"
      },
      "source": [
        "#basically tells us the frequency of receiving x amount of tips for males and females\n",
        "# depending on the day of the week i.e. a distribution"
      ],
      "execution_count": null,
      "outputs": []
    },
    {
      "cell_type": "markdown",
      "metadata": {
        "id": "KcK_t289YwJM"
      },
      "source": [
        "## I hear the sound of violins\n",
        "Let's now apply this visualisation technique to our life expectancy data. I'm interested in the distribution of life expectancy year on year - not the life expectancies, now, of individual countries, but each year, what is the histogram of life expectancies across the world. Rather than using *every* reporting year, I'm going to look at every ten years.\n",
        "\n",
        "**Extension: Modulo arithmatic**\n",
        "The modulo (%) symbol divides two integers and finds the remainder. You may remember from primary school (though possibly not) that in dividing integers, we had an \"answer\" and a \"remainder\" rather than a pure decimal. So\n",
        "\n",
        "- 1/2 = 0 r 1\n",
        "- 11/7 = 1 r 4\n",
        " - 23/10 = 2 r 3\n",
        "\n",
        "modulo arithmatic just takes the remainder, so\n",
        "\n",
        "- 1%2 = 1\n",
        "- 11%7 = 4\n",
        "- 23%10 = 3 \n",
        "\n",
        "and so on. I've used that below to pick out specific dates, only allowing years where year%10==0; so this will give me 1960, 1970, 1980, 1990, 2000 and 2010. **How would I have phrased this if I'd wanted 1962, 1972, etc? What if I'd wanted 1960, 1965, 1970, 1975, etc?**\n"
      ]
    },
    {
      "cell_type": "code",
      "metadata": {
        "id": "i-A-No4Tc38O"
      },
      "source": [
        "#for 1962,1972 etc year%10==2\n",
        "#for 1960, 1965, 1970 etc year%5==0"
      ],
      "execution_count": null,
      "outputs": []
    },
    {
      "cell_type": "code",
      "metadata": {
        "id": "kO8FdMNcYwJM"
      },
      "source": [
        "seaborn.violinplot(data=life[life['Year']%10==0], x='Year', y= 'Value')\n",
        "plt.ylabel('Life Expectancy [Years]')"
      ],
      "execution_count": null,
      "outputs": []
    },
    {
      "cell_type": "markdown",
      "metadata": {
        "id": "AGFtoOv1YwJQ"
      },
      "source": [
        "## Question\n",
        "What does this visualisation tell us about changes in the world over half a century?"
      ]
    },
    {
      "cell_type": "code",
      "metadata": {
        "id": "OH4-3fKtdZ0a"
      },
      "source": [
        "#life expectancy not only has increased overall, there is a more unequal distribution, showing that \n",
        "#proportionally more people have a higher life expectancy \n",
        "#we can also see this shift has been gradual too "
      ],
      "execution_count": null,
      "outputs": []
    },
    {
      "cell_type": "markdown",
      "metadata": {
        "id": "rEil74y5YwJW"
      },
      "source": [
        "## Split and run\n",
        "I want to run the data with a split violinplot (as the tipping example above has created). What I will do is to show the same data, but instead of having several timeperiods, I will compare two years (1960 and 2010) on one split plot. This means that the year is no longer the x axis (it's the split variable), so I will make up a dummy variable in order to plot the data. (This isn't something we'd normally do, it's just to get this simple example working)"
      ]
    },
    {
      "cell_type": "code",
      "metadata": {
        "id": "7jqkPmcWYwJW"
      },
      "source": [
        "life['Dummy'] = [1]*len(life.index)\n",
        "life.head()"
      ],
      "execution_count": null,
      "outputs": []
    },
    {
      "cell_type": "markdown",
      "metadata": {
        "id": "pMn3svv9YwJZ"
      },
      "source": [
        "The code we produce to create the violinplot is more complex than our last example. Take a look at it and the output:"
      ]
    },
    {
      "cell_type": "code",
      "metadata": {
        "id": "eWHqGUAVYwJZ"
      },
      "source": [
        "seaborn.violinplot(data=life[life['Year']%50==10], x = 'Dummy', y= 'Value', hue = 'Year', split=True, inner='quartile')\n",
        "plt.ylabel('Life Expectancy [Years]')\n",
        "plt.xlabel('Frequency Distribution')"
      ],
      "execution_count": null,
      "outputs": []
    },
    {
      "cell_type": "code",
      "metadata": {
        "id": "IJ0mkS_zSWAQ"
      },
      "source": [
        "seaborn.violinplot(data=life[life['Year']%50==10], x = 'Dummy', y= 'Value', hue = 'Year', inner='quartile')\n",
        "plt.ylabel('Life Expectancy [Years]')\n",
        "plt.xlabel('Frequency Distribution')"
      ],
      "execution_count": null,
      "outputs": []
    },
    {
      "cell_type": "code",
      "metadata": {
        "id": "eoV9Luh7Sl7J"
      },
      "source": [
        "seaborn.violinplot(data=life[life['Year']%50==10], x = 'Dummy', y= 'Value', hue = 'Year', split=True)\n",
        "plt.ylabel('Life Expectancy [Years]')\n",
        "plt.xlabel('Frequency Distribution')"
      ],
      "execution_count": null,
      "outputs": []
    },
    {
      "cell_type": "markdown",
      "metadata": {
        "id": "N3YXAGXlYwJb"
      },
      "source": [
        "## Extension: How did I produce this plot?\n",
        "Consider:\n",
        "- What is the data source?\n",
        "- Why does 'Year' need to be a binary variable, and how have I achieved that?\n",
        "- Where have a specified the variable that the split occurs on? Make a copy of the cell and see what happens when you remove this condition\n",
        "- What does the Split=True argument mean? What happens if you remove it?\n",
        "- What does the inner=quartile argument mean? What happens if you remove or change it? What alternatives are there, and what do they look like?"
      ]
    },
    {
      "cell_type": "code",
      "metadata": {
        "id": "xdPSCQO1eSsx"
      },
      "source": [
        "#data source is 'life' file we used before\n",
        "#as the year is now the split variable, the xaxis can no longer be the years, that is why you added a dummy variable which\n",
        "#takes the value 0 or 1, in this case 1\n",
        "#split removed on the graph above: split function allows to split the violin into two for easier comparison, if I remove it,\n",
        "#it creates two violin plots, one for each year \n",
        "#inner=quartile removed it in the last graph above: the lines to indicate the first and third quartiles and the mean are gone, \n",
        "#to add it enables more descriptive statistics "
      ],
      "execution_count": null,
      "outputs": []
    },
    {
      "cell_type": "markdown",
      "metadata": {
        "id": "XmLV0nAqYwJc"
      },
      "source": [
        "## Exercise\n",
        "\n",
        "Using the UN cities data (from the same source as last week) create violin plots for  2010-2014 inclusive, showing the distribution of city populations by year, split by sex. Think carefully about each step required to reach the final goal. What problems are there with showing the data in this way?"
      ]
    },
    {
      "cell_type": "code",
      "metadata": {
        "id": "SXTebDLxYwJc"
      },
      "source": [
        "data_path = \"https://s3.eu-west-2.amazonaws.com/qm2/wk4/cities_violin.png\"\n",
        "\n",
        "from IPython.display import Image\n",
        "Image(data_path)"
      ],
      "execution_count": null,
      "outputs": []
    },
    {
      "cell_type": "code",
      "metadata": {
        "id": "glXmwSLlf2p3"
      },
      "source": [
        "#to get there \n",
        "cities = pd.read_csv('/content/data/wk4/UN_Cities_all.csv')\n",
        "cities.head()"
      ],
      "execution_count": null,
      "outputs": []
    },
    {
      "cell_type": "code",
      "metadata": {
        "id": "PGnup14Rgv2d"
      },
      "source": [
        "#there can only be exactly 2 values for 'sex' whereas the dataset comprises 'male' 'female and 'both sexes' so the data needs to be selected\n",
        "cities = cities[cities.Sex != 'Both Sexes']\n",
        "# only from 2010 to 2014 \n",
        "cities = cities[cities.Year > 2009]"
      ],
      "execution_count": null,
      "outputs": []
    },
    {
      "cell_type": "code",
      "metadata": {
        "id": "EjcU4F9_lKyE"
      },
      "source": [
        "cities.head()"
      ],
      "execution_count": null,
      "outputs": []
    },
    {
      "cell_type": "code",
      "metadata": {
        "id": "b1z16xhblJO3"
      },
      "source": [
        "seaborn.violinplot(x=\"Year\", y=\"Value\", hue=\"Sex\", data=cities, split=True)\n",
        "plt.xlabel('Year')\n",
        "plt.ylabel('Population[people]')"
      ],
      "execution_count": null,
      "outputs": []
    },
    {
      "cell_type": "code",
      "metadata": {
        "id": "sG-86TLJmQXM"
      },
      "source": [
        "#it isn't exactly the same one, as female and male position in the plots are reversed \n",
        "#but it does not look too bad overall \n",
        "#the complications were to clean the data to select the wanted years and only female and male, omitting 'both sexes'\n",
        "#the problem is that there seems like there is one or more outliers with more inhabitants than the other cities\n",
        "#therefore the y axis is not really tractable\n",
        "#if we wanted to really see the distribution of the population we would have to take out the outliers or really modify the scale of the violin plots "
      ],
      "execution_count": null,
      "outputs": []
    },
    {
      "cell_type": "markdown",
      "metadata": {
        "id": "H2JIfFNlYwJe"
      },
      "source": [
        "## Extension\n",
        "How are these graphing techniques useful and relevant to your datasets and group projects?"
      ]
    },
    {
      "cell_type": "code",
      "metadata": {
        "id": "VpgB37wgYwJf"
      },
      "source": [
        "#these distributions are relevant to our group projects in terms of descriptive statistics, normalizing data etc\n",
        "#they are really useful to make comparisons, especially when the split function is used and can be easily\n",
        "#understood by the reader, with the appropriate legends and title of course "
      ],
      "execution_count": null,
      "outputs": []
    }
  ]
}