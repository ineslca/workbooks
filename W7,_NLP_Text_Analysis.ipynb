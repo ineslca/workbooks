{
  "nbformat": 4,
  "nbformat_minor": 0,
  "metadata": {
    "kernelspec": {
      "display_name": "Python 3",
      "language": "python",
      "name": "python3"
    },
    "language_info": {
      "codemirror_mode": {
        "name": "ipython",
        "version": 3
      },
      "file_extension": ".py",
      "mimetype": "text/x-python",
      "name": "python",
      "nbconvert_exporter": "python",
      "pygments_lexer": "ipython3",
      "version": "3.7.4"
    },
    "colab": {
      "name": "W7, NLP Text Analysis.ipynb",
      "provenance": [],
      "collapsed_sections": [],
      "toc_visible": true,
      "include_colab_link": true
    }
  },
  "cells": [
    {
      "cell_type": "markdown",
      "metadata": {
        "id": "view-in-github",
        "colab_type": "text"
      },
      "source": [
        "<a href=\"https://colab.research.google.com/github/ineslca/workbooks/blob/main/W7%2C_NLP_Text_Analysis.ipynb\" target=\"_parent\"><img src=\"https://colab.research.google.com/assets/colab-badge.svg\" alt=\"Open In Colab\"/></a>"
      ]
    },
    {
      "cell_type": "markdown",
      "metadata": {
        "id": "cxouC6cfjAYL"
      },
      "source": [
        "## Quantitative Methods 2:  Data Science and Visualisation\n",
        "\n",
        "## Workshop 7 : NLP Text Analysis. \n",
        "\n",
        "Today we'll be using the *Natural Language Tool Kit* package **nltk**, which will allow us to split (clean) text into words, parts of speech, and sentences, and plot word occurrence and frequency.\n",
        "\n",
        "**Aims**\n",
        "\n",
        "- to work with nltk and some standard corpus texts\n",
        "- to tokenise by word and sentence\n",
        "- to plot word occurrence and frequency\n",
        "- to filter by parts of speech"
      ]
    },
    {
      "cell_type": "markdown",
      "metadata": {
        "id": "RZwtwz53jAYM"
      },
      "source": [
        "## Downloading the Data\n",
        "Let's grab the data we will need this week from our course website and save it into our data folder. If you've not already created a data folder then do so using the following command. \n",
        "\n",
        "Don't worry if it generates an error, that means you've already got a data folder."
      ]
    },
    {
      "cell_type": "code",
      "metadata": {
        "id": "c8OXlIf2jAYN"
      },
      "source": [
        "#Make a ./data directory\n",
        "!mkdir data"
      ],
      "execution_count": null,
      "outputs": []
    },
    {
      "cell_type": "code",
      "metadata": {
        "id": "AeYFCcv4jAYT",
        "colab": {
          "base_uri": "https://localhost:8080/"
        },
        "outputId": "618b92cf-5e09-4e2a-9900-d401c4bd00c4"
      },
      "source": [
        "#Make a ./data/wk7 directory\n",
        "!mkdir data/wk7\n",
        "\n",
        "#Download the data into this directory\n",
        "!curl https://s3.eu-west-2.amazonaws.com/qm2/wk7/PanelA.txt -o ./data/wk7/PanelA.txt\n",
        "!curl https://s3.eu-west-2.amazonaws.com/qm2/wk7/PanelA2.txt -o ./data/wk7/PanelA2.txt\n",
        "!curl https://s3.eu-west-2.amazonaws.com/qm2/wk7/PanelB.txt -o ./data/wk7/PanelB.txt\n",
        "!curl https://s3.eu-west-2.amazonaws.com/qm2/wk7/PanelC.txt -o ./data/wk7/PanelC.txt\n",
        "!curl https://s3.eu-west-2.amazonaws.com/qm2/wk7/PanelD.txt -o ./data/wk7/PanelD.txt"
      ],
      "execution_count": null,
      "outputs": [
        {
          "output_type": "stream",
          "text": [
            "  % Total    % Received % Xferd  Average Speed   Time    Time     Time  Current\n",
            "                                 Dload  Upload   Total   Spent    Left  Speed\n",
            "100  6374  100  6374    0     0   8755      0 --:--:-- --:--:-- --:--:--  8755\n",
            "  % Total    % Received % Xferd  Average Speed   Time    Time     Time  Current\n",
            "                                 Dload  Upload   Total   Spent    Left  Speed\n",
            "100  4091  100  4091    0     0   6412      0 --:--:-- --:--:-- --:--:--  6402\n",
            "  % Total    % Received % Xferd  Average Speed   Time    Time     Time  Current\n",
            "                                 Dload  Upload   Total   Spent    Left  Speed\n",
            "100 10903  100 10903    0     0  18417      0 --:--:-- --:--:-- --:--:-- 18386\n",
            "  % Total    % Received % Xferd  Average Speed   Time    Time     Time  Current\n",
            "                                 Dload  Upload   Total   Spent    Left  Speed\n",
            "100  8140  100  8140    0     0  13171      0 --:--:-- --:--:-- --:--:-- 13171\n",
            "  % Total    % Received % Xferd  Average Speed   Time    Time     Time  Current\n",
            "                                 Dload  Upload   Total   Spent    Left  Speed\n",
            "100  5801  100  5801    0     0   9815      0 --:--:-- --:--:-- --:--:--  9815\n"
          ],
          "name": "stdout"
        }
      ]
    },
    {
      "cell_type": "code",
      "metadata": {
        "id": "MXB0zCQEjAYY"
      },
      "source": [
        "import pylab\n",
        "%matplotlib inline\n",
        "pylab.rcParams['figure.figsize'] = (10., 8.)"
      ],
      "execution_count": null,
      "outputs": []
    },
    {
      "cell_type": "markdown",
      "metadata": {
        "id": "bAVvtEX6jAYb"
      },
      "source": [
        "## Dirty Words\n",
        "\n",
        "Text often comes 'unclean' either containing tags such as HTML (or XML), or has other issues, but fortunately we will be using 'clean' sources, at least initially. Be cautious when committing to a text analysis project - you may spend a great deal of time tidying up your text.\n",
        "\n",
        "The kind of analysis we will be doing reqires *tokenizing* a text, and *tagging* individual words. Tokenizing means splitting the text into individul sentences or individual words, while tagging means classifying each word according to a POS (Parts Of Speech) classification. "
      ]
    },
    {
      "cell_type": "markdown",
      "metadata": {
        "id": "V2uw3HT0jAYb"
      },
      "source": [
        "## The Castle of Aaargh\n",
        "We will first experiment with nltk and its built in corpus texts. We'll work with some Monty Python, beloved of comedy bores for half a century"
      ]
    },
    {
      "cell_type": "markdown",
      "metadata": {
        "id": "nMgq_w5CjAYc"
      },
      "source": [
        "## Setup\n",
        "\n",
        "- install nltk through package manager, or the command line\n",
        "- import nltk\n",
        "- type nltk.download('book'). This will automatically download the books into our workspace"
      ]
    },
    {
      "cell_type": "code",
      "metadata": {
        "id": "X14YfA2ejAYd"
      },
      "source": [
        "#nltk: natural language processing toolkit\n",
        "import nltk"
      ],
      "execution_count": null,
      "outputs": []
    },
    {
      "cell_type": "code",
      "metadata": {
        "id": "ao7y2Gd_jAYf",
        "colab": {
          "base_uri": "https://localhost:8080/"
        },
        "outputId": "6d4047ae-eadd-40c2-fb96-e39f33dc19f6"
      },
      "source": [
        "#Download the sample books\n",
        "nltk.download('book')"
      ],
      "execution_count": null,
      "outputs": [
        {
          "output_type": "stream",
          "text": [
            "[nltk_data] Downloading collection 'book'\n",
            "[nltk_data]    | \n",
            "[nltk_data]    | Downloading package abc to /root/nltk_data...\n",
            "[nltk_data]    |   Unzipping corpora/abc.zip.\n",
            "[nltk_data]    | Downloading package brown to /root/nltk_data...\n",
            "[nltk_data]    |   Unzipping corpora/brown.zip.\n",
            "[nltk_data]    | Downloading package chat80 to /root/nltk_data...\n",
            "[nltk_data]    |   Unzipping corpora/chat80.zip.\n",
            "[nltk_data]    | Downloading package cmudict to /root/nltk_data...\n",
            "[nltk_data]    |   Unzipping corpora/cmudict.zip.\n",
            "[nltk_data]    | Downloading package conll2000 to /root/nltk_data...\n",
            "[nltk_data]    |   Unzipping corpora/conll2000.zip.\n",
            "[nltk_data]    | Downloading package conll2002 to /root/nltk_data...\n",
            "[nltk_data]    |   Unzipping corpora/conll2002.zip.\n",
            "[nltk_data]    | Downloading package dependency_treebank to\n",
            "[nltk_data]    |     /root/nltk_data...\n",
            "[nltk_data]    |   Unzipping corpora/dependency_treebank.zip.\n",
            "[nltk_data]    | Downloading package genesis to /root/nltk_data...\n",
            "[nltk_data]    |   Unzipping corpora/genesis.zip.\n",
            "[nltk_data]    | Downloading package gutenberg to /root/nltk_data...\n",
            "[nltk_data]    |   Unzipping corpora/gutenberg.zip.\n",
            "[nltk_data]    | Downloading package ieer to /root/nltk_data...\n",
            "[nltk_data]    |   Unzipping corpora/ieer.zip.\n",
            "[nltk_data]    | Downloading package inaugural to /root/nltk_data...\n",
            "[nltk_data]    |   Unzipping corpora/inaugural.zip.\n",
            "[nltk_data]    | Downloading package movie_reviews to\n",
            "[nltk_data]    |     /root/nltk_data...\n",
            "[nltk_data]    |   Unzipping corpora/movie_reviews.zip.\n",
            "[nltk_data]    | Downloading package nps_chat to /root/nltk_data...\n",
            "[nltk_data]    |   Unzipping corpora/nps_chat.zip.\n",
            "[nltk_data]    | Downloading package names to /root/nltk_data...\n",
            "[nltk_data]    |   Unzipping corpora/names.zip.\n",
            "[nltk_data]    | Downloading package ppattach to /root/nltk_data...\n",
            "[nltk_data]    |   Unzipping corpora/ppattach.zip.\n",
            "[nltk_data]    | Downloading package reuters to /root/nltk_data...\n",
            "[nltk_data]    | Downloading package senseval to /root/nltk_data...\n",
            "[nltk_data]    |   Unzipping corpora/senseval.zip.\n",
            "[nltk_data]    | Downloading package state_union to /root/nltk_data...\n",
            "[nltk_data]    |   Unzipping corpora/state_union.zip.\n",
            "[nltk_data]    | Downloading package stopwords to /root/nltk_data...\n",
            "[nltk_data]    |   Unzipping corpora/stopwords.zip.\n",
            "[nltk_data]    | Downloading package swadesh to /root/nltk_data...\n",
            "[nltk_data]    |   Unzipping corpora/swadesh.zip.\n",
            "[nltk_data]    | Downloading package timit to /root/nltk_data...\n",
            "[nltk_data]    |   Unzipping corpora/timit.zip.\n",
            "[nltk_data]    | Downloading package treebank to /root/nltk_data...\n",
            "[nltk_data]    |   Unzipping corpora/treebank.zip.\n",
            "[nltk_data]    | Downloading package toolbox to /root/nltk_data...\n",
            "[nltk_data]    |   Unzipping corpora/toolbox.zip.\n",
            "[nltk_data]    | Downloading package udhr to /root/nltk_data...\n",
            "[nltk_data]    |   Unzipping corpora/udhr.zip.\n",
            "[nltk_data]    | Downloading package udhr2 to /root/nltk_data...\n",
            "[nltk_data]    |   Unzipping corpora/udhr2.zip.\n",
            "[nltk_data]    | Downloading package unicode_samples to\n",
            "[nltk_data]    |     /root/nltk_data...\n",
            "[nltk_data]    |   Unzipping corpora/unicode_samples.zip.\n",
            "[nltk_data]    | Downloading package webtext to /root/nltk_data...\n",
            "[nltk_data]    |   Unzipping corpora/webtext.zip.\n",
            "[nltk_data]    | Downloading package wordnet to /root/nltk_data...\n",
            "[nltk_data]    |   Unzipping corpora/wordnet.zip.\n",
            "[nltk_data]    | Downloading package wordnet_ic to /root/nltk_data...\n",
            "[nltk_data]    |   Unzipping corpora/wordnet_ic.zip.\n",
            "[nltk_data]    | Downloading package words to /root/nltk_data...\n",
            "[nltk_data]    |   Unzipping corpora/words.zip.\n",
            "[nltk_data]    | Downloading package maxent_treebank_pos_tagger to\n",
            "[nltk_data]    |     /root/nltk_data...\n",
            "[nltk_data]    |   Unzipping taggers/maxent_treebank_pos_tagger.zip.\n",
            "[nltk_data]    | Downloading package maxent_ne_chunker to\n",
            "[nltk_data]    |     /root/nltk_data...\n",
            "[nltk_data]    |   Unzipping chunkers/maxent_ne_chunker.zip.\n",
            "[nltk_data]    | Downloading package universal_tagset to\n",
            "[nltk_data]    |     /root/nltk_data...\n",
            "[nltk_data]    |   Unzipping taggers/universal_tagset.zip.\n",
            "[nltk_data]    | Downloading package punkt to /root/nltk_data...\n",
            "[nltk_data]    |   Unzipping tokenizers/punkt.zip.\n",
            "[nltk_data]    | Downloading package book_grammars to\n",
            "[nltk_data]    |     /root/nltk_data...\n",
            "[nltk_data]    |   Unzipping grammars/book_grammars.zip.\n",
            "[nltk_data]    | Downloading package city_database to\n",
            "[nltk_data]    |     /root/nltk_data...\n",
            "[nltk_data]    |   Unzipping corpora/city_database.zip.\n",
            "[nltk_data]    | Downloading package tagsets to /root/nltk_data...\n",
            "[nltk_data]    |   Unzipping help/tagsets.zip.\n",
            "[nltk_data]    | Downloading package panlex_swadesh to\n",
            "[nltk_data]    |     /root/nltk_data...\n",
            "[nltk_data]    | Downloading package averaged_perceptron_tagger to\n",
            "[nltk_data]    |     /root/nltk_data...\n",
            "[nltk_data]    |   Unzipping taggers/averaged_perceptron_tagger.zip.\n",
            "[nltk_data]    | \n",
            "[nltk_data]  Done downloading collection book\n"
          ],
          "name": "stdout"
        },
        {
          "output_type": "execute_result",
          "data": {
            "text/plain": [
              "True"
            ]
          },
          "metadata": {
            "tags": []
          },
          "execution_count": 6
        }
      ]
    },
    {
      "cell_type": "markdown",
      "metadata": {
        "id": "BaD9wjhzjAYi"
      },
      "source": [
        "Now, we import the sample texts. You'll notice that text6 is \"Monty Python and the Holy Grail\", as promised. Presumably this was compiled pre-*Spamalot*."
      ]
    },
    {
      "cell_type": "code",
      "metadata": {
        "id": "qsoVoCHejAYj",
        "colab": {
          "base_uri": "https://localhost:8080/"
        },
        "outputId": "177871c1-c4c8-4a16-8755-43fde0bfac60"
      },
      "source": [
        "#Import all features from nltk.book\n",
        "from nltk.book import *"
      ],
      "execution_count": null,
      "outputs": [
        {
          "output_type": "stream",
          "text": [
            "*** Introductory Examples for the NLTK Book ***\n",
            "Loading text1, ..., text9 and sent1, ..., sent9\n",
            "Type the name of the text or sentence to view it.\n",
            "Type: 'texts()' or 'sents()' to list the materials.\n",
            "text1: Moby Dick by Herman Melville 1851\n",
            "text2: Sense and Sensibility by Jane Austen 1811\n",
            "text3: The Book of Genesis\n",
            "text4: Inaugural Address Corpus\n",
            "text5: Chat Corpus\n",
            "text6: Monty Python and the Holy Grail\n",
            "text7: Wall Street Journal\n",
            "text8: Personals Corpus\n",
            "text9: The Man Who Was Thursday by G . K . Chesterton 1908\n"
          ],
          "name": "stdout"
        }
      ]
    },
    {
      "cell_type": "markdown",
      "metadata": {
        "id": "bvnDgXfgjAYl"
      },
      "source": [
        "Let's look at the object text6; we can look at the first few words.."
      ]
    },
    {
      "cell_type": "code",
      "metadata": {
        "id": "uV0fZDKvjAYm",
        "colab": {
          "base_uri": "https://localhost:8080/"
        },
        "outputId": "43914ced-9a0f-4fcb-c8ed-5e3c1a5fbcb4"
      },
      "source": [
        "#View the first ten words of text6\n",
        "text6[1:10]"
      ],
      "execution_count": null,
      "outputs": [
        {
          "output_type": "execute_result",
          "data": {
            "text/plain": [
              "['1', ':', '[', 'wind', ']', '[', 'clop', 'clop', 'clop']"
            ]
          },
          "metadata": {
            "tags": []
          },
          "execution_count": 8
        }
      ]
    },
    {
      "cell_type": "markdown",
      "metadata": {
        "id": "vxGMtiBBjAYo"
      },
      "source": [
        "Which are presumably stage directions rather than dialogue. How many words/symbols are in the text?"
      ]
    },
    {
      "cell_type": "code",
      "metadata": {
        "id": "0D3vDc8xjAYp",
        "colab": {
          "base_uri": "https://localhost:8080/"
        },
        "outputId": "ee7fe5f8-2df4-4bd8-8bd4-ee17ffff015b"
      },
      "source": [
        "#View the length of the list\n",
        "len(text6)"
      ],
      "execution_count": null,
      "outputs": [
        {
          "output_type": "execute_result",
          "data": {
            "text/plain": [
              "16967"
            ]
          },
          "metadata": {
            "tags": []
          },
          "execution_count": 9
        }
      ]
    },
    {
      "cell_type": "markdown",
      "metadata": {
        "id": "BRw32-UFjAYr"
      },
      "source": [
        "Bear in mind that a lot of the functions we will carry out rely on this being a text object - we'll start to think about how we use free text and convert it to a **Text** object later."
      ]
    },
    {
      "cell_type": "markdown",
      "metadata": {
        "id": "unXAzIInjAYr"
      },
      "source": [
        "We can now start to do some slightly more sophisticated work; for example, a dispersion plot to see where words appear. Let's give it a few keywords that those familiar with *...The Holy Grail* might recognise:"
      ]
    },
    {
      "cell_type": "code",
      "metadata": {
        "id": "dsaM5FEljAYs",
        "colab": {
          "base_uri": "https://localhost:8080/",
          "height": 513
        },
        "outputId": "3088d849-47e5-418c-edd0-2939980caad5"
      },
      "source": [
        "text6.dispersion_plot(['Grail','rabbit','Knights','Ni','castle'])"
      ],
      "execution_count": null,
      "outputs": [
        {
          "output_type": "display_data",
          "data": {
            "image/png": "[encoded data removed]",
            "text/plain": [
              "<Figure size 720x576 with 1 Axes>"
            ]
          },
          "metadata": {
            "tags": [],
            "needs_background": "light"
          }
        }
      ]
    },
    {
      "cell_type": "markdown",
      "metadata": {
        "id": "LAu_-1JEjAYt"
      },
      "source": [
        "And we can easily count *how many* times a word appears."
      ]
    },
    {
      "cell_type": "code",
      "metadata": {
        "id": "upaRb9iwjAYu",
        "colab": {
          "base_uri": "https://localhost:8080/"
        },
        "outputId": "85fe35d9-8fd7-4399-c6f2-06a3d99cceaa"
      },
      "source": [
        "text6.count('Ni')"
      ],
      "execution_count": null,
      "outputs": [
        {
          "output_type": "execute_result",
          "data": {
            "text/plain": [
              "47"
            ]
          },
          "metadata": {
            "tags": []
          },
          "execution_count": 11
        }
      ]
    },
    {
      "cell_type": "markdown",
      "metadata": {
        "id": "t2AACARjjAYx"
      },
      "source": [
        "Or the words which most commonly appear together:"
      ]
    },
    {
      "cell_type": "code",
      "metadata": {
        "id": "Y4mNYR8KjAYx",
        "colab": {
          "base_uri": "https://localhost:8080/"
        },
        "outputId": "0deb3ab2-5d53-432f-a51f-1725fc6f132e"
      },
      "source": [
        "text6.collocations()"
      ],
      "execution_count": null,
      "outputs": [
        {
          "output_type": "stream",
          "text": [
            "BLACK KNIGHT; clop clop; HEAD KNIGHT; mumble mumble; Holy Grail;\n",
            "squeak squeak; FRENCH GUARD; saw saw; Sir Robin; Run away; CARTOON\n",
            "CHARACTER; King Arthur; Iesu domine; Pie Iesu; DEAD PERSON; Round\n",
            "Table; clap clap; OLD MAN; dramatic chord; dona eis\n"
          ],
          "name": "stdout"
        }
      ]
    },
    {
      "cell_type": "markdown",
      "metadata": {
        "id": "9C_kwLPljAY0"
      },
      "source": [
        "## Exercise: From Hell's Heart I Stab at Thee\n",
        "From Moby Dick, find out \n",
        "- Where the narrator Ishmael, Captain Ahab and his Nemesis are mentioned. When do each enter the story? Where do they have most emphasis?\n",
        "- Which parts of the books appear to take place at sea, and points where their ship is wrecked or sinking (spoilers)\n",
        "- two significant places in the story (HINT: use collocations)"
      ]
    },
    {
      "cell_type": "code",
      "metadata": {
        "colab": {
          "base_uri": "https://localhost:8080/",
          "height": 513
        },
        "id": "6uNPZ__0TosF",
        "outputId": "426b4b1c-e872-41ad-81e3-7cec1e871aaa"
      },
      "source": [
        "text1.dispersion_plot(['Ishmael','Ahab','Moby'])"
      ],
      "execution_count": null,
      "outputs": [
        {
          "output_type": "display_data",
          "data": {
            "image/png": "[encoded data removed]",
            "text/plain": [
              "<Figure size 720x576 with 1 Axes>"
            ]
          },
          "metadata": {
            "tags": [],
            "needs_background": "light"
          }
        }
      ]
    },
    {
      "cell_type": "code",
      "metadata": {
        "id": "Vn32yf8txEKi"
      },
      "source": [
        "#ishmael and moby dick makes appearances at the beginning, captain ahab appears\n",
        "# a bit later but much more frequently during the whole novel. Ishmael appears very few times, followed my Moby Dick. "
      ],
      "execution_count": null,
      "outputs": []
    },
    {
      "cell_type": "code",
      "metadata": {
        "colab": {
          "base_uri": "https://localhost:8080/",
          "height": 513
        },
        "id": "_JVQPOx0UoyK",
        "outputId": "6f5d5bdc-e8b7-435b-d4d1-b4a4a8ebfab3"
      },
      "source": [
        "text1.dispersion_plot(['sea','wrecked','sinking'])"
      ],
      "execution_count": null,
      "outputs": [
        {
          "output_type": "display_data",
          "data": {
            "image/png": "[encoded data removed]",
            "text/plain": [
              "<Figure size 720x576 with 1 Axes>"
            ]
          },
          "metadata": {
            "tags": [],
            "needs_background": "light"
          }
        }
      ]
    },
    {
      "cell_type": "code",
      "metadata": {
        "id": "veHaF8OPxKl0"
      },
      "source": [
        "#'sinking' is mentioned many more times than 'wrecked', interesting"
      ],
      "execution_count": null,
      "outputs": []
    },
    {
      "cell_type": "code",
      "metadata": {
        "colab": {
          "base_uri": "https://localhost:8080/"
        },
        "id": "h8GwL70RWUHH",
        "outputId": "c0277408-2c69-46c3-cc96-198a7b0c0aec"
      },
      "source": [
        "text1.collocations()"
      ],
      "execution_count": null,
      "outputs": [
        {
          "output_type": "stream",
          "text": [
            "Sperm Whale; Moby Dick; White Whale; old man; Captain Ahab; sperm\n",
            "whale; Right Whale; Captain Peleg; New Bedford; Cape Horn; cried Ahab;\n",
            "years ago; lower jaw; never mind; Father Mapple; cried Stubb; chief\n",
            "mate; white whale; ivory leg; one hand\n"
          ],
          "name": "stdout"
        }
      ]
    },
    {
      "cell_type": "code",
      "metadata": {
        "id": "Gqbobrhiw95h"
      },
      "source": [
        "# new bedford and cape horn "
      ],
      "execution_count": null,
      "outputs": []
    },
    {
      "cell_type": "markdown",
      "metadata": {
        "id": "JmkkXMhZjAY0"
      },
      "source": [
        "Let's now look at carrying out the full process of importing and working with text data. \n",
        "\n",
        "## Making an IMPACT\n",
        "\n",
        "As part of the REF2014 exercise, universities reported on the *Impact* their research activities had on the world. Their *Impact Case Studies* were subsequently made available by HEFCE. What sort of information do they contain? How do universities frame \"impact\"? All of this data is available via the REF website.\n",
        "\n",
        "A little context: I've included examples from the four *panels* used by HEFCE. Broadly speaking, Panel A is health, bioscience and medicine, B is physical science and engineering, C is social science, and D is humanities - the full categories are visible here: \n",
        "http://www.ref.ac.uk/panels/unitsofassessment/"
      ]
    },
    {
      "cell_type": "markdown",
      "metadata": {
        "id": "l_jPhxxDjAY1"
      },
      "source": [
        "Let's first look at random sample from Panel A:"
      ]
    },
    {
      "cell_type": "code",
      "metadata": {
        "id": "OqMQQwwgjAY1",
        "colab": {
          "base_uri": "https://localhost:8080/"
        },
        "outputId": "b707c401-3007-489a-ec25-4eb728138772"
      },
      "source": [
        "#Data path to file\n",
        "data_path = \"./data/wk7/PanelA.txt\"\n",
        "\n",
        "with open(data_path) as file:\n",
        "    data = file.read()\n",
        "print(data)"
      ],
      "execution_count": null,
      "outputs": [
        {
          "output_type": "stream",
          "text": [
            "**** *title_inst_10000824-u_3-case_43396 *UKPRN_10000824 *uoa_3 *ID_43396 *panel_A \n",
            "Bournemouth University (BU) has facilitated improvements to health and social care practice through cultural change in care provision. Researchers developed a practice development framework for implementing and assessing the delivery of evidence-based practice in 82 UK health and social care units during the impact period. Benefits to staff include better communication and team structure. Benefits to patients include higher standards of cleanliness, privacy and dignity, as well as a decrease in length of hospital stays and appointment waiting times. Delivery has extended to cover entire NHS Trusts serving a resident population of over 3.5 million, social services departments and third sector organisations across the south of England and beyond. The research has since been applied to develop a similar system in Australia. BU's practice development approach is now widely used in England (R1) with further evidence of use in Australia (R2). This helps health and social care practitioners to use the best available evidence to develop their practice and ensure their care is effective and person focused.Through the practice development process and accreditation teams work towards developing a culture of excellence by becoming person-centred and introducing evidence-based practice through effective culture change and teamwork. Teams are encouraged to question and challenge current practice and, by using evidence, improve services. Each PDU must demonstrate: - An understanding of the service user needs and clear mechanisms for communicating and listening to users and carers. - How developments are researched, evidence-based, evaluated and disseminated to demonstrate best practice and to contribute to the local, national and international evidence base. - A clear action plan that outlines the aims for development of services and team members that has links to national and local host organisation's priorities. - A leadership structure that supports the delivery and development of multi-agency inter- professional care in line with the action plan. - A defined communication structure to ensure the collaboration of team members and the provision of effective inter-professional care. - A clear understanding of the user journey and understanding of the team member's contribution to the success of the user experience. - How services have been developed taking a `whole systems' approach, ensuring the entire user journey is improved. - Clear partnerships with an academic department and other agencies required to support research and the dissemination of best practice. This explicit set of standards is then assessed by a panel of external experts from practice and academia who examine a portfolio of evidence and visit the unit to observe and speak to service users, carers and staff. Units are reaccredited on a three-yearly basis to ensure high standards are maintained. Since 2008, BU researchers have facilitated the set-up and accreditation of 47 PDUs and reaccreditation of 35 (Fig. 1), working with 82 units in total. This covers 6 counties in the UK (Fig. 2), including 8 NHS Trusts serving a resident population of over 3.5 million (R3). Units accredited and reaccredited include social services departments, dementia services and children's units (R4). The overarching impact of BU's practice development process is a change in culture, leadership and team creation. There is an extensive list of NHS and social care unit contacts that can corroborate this, demonstrating an effective move to evidence-based practice, improved communication between staff and service users and consistently improved inter-agency working. These include the following testimonials: \"Developments through practice development include pioneering work in helping young people with chronic conditions make the difficult transition from children's to adult services; making improvements to cleanliness; working with the public and patients to revise visiting times and protect patient privacy and dignity; introducing matron ward rounds and reducing waiting times for echo-cardiograms.\" Cardiology Department Matron &#8212; Poole Hospital NHS Foundation Trust (R5). \"Implementation of a new pain pathway through practice development after total knee replacement led to reduced pain and 0.5 day reduction in length of stay.\" Orthopaedic Unit Ward Manager, Poole Hospital NHS Foundation Trust (R6). Organisations reap the benefits of multi-disciplinary teams and a multi-agency approach, as well as new leadership roles. Some further specific and measurable impacts include: - The North Essex NHS Foundation Trust `Patient Pathway', introduced through BU's practice development process in February 2010. This was achieved by establishing working groups who introduced training, amended recruitment criteria and implemented essence of care benchmarking for communication skills and continence management. One year later, there was an overall change in occupancy days since the pathway was introduced. In one ward the bed days reduced by 599 days overall, a 50 % reduction in length of stay of patients. This in turn reduces waiting lists and increases cost effective for the NHS. - The PDU at Poole Hospital NHS Foundation Trust led to streamlined allergy testing in 2011, through the simplification of referral and appointment cancellation mechanisms. This resulted in appointment waiting times reduced from 13 weeks to 2 weeks. Other reported benefits of practice development include a reduction in pain through pain management pathways, improvements to cleanliness, more patient-friendly visiting times and protection of patient privacy and dignity. Benefits on practice include better communication between staff and carers, a reduction in `inappropriate admissions', more effective team organisation and increased funding from service commissioners. These benefits make a significant difference to treatment of patients and working lives of staff in Trusts serving a collective resident population of over 3.5 million. The changes are also contributing to a wider cultural change, which is necessary to improve care. The continuing impact of this research is evident through the development of PDU master classes in Australia, formed from the basis of BU programmes (R2). \n"
          ],
          "name": "stdout"
        }
      ]
    },
    {
      "cell_type": "code",
      "metadata": {
        "id": "FBBNUQ9XkR4S",
        "colab": {
          "base_uri": "https://localhost:8080/",
          "height": 191
        },
        "outputId": "a818f2e5-3df0-4b68-8a19-22c1cb7e4bf4"
      },
      "source": [
        "data"
      ],
      "execution_count": null,
      "outputs": [
        {
          "output_type": "execute_result",
          "data": {
            "application/vnd.google.colaboratory.intrinsic+json": {
              "type": "string"
            },
            "text/plain": [
              "'**** *title_inst_10000824-u_3-case_43396 *UKPRN_10000824 *uoa_3 *ID_43396 *panel_A \\nBournemouth University (BU) has facilitated improvements to health and social care practice through cultural change in care provision. Researchers developed a practice development framework for implementing and assessing the delivery of evidence-based practice in 82 UK health and social care units during the impact period. Benefits to staff include better communication and team structure. Benefits to patients include higher standards of cleanliness, privacy and dignity, as well as a decrease in length of hospital stays and appointment waiting times. Delivery has extended to cover entire NHS Trusts serving a resident population of over 3.5 million, social services departments and third sector organisations across the south of England and beyond. The research has since been applied to develop a similar system in Australia. BU\\'s practice development approach is now widely used in England (R1) with further evidence of use in Australia (R2). This helps health and social care practitioners to use the best available evidence to develop their practice and ensure their care is effective and person focused.Through the practice development process and accreditation teams work towards developing a culture of excellence by becoming person-centred and introducing evidence-based practice through effective culture change and teamwork. Teams are encouraged to question and challenge current practice and, by using evidence, improve services. Each PDU must demonstrate: - An understanding of the service user needs and clear mechanisms for communicating and listening to users and carers. - How developments are researched, evidence-based, evaluated and disseminated to demonstrate best practice and to contribute to the local, national and international evidence base. - A clear action plan that outlines the aims for development of services and team members that has links to national and local host organisation\\'s priorities. - A leadership structure that supports the delivery and development of multi-agency inter- professional care in line with the action plan. - A defined communication structure to ensure the collaboration of team members and the provision of effective inter-professional care. - A clear understanding of the user journey and understanding of the team member\\'s contribution to the success of the user experience. - How services have been developed taking a `whole systems\\' approach, ensuring the entire user journey is improved. - Clear partnerships with an academic department and other agencies required to support research and the dissemination of best practice. This explicit set of standards is then assessed by a panel of external experts from practice and academia who examine a portfolio of evidence and visit the unit to observe and speak to service users, carers and staff. Units are reaccredited on a three-yearly basis to ensure high standards are maintained. Since 2008, BU researchers have facilitated the set-up and accreditation of 47 PDUs and reaccreditation of 35 (Fig. 1), working with 82 units in total. This covers 6 counties in the UK (Fig. 2), including 8 NHS Trusts serving a resident population of over 3.5 million (R3). Units accredited and reaccredited include social services departments, dementia services and children\\'s units (R4). The overarching impact of BU\\'s practice development process is a change in culture, leadership and team creation. There is an extensive list of NHS and social care unit contacts that can corroborate this, demonstrating an effective move to evidence-based practice, improved communication between staff and service users and consistently improved inter-agency working. These include the following testimonials: \"Developments through practice development include pioneering work in helping young people with chronic conditions make the difficult transition from children\\'s to adult services; making improvements to cleanliness; working with the public and patients to revise visiting times and protect patient privacy and dignity; introducing matron ward rounds and reducing waiting times for echo-cardiograms.\" Cardiology Department Matron &#8212; Poole Hospital NHS Foundation Trust (R5). \"Implementation of a new pain pathway through practice development after total knee replacement led to reduced pain and 0.5 day reduction in length of stay.\" Orthopaedic Unit Ward Manager, Poole Hospital NHS Foundation Trust (R6). Organisations reap the benefits of multi-disciplinary teams and a multi-agency approach, as well as new leadership roles. Some further specific and measurable impacts include: - The North Essex NHS Foundation Trust `Patient Pathway\\', introduced through BU\\'s practice development process in February 2010. This was achieved by establishing working groups who introduced training, amended recruitment criteria and implemented essence of care benchmarking for communication skills and continence management. One year later, there was an overall change in occupancy days since the pathway was introduced. In one ward the bed days reduced by 599 days overall, a 50 % reduction in length of stay of patients. This in turn reduces waiting lists and increases cost effective for the NHS. - The PDU at Poole Hospital NHS Foundation Trust led to streamlined allergy testing in 2011, through the simplification of referral and appointment cancellation mechanisms. This resulted in appointment waiting times reduced from 13 weeks to 2 weeks. Other reported benefits of practice development include a reduction in pain through pain management pathways, improvements to cleanliness, more patient-friendly visiting times and protection of patient privacy and dignity. Benefits on practice include better communication between staff and carers, a reduction in `inappropriate admissions\\', more effective team organisation and increased funding from service commissioners. These benefits make a significant difference to treatment of patients and working lives of staff in Trusts serving a collective resident population of over 3.5 million. The changes are also contributing to a wider cultural change, which is necessary to improve care. The continuing impact of this research is evident through the development of PDU master classes in Australia, formed from the basis of BU programmes (R2). '"
            ]
          },
          "metadata": {
            "tags": []
          },
          "execution_count": 21
        }
      ]
    },
    {
      "cell_type": "markdown",
      "metadata": {
        "id": "sKKodS7djAY4"
      },
      "source": [
        "We could tokenize this into sentences:"
      ]
    },
    {
      "cell_type": "code",
      "metadata": {
        "id": "uEVi_SoQjAY4",
        "colab": {
          "base_uri": "https://localhost:8080/"
        },
        "outputId": "38a9d9d1-c64e-4f2e-838a-8e95214931b9"
      },
      "source": [
        "sentences = nltk.sent_tokenize(data)\n",
        "sentences[1:5]"
      ],
      "execution_count": null,
      "outputs": [
        {
          "output_type": "execute_result",
          "data": {
            "text/plain": [
              "['Researchers developed a practice development framework for implementing and assessing the delivery of evidence-based practice in 82 UK health and social care units during the impact period.',\n",
              " 'Benefits to staff include better communication and team structure.',\n",
              " 'Benefits to patients include higher standards of cleanliness, privacy and dignity, as well as a decrease in length of hospital stays and appointment waiting times.',\n",
              " 'Delivery has extended to cover entire NHS Trusts serving a resident population of over 3.5 million, social services departments and third sector organisations across the south of England and beyond.']"
            ]
          },
          "metadata": {
            "tags": []
          },
          "execution_count": 49
        }
      ]
    },
    {
      "cell_type": "markdown",
      "metadata": {
        "id": "4Gg-XygQjAY6"
      },
      "source": [
        "Or into individual words; generally, it may be useful to retain sentences, so we can see where two words are in the same sentence, for example - but we'll be doing something simpler:"
      ]
    },
    {
      "cell_type": "code",
      "metadata": {
        "id": "M5Plm1ArjAY6"
      },
      "source": [
        "tokens = nltk.word_tokenize(data)"
      ],
      "execution_count": null,
      "outputs": []
    },
    {
      "cell_type": "code",
      "metadata": {
        "id": "qBKQuBRVjAY9",
        "colab": {
          "base_uri": "https://localhost:8080/"
        },
        "outputId": "d1ecbe8b-9383-456e-b738-4520ba9b1565"
      },
      "source": [
        "tokens[1:20]"
      ],
      "execution_count": null,
      "outputs": [
        {
          "output_type": "execute_result",
          "data": {
            "text/plain": [
              "['*title_inst_10000824-u_3-case_43396',\n",
              " '*UKPRN_10000824',\n",
              " '*uoa_3',\n",
              " '*ID_43396',\n",
              " '*panel_A',\n",
              " 'Bournemouth',\n",
              " 'University',\n",
              " '(',\n",
              " 'BU',\n",
              " ')',\n",
              " 'has',\n",
              " 'facilitated',\n",
              " 'improvements',\n",
              " 'to',\n",
              " 'health',\n",
              " 'and',\n",
              " 'social',\n",
              " 'care',\n",
              " 'practice']"
            ]
          },
          "metadata": {
            "tags": []
          },
          "execution_count": 51
        }
      ]
    },
    {
      "cell_type": "markdown",
      "metadata": {
        "id": "HEu4tpJAjAY_"
      },
      "source": [
        "Tokenising is a process which has many subtleties and corner-cases, and you may want to proceed in a more fine-grained way for some texts:\n",
        "\n",
        "http://nltk.org/api/nltk.tokenize.html"
      ]
    },
    {
      "cell_type": "markdown",
      "metadata": {
        "id": "svVHPwxWjAZA"
      },
      "source": [
        "Let's now convert this into a Text object, which will allow us to analyse other aspects of the text. For example, we can look at **collocations**, words which commonly appear together. This may help to provide context."
      ]
    },
    {
      "cell_type": "code",
      "metadata": {
        "id": "4_A0kZTtjAZA",
        "colab": {
          "base_uri": "https://localhost:8080/"
        },
        "outputId": "431301ae-1d8a-41b9-87ce-9700dd1612d5"
      },
      "source": [
        "simple_text = nltk.Text(tokens)\n",
        "simple_text.collocations()"
      ],
      "execution_count": null,
      "outputs": [
        {
          "output_type": "stream",
          "text": [
            "practice development; Foundation Trust; NHS Foundation; 3.5 million;\n",
            "Poole Hospital; Trusts serving; resident population; social care;\n",
            "Hospital NHS; waiting times; action plan; development process; patient\n",
            "privacy; user journey; better communication; cultural change; visiting\n",
            "times; team members; services departments; evidence-based practice\n"
          ],
          "name": "stdout"
        }
      ]
    },
    {
      "cell_type": "markdown",
      "metadata": {
        "id": "mdFk6ccAjAZC"
      },
      "source": [
        "We can create a dispersion plot - although in this case, it tells us a limited amount..."
      ]
    },
    {
      "cell_type": "code",
      "metadata": {
        "id": "FRf7MuRcjAZC",
        "colab": {
          "base_uri": "https://localhost:8080/",
          "height": 513
        },
        "outputId": "9e2255ac-0b54-4098-cb80-7210e297f778"
      },
      "source": [
        "simple_text.dispersion_plot(['NHS', 'evidence', 'practice', 'Hospital'])"
      ],
      "execution_count": null,
      "outputs": [
        {
          "output_type": "display_data",
          "data": {
            "image/png": "[encoded data removed]",
            "text/plain": [
              "<Figure size 720x576 with 1 Axes>"
            ]
          },
          "metadata": {
            "tags": [],
            "needs_background": "light"
          }
        }
      ]
    },
    {
      "cell_type": "markdown",
      "metadata": {
        "id": "uQixTRFfjAZE"
      },
      "source": [
        "Even from this, we get a sense of the work this unit does, and its impacts on the world. But what are the most 20 common words used? To find this out, we produce a **Freq**uency **Dist**ribution (*FreqDist*) object. This has an implicit loop - the *for* statement is telling python to look through all the words in 'tokens' and seeing how often they occur. The .lower() command converts them all to lower case for comparison, so it will flag up upper *and* lower case occurrences of the word."
      ]
    },
    {
      "cell_type": "code",
      "metadata": {
        "id": "NWurW51GjAZE",
        "colab": {
          "base_uri": "https://localhost:8080/",
          "height": 552
        },
        "outputId": "d35842ab-7667-4ca0-f36d-1a7decc03415"
      },
      "source": [
        "fd = nltk.FreqDist(word.lower() for word in tokens)\n",
        "fd.plot(20)"
      ],
      "execution_count": null,
      "outputs": [
        {
          "output_type": "display_data",
          "data": {
            "image/png": "[encoded data removed]",
            "text/plain": [
              "<Figure size 720x576 with 1 Axes>"
            ]
          },
          "metadata": {
            "tags": [],
            "needs_background": "light"
          }
        }
      ]
    },
    {
      "cell_type": "markdown",
      "metadata": {
        "id": "bmvdZO9ojAZG"
      },
      "source": [
        "Not very helpful - this includes all kinds of junk, and tells us that \"and\" is very common. Not very interesting. Let's try a bit harder and identify Parts of Speech."
      ]
    },
    {
      "cell_type": "markdown",
      "metadata": {
        "id": "_oLLYkCMjAZG"
      },
      "source": [
        "## POS\n",
        "\n",
        "Parts of speech indicate whether something is a noun, a verb, adjective, and so on. In nltk, we can use the *pos_tag* command, which will identify which word belongs to which part of speech."
      ]
    },
    {
      "cell_type": "code",
      "metadata": {
        "id": "y3BhEWJGjAZH",
        "colab": {
          "base_uri": "https://localhost:8080/"
        },
        "outputId": "363c3744-8b09-4fff-83f7-d5db2e4eae86"
      },
      "source": [
        "tagged = nltk.pos_tag(tokens)\n",
        "tagged[0:10]"
      ],
      "execution_count": null,
      "outputs": [
        {
          "output_type": "execute_result",
          "data": {
            "text/plain": [
              "[('****', 'JJ'),\n",
              " ('*title_inst_10000824-u_3-case_43396', 'JJ'),\n",
              " ('*UKPRN_10000824', 'NN'),\n",
              " ('*uoa_3', 'NNP'),\n",
              " ('*ID_43396', 'NNP'),\n",
              " ('*panel_A', 'NNP'),\n",
              " ('Bournemouth', 'NNP'),\n",
              " ('University', 'NNP'),\n",
              " ('(', '('),\n",
              " ('BU', 'NNP')]"
            ]
          },
          "metadata": {
            "tags": []
          },
          "execution_count": 55
        }
      ]
    },
    {
      "cell_type": "markdown",
      "metadata": {
        "id": "4GQoRtbijAZJ"
      },
      "source": [
        "'NNP' refers to Proper Noun, Singular; you can find the full list of Parts of Speech here: http://www.ling.upenn.edu/courses/Fall_2003/ling001/penn_treebank_pos.html"
      ]
    },
    {
      "cell_type": "code",
      "metadata": {
        "id": "RkOv1GmojAZJ"
      },
      "source": [
        "permitted_tags = set([\n",
        "    'NN',\n",
        "    'NNS',\n",
        "])"
      ],
      "execution_count": null,
      "outputs": []
    },
    {
      "cell_type": "markdown",
      "metadata": {
        "id": "J4P2wbX2jAZL"
      },
      "source": [
        "## One FOR All\n",
        "We've so far managed to avoid this staple of programming, the FOR loop - and we're not going to delve too deeply into it in the last class of term. Of course, you probably came across FOR loops and IF statements when you worked through the prerequisites for the module, but that feels like a long time ago... \n",
        "\n",
        "We do use FOR and IF here, and it's worth understanding a bit about what it means, even if you don't intend to use it a lot yourself. In the next piece of code, we set up *fd*, a new object which will record frequency distribution information. Then we use a FOR loop\n",
        "\n",
        "`for bit in tagged:\n",
        "    ...'\n",
        "\n",
        "This goes through every element of tagged one at a time - and each element is called 'bit' for the purposes of this loop. Then, for each 'bit', we check that it has one of the permitted tags, and make sure it's at least 3 characters long - shorter words probably aren't all that relevant in this case:\n",
        "\n",
        "`if bit[1] in permitted_tags and len(bit[0])>2:'\n",
        "\n",
        "note that the *and* means both of these have to be true - if both *are* true, only then does the following statement execute:\n",
        "\n",
        "`fd[bit[0]] = fd[bit[0]] + 1'\n",
        "\n",
        "which increases the count for that word. So, this code increases the count for a word iff (if and only if) its at least 3 characters long, and it's of the correct tag (Noun, Singular or Plural)."
      ]
    },
    {
      "cell_type": "markdown",
      "metadata": {
        "id": "4LmuzZYLjAZM"
      },
      "source": [
        "## Double Indentity\n",
        "One final remark: we haven't dealt with **indents** much in python, but indenting the code like below, after the for statement, and *again* after the if statement, is the way that python knows it's dealing with a loop (for) and a conditional (if). It's also the way python deals with defining new functions, but that's not something you will need to do. This is just a pointer - if your code doesn't work, check the colons are there (:) and the indenting is too."
      ]
    },
    {
      "cell_type": "markdown",
      "metadata": {
        "id": "q4xfJbyajAZN"
      },
      "source": [
        "On with the show - as promised, this creates a word frequency graph of nouns:"
      ]
    },
    {
      "cell_type": "code",
      "metadata": {
        "id": "rqnTIL3SjAZN",
        "colab": {
          "base_uri": "https://localhost:8080/",
          "height": 564
        },
        "outputId": "5d9e92c5-1840-416e-8629-00d561f3db54"
      },
      "source": [
        "fd = nltk.FreqDist()\n",
        "\n",
        "for bit in tagged:\n",
        "    if bit[1] in permitted_tags and len(bit[0])>2:\n",
        "        fd[bit[0]] = fd[bit[0]] + 1\n",
        "        \n",
        "fd.plot(20)"
      ],
      "execution_count": null,
      "outputs": [
        {
          "output_type": "display_data",
          "data": {
            "image/png": "[encoded data removed]",
            "text/plain": [
              "<Figure size 720x576 with 1 Axes>"
            ]
          },
          "metadata": {
            "tags": [],
            "needs_background": "light"
          }
        }
      ]
    },
    {
      "cell_type": "markdown",
      "metadata": {
        "id": "6E8D48iQjAZP"
      },
      "source": [
        "We start to get a sense of the impact - 'care', 'practice', and 'services' all feature heavily."
      ]
    },
    {
      "cell_type": "markdown",
      "metadata": {
        "id": "IUNEIrKkjAZP"
      },
      "source": [
        "Let's now look at another randomly chosen example from Panel A:"
      ]
    },
    {
      "cell_type": "code",
      "metadata": {
        "id": "KTcFZc5ejAZQ",
        "colab": {
          "base_uri": "https://localhost:8080/",
          "height": 650
        },
        "outputId": "9a218cdb-7509-4581-dd2c-3aaddf311c8d"
      },
      "source": [
        "data_path = \"./data/wk7/PanelA2.txt\"\n",
        "\n",
        "with open(data_path) as file:\n",
        "    data = file.read()\n",
        "tokens = nltk.word_tokenize(data)\n",
        "simple_text.collocations()\n",
        "simple_text = nltk.Text(tokens)\n",
        "tagged = nltk.pos_tag(tokens)\n",
        "fd = nltk.FreqDist()\n",
        "\n",
        "for bit in tagged:\n",
        "    if bit[1] in permitted_tags and len(bit[0])>2:\n",
        "        fd[bit[0]] = fd[bit[0]] + 1\n",
        "        \n",
        "fd.plot(20)"
      ],
      "execution_count": null,
      "outputs": [
        {
          "output_type": "stream",
          "text": [
            "practice development; Foundation Trust; NHS Foundation; 3.5 million;\n",
            "Poole Hospital; Trusts serving; resident population; social care;\n",
            "Hospital NHS; waiting times; action plan; development process; patient\n",
            "privacy; user journey; better communication; cultural change; visiting\n",
            "times; team members; services departments; evidence-based practice\n"
          ],
          "name": "stdout"
        },
        {
          "output_type": "display_data",
          "data": {
            "image/png": "[encoded data removed]",
            "text/plain": [
              "<Figure size 720x576 with 1 Axes>"
            ]
          },
          "metadata": {
            "tags": [],
            "needs_background": "light"
          }
        }
      ]
    },
    {
      "cell_type": "code",
      "metadata": {
        "id": "fSn-vXd1zViz",
        "colab": {
          "base_uri": "https://localhost:8080/",
          "height": 650
        },
        "outputId": "0e7abb30-1bf8-4ba1-fde4-b5464b9f61a2"
      },
      "source": [
        "data_path = \"./data/wk7/PanelA2.txt\"\n",
        "\n",
        "with open(data_path) as file:\n",
        "    data = file.read()\n",
        "tokens = nltk.word_tokenize(data)\n",
        "simple_text.collocations()\n",
        "simple_text = nltk.Text(tokens)\n",
        "tagged = nltk.pos_tag(tokens)\n",
        "fd = nltk.FreqDist()\n",
        "\n",
        "for bit in tagged:\n",
        "    if bit[1] in permitted_tags and len(bit[0])>2:\n",
        "        fd[bit[0]] = fd[bit[0]] + 1\n",
        "        \n",
        "fd.plot(20)"
      ],
      "execution_count": null,
      "outputs": [
        {
          "output_type": "stream",
          "text": [
            "Sentic Computing; social media; opinion mining; Patient Opinion; Brain\n",
            "Sciences; Sciences Foundation; Zoral Labs; Research Asia; natural\n",
            "language; Microsoft Research; Abies Ltd; Sitekit Solutions; Labs\n",
            "India; metaphor detection; Solutions Ltd; patient opinions; photo\n",
            "management; sentic computing; media monitoring; Crowd Validation\n"
          ],
          "name": "stdout"
        },
        {
          "output_type": "display_data",
          "data": {
            "image/png": "[encoded data removed]",
            "text/plain": [
              "<Figure size 720x576 with 1 Axes>"
            ]
          },
          "metadata": {
            "tags": [],
            "needs_background": "light"
          }
        }
      ]
    },
    {
      "cell_type": "markdown",
      "metadata": {
        "id": "VeqxzqwkjAZS"
      },
      "source": [
        "A very different set of words, clearly geared towards language therapy, and working directly with patients. Perhaps if we looked at the *slightly* less common words, we'd see links between these submissions -  for example, we see *communication* appearing in both. Not a huge surprise, if we're talking about public impact, but students of the public role of the university might start to wonder about the distinctions between *communication* and *engagement*."
      ]
    },
    {
      "cell_type": "markdown",
      "metadata": {
        "id": "nJFweobvjAZS"
      },
      "source": [
        "## Exercise\n",
        "Repeat this for the examples from Panels B, C and D - what trends and keywords appear? What use do the collocations have? What do different parts of speech (e.g. verbs or proper nouns) tell you about the text?"
      ]
    },
    {
      "cell_type": "markdown",
      "metadata": {
        "id": "ecSgp5_EjAZT"
      },
      "source": [
        "If we wanted to analyse the sector as a whole, we would want to analyse Impact statements en masse - and we would hope that this would draw out links across differnt statements from different centres and universities, and even in different panels."
      ]
    },
    {
      "cell_type": "code",
      "metadata": {
        "colab": {
          "base_uri": "https://localhost:8080/",
          "height": 640
        },
        "id": "W5RMHPeOzbuU",
        "outputId": "9786ab5c-11fc-42f0-d83a-069067e006b9"
      },
      "source": [
        "data_path = \"./data/wk7/PanelB.txt\"\n",
        "\n",
        "with open(data_path) as file:\n",
        "    data = file.read()\n",
        "tokens = nltk.word_tokenize(data)\n",
        "simple_text.collocations()\n",
        "simple_text = nltk.Text(tokens)\n",
        "tagged = nltk.pos_tag(tokens)\n",
        "fd = nltk.FreqDist()\n",
        "\n",
        "for bit in tagged:\n",
        "    if bit[1] in permitted_tags and len(bit[0])>2:\n",
        "        fd[bit[0]] = fd[bit[0]] + 1\n",
        "        \n",
        "fd.plot(20)"
      ],
      "execution_count": null,
      "outputs": [
        {
          "output_type": "stream",
          "text": [
            "United States; language skills; two weeks; including time; low cost;\n",
            "language abilities; action-embedded training; training courses;\n",
            "clinical management; rapid improvement; language therapists; post-\n",
            "stroke patients; aphasia therapy; clinical improvement; aphasia\n",
            "patients\n"
          ],
          "name": "stdout"
        },
        {
          "output_type": "display_data",
          "data": {
            "image/png": "[encoded data removed]",
            "text/plain": [
              "<Figure size 720x576 with 1 Axes>"
            ]
          },
          "metadata": {
            "tags": [],
            "needs_background": "light"
          }
        }
      ]
    },
    {
      "cell_type": "code",
      "metadata": {
        "id": "3Qir_s4T0BXn"
      },
      "source": [
        "#it looks like panel B focuses more on research, and development in the actual therapies / clinical areas "
      ],
      "execution_count": null,
      "outputs": []
    },
    {
      "cell_type": "code",
      "metadata": {
        "colab": {
          "base_uri": "https://localhost:8080/",
          "height": 651
        },
        "id": "me_gDLGAzenY",
        "outputId": "6dc6825a-cc38-4c4c-8379-192af40d9c13"
      },
      "source": [
        "data_path = \"./data/wk7/PanelC.txt\"\n",
        "\n",
        "with open(data_path) as file:\n",
        "    data = file.read()\n",
        "tokens = nltk.word_tokenize(data)\n",
        "simple_text.collocations()\n",
        "simple_text = nltk.Text(tokens)\n",
        "tagged = nltk.pos_tag(tokens)\n",
        "fd = nltk.FreqDist()\n",
        "\n",
        "for bit in tagged:\n",
        "    if bit[1] in permitted_tags and len(bit[0])>2:\n",
        "        fd[bit[0]] = fd[bit[0]] + 1\n",
        "        \n",
        "fd.plot(20)"
      ],
      "execution_count": null,
      "outputs": [
        {
          "output_type": "stream",
          "text": [
            "Sentic Computing; social media; opinion mining; Patient Opinion; Brain\n",
            "Sciences; Sciences Foundation; Zoral Labs; Research Asia; natural\n",
            "language; Microsoft Research; Abies Ltd; Sitekit Solutions; Labs\n",
            "India; metaphor detection; Solutions Ltd; patient opinions; photo\n",
            "management; sentic computing; media monitoring; Crowd Validation\n"
          ],
          "name": "stdout"
        },
        {
          "output_type": "display_data",
          "data": {
            "image/png": "[encoded data removed]",
            "text/plain": [
              "<Figure size 720x576 with 1 Axes>"
            ]
          },
          "metadata": {
            "tags": [],
            "needs_background": "light"
          }
        }
      ]
    },
    {
      "cell_type": "code",
      "metadata": {
        "id": "NkuRB52T0aC-"
      },
      "source": [
        "#here many words related to sports appear and the collocations indicate many pairs like 'social media', 'public opinion'\n",
        "#maybe panel C has to do with sports and its effect on health and how that is communicated via social platforms, and thus the very varied \n",
        "#public opinion about this topic "
      ],
      "execution_count": null,
      "outputs": []
    },
    {
      "cell_type": "code",
      "metadata": {
        "colab": {
          "base_uri": "https://localhost:8080/",
          "height": 655
        },
        "id": "1kHPvuGCzg5A",
        "outputId": "919c8ace-16e0-4eec-86b2-39149575cd87"
      },
      "source": [
        "data_path = \"./data/wk7/PanelD.txt\"\n",
        "\n",
        "with open(data_path) as file:\n",
        "    data = file.read()\n",
        "tokens = nltk.word_tokenize(data)\n",
        "simple_text.collocations()\n",
        "simple_text = nltk.Text(tokens)\n",
        "tagged = nltk.pos_tag(tokens)\n",
        "fd = nltk.FreqDist()\n",
        "\n",
        "for bit in tagged:\n",
        "    if bit[1] in permitted_tags and len(bit[0])>2:\n",
        "        fd[bit[0]] = fd[bit[0]] + 1\n",
        "        \n",
        "fd.plot(20)"
      ],
      "execution_count": null,
      "outputs": [
        {
          "output_type": "stream",
          "text": [
            "Anti Doping; anti doping; Prof McNamee; educational materials;\n",
            "Professor McNamee; Cycling Union; European Commission; Working Group;\n",
            "performance enhancement; World Anti-Doping; International Cycling;\n",
            "Anti-Doping Code; Parkinson writes; sports federations; Sport Unit;\n",
            "sport criterion; professional teams; Doping Agency; Doping Working;\n",
            "anti- doping\n"
          ],
          "name": "stdout"
        },
        {
          "output_type": "display_data",
          "data": {
            "image/png": "[encoded data removed]",
            "text/plain": [
              "<Figure size 720x576 with 1 Axes>"
            ]
          },
          "metadata": {
            "tags": [],
            "needs_background": "light"
          }
        }
      ]
    },
    {
      "cell_type": "code",
      "metadata": {
        "id": "9nYlsaBM0yaq"
      },
      "source": [
        "#this panels has many collocations related to sports and also doping, adding the frequency of 'politics', 'policy, 'debate'\n",
        "#it could be a panel about the effect of doping and policies regarding it "
      ],
      "execution_count": null,
      "outputs": []
    },
    {
      "cell_type": "markdown",
      "metadata": {
        "id": "CEt_3piEjAZT"
      },
      "source": [
        "## Working with larger text datasets\n",
        "Working with larger text corpora starts to get slow. At this point, we will look at a body of text we have previously tagged up.  The file is \"The Nameless City\" by H. P. Lovecraft, a horror author from the early 20th century."
      ]
    },
    {
      "cell_type": "code",
      "metadata": {
        "id": "ZW6nG-2cjAZU"
      },
      "source": [
        "import pickle\n",
        "import requests\n",
        "from urllib.request import urlopen"
      ],
      "execution_count": null,
      "outputs": []
    },
    {
      "cell_type": "markdown",
      "metadata": {
        "id": "6p574eddjAZV"
      },
      "source": [
        "This may take a little while - so wait for the task to run:"
      ]
    },
    {
      "cell_type": "code",
      "metadata": {
        "id": "XdWBrdj6jAZW",
        "colab": {
          "base_uri": "https://localhost:8080/"
        },
        "outputId": "9554abc8-51a4-48b4-d5a4-f83cb45477fc"
      },
      "source": [
        "# Loading the tokenized and tagged file. \n",
        "tagged = pickle.load(urlopen(\"https://s3.eu-west-2.amazonaws.com/qm2/wk7/lovecraft_tagged.pickle\"), encoding='latin1')\n",
        "\n",
        "#How many sentences do we have?\n",
        "len(tagged)"
      ],
      "execution_count": null,
      "outputs": [
        {
          "output_type": "execute_result",
          "data": {
            "text/plain": [
              "18513"
            ]
          },
          "metadata": {
            "tags": []
          },
          "execution_count": 80
        }
      ]
    },
    {
      "cell_type": "markdown",
      "metadata": {
        "id": "HtufCPFojAZY"
      },
      "source": [
        "This is tokenised by sentence - and there are 18,513 of them. That would have taken a long time to tag up. If you're interested, this is how you take a set of *sentences* and tag them with Part of Speech:"
      ]
    },
    {
      "cell_type": "code",
      "metadata": {
        "id": "xLb8JynVjAZY"
      },
      "source": [
        "exampleSentences = nltk.sent_tokenize(data)\n",
        "  \n",
        "exampleTagged = [nltk.pos_tag(nltk.word_tokenize(sent)) for sent in sentences]"
      ],
      "execution_count": null,
      "outputs": []
    },
    {
      "cell_type": "markdown",
      "metadata": {
        "id": "ooTOo3z8jAZa"
      },
      "source": [
        "Note that the second line is running an implicit for loop through every sentence, and tagging each word."
      ]
    },
    {
      "cell_type": "code",
      "metadata": {
        "id": "Cz4IfCCPjAZa",
        "colab": {
          "base_uri": "https://localhost:8080/"
        },
        "outputId": "3b682e7f-fe3b-45bc-eb50-e9e63f0ad367"
      },
      "source": [
        "# first sentence.\n",
        "exampleTagged[0]"
      ],
      "execution_count": null,
      "outputs": [
        {
          "output_type": "execute_result",
          "data": {
            "text/plain": [
              "[('****', 'JJ'),\n",
              " ('*title_inst_10000824-u_3-case_43396', 'JJ'),\n",
              " ('*UKPRN_10000824', 'NN'),\n",
              " ('*uoa_3', 'NNP'),\n",
              " ('*ID_43396', 'NNP'),\n",
              " ('*panel_A', 'NNP'),\n",
              " ('Bournemouth', 'NNP'),\n",
              " ('University', 'NNP'),\n",
              " ('(', '('),\n",
              " ('BU', 'NNP'),\n",
              " (')', ')'),\n",
              " ('has', 'VBZ'),\n",
              " ('facilitated', 'VBN'),\n",
              " ('improvements', 'NNS'),\n",
              " ('to', 'TO'),\n",
              " ('health', 'NN'),\n",
              " ('and', 'CC'),\n",
              " ('social', 'JJ'),\n",
              " ('care', 'NN'),\n",
              " ('practice', 'NN'),\n",
              " ('through', 'IN'),\n",
              " ('cultural', 'JJ'),\n",
              " ('change', 'NN'),\n",
              " ('in', 'IN'),\n",
              " ('care', 'NN'),\n",
              " ('provision', 'NN'),\n",
              " ('.', '.')]"
            ]
          },
          "metadata": {
            "tags": []
          },
          "execution_count": 82
        }
      ]
    },
    {
      "cell_type": "markdown",
      "metadata": {
        "id": "jSuvJ_TOjAZc"
      },
      "source": [
        "An impressive start! Let's again build our word frequency chart. Note now that we have an extra layer of FOR - we need to look at each sentence in the text; at each word in each sentence; and then check each word to see whether it is of an allowed type."
      ]
    },
    {
      "cell_type": "code",
      "metadata": {
        "id": "UN0d_QXCjAZc",
        "colab": {
          "base_uri": "https://localhost:8080/",
          "height": 543
        },
        "outputId": "c71099e4-d8a1-407b-e687-b9b3ee31d946"
      },
      "source": [
        "fd = nltk.FreqDist()\n",
        "\n",
        "permitted_tags = set([\n",
        "    'JJS',\n",
        "    'FW',\n",
        "    'NN',\n",
        "    'NNS',\n",
        "    'NNP',\n",
        "    'NNPS',\n",
        "    'UH',\n",
        "])\n",
        "for sentence in tagged:\n",
        "    for word in sentence:\n",
        "        if word[1] in permitted_tags:\n",
        "                fd[word[0]] = fd[word[0]] + 1\n",
        "fd.plot(20)"
      ],
      "execution_count": null,
      "outputs": [
        {
          "output_type": "display_data",
          "data": {
            "image/png": "[encoded data removed]",
            "text/plain": [
              "<Figure size 720x576 with 1 Axes>"
            ]
          },
          "metadata": {
            "tags": []
          }
        }
      ]
    },
    {
      "cell_type": "markdown",
      "metadata": {
        "id": "FlvchpMQjAZe"
      },
      "source": [
        "Now that we've produced counts for all words which conform to our list of tags, we can quickly see how frequently common words appear; because we have tokenized by sentence, we have to do this with a slightly different mechanism - run through the words of interest and see how many occurrences appear in the Frequency Distribution object, fd. Again, we're sneaking in a FOR loop to run through these."
      ]
    },
    {
      "cell_type": "code",
      "metadata": {
        "id": "xkTMTA5bjAZf",
        "colab": {
          "base_uri": "https://localhost:8080/"
        },
        "outputId": "22c15e36-679b-45f2-86fa-1fc838f08b95"
      },
      "source": [
        "for word in ['space', 'nameless', 'mad', 'dread', 'fear', 'cthulhu', 'necronomicon', 'caring']:\n",
        "    print(word, fd[word])"
      ],
      "execution_count": null,
      "outputs": [
        {
          "output_type": "stream",
          "text": [
            "space 0\n",
            "nameless 0\n",
            "mad 0\n",
            "dread 0\n",
            "fear 0\n",
            "cthulhu 0\n",
            "necronomicon 0\n",
            "caring 0\n"
          ],
          "name": "stdout"
        }
      ]
    },
    {
      "cell_type": "markdown",
      "metadata": {
        "id": "V1-5LR5_jAZi"
      },
      "source": [
        "So far, we've completely avoided the use of pandas - but we can put this data into a pandas dataframe very easily, and use the built-in graphing methods to change the style of our graph. \n",
        "\n",
        "We feed in fd.keys() - the words - and fd.values(), the wordcount."
      ]
    },
    {
      "cell_type": "code",
      "metadata": {
        "id": "kJpXxOLEjAZj",
        "colab": {
          "base_uri": "https://localhost:8080/"
        },
        "outputId": "95d27567-3d25-4468-e41f-4ff1709138fa"
      },
      "source": [
        "#Convert to list so subscriptable\n",
        "list(fd.keys())[1:10]"
      ],
      "execution_count": null,
      "outputs": [
        {
          "output_type": "execute_result",
          "data": {
            "text/plain": [
              "['studies',\n",
              " 'tradition',\n",
              " 'role',\n",
              " 'discipline',\n",
              " 'research',\n",
              " 'part',\n",
              " 'continuum',\n",
              " 'informing',\n",
              " 'debate']"
            ]
          },
          "metadata": {
            "tags": []
          },
          "execution_count": 75
        }
      ]
    },
    {
      "cell_type": "code",
      "metadata": {
        "id": "J5WjIv1rjAZm",
        "colab": {
          "base_uri": "https://localhost:8080/"
        },
        "outputId": "e3ffb53d-edf8-48f2-89dc-59ae363ce94b"
      },
      "source": [
        "#Convert to list so subscriptable\n",
        "list(fd.values())[1:10]"
      ],
      "execution_count": null,
      "outputs": [
        {
          "output_type": "execute_result",
          "data": {
            "text/plain": [
              "[1, 1, 3, 1, 5, 2, 1, 1, 4]"
            ]
          },
          "metadata": {
            "tags": []
          },
          "execution_count": 76
        }
      ]
    },
    {
      "cell_type": "code",
      "metadata": {
        "id": "FrgMyHThjAZp",
        "colab": {
          "base_uri": "https://localhost:8080/",
          "height": 198
        },
        "outputId": "02ec6939-a3d8-4810-cd54-5525e9bfa53b"
      },
      "source": [
        "import pandas as pd\n",
        "\n",
        "#Convert to list for use in creating dataframe\n",
        "df = pd.DataFrame({'items': list(fd.keys()), 'counts': list(fd.values())})\n",
        "df.head()"
      ],
      "execution_count": null,
      "outputs": [
        {
          "output_type": "execute_result",
          "data": {
            "text/html": [
              "<div>\n",
              "<style scoped>\n",
              "    .dataframe tbody tr th:only-of-type {\n",
              "        vertical-align: middle;\n",
              "    }\n",
              "\n",
              "    .dataframe tbody tr th {\n",
              "        vertical-align: top;\n",
              "    }\n",
              "\n",
              "    .dataframe thead th {\n",
              "        text-align: right;\n",
              "    }\n",
              "</style>\n",
              "<table border=\"1\" class=\"dataframe\">\n",
              "  <thead>\n",
              "    <tr style=\"text-align: right;\">\n",
              "      <th></th>\n",
              "      <th>items</th>\n",
              "      <th>counts</th>\n",
              "    </tr>\n",
              "  </thead>\n",
              "  <tbody>\n",
              "    <tr>\n",
              "      <th>0</th>\n",
              "      <td>*UKPRN_10004351</td>\n",
              "      <td>1</td>\n",
              "    </tr>\n",
              "    <tr>\n",
              "      <th>1</th>\n",
              "      <td>studies</td>\n",
              "      <td>1</td>\n",
              "    </tr>\n",
              "    <tr>\n",
              "      <th>2</th>\n",
              "      <td>tradition</td>\n",
              "      <td>1</td>\n",
              "    </tr>\n",
              "    <tr>\n",
              "      <th>3</th>\n",
              "      <td>role</td>\n",
              "      <td>3</td>\n",
              "    </tr>\n",
              "    <tr>\n",
              "      <th>4</th>\n",
              "      <td>discipline</td>\n",
              "      <td>1</td>\n",
              "    </tr>\n",
              "  </tbody>\n",
              "</table>\n",
              "</div>"
            ],
            "text/plain": [
              "             items  counts\n",
              "0  *UKPRN_10004351       1\n",
              "1          studies       1\n",
              "2        tradition       1\n",
              "3             role       3\n",
              "4       discipline       1"
            ]
          },
          "metadata": {
            "tags": []
          },
          "execution_count": 71
        }
      ]
    },
    {
      "cell_type": "markdown",
      "metadata": {
        "id": "6cce-T97jAZu"
      },
      "source": [
        "Let's now arrange them in order of appearance - the most common at the top."
      ]
    },
    {
      "cell_type": "code",
      "metadata": {
        "id": "OcIU8K-hjAZv",
        "colab": {
          "base_uri": "https://localhost:8080/",
          "height": 198
        },
        "outputId": "b941193a-fb7d-4e3a-9deb-a1489bb2019f"
      },
      "source": [
        "df = df.sort_values(by='counts',ascending=False)\n",
        "df.head()"
      ],
      "execution_count": null,
      "outputs": [
        {
          "output_type": "execute_result",
          "data": {
            "text/html": [
              "<div>\n",
              "<style scoped>\n",
              "    .dataframe tbody tr th:only-of-type {\n",
              "        vertical-align: middle;\n",
              "    }\n",
              "\n",
              "    .dataframe tbody tr th {\n",
              "        vertical-align: top;\n",
              "    }\n",
              "\n",
              "    .dataframe thead th {\n",
              "        text-align: right;\n",
              "    }\n",
              "</style>\n",
              "<table border=\"1\" class=\"dataframe\">\n",
              "  <thead>\n",
              "    <tr style=\"text-align: right;\">\n",
              "      <th></th>\n",
              "      <th>items</th>\n",
              "      <th>counts</th>\n",
              "    </tr>\n",
              "  </thead>\n",
              "  <tbody>\n",
              "    <tr>\n",
              "      <th>20</th>\n",
              "      <td>politics</td>\n",
              "      <td>8</td>\n",
              "    </tr>\n",
              "    <tr>\n",
              "      <th>19</th>\n",
              "      <td>issues</td>\n",
              "      <td>5</td>\n",
              "    </tr>\n",
              "    <tr>\n",
              "      <th>5</th>\n",
              "      <td>research</td>\n",
              "      <td>5</td>\n",
              "    </tr>\n",
              "    <tr>\n",
              "      <th>54</th>\n",
              "      <td>society</td>\n",
              "      <td>4</td>\n",
              "    </tr>\n",
              "    <tr>\n",
              "      <th>44</th>\n",
              "      <td>http</td>\n",
              "      <td>4</td>\n",
              "    </tr>\n",
              "  </tbody>\n",
              "</table>\n",
              "</div>"
            ],
            "text/plain": [
              "       items  counts\n",
              "20  politics       8\n",
              "19    issues       5\n",
              "5   research       5\n",
              "54   society       4\n",
              "44      http       4"
            ]
          },
          "metadata": {
            "tags": []
          },
          "execution_count": 72
        }
      ]
    },
    {
      "cell_type": "markdown",
      "metadata": {
        "id": "WlTkVsJcjAZx"
      },
      "source": [
        "We now have a DataFrame with certain word tags sorted by decreasing frequency. Let's plot this in a bar graph; we will use df[1:50] to select the most common 50 words."
      ]
    },
    {
      "cell_type": "code",
      "metadata": {
        "id": "rfDuFypGjAZx"
      },
      "source": [
        "import matplotlib.pyplot as plt"
      ],
      "execution_count": null,
      "outputs": []
    },
    {
      "cell_type": "code",
      "metadata": {
        "id": "Uy8neOGijAZ0",
        "colab": {
          "base_uri": "https://localhost:8080/",
          "height": 589
        },
        "outputId": "3625177a-f33a-4874-b146-8f459c78ac8c"
      },
      "source": [
        "plt.style.use('ggplot')\n",
        "df[1:50].plot(kind='bar', x='items', y='counts', legend=False)\n",
        "plt.xlabel('Word')\n",
        "plt.ylabel('Word Count')\n",
        "plt.title('Word counts for H.P. Lovecraft\\'s \\\"The Nameless City\\\"')\n",
        "plt.axhline(df['counts'].mean(), color='#2222ff')"
      ],
      "execution_count": null,
      "outputs": [
        {
          "output_type": "execute_result",
          "data": {
            "text/plain": [
              "<matplotlib.lines.Line2D at 0x7fca6952d390>"
            ]
          },
          "metadata": {
            "tags": []
          },
          "execution_count": 74
        },
        {
          "output_type": "display_data",
          "data": {
            "image/png": "[encoded data removed]",
            "text/plain": [
              "<Figure size 720x576 with 1 Axes>"
            ]
          },
          "metadata": {
            "tags": []
          }
        }
      ]
    },
    {
      "cell_type": "markdown",
      "metadata": {
        "id": "CN8gxS-PjAZ2"
      },
      "source": [
        "## Exercise\n",
        "What is the percentage of words that appear exactly once in the entire text? (Hint : FreqDist objects have a method called 'hapaxes')"
      ]
    },
    {
      "cell_type": "code",
      "metadata": {
        "colab": {
          "base_uri": "https://localhost:8080/"
        },
        "id": "HZ1o4Wym147f",
        "outputId": "6eccbe6f-c32e-42cc-b5e7-3d98ddd5edc7"
      },
      "source": [
        "FreqDist.hapaxes(fd)"
      ],
      "execution_count": null,
      "outputs": [
        {
          "output_type": "execute_result",
          "data": {
            "text/plain": [
              "['*UKPRN_10004351',\n",
              " 'studies',\n",
              " 'tradition',\n",
              " 'discipline',\n",
              " 'continuum',\n",
              " 'informing',\n",
              " 'policymaking',\n",
              " 'education',\n",
              " 'e-publications',\n",
              " 'journal',\n",
              " 'organisations',\n",
              " 'identity',\n",
              " 'formations',\n",
              " 'beneficiaries',\n",
              " 'charities',\n",
              " 'parties',\n",
              " 'members',\n",
              " 'domain',\n",
              " 'Pathways',\n",
              " 'forefront',\n",
              " 'frames',\n",
              " 'Neoliberalism',\n",
              " 'comments',\n",
              " 'attendees',\n",
              " 'transcripts',\n",
              " 'site',\n",
              " '//www.youtube.com/watch',\n",
              " 'v=mIVxeJX-3qU',\n",
              " 'Collaborations',\n",
              " 'kind',\n",
              " 'links',\n",
              " 'party',\n",
              " 'groups',\n",
              " 'nature',\n",
              " 'spokesperson',\n",
              " 'collaborations',\n",
              " 'example',\n",
              " 'interaction',\n",
              " 'university',\n",
              " 'examples',\n",
              " 'perception',\n",
              " 'crisis',\n",
              " '`Class',\n",
              " 'talks',\n",
              " 'academics',\n",
              " 'politicians',\n",
              " 'universities',\n",
              " 'economies',\n",
              " 'thinkers',\n",
              " '//en.wikipedia.org/wiki/Jonathan_Rutherford',\n",
              " 'articles',\n",
              " 'circulation',\n",
              " 'others',\n",
              " 'emergence',\n",
              " 'identities',\n",
              " 'predicaments',\n",
              " 'data',\n",
              " 'publisher',\n",
              " 'discourse',\n",
              " 'election',\n",
              " 'Attendance',\n",
              " 'event',\n",
              " '//www.if.org.uk/archives/1826/regeneration-book-launch-at-foyles',\n",
              " 'level',\n",
              " 'interest',\n",
              " 'capacity',\n",
              " 'hub',\n",
              " 'network',\n",
              " 'campaigners',\n",
              " 'chair',\n",
              " '`The',\n",
              " 'youth',\n",
              " 'proposals',\n",
              " 'manifesto',\n",
              " 'Plan',\n",
              " 'support',\n",
              " 'economists',\n",
              " 'approach',\n",
              " 'co-directors',\n",
              " 'letters',\n",
              " 'initiative',\n",
              " 'internships',\n",
              " 'year',\n",
              " 'campaigner',\n",
              " 'students',\n",
              " 'production',\n",
              " 'quality',\n",
              " 'tax',\n",
              " 'justice',\n",
              " 'reports',\n",
              " 'experience',\n",
              " 'opportunity',\n",
              " 'modes',\n",
              " 'briefing',\n",
              " 'subject',\n",
              " 'leader',\n",
              " 'meeting',\n",
              " 'collaboration',\n",
              " '`Church',\n",
              " 'participation',\n",
              " 'seminars',\n",
              " 'staff',\n",
              " 'seminar',\n",
              " 'engagement',\n",
              " 'framework']"
            ]
          },
          "metadata": {
            "tags": []
          },
          "execution_count": 70
        }
      ]
    },
    {
      "cell_type": "markdown",
      "metadata": {
        "id": "1wg_R8JHjAZ3"
      },
      "source": [
        "## Exercise\n",
        "The words of our ex Prime Minister, David Cameron:\n",
        "\n",
        "    1. Select one of Cameron's speeches.\n",
        "    2. Sentence and word tokenize it.\n",
        "    3. POS tag it.\n",
        "    4. Create noun and adjective histograms of the 20 most frequent words.\n",
        "    (notice that there are several POS for each.)\n",
        "    5. Create dispersion plots for these nouns and adjectives. \n",
        "    6. What is the percentage of words that are adjectives in the speech?"
      ]
    },
    {
      "cell_type": "code",
      "metadata": {
        "id": "g-FByBrrjAZ3"
      },
      "source": [
        "# read a raw text from a remote location. \n",
        "speech = requests.get('https://s3.eu-west-2.amazonaws.com/qm2/wk7/speeches/cameron-leaders-speech-2006a.txt').text"
      ],
      "execution_count": null,
      "outputs": []
    },
    {
      "cell_type": "markdown",
      "metadata": {
        "id": "K9zFG5MUjAZ6"
      },
      "source": [
        "### Speeches\n",
        "\n",
        "https://s3.eu-west-2.amazonaws.com/qm2/wk7/speeches/cameron-election-victory-speech-2010.txt  \n",
        "https://s3.eu-west-2.amazonaws.com/qm2/wk7/speeches/cameron-leaders-speech-2006a.txt  \n",
        "https://s3.eu-west-2.amazonaws.com/qm2/wk7/speeches/cameron-leaders-speech-2006b.txt  \n",
        "https://s3.eu-west-2.amazonaws.com/qm2/wk7/speeches/cameron-leaders-speech-2007.txt  \n",
        "https://s3.eu-west-2.amazonaws.com/qm2/wk7/speeches/cameron-leaders-speech-2008.txt  \n",
        "https://s3.eu-west-2.amazonaws.com/qm2/wk7/speeches/cameron-leaders-speech-2013.txt  \n",
        "https://s3.eu-west-2.amazonaws.com/qm2/wk7/speeches/cameron-leaders-speech-2012.txt  \n",
        "https://s3.eu-west-2.amazonaws.com/qm2/wk7/speeches/cameron-leaders-speech-2011.txt  \n",
        "https://s3.eu-west-2.amazonaws.com/qm2/wk7/speeches/cameron-leaders-speech-2010.txt  \n",
        "https://s3.eu-west-2.amazonaws.com/qm2/wk7/speeches/cameron-leaders-speech-2009.txt  "
      ]
    },
    {
      "cell_type": "code",
      "metadata": {
        "id": "G-YtZHxSjAZ6",
        "colab": {
          "base_uri": "https://localhost:8080/",
          "height": 191
        },
        "outputId": "6f135182-8d51-42b3-c837-bb494379cad2"
      },
      "source": [
        "speech"
      ],
      "execution_count": null,
      "outputs": [
        {
          "output_type": "execute_result",
          "data": {
            "application/vnd.google.colaboratory.intrinsic+json": {
              "type": "string"
            },
            "text/plain": [
              "'It\\x92s a huge honour to be standing before you as leader of the Conservative Party.\\r\\n\\r\\n \\r\\n\\r\\nAnd first of all I want to thank you for the support you\\x92ve given me in the past ten months.\\r\\n\\r\\n \\r\\n\\r\\nIt\\x92s been a time of great change.\\r\\n\\r\\n \\r\\n\\r\\nI\\x92m already on my second leader of the Liberal Democrats.\\r\\n\\r\\n \\r\\n\\r\\nBefore long I\\x92ll be on to my second Labour Prime Minister.\\r\\n\\r\\n \\r\\n\\r\\nSoon I\\x92ll be the longest-serving leader of a major British political party.\\r\\n\\r\\n \\r\\n\\r\\nI wanted this job for a very simple reason.\\r\\n\\r\\n \\r\\n\\r\\nI love this country.\\r\\n\\r\\n \\r\\n\\r\\nI have great ambitions for our future.\\r\\n\\r\\n \\r\\n\\r\\nAnd I want the Party I love\\x85\\r\\n\\r\\n \\r\\n\\r\\n\\x85to serve the country I love\\x85\\r\\n\\r\\n \\r\\n\\r\\n\\x85in helping Britain be the best that it can.\\r\\n\\r\\n \\r\\n\\r\\nWe need to change in order to have that chance.\\r\\n\\r\\n \\r\\n\\r\\nYou cannot shape the future if you\\x92re stuck in the past.\\r\\n\\r\\n \\r\\n\\r\\nYou knew that.\\r\\n\\r\\n \\r\\n\\r\\nAnd that\\x92s why you voted for change.\\r\\n\\r\\n \\r\\n\\r\\nI believe we can all be proud of what we\\x92ve achieved these past ten months.\\r\\n\\r\\n \\r\\n\\r\\nPeople looking at us with new interest.\\r\\n\\r\\n \\r\\n\\r\\n25,000 new members.\\r\\n\\r\\n \\r\\n\\r\\nAnd in our first electoral test, in the local elections, we won forty per cent of the vote.\\r\\n\\r\\n \\r\\n\\r\\nLet\\x92s hear it for our fantastic local councillors who worked so hard and won so well.\\r\\n\\r\\n \\r\\n\\r\\nTony Blair says it\\x92s all style and no substance.\\r\\n\\r\\n \\r\\n\\r\\nIn fact he wrote me a letter about it.\\r\\n\\r\\n \\r\\n\\r\\nDear Kettle\\x85\\r\\n\\r\\n \\r\\n\\r\\nYou\\x92re black.\\r\\n\\r\\n \\r\\n\\r\\nSigned, Pot.\\r\\n\\r\\n \\r\\n\\r\\nWhat a nerve that man has got.\\r\\n\\r\\n \\r\\n\\r\\nIn the whole of the last year, there is only one substantial thing that the Labour Party has achieved for our country.\\r\\n\\r\\n \\r\\n\\r\\nTheir education reforms.\\r\\n\\r\\n \\r\\n\\r\\nRight now, across the country, trust schools are being prepared with greater freedoms to teach children the way teachers and parents want.\\r\\n\\r\\n \\r\\n\\r\\nThe only reason \\x96 the only reason - that\\x92s happening is because the Conservative Party did the right thing and took the legislation through the House of Commons.\\r\\n\\r\\n \\r\\n\\r\\nI\\x92m proud of that \\x96 proud of us, for putting the future of our children before party politics.\\r\\n\\r\\n \\r\\n\\r\\nAnother sign of our changing fortunes is the impressive array of speakers who have come to join us at our conference this year.\\r\\n\\r\\n \\r\\n\\r\\nSENATOR McCAIN\\r\\n\\r\\n \\r\\n\\r\\nAnd I\\x92d like to pay a special tribute to one in particular.\\r\\n\\r\\n \\r\\n\\r\\nHe\\x92s a man who knows about leadership.\\r\\n\\r\\n \\r\\n\\r\\nHe\\x92s endured hardship that\\x92s unimaginable to many of us here.\\r\\n\\r\\n \\r\\n\\r\\nAnd he\\x92s fought battles for principles that we all admire.\\r\\n\\r\\n \\r\\n\\r\\nWho knows what the future may hold?\\r\\n\\r\\n \\r\\n\\r\\nBut John, I for one would be proud to see you \\x96 a great American and a great friend to Britain - as leader of the free world.\\r\\n\\r\\n \\r\\n\\r\\nCOLLEAGUES\\r\\n\\r\\n \\r\\n\\r\\nI\\x92d also like to pay tribute to my colleagues who have spoken already today.\\r\\n\\r\\n \\r\\n\\r\\nA year ago, David Davis and I were rivals.\\r\\n\\r\\n \\r\\n\\r\\nToday we\\x92re partners.\\r\\n\\r\\n \\r\\n\\r\\nHe has given me the most fantastic support over these past ten months.\\r\\n\\r\\n \\r\\n\\r\\nIdeas, energy, advice.\\r\\n\\r\\n \\r\\n\\r\\nHe has not only helped bring this Party together\\x85\\r\\n\\r\\n \\r\\n\\r\\n\\x85he has helped take our Party in the right direction, and I want to thank him for all he\\x92s done.\\r\\n\\r\\n \\r\\n\\r\\nAnd I\\x92m proud to work with another man who is a brave politician, a wise counsellor and a great Conservative.\\r\\n\\r\\n \\r\\n\\r\\nA man who would be a Foreign Secretary that this country could be truly proud of: William Hague.\\r\\n\\r\\n \\r\\n\\r\\nThen there\\x92s Francis.\\r\\n\\r\\n \\r\\n\\r\\nI know Francis likes to pretend that everything is doom and gloom.\\r\\n\\r\\n \\r\\n\\r\\nHe\\x92s always talking about the mountain we have to climb.\\r\\n\\r\\n \\r\\n\\r\\nHe\\x92s so gloomy, he makes Gordon Brown look like a ray of sunshine.\\r\\n\\r\\n \\r\\n\\r\\nBut Francis, you\\x92re doing a great job.\\r\\n\\r\\n \\r\\n\\r\\nLABOUR SPLITS AND BACKSTABBING\\r\\n\\r\\n \\r\\n\\r\\nOf course Francis has long told us to avoid the point-scoring and name-calling that can give politics such a bad name.\\r\\n\\r\\n \\r\\n\\r\\nHe\\x92s right.\\r\\n\\r\\n \\r\\n\\r\\nBut we didn\\x92t bargain on the Labour Party.\\r\\n\\r\\n \\r\\n\\r\\nFirst Gordon said he could never trust Tony again, then Tony called Gordon a blackmailer.\\r\\n\\r\\n \\r\\n\\r\\nCharles said Gordon was stupid, then John popped up and said no, Tony was stupid.\\r\\n\\r\\n \\r\\n\\r\\nCharles called Gordon a deluded control freak.\\r\\n\\r\\n \\r\\n\\r\\nAnd a member of the Cabinet said \\x93it would be an absolute effing disaster\\x94 if Gordon got to No.10.\\r\\n\\r\\n \\r\\n\\r\\nThat was just the husbands.\\r\\n\\r\\n \\r\\n\\r\\nWhen I look at these Labour ministers I ask myself how much time they\\x92re worrying about their own jobs\\x85\\r\\n\\r\\n \\r\\n\\r\\n\\x85and how much time they\\x92re worrying about NHS, about crime, about our troops in Iraq and Afghanistan.\\r\\n\\r\\n \\r\\n\\r\\nYou only have to ask the question to know what the answer is.\\r\\n\\r\\n \\r\\n\\r\\nAnd there are months more of it still to come.\\r\\n\\r\\n \\r\\n\\r\\nMonths of infighting, instability, indecision, jockeying for position\\x85\\r\\n\\r\\n \\r\\n\\r\\nThey said it would be a \\x93stable and orderly transition.\\x94\\r\\n\\r\\n \\r\\n\\r\\nYeah, right.\\r\\n\\r\\n \\r\\n\\r\\nLike they said \\x9324 hours to save the NHS\\x94, \\x93education education education.\\x94\\r\\n\\r\\n \\r\\n\\r\\nThese are the things they should be fighting for, but they\\x92re too busy fighting each other.\\r\\n\\r\\n \\r\\n\\r\\nOUR RESPONSIBILITY\\r\\n\\r\\n \\r\\n\\r\\nSo we have a great responsibility.\\r\\n\\r\\n \\r\\n\\r\\nTo set out a clear, united and credible alternative.\\r\\n\\r\\n \\r\\n\\r\\nWith some elections, you just know the result before a single vote has been cast.\\r\\n\\r\\n \\r\\n\\r\\nWe were never going to win in 1997.\\r\\n\\r\\n \\r\\n\\r\\nPeople wanted change.\\r\\n\\r\\n \\r\\n\\r\\nI remember it well.\\r\\n\\r\\n \\r\\n\\r\\nI fought Stafford.\\r\\n\\r\\n \\r\\n\\r\\nAnd Stafford fought back.\\r\\n\\r\\n \\r\\n\\r\\nLabour were never going to win in 1983 when they offered Michael Foot as Prime Minister.\\r\\n\\r\\n \\r\\n\\r\\nOther elections are wide open.\\r\\n\\r\\n \\r\\n\\r\\nAnd the next election will be one of those.\\r\\n\\r\\n \\r\\n\\r\\nBut we will not win, nor deserve to win, without a clear purpose and a proper plan.\\r\\n\\r\\n \\r\\n\\r\\nWe must learn from Labour\\x92s big mistake.\\r\\n\\r\\n \\r\\n\\r\\nWhen Tony Blair won his first election, he had only one clear purpose: to win a second term.\\r\\n\\r\\n \\r\\n\\r\\nEven now he says that the only legacy \\x96 the only legacy - that really matters to him is Labour winning a fourth term.\\r\\n\\r\\n \\r\\n\\r\\nBack in 1997, he had no proper plan.\\r\\n\\r\\n \\r\\n\\r\\nNo real understanding of how to make change happen.\\r\\n\\r\\n \\r\\n\\r\\nHe had good intentions.\\r\\n\\r\\n \\r\\n\\r\\nBut he hadn\\x92t worked out how to deliver them.\\r\\n\\r\\n \\r\\n\\r\\nSo New Labour went round and round in circles.\\r\\n\\r\\n \\r\\n\\r\\nThey abolished grant maintained schools - and now they\\x92re trying to recreate them.\\r\\n\\r\\n \\r\\n\\r\\nThey reversed our NHS reforms - and now they\\x92re trying to bring them back.\\r\\n\\r\\n \\r\\n\\r\\nRoad building \\x96 cancelled, then reinstated.\\r\\n\\r\\n \\r\\n\\r\\nThey wasted time, wasted money, wasted the country\\x92s goodwill.\\r\\n\\r\\n \\r\\n\\r\\nOnly now, after nine years, does Tony Blair seem clear about his purpose.\\r\\n\\r\\n \\r\\n\\r\\nWell I\\x92m sorry Mr Blair.\\r\\n\\r\\n \\r\\n\\r\\nThat\\x92s nine years too late.\\r\\n\\r\\n \\r\\n\\r\\nTHIS WEEK\\r\\n\\r\\n \\r\\n\\r\\nWe won\\x92t make the same mistake.\\r\\n\\r\\n \\r\\n\\r\\nOn Wednesday, the last day of our conference, I want to talk in detail about the important issues we face as a nation \\x96 and what our response will be.\\r\\n\\r\\n \\r\\n\\r\\nBut today, on this first day of our conference, I\\x92d like to set the scene for our discussions this week.\\r\\n\\r\\n \\r\\n\\r\\nI want to explain how we will arrive at the next election knowing exactly what we want to do, and how we\\x92re going to do it.\\r\\n\\r\\n \\r\\n\\r\\nMy argument is based on a simple analogy.\\r\\n\\r\\n \\r\\n\\r\\nGetting ready for the responsibility of government is like building a house together.\\r\\n\\r\\n \\r\\n\\r\\nThink of it in three stages.\\r\\n\\r\\n \\r\\n\\r\\nFirst you prepare the ground.\\r\\n\\r\\n \\r\\n\\r\\nThen you lay the foundations.\\r\\n\\r\\n \\r\\n\\r\\nAnd then, finally, brick by brick, you build your house.\\r\\n\\r\\n \\r\\n\\r\\nPREPARING THE GROUND\\r\\n\\r\\n \\r\\n\\r\\nThese last ten months, we have been preparing the ground.\\r\\n\\r\\n \\r\\n\\r\\nOur Party\\x92s history tells us the ground on which political success is built.\\r\\n\\r\\n \\r\\n\\r\\nIt is the centre ground.\\r\\n\\r\\n \\r\\n\\r\\nNot the bog of political compromise.\\r\\n\\r\\n \\r\\n\\r\\nNot the ideological wilderness, out on the fringes of debate.\\r\\n\\r\\n \\r\\n\\r\\nBut the solid ground where people are.\\r\\n\\r\\n \\r\\n\\r\\nThe centre ground is where you find the concerns, the hopes and the dreams of most people and families in this country.\\r\\n\\r\\n \\r\\n\\r\\nIn 1979, they wanted a government to tame the unions, rescue our economy and restore Britain\\x92s pride.\\r\\n\\r\\n \\r\\n\\r\\nMargaret Thatcher offered precisely that alternative.\\r\\n\\r\\n \\r\\n\\r\\nAnd this Party can forever take pride in her magnificent achievements.\\r\\n\\r\\n \\r\\n\\r\\nToday, people want different things.\\r\\n\\r\\n \\r\\n\\r\\nThe priorities are different.\\r\\n\\r\\n \\r\\n\\r\\nSafer streets.\\r\\n\\r\\n \\r\\n\\r\\nSchools that teach.\\r\\n\\r\\n \\r\\n\\r\\nA better quality of life.\\r\\n\\r\\n \\r\\n\\r\\nBetter treatment for carers.\\r\\n\\r\\n \\r\\n\\r\\nThat\\x92s what people are talking about today.\\r\\n\\r\\n \\r\\n\\r\\nBut for too long, we were having a different conversation.\\r\\n\\r\\n \\r\\n\\r\\nInstead of talking about the things that most people care about, we talked about what we cared about most.\\r\\n\\r\\n \\r\\n\\r\\nWhile parents worried about childcare, getting the kids to school, balancing work and family life - we were banging on about Europe.\\r\\n\\r\\n \\r\\n\\r\\nAs they worried about standards in thousands of secondary schools, we obsessed about a handful more grammar schools.\\r\\n\\r\\n \\r\\n\\r\\nAs rising expectations demanded a better NHS for everyone, we put our faith in opt-outs for a few.\\r\\n\\r\\n \\r\\n\\r\\nWhile people wanted, more than anything, stability and low mortgage rates, the first thing we talked about was tax cuts.\\r\\n\\r\\n \\r\\n\\r\\nFor years, this country wanted \\x96 desperately needed - a sensible centre-right party to sort things out in a sensible way.\\r\\n\\r\\n \\r\\n\\r\\nWell, that\\x92s what we are today.\\r\\n\\r\\n \\r\\n\\r\\nIn these past ten months we have moved back to the ground on which this Party\\x92s success has always been built.\\r\\n\\r\\n \\r\\n\\r\\nThe centre ground of British politics.\\r\\n\\r\\n \\r\\n\\r\\nAnd that is where we will stay.\\r\\n\\r\\n \\r\\n\\r\\nLAYING THE FOUNDATIONS \\x96 SOCIAL RESPONSIBILITY\\r\\n\\r\\n \\r\\n\\r\\nBut preparing the ground is just the first stage.\\r\\n\\r\\n \\r\\n\\r\\nNow we must show what we will build there.\\r\\n\\r\\n \\r\\n\\r\\nA strong government needs strong foundations.\\r\\n\\r\\n \\r\\n\\r\\nAnd I want us to lay those foundations this week.\\r\\n\\r\\n \\r\\n\\r\\nThat\\x92s not about individual policies.\\r\\n\\r\\n \\r\\n\\r\\nIt is about a vision of the Britain we want to see.\\r\\n\\r\\n \\r\\n\\r\\nA Britain where we do not just ask what government can do.\\r\\n\\r\\n \\r\\n\\r\\nWe ask what people can do, what society can do.\\r\\n\\r\\n \\r\\n\\r\\nA Britain where we stop thinking you can pass laws to make people good.\\r\\n\\r\\n \\r\\n\\r\\nAnd start realising that we are all in this together.\\r\\n\\r\\n \\r\\n\\r\\nSocial responsibility \\x96 that is the essence of liberal Conservatism.\\r\\n\\r\\n \\r\\n\\r\\nThat is the idea I want us to explain this week.\\r\\n\\r\\n \\r\\n\\r\\nThat is what we stand for.\\r\\n\\r\\n \\r\\n\\r\\nThat is what we\\x92re fighting for.\\r\\n\\r\\n \\r\\n\\r\\nThat is the Britain we want to build.\\r\\n\\r\\n \\r\\n\\r\\nTake fighting crime.\\r\\n\\r\\n \\r\\n\\r\\nIt is not just a state responsibility.\\r\\n\\r\\n \\r\\n\\r\\nIt is a social responsibility.\\r\\n\\r\\n \\r\\n\\r\\nLet\\x92s not pretend that all we need is tough talk and tough laws to bring safety to our streets.\\r\\n\\r\\n \\r\\n\\r\\nOf course the state must play its part.\\r\\n\\r\\n \\r\\n\\r\\nThat\\x92s why we\\x92re developing a programme of radical police reform.\\r\\n\\r\\n \\r\\n\\r\\nThat\\x92s why we want to build more prisons and reform the ones we\\x92ve got, so they help reduce re-offending instead of encouraging it.\\r\\n\\r\\n \\r\\n\\r\\nAnd that\\x92s why we\\x92ll invest in drug rehabilitation, so we help addicts get clean and stay clean, instead of living a life of crime to feed their habit.\\r\\n\\r\\n \\r\\n\\r\\nBut that is not the end of the story.\\r\\n\\r\\n \\r\\n\\r\\nIt is just the start.\\r\\n\\r\\n \\r\\n\\r\\nWe need parents to bring up their children with the right values.\\r\\n\\r\\n \\r\\n\\r\\nWe need schools to be places of discipline and order.\\r\\n\\r\\n \\r\\n\\r\\nWe need to stand up for civilised values in public places.\\r\\n\\r\\n \\r\\n\\r\\nWe need to design crime out of the housing estates of the future.\\r\\n\\r\\n \\r\\n\\r\\nWe\\x92ve got to stop selling alcohol to children.\\r\\n\\r\\n \\r\\n\\r\\nWe need the music industry to understand that profiting from violent and homophobic words and images is morally wrong and socially unacceptable.\\r\\n\\r\\n \\r\\n\\r\\nBut more than this, we need people, families, communities, businesses to step up to the plate and understand that it\\x92s not just about stopping the bad things\\x85\\r\\n\\r\\n \\r\\n\\r\\n\\x85it\\x92s about actively doing the good things.\\r\\n\\r\\n \\r\\n\\r\\nNot waiting for the state to do it all, but taking responsibility, making a difference, saying loudly and proudly: this is my country, this is my community: I will play my part.\\r\\n\\r\\n \\r\\n\\r\\nThat is social responsibility.\\r\\n\\r\\n \\r\\n\\r\\nThat is our idea.\\r\\n\\r\\n \\r\\n\\r\\nSo I want us to be the champions of a new spirit of social responsibility in this land.\\r\\n\\r\\n \\r\\n\\r\\nA new spirit of social responsibility that will succeed for Britain where Labour\\x92s outdated state responsibility has failed.\\r\\n\\r\\n \\r\\n\\r\\nLABOUR\\x92S APPROACH\\r\\n\\r\\n \\r\\n\\r\\nThink of any issue - not just crime - and then think of Labour\\x92s response.\\r\\n\\r\\n \\r\\n\\r\\nThis Government\\x92s way of doing things \\x96 the old way of doing things - is so familiar, and so depressing.\\r\\n\\r\\n \\r\\n\\r\\nMinisters hold a summit.\\r\\n\\r\\n \\r\\n\\r\\nThey announce an eye-catching initiative.\\r\\n\\r\\n \\r\\n\\r\\nA five-year plan.\\r\\n\\r\\n \\r\\n\\r\\nGordon Brown generously finds the money for it.\\r\\n\\r\\n \\r\\n\\r\\nThe money gets a headline, but no-one knows what to do with it.\\r\\n\\r\\n \\r\\n\\r\\nSo they create a unit in the Cabinet Office.\\r\\n\\r\\n \\r\\n\\r\\nA task force is set up.\\r\\n\\r\\n \\r\\n\\r\\nRegional co-ordinators are appointed.\\r\\n\\r\\n \\r\\n\\r\\nGordon Brown sets them targets \\x96 after all, it is his money.\\r\\n\\r\\n \\r\\n\\r\\nPilot schemes are launched.\\r\\n\\r\\n \\r\\n\\r\\nThe pilot schemes are rolled out across the country.\\r\\n\\r\\n \\r\\n\\r\\nThey are evaluated.\\r\\n\\r\\n \\r\\n\\r\\nThen revised, re-organised and re-launched.\\r\\n\\r\\n \\r\\n\\r\\nAnd then finally, once the reality dawns that the only people to benefit are the lawyers, accountants and consultants of Labour\\x92s quango army\\x85\\r\\n\\r\\n \\r\\n\\r\\n\\x85with a pathetic whimper \\x96 but no hint of an apology \\x96 the whole thing is just abandoned.\\r\\n\\r\\n \\r\\n\\r\\nWe\\x92ve seen too much of this in the past nine years.\\r\\n\\r\\n \\r\\n\\r\\nHeadline after headline but absolutely no follow-through.\\r\\n\\r\\n \\r\\n\\r\\nIt is a story of ignorance, incompetence, arrogance.\\r\\n\\r\\n \\r\\n\\r\\nA story of wasted billions - and disappointed millions.\\r\\n\\r\\n \\r\\n\\r\\nSomewhere out there, there is a place where Blair and Brown will never go.\\r\\n\\r\\n \\r\\n\\r\\nIt\\x92s dark.\\r\\n\\r\\n \\r\\n\\r\\nIt\\x92s depressing.\\r\\n\\r\\n \\r\\n\\r\\nIt\\x92s haunted by the failures of nine years of centralisation, gimmick and spin.\\r\\n\\r\\n \\r\\n\\r\\nIt is the graveyard of initiatives, where you\\x92ll find the e-University that died a death,\\r\\n\\r\\n \\r\\n\\r\\nthe drugs czar that came and went\\x85\\r\\n\\r\\n \\r\\n\\r\\n\\x85the Individual Learning Accounts that collapsed in fraud and waste, the tax credits that were paid and reclaimed\\x85\\r\\n\\r\\n \\r\\n\\r\\n\\x85the Connexions service that flopped, the Strategic Health Authorities that were dropped\\x85\\r\\n\\r\\n \\r\\n\\r\\n\\x85the marching of yobs to the hole in the wall; the night courts that never happened at all.\\r\\n\\r\\n \\r\\n\\r\\nAnd still they keep coming, those hubristic monuments to big government, the living dead that walk the well-trodden path from Downing Street and the Treasury to New Labour\\x92s graveyard of initiatives.\\r\\n\\r\\n \\r\\n\\r\\nThe NHS computer: delayed, disorganised, a £20 billion shambles.\\r\\n\\r\\n \\r\\n\\r\\nForced police mergers: the direct opposite of the community policing we need.\\r\\n\\r\\n \\r\\n\\r\\nAnd then the perfect example.\\r\\n\\r\\n \\r\\n\\r\\nID cards.\\r\\n\\r\\n \\r\\n\\r\\nWhen a half-way competent government would be protecting our security by controlling our borders\\x85\\r\\n\\r\\n \\r\\n\\r\\n\\x85these Labour ministers are pressing ahead with their vast white elephant, their plastic poll tax, twenty Millennium Domes rolled into one giant catastrophe in the making.\\r\\n\\r\\n \\r\\n\\r\\nThey\\x92ve given up trying to find a good reason for it.\\r\\n\\r\\n \\r\\n\\r\\nLast week Tony Blair said that ID cards would help control immigration, when new immigrants won\\x92t even have them.\\r\\n\\r\\n \\r\\n\\r\\nDoes he even know what\\x92s going on in his Government?\\r\\n\\r\\n \\r\\n\\r\\nID cards are wrong, they\\x92re a waste of money, and we will abolish them.\\r\\n\\r\\n \\r\\n\\r\\nThese last nine years have been the story of a Government which instinctively believes, whatever it says, that everything is the state\\x92s responsibility.\\r\\n\\r\\n \\r\\n\\r\\nWe believe in social responsibility.\\r\\n\\r\\n \\r\\n\\r\\nBecause there is such a thing as society, it\\x92s just not the same thing as the state.\\r\\n\\r\\n \\r\\n\\r\\nTHE BRITAIN WE WANT TO SEE\\r\\n\\r\\n \\r\\n\\r\\nSo let us define this week the kind of Britain we want to see.\\r\\n\\r\\n \\r\\n\\r\\nAnd let us show how our idea \\x96 social responsibility\\x85\\r\\n\\r\\n \\r\\n\\r\\n\\x85not Labour\\x92s idea \\x96 state responsibility\\x85\\r\\n\\r\\n \\r\\n\\r\\n\\x85is the right response to the challenges Britain faces.\\r\\n\\r\\n \\r\\n\\r\\nGLOBALISATION, WELL-BEING, THE ENVIRONMENT\\r\\n\\r\\n \\r\\n\\r\\nWe know that in the age of globalisation, in the face of fast-moving economic change, people want their government to provide security.\\r\\n\\r\\n \\r\\n\\r\\nWe know that the end of the traditional 9 to 5 job can make life tough for families, and people look to their government for answers.\\r\\n\\r\\n \\r\\n\\r\\nAnd we know that in the race against time to tackle climate change and protect the environment, people expect their government to show leadership.\\r\\n\\r\\n \\r\\n\\r\\nOn all these challenges, Labour\\x92s first response is to regulate business, hoping to offer protection.\\r\\n\\r\\n \\r\\n\\r\\nIt may sound attractive.\\r\\n\\r\\n \\r\\n\\r\\nBut there are unintended consequences.\\r\\n\\r\\n \\r\\n\\r\\nWell-intentioned regulation can make us less secure in the age of globalisation.\\r\\n\\r\\n \\r\\n\\r\\nLess able to provide the jobs, wealth and opportunity on which well-being depends.\\r\\n\\r\\n \\r\\n\\r\\nIt can undermine the competitiveness of our companies, so it\\x92s harder for them to invest in the new, green technologies of the future.\\r\\n\\r\\n \\r\\n\\r\\nSo our response, based on our philosophy of social responsibility, is to say to business:\\r\\n\\r\\n \\r\\n\\r\\nYes you should look after your workers, yes you should look after your community, yes you should look after our environment.\\r\\n\\r\\n \\r\\n\\r\\nAnd we must stand up to big business when it\\x92s in the interests of Britain and the wider world.\\r\\n\\r\\n \\r\\n\\r\\nSo next week our MEPs will vote to strengthen proposals to make companies replace dangerous chemicals with safe ones.\\r\\n\\r\\n \\r\\n\\r\\nBut where Labour are casual about increasing regulation, we will be careful.\\r\\n\\r\\n \\r\\n\\r\\nWe will ask:\\r\\n\\r\\n \\r\\n\\r\\nAre we making it easier to start a business?\\r\\n\\r\\n \\r\\n\\r\\nEasier to employ someone?\\r\\n\\r\\n \\r\\n\\r\\nIs the overall burden of regulation going down?\\r\\n\\r\\n \\r\\n\\r\\nWill the regulation that\\x92s being put forward lead to real changes in behaviour, or just time-wasting and box-ticking?\\r\\n\\r\\n \\r\\n\\r\\nIf only we had a government that was asking these questions today.\\r\\n\\r\\n \\r\\n\\r\\nWe want companies to create their own solutions to social and environmental challenges, because those are the solutions most likely to last.\\r\\n\\r\\n \\r\\n\\r\\nSo in a Conservative Britain, corporate responsibility will provide the best long-term answer to economic insecurity, well-being in the workplace, and environmental care.\\r\\n\\r\\n \\r\\n\\r\\nIt is the same approach when you look at the other great challenges we face.\\r\\n\\r\\n \\r\\n\\r\\nPUBLIC SERVICES\\r\\n\\r\\n \\r\\n\\r\\nWe know that in an age of amazing technological advance, instant information exchange, and empowered consumers who don\\x92t have the deference of previous generations\\x85\\r\\n\\r\\n \\r\\n\\r\\n\\x85people expect more from our health service and our schools.\\r\\n\\r\\n \\r\\n\\r\\nAnd government has to respond to that.\\r\\n\\r\\n \\r\\n\\r\\nLabour\\x92s response is the culture of targets, directives and central control, aimed at raising standards in our public services.\\r\\n\\r\\n \\r\\n\\r\\nThey mean well.\\r\\n\\r\\n \\r\\n\\r\\nBut the unintended consequence is to make these services less responsive to the people who use them, dashing expectations not meeting them.\\r\\n\\r\\n \\r\\n\\r\\nSo our response, based on our philosophy of social responsibility, is to say to our nurses, doctors, teachers:\\r\\n\\r\\n \\r\\n\\r\\nYes you should meet higher standards, yes you should give your patients and your pupils more.\\r\\n\\r\\n \\r\\n\\r\\nBut we\\x92re not going to tell you how to do it.\\r\\n\\r\\n \\r\\n\\r\\nYou are professionals.\\r\\n\\r\\n \\r\\n\\r\\nWe trust in your vocation\\r\\n\\r\\n \\r\\n\\r\\nSo in a Conservative Britain, professional responsibility will provide the answer to rising expectations in the NHS and schools.\\r\\n\\r\\n \\r\\n\\r\\nPOVERTY AND REGENERATION\\r\\n\\r\\n \\r\\n\\r\\nAnd just as people will no longer accept second best in public services, we know that in their communities they are fed up with squalor and poverty and crime\\x85\\r\\n\\r\\n \\r\\n\\r\\n\\x85and they look to their leaders to sort things out.\\r\\n\\r\\n \\r\\n\\r\\nLabour\\x92s response has been a massive expansion of central government into local communities.\\r\\n\\r\\n \\r\\n\\r\\nThe centralised Neighbourhood Renewal Unit, the insensitive Pathfinder programme, prescriptive top-down schemes for regeneration.\\r\\n\\r\\n \\r\\n\\r\\nYou can see why Labour have done it.\\r\\n\\r\\n \\r\\n\\r\\nBut the unintended consequence is to stifle the very spirit of community self-improvement that they are responding to.\\r\\n\\r\\n \\r\\n\\r\\nOur response, based on our philosophy of social responsibility, is to trust local leaders, not undermine them.\\r\\n\\r\\n \\r\\n\\r\\nSo we will hand power and control to local councils and local people who have the solutions to poverty, to crime, to urban decay in their hands.\\r\\n\\r\\n \\r\\n\\r\\nWe trust in your knowledge and commitment.\\r\\n\\r\\n \\r\\n\\r\\nSo in a Conservative Britain, civic responsibility will provide the answer to improving the quality of life in the communities left behind.\\r\\n\\r\\n \\r\\n\\r\\nCHILDREN\\r\\n\\r\\n \\r\\n\\r\\nAnd then perhaps the greatest challenge of all.\\r\\n\\r\\n \\r\\n\\r\\nThe challenge of bringing up children in a world that often seems fraught with risk and danger.\\r\\n\\r\\n \\r\\n\\r\\nThere is nothing that matters more to me than the safety and happiness of my family.\\r\\n\\r\\n \\r\\n\\r\\nOf course it\\x92s right that government should be on parents\\x92 side.\\r\\n\\r\\n \\r\\n\\r\\nBut Labour take it way too far.\\r\\n\\r\\n \\r\\n\\r\\nA national database of every child.\\r\\n\\r\\n \\r\\n\\r\\nMaking childcare a state monopoly.\\r\\n\\r\\n \\r\\n\\r\\nSlapping ASBOs on children who haven\\x92t even been born.\\r\\n\\r\\n \\r\\n\\r\\nLabour\\x92s intentions may be good.\\r\\n\\r\\n \\r\\n\\r\\nBut the unintended consequence is to create a culture of irresponsibility.\\r\\n\\r\\n \\r\\n\\r\\nThey may have abandoned Clause 4 and the nationalisation of industry.\\r\\n\\r\\n \\r\\n\\r\\nBut they are replacing it with the nationalisation of everyday life.\\r\\n\\r\\n \\r\\n\\r\\nThe state can never be everywhere, policing the interactions of our daily lives - and it shouldn\\x92t try.\\r\\n\\r\\n \\r\\n\\r\\nReal change will take years of patient hard work, and we will test every policy by asking: does it enhance parental responsibility?\\r\\n\\r\\n \\r\\n\\r\\nWe need to understand that cultural change is worth any number of government initiatives.\\r\\n\\r\\n \\r\\n\\r\\nWho has done more to improve school food, Jamie Oliver, or the Department of Education?\\r\\n\\r\\n \\r\\n\\r\\nPut another way, we need more of Supernanny, less of the nanny state.\\r\\n\\r\\n \\r\\n\\r\\nSo in a Conservative Britain, personal responsibility will provide the best answer to the risks and dangers of the modern world.\\r\\n\\r\\n \\r\\n\\r\\nPersonal responsibility.\\r\\n\\r\\n \\r\\n\\r\\nProfessional responsibility.\\r\\n\\r\\n \\r\\n\\r\\nCorporate responsibility.\\r\\n\\r\\n \\r\\n\\r\\nCivic responsibility.\\r\\n\\r\\n \\r\\n\\r\\nThese are the four pillars of our social responsibility.\\r\\n\\r\\n \\r\\n\\r\\nThat is the Britain we want to build.\\r\\n\\r\\n \\r\\n\\r\\nA Britain that is more green.\\r\\n\\r\\n \\r\\n\\r\\nMore family-friendly.\\r\\n\\r\\n \\r\\n\\r\\nMore local control over the things that matter.\\r\\n\\r\\n \\r\\n\\r\\nLess arrogant about politicians\\x92 ability to do it all on their own.\\r\\n\\r\\n \\r\\n\\r\\nBut more optimistic about what we can achieve if we all work together.\\r\\n\\r\\n \\r\\n\\r\\nWe want an opportunity society, not an overpowering state.\\r\\n\\r\\n \\r\\n\\r\\nBUILDING OUR HOUSE\\r\\n\\r\\n \\r\\n\\r\\nThis week, in our debates, we will lay the foundations of the house we are building together.\\r\\n\\r\\n \\r\\n\\r\\nThe foundations must come first.\\r\\n\\r\\n \\r\\n\\r\\nHow superficial, how insubstantial it would be, for us to make up policies to meet the pressures of the moment.\\r\\n\\r\\n \\r\\n\\r\\nPolicy without principle is like a house without foundations.\\r\\n\\r\\n \\r\\n\\r\\nIt will not stand the test of time.\\r\\n\\r\\n \\r\\n\\r\\nThat is what our Policy Review is all about: getting it right for the long term.\\r\\n\\r\\n \\r\\n\\r\\nOPTIMISM ABOUT BRITAIN\\x92S FUTURE\\r\\n\\r\\n \\r\\n\\r\\nIf we do this, we can help achieve so much for this country.\\r\\n\\r\\n \\r\\n\\r\\nIn a few years\\x92 time, Britain could wake up to a bright new morning.\\r\\n\\r\\n \\r\\n\\r\\nWe have everything to be optimistic about.\\r\\n\\r\\n \\r\\n\\r\\nYou could not design a country with better natural advantages than we have.\\r\\n\\r\\n \\r\\n\\r\\nWe speak the language of the world.\\r\\n\\r\\n \\r\\n\\r\\nWe have links of history and culture with every continent on earth.\\r\\n\\r\\n \\r\\n\\r\\nWe have institutions \\x96 our legal system, our armed forces, the BBC, our great universities \\x96 which set the standard that all other countries measure themselves by.\\r\\n\\r\\n \\r\\n\\r\\nOur artists, writers and musicians inspire people the world over.\\r\\n\\r\\n \\r\\n\\r\\nWe are inventive, creative, irreverent and daring.\\r\\n\\r\\n \\r\\n\\r\\nIn this young century, these old advantages give us the edge we need.\\r\\n\\r\\n \\r\\n\\r\\nCONCLUSION\\r\\n\\r\\n \\r\\n\\r\\nWhat a prospect for a great Party \\x96 to guide our nation at this time of opportunity.\\r\\n\\r\\n \\r\\n\\r\\nSo let us stick to the plan.\\r\\n\\r\\n \\r\\n\\r\\nLet us build - carefully, thoughtfully and patiently, a new house together.\\r\\n\\r\\n \\r\\n\\r\\nPreparing the ground as we move to the centre, meeting the priorities of the modern world.\\r\\n\\r\\n \\r\\n\\r\\nLaying the foundations with our idea - social responsibility.\\r\\n\\r\\n \\r\\n\\r\\nAnd building on those foundations with the right policies for our long-term future.\\r\\n\\r\\n \\r\\n\\r\\nThe nation\\x92s hopes are in our hands.\\r\\n\\r\\n \\r\\n\\r\\nPeople\\x92s hopes.\\r\\n\\r\\n \\r\\n\\r\\nYour hopes.\\r\\n\\r\\n \\r\\n\\r\\nMy hopes.\\r\\n\\r\\n \\r\\n\\r\\nIn eight days\\x92 time I will be forty years old.\\r\\n\\r\\n \\r\\n\\r\\nI have so much to look forward to.\\r\\n\\r\\n \\r\\n\\r\\nMy young family.\\r\\n\\r\\n \\r\\n\\r\\nThey have so much to look forward to.\\r\\n\\r\\n \\r\\n\\r\\nThe world I want for them is the world I want for every family and every community.\\r\\n\\r\\n \\r\\n\\r\\nIf you want to know what I\\x92m all about, I can explain it one word.\\r\\n\\r\\n \\r\\n\\r\\nThat word is optimism.\\r\\n\\r\\n \\r\\n\\r\\nI am optimistic about human nature.\\r\\n\\r\\n \\r\\n\\r\\nThat\\x92s why I will trust people to do the right thing.\\r\\n\\r\\n \\r\\n\\r\\nLabour are pessimists.\\r\\n\\r\\n \\r\\n\\r\\nThey think that without their guidance, people will do the wrong thing.\\r\\n\\r\\n \\r\\n\\r\\nThat\\x92s why they want to regulate and control.\\r\\n\\r\\n \\r\\n\\r\\nSo let us show clearly which side we are on.\\r\\n\\r\\n \\r\\n\\r\\nLet optimism beat pessimism.\\r\\n\\r\\n \\r\\n\\r\\nLet sunshine win the day.\\r\\n\\r\\n \\r\\n\\r\\nAnd let everyone know that the Conservative Party is ready.\\r\\n\\r\\n \\r\\n\\r\\nReady to serve.\\r\\n\\r\\n \\r\\n\\r\\nReady to fight.\\r\\n\\r\\n \\r\\n\\r\\nReady to win.'"
            ]
          },
          "metadata": {
            "tags": []
          },
          "execution_count": 86
        }
      ]
    },
    {
      "cell_type": "code",
      "metadata": {
        "id": "PZD1j4XQ4e0G"
      },
      "source": [
        "tknsent = nltk.sent_tokenize(speech)\n",
        "tknword = nltk.word_tokenize(speech)\n",
        "\n",
        "tagged = [nltk.pos_tag(tknword)]\n",
        "simple_text = nltk.Text(tknword)\n",
        "\n",
        "nounadj = set([\n",
        "    'NN',\n",
        "    'NNS',\n",
        "    'NNP',\n",
        "    'NNPS',   \n",
        "    'JJ',\n",
        "    'JJR',\n",
        "    'JJS'         \n",
        "])"
      ],
      "execution_count": null,
      "outputs": []
    },
    {
      "cell_type": "code",
      "metadata": {
        "colab": {
          "base_uri": "https://localhost:8080/",
          "height": 483
        },
        "id": "fe2VOKl96mkd",
        "outputId": "fb433bc6-83b5-40f5-bbf7-a8c6fac00c26"
      },
      "source": [
        "fd = nltk.FreqDist()\n",
        "\n",
        "for bit in tagged:\n",
        "    if bit[1] in nounadj and len(bit[0])>2:\n",
        "        fd[bit[0]] = fd[bit[0]] + 1\n",
        "        \n",
        "fd.plot(20)\n",
        "#UGHHHHHH"
      ],
      "execution_count": null,
      "outputs": [
        {
          "output_type": "display_data",
          "data": {
            "image/png": "[encoded data removed]",
            "text/plain": [
              "<Figure size 720x576 with 1 Axes>"
            ]
          },
          "metadata": {
            "tags": []
          }
        }
      ]
    }
  ]
}