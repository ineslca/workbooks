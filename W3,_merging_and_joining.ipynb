{
  "nbformat": 4,
  "nbformat_minor": 0,
  "metadata": {
    "kernelspec": {
      "name": "python3",
      "display_name": "Python 3"
    },
    "colab": {
      "name": "W3, merging and joining.ipynb",
      "provenance": [],
      "collapsed_sections": [
        "7jbHLNWJS6iu",
        "l_hXvqvdS6jO",
        "NegFX-rjS6jY"
      ],
      "include_colab_link": true
    }
  },
  "cells": [
    {
      "cell_type": "markdown",
      "metadata": {
        "id": "view-in-github",
        "colab_type": "text"
      },
      "source": [
        "<a href=\"https://colab.research.google.com/github/ineslca/workbooks/blob/main/W3%2C_merging_and_joining.ipynb\" target=\"_parent\"><img src=\"https://colab.research.google.com/assets/colab-badge.svg\" alt=\"Open In Colab\"/></a>"
      ]
    },
    {
      "cell_type": "markdown",
      "metadata": {
        "id": "6fah6VTyS6hd"
      },
      "source": [
        "## Quantitative Methods 2:  Data Science and Visualisation\n",
        "## Workshop 3: Merging and Joining Data in Python\n",
        "\n",
        "Sometimes, we will want to combine data from different sources about the same subject - perhaps we want to compare the GDP in a country with life expectancy, or the proportion of free schools meals with the level of unemployment.\n",
        "\n",
        "### Aims\n",
        "- Understand joins\n",
        "- Work with joining dataframes in Pandas\n",
        "- Create your own examples"
      ]
    },
    {
      "cell_type": "markdown",
      "metadata": {
        "id": "XdibOrmwS6he"
      },
      "source": [
        "## Downloading the Data\n",
        "Let's grab the data we will need this week from our course website and save it into our data folder. If you've not already created a data folder then do so using the following command. \n",
        "\n",
        "Don't worry if it generates an error, that means you've already got a data folder.\n"
      ]
    },
    {
      "cell_type": "code",
      "metadata": {
        "id": "I50UwMZMS6hf"
      },
      "source": [
        "!mkdir data"
      ],
      "execution_count": null,
      "outputs": []
    },
    {
      "cell_type": "code",
      "metadata": {
        "id": "gyAVkq3xS6hj",
        "colab": {
          "base_uri": "https://localhost:8080/"
        },
        "outputId": "7a1ceaff-e87c-4e71-e7f5-c8e310aee541"
      },
      "source": [
        "!mkdir data/wk3\n",
        "!curl https://s3.eu-west-2.amazonaws.com/qm2/wk3/UN_Life_all.csv -o ./data/wk3/UN_Life_all.csv\n",
        "!curl https://s3.eu-west-2.amazonaws.com/qm2/wk3/UN_Cities_1214_country.csv -o ./data/wk3/UN_Cities_1214_country.csv\n",
        "!curl https://s3.eu-west-2.amazonaws.com/qm2/wk3/UN_Cities_1214_population.csv -o ./data/wk3/UN_Cities_1214_population.csv"
      ],
      "execution_count": null,
      "outputs": [
        {
          "output_type": "stream",
          "text": [
            "  % Total    % Received % Xferd  Average Speed   Time    Time     Time  Current\n",
            "                                 Dload  Upload   Total   Spent    Left  Speed\n",
            "100  354k  100  354k    0     0   366k      0 --:--:-- --:--:-- --:--:--  366k\n",
            "  % Total    % Received % Xferd  Average Speed   Time    Time     Time  Current\n",
            "                                 Dload  Upload   Total   Spent    Left  Speed\n",
            "100 31445  100 31445    0     0  58016      0 --:--:-- --:--:-- --:--:-- 57909\n",
            "  % Total    % Received % Xferd  Average Speed   Time    Time     Time  Current\n",
            "                                 Dload  Upload   Total   Spent    Left  Speed\n",
            "100  373k  100  373k    0     0   449k      0 --:--:-- --:--:-- --:--:--  448k\n"
          ],
          "name": "stdout"
        }
      ]
    },
    {
      "cell_type": "markdown",
      "metadata": {
        "id": "tuOYWYbUS6hm"
      },
      "source": [
        "## Joining Instructions\n",
        "\n",
        "Joins are the combination of different datasets, and are common in relational databases as a way of performing queries. There are lots of examples of why and when we might want to do this, but most start with two tables of data. We're going to start with some data we've generated.\n",
        "\n",
        "I'm going to go back and work with fake data for a while, because it's clean and small and we can see what's going on - when we work with real data, we have to take great care that the data is clean, the indices match, and so on."
      ]
    },
    {
      "cell_type": "code",
      "metadata": {
        "id": "UdRoLsYhS6hm"
      },
      "source": [
        "import matplotlib.pyplot as plt\n",
        "import pandas as pd\n",
        "import numpy as np\n",
        "import random\n",
        "%matplotlib inline\n",
        "plt.style.use('ggplot')\n"
      ],
      "execution_count": null,
      "outputs": []
    },
    {
      "cell_type": "markdown",
      "metadata": {
        "id": "LOltFFwmS6hp"
      },
      "source": [
        "Let's create dataframes which represent fictitious values associated with people. Let's assume our data is anonymised because we're ethical researchers and don't want information about real people leaking out."
      ]
    },
    {
      "cell_type": "code",
      "metadata": {
        "id": "RnB2LIRvS6hp"
      },
      "source": [
        "people1 = pd.DataFrame(5+np.random.randn(5, 5))\n",
        "people1.columns = ['units of alcohol drunk','cigarettes smoked','sleep per night','height','BMI']"
      ],
      "execution_count": null,
      "outputs": []
    },
    {
      "cell_type": "code",
      "metadata": {
        "id": "CKiFh3BkS6hs",
        "colab": {
          "base_uri": "https://localhost:8080/",
          "height": 198
        },
        "outputId": "8130fdc0-2333-429f-e9c7-758598acac8c"
      },
      "source": [
        "people1"
      ],
      "execution_count": null,
      "outputs": [
        {
          "output_type": "execute_result",
          "data": {
            "text/html": [
              "<div>\n",
              "<style scoped>\n",
              "    .dataframe tbody tr th:only-of-type {\n",
              "        vertical-align: middle;\n",
              "    }\n",
              "\n",
              "    .dataframe tbody tr th {\n",
              "        vertical-align: top;\n",
              "    }\n",
              "\n",
              "    .dataframe thead th {\n",
              "        text-align: right;\n",
              "    }\n",
              "</style>\n",
              "<table border=\"1\" class=\"dataframe\">\n",
              "  <thead>\n",
              "    <tr style=\"text-align: right;\">\n",
              "      <th></th>\n",
              "      <th>units of alcohol drunk</th>\n",
              "      <th>cigarettes smoked</th>\n",
              "      <th>sleep per night</th>\n",
              "      <th>height</th>\n",
              "      <th>BMI</th>\n",
              "    </tr>\n",
              "  </thead>\n",
              "  <tbody>\n",
              "    <tr>\n",
              "      <th>0</th>\n",
              "      <td>6.183022</td>\n",
              "      <td>4.480387</td>\n",
              "      <td>3.115971</td>\n",
              "      <td>4.663814</td>\n",
              "      <td>5.549931</td>\n",
              "    </tr>\n",
              "    <tr>\n",
              "      <th>1</th>\n",
              "      <td>4.535720</td>\n",
              "      <td>4.874261</td>\n",
              "      <td>4.320175</td>\n",
              "      <td>4.874204</td>\n",
              "      <td>6.556892</td>\n",
              "    </tr>\n",
              "    <tr>\n",
              "      <th>2</th>\n",
              "      <td>3.852325</td>\n",
              "      <td>5.337462</td>\n",
              "      <td>6.323538</td>\n",
              "      <td>5.767058</td>\n",
              "      <td>4.002601</td>\n",
              "    </tr>\n",
              "    <tr>\n",
              "      <th>3</th>\n",
              "      <td>5.945702</td>\n",
              "      <td>4.965248</td>\n",
              "      <td>4.907585</td>\n",
              "      <td>5.891873</td>\n",
              "      <td>5.091918</td>\n",
              "    </tr>\n",
              "    <tr>\n",
              "      <th>4</th>\n",
              "      <td>6.621904</td>\n",
              "      <td>6.428981</td>\n",
              "      <td>4.329598</td>\n",
              "      <td>6.079622</td>\n",
              "      <td>5.183107</td>\n",
              "    </tr>\n",
              "  </tbody>\n",
              "</table>\n",
              "</div>"
            ],
            "text/plain": [
              "   units of alcohol drunk  cigarettes smoked  ...    height       BMI\n",
              "0                6.183022           4.480387  ...  4.663814  5.549931\n",
              "1                4.535720           4.874261  ...  4.874204  6.556892\n",
              "2                3.852325           5.337462  ...  5.767058  4.002601\n",
              "3                5.945702           4.965248  ...  5.891873  5.091918\n",
              "4                6.621904           6.428981  ...  6.079622  5.183107\n",
              "\n",
              "[5 rows x 5 columns]"
            ]
          },
          "metadata": {
            "tags": []
          },
          "execution_count": 5
        }
      ]
    },
    {
      "cell_type": "code",
      "metadata": {
        "id": "fjUbAFEFS6hv"
      },
      "source": [
        "people2 = pd.DataFrame(5+np.random.randn(3, 5))\n",
        "people2.columns = ['units of alcohol drunk','cigarettes smoked','sleep per night','height','BMI']"
      ],
      "execution_count": null,
      "outputs": []
    },
    {
      "cell_type": "code",
      "metadata": {
        "id": "VpCJny82S6hy",
        "colab": {
          "base_uri": "https://localhost:8080/",
          "height": 138
        },
        "outputId": "692749bf-a130-4442-fd20-009f270e99ca"
      },
      "source": [
        "people2"
      ],
      "execution_count": null,
      "outputs": [
        {
          "output_type": "execute_result",
          "data": {
            "text/html": [
              "<div>\n",
              "<style scoped>\n",
              "    .dataframe tbody tr th:only-of-type {\n",
              "        vertical-align: middle;\n",
              "    }\n",
              "\n",
              "    .dataframe tbody tr th {\n",
              "        vertical-align: top;\n",
              "    }\n",
              "\n",
              "    .dataframe thead th {\n",
              "        text-align: right;\n",
              "    }\n",
              "</style>\n",
              "<table border=\"1\" class=\"dataframe\">\n",
              "  <thead>\n",
              "    <tr style=\"text-align: right;\">\n",
              "      <th></th>\n",
              "      <th>units of alcohol drunk</th>\n",
              "      <th>cigarettes smoked</th>\n",
              "      <th>sleep per night</th>\n",
              "      <th>height</th>\n",
              "      <th>BMI</th>\n",
              "    </tr>\n",
              "  </thead>\n",
              "  <tbody>\n",
              "    <tr>\n",
              "      <th>0</th>\n",
              "      <td>5.016409</td>\n",
              "      <td>7.192572</td>\n",
              "      <td>5.392844</td>\n",
              "      <td>4.873094</td>\n",
              "      <td>5.082974</td>\n",
              "    </tr>\n",
              "    <tr>\n",
              "      <th>1</th>\n",
              "      <td>3.795389</td>\n",
              "      <td>4.820455</td>\n",
              "      <td>3.756417</td>\n",
              "      <td>4.176218</td>\n",
              "      <td>3.994082</td>\n",
              "    </tr>\n",
              "    <tr>\n",
              "      <th>2</th>\n",
              "      <td>4.364441</td>\n",
              "      <td>6.329432</td>\n",
              "      <td>4.360180</td>\n",
              "      <td>5.149414</td>\n",
              "      <td>3.258517</td>\n",
              "    </tr>\n",
              "  </tbody>\n",
              "</table>\n",
              "</div>"
            ],
            "text/plain": [
              "   units of alcohol drunk  cigarettes smoked  ...    height       BMI\n",
              "0                5.016409           7.192572  ...  4.873094  5.082974\n",
              "1                3.795389           4.820455  ...  4.176218  3.994082\n",
              "2                4.364441           6.329432  ...  5.149414  3.258517\n",
              "\n",
              "[3 rows x 5 columns]"
            ]
          },
          "metadata": {
            "tags": []
          },
          "execution_count": 7
        }
      ]
    },
    {
      "cell_type": "markdown",
      "metadata": {
        "id": "DJh0iZU3S6h1"
      },
      "source": [
        "# Adding new observations\n",
        "\n",
        "It looks as if we have some data about people (although we've just made it up), and a set of common measurements. It would be nice to have all of this in one place, so let's *merge* them into one dataframe. We'll use the *concat* command, which is short for *concatenate*, or \"chain together\"."
      ]
    },
    {
      "cell_type": "code",
      "metadata": {
        "id": "FLd5xBDeS6h1"
      },
      "source": [
        "people3 = pd.concat([people1,people2])"
      ],
      "execution_count": null,
      "outputs": []
    },
    {
      "cell_type": "code",
      "metadata": {
        "id": "hKOqzkyJS6h3",
        "colab": {
          "base_uri": "https://localhost:8080/",
          "height": 288
        },
        "outputId": "0ce1cb48-fca5-4cd6-8a13-cf9937f2ab74"
      },
      "source": [
        "people3"
      ],
      "execution_count": null,
      "outputs": [
        {
          "output_type": "execute_result",
          "data": {
            "text/html": [
              "<div>\n",
              "<style scoped>\n",
              "    .dataframe tbody tr th:only-of-type {\n",
              "        vertical-align: middle;\n",
              "    }\n",
              "\n",
              "    .dataframe tbody tr th {\n",
              "        vertical-align: top;\n",
              "    }\n",
              "\n",
              "    .dataframe thead th {\n",
              "        text-align: right;\n",
              "    }\n",
              "</style>\n",
              "<table border=\"1\" class=\"dataframe\">\n",
              "  <thead>\n",
              "    <tr style=\"text-align: right;\">\n",
              "      <th></th>\n",
              "      <th>units of alcohol drunk</th>\n",
              "      <th>cigarettes smoked</th>\n",
              "      <th>sleep per night</th>\n",
              "      <th>height</th>\n",
              "      <th>BMI</th>\n",
              "    </tr>\n",
              "  </thead>\n",
              "  <tbody>\n",
              "    <tr>\n",
              "      <th>0</th>\n",
              "      <td>6.183022</td>\n",
              "      <td>4.480387</td>\n",
              "      <td>3.115971</td>\n",
              "      <td>4.663814</td>\n",
              "      <td>5.549931</td>\n",
              "    </tr>\n",
              "    <tr>\n",
              "      <th>1</th>\n",
              "      <td>4.535720</td>\n",
              "      <td>4.874261</td>\n",
              "      <td>4.320175</td>\n",
              "      <td>4.874204</td>\n",
              "      <td>6.556892</td>\n",
              "    </tr>\n",
              "    <tr>\n",
              "      <th>2</th>\n",
              "      <td>3.852325</td>\n",
              "      <td>5.337462</td>\n",
              "      <td>6.323538</td>\n",
              "      <td>5.767058</td>\n",
              "      <td>4.002601</td>\n",
              "    </tr>\n",
              "    <tr>\n",
              "      <th>3</th>\n",
              "      <td>5.945702</td>\n",
              "      <td>4.965248</td>\n",
              "      <td>4.907585</td>\n",
              "      <td>5.891873</td>\n",
              "      <td>5.091918</td>\n",
              "    </tr>\n",
              "    <tr>\n",
              "      <th>4</th>\n",
              "      <td>6.621904</td>\n",
              "      <td>6.428981</td>\n",
              "      <td>4.329598</td>\n",
              "      <td>6.079622</td>\n",
              "      <td>5.183107</td>\n",
              "    </tr>\n",
              "    <tr>\n",
              "      <th>0</th>\n",
              "      <td>5.016409</td>\n",
              "      <td>7.192572</td>\n",
              "      <td>5.392844</td>\n",
              "      <td>4.873094</td>\n",
              "      <td>5.082974</td>\n",
              "    </tr>\n",
              "    <tr>\n",
              "      <th>1</th>\n",
              "      <td>3.795389</td>\n",
              "      <td>4.820455</td>\n",
              "      <td>3.756417</td>\n",
              "      <td>4.176218</td>\n",
              "      <td>3.994082</td>\n",
              "    </tr>\n",
              "    <tr>\n",
              "      <th>2</th>\n",
              "      <td>4.364441</td>\n",
              "      <td>6.329432</td>\n",
              "      <td>4.360180</td>\n",
              "      <td>5.149414</td>\n",
              "      <td>3.258517</td>\n",
              "    </tr>\n",
              "  </tbody>\n",
              "</table>\n",
              "</div>"
            ],
            "text/plain": [
              "   units of alcohol drunk  cigarettes smoked  ...    height       BMI\n",
              "0                6.183022           4.480387  ...  4.663814  5.549931\n",
              "1                4.535720           4.874261  ...  4.874204  6.556892\n",
              "2                3.852325           5.337462  ...  5.767058  4.002601\n",
              "3                5.945702           4.965248  ...  5.891873  5.091918\n",
              "4                6.621904           6.428981  ...  6.079622  5.183107\n",
              "0                5.016409           7.192572  ...  4.873094  5.082974\n",
              "1                3.795389           4.820455  ...  4.176218  3.994082\n",
              "2                4.364441           6.329432  ...  5.149414  3.258517\n",
              "\n",
              "[8 rows x 5 columns]"
            ]
          },
          "metadata": {
            "tags": []
          },
          "execution_count": 9
        }
      ]
    },
    {
      "cell_type": "code",
      "metadata": {
        "id": "rpTKrcgIhhS8"
      },
      "source": [
        "#the order of the rows has not changed (01234012), we should change it to 01234567"
      ],
      "execution_count": null,
      "outputs": []
    },
    {
      "cell_type": "markdown",
      "metadata": {
        "id": "lv4myEKXS6h6"
      },
      "source": [
        "### What is the problem above? "
      ]
    },
    {
      "cell_type": "code",
      "metadata": {
        "id": "aPkZTYWGS6h6"
      },
      "source": [
        "people4 = pd.concat([people1,people2], ignore_index=True)"
      ],
      "execution_count": null,
      "outputs": []
    },
    {
      "cell_type": "code",
      "metadata": {
        "id": "1TEx5aX3S6h9",
        "colab": {
          "base_uri": "https://localhost:8080/",
          "height": 288
        },
        "outputId": "7e3cdd4f-13db-4ebd-a2d5-3e92600387dc"
      },
      "source": [
        "people4"
      ],
      "execution_count": null,
      "outputs": [
        {
          "output_type": "execute_result",
          "data": {
            "text/html": [
              "<div>\n",
              "<style scoped>\n",
              "    .dataframe tbody tr th:only-of-type {\n",
              "        vertical-align: middle;\n",
              "    }\n",
              "\n",
              "    .dataframe tbody tr th {\n",
              "        vertical-align: top;\n",
              "    }\n",
              "\n",
              "    .dataframe thead th {\n",
              "        text-align: right;\n",
              "    }\n",
              "</style>\n",
              "<table border=\"1\" class=\"dataframe\">\n",
              "  <thead>\n",
              "    <tr style=\"text-align: right;\">\n",
              "      <th></th>\n",
              "      <th>units of alcohol drunk</th>\n",
              "      <th>cigarettes smoked</th>\n",
              "      <th>sleep per night</th>\n",
              "      <th>height</th>\n",
              "      <th>BMI</th>\n",
              "    </tr>\n",
              "  </thead>\n",
              "  <tbody>\n",
              "    <tr>\n",
              "      <th>0</th>\n",
              "      <td>6.183022</td>\n",
              "      <td>4.480387</td>\n",
              "      <td>3.115971</td>\n",
              "      <td>4.663814</td>\n",
              "      <td>5.549931</td>\n",
              "    </tr>\n",
              "    <tr>\n",
              "      <th>1</th>\n",
              "      <td>4.535720</td>\n",
              "      <td>4.874261</td>\n",
              "      <td>4.320175</td>\n",
              "      <td>4.874204</td>\n",
              "      <td>6.556892</td>\n",
              "    </tr>\n",
              "    <tr>\n",
              "      <th>2</th>\n",
              "      <td>3.852325</td>\n",
              "      <td>5.337462</td>\n",
              "      <td>6.323538</td>\n",
              "      <td>5.767058</td>\n",
              "      <td>4.002601</td>\n",
              "    </tr>\n",
              "    <tr>\n",
              "      <th>3</th>\n",
              "      <td>5.945702</td>\n",
              "      <td>4.965248</td>\n",
              "      <td>4.907585</td>\n",
              "      <td>5.891873</td>\n",
              "      <td>5.091918</td>\n",
              "    </tr>\n",
              "    <tr>\n",
              "      <th>4</th>\n",
              "      <td>6.621904</td>\n",
              "      <td>6.428981</td>\n",
              "      <td>4.329598</td>\n",
              "      <td>6.079622</td>\n",
              "      <td>5.183107</td>\n",
              "    </tr>\n",
              "    <tr>\n",
              "      <th>5</th>\n",
              "      <td>5.016409</td>\n",
              "      <td>7.192572</td>\n",
              "      <td>5.392844</td>\n",
              "      <td>4.873094</td>\n",
              "      <td>5.082974</td>\n",
              "    </tr>\n",
              "    <tr>\n",
              "      <th>6</th>\n",
              "      <td>3.795389</td>\n",
              "      <td>4.820455</td>\n",
              "      <td>3.756417</td>\n",
              "      <td>4.176218</td>\n",
              "      <td>3.994082</td>\n",
              "    </tr>\n",
              "    <tr>\n",
              "      <th>7</th>\n",
              "      <td>4.364441</td>\n",
              "      <td>6.329432</td>\n",
              "      <td>4.360180</td>\n",
              "      <td>5.149414</td>\n",
              "      <td>3.258517</td>\n",
              "    </tr>\n",
              "  </tbody>\n",
              "</table>\n",
              "</div>"
            ],
            "text/plain": [
              "   units of alcohol drunk  cigarettes smoked  ...    height       BMI\n",
              "0                6.183022           4.480387  ...  4.663814  5.549931\n",
              "1                4.535720           4.874261  ...  4.874204  6.556892\n",
              "2                3.852325           5.337462  ...  5.767058  4.002601\n",
              "3                5.945702           4.965248  ...  5.891873  5.091918\n",
              "4                6.621904           6.428981  ...  6.079622  5.183107\n",
              "5                5.016409           7.192572  ...  4.873094  5.082974\n",
              "6                3.795389           4.820455  ...  4.176218  3.994082\n",
              "7                4.364441           6.329432  ...  5.149414  3.258517\n",
              "\n",
              "[8 rows x 5 columns]"
            ]
          },
          "metadata": {
            "tags": []
          },
          "execution_count": 11
        }
      ]
    },
    {
      "cell_type": "markdown",
      "metadata": {
        "id": "caWsFFxQS6h_"
      },
      "source": [
        "`ignore_index` is very useful when we want a new DataFrame which only contains data from other DataFrames, but unrelated otherwise."
      ]
    },
    {
      "cell_type": "markdown",
      "metadata": {
        "id": "wTxlLjkOS6iA"
      },
      "source": [
        "## Data with a unique index: adding new observations\n",
        "\n",
        "Let's now examine data where the elements of study are not anonymous. Let's consider that we have some city data. If we have city names (or equivalent) in the index column, simply concatenating them would be fine, because the names would not repeat in the way the index has above."
      ]
    },
    {
      "cell_type": "code",
      "metadata": {
        "id": "tqM3BIJSS6iA"
      },
      "source": [
        "df1 = pd.DataFrame(5+np.random.randn(5, 5))\n",
        "df1.columns = ['area','population','mean temperature','elevation','annual rainfall']\n",
        "df1.index = ['London', 'Paris', 'Beijing', 'Medellin', 'Port Elizabeth']"
      ],
      "execution_count": null,
      "outputs": []
    },
    {
      "cell_type": "code",
      "metadata": {
        "id": "UCiCbYc2S6iC",
        "colab": {
          "base_uri": "https://localhost:8080/",
          "height": 198
        },
        "outputId": "bd30a838-0ea7-48fb-d122-b85f01c200a1"
      },
      "source": [
        "df1"
      ],
      "execution_count": null,
      "outputs": [
        {
          "output_type": "execute_result",
          "data": {
            "text/html": [
              "<div>\n",
              "<style scoped>\n",
              "    .dataframe tbody tr th:only-of-type {\n",
              "        vertical-align: middle;\n",
              "    }\n",
              "\n",
              "    .dataframe tbody tr th {\n",
              "        vertical-align: top;\n",
              "    }\n",
              "\n",
              "    .dataframe thead th {\n",
              "        text-align: right;\n",
              "    }\n",
              "</style>\n",
              "<table border=\"1\" class=\"dataframe\">\n",
              "  <thead>\n",
              "    <tr style=\"text-align: right;\">\n",
              "      <th></th>\n",
              "      <th>area</th>\n",
              "      <th>population</th>\n",
              "      <th>mean temperature</th>\n",
              "      <th>elevation</th>\n",
              "      <th>annual rainfall</th>\n",
              "    </tr>\n",
              "  </thead>\n",
              "  <tbody>\n",
              "    <tr>\n",
              "      <th>London</th>\n",
              "      <td>5.081492</td>\n",
              "      <td>3.869379</td>\n",
              "      <td>4.810437</td>\n",
              "      <td>4.307492</td>\n",
              "      <td>4.928773</td>\n",
              "    </tr>\n",
              "    <tr>\n",
              "      <th>Paris</th>\n",
              "      <td>4.232453</td>\n",
              "      <td>4.518210</td>\n",
              "      <td>4.193620</td>\n",
              "      <td>5.853597</td>\n",
              "      <td>3.727786</td>\n",
              "    </tr>\n",
              "    <tr>\n",
              "      <th>Beijing</th>\n",
              "      <td>4.620894</td>\n",
              "      <td>7.366381</td>\n",
              "      <td>4.571175</td>\n",
              "      <td>5.620898</td>\n",
              "      <td>3.739936</td>\n",
              "    </tr>\n",
              "    <tr>\n",
              "      <th>Medellin</th>\n",
              "      <td>3.925689</td>\n",
              "      <td>5.743874</td>\n",
              "      <td>3.890910</td>\n",
              "      <td>5.206349</td>\n",
              "      <td>7.043298</td>\n",
              "    </tr>\n",
              "    <tr>\n",
              "      <th>Port Elizabeth</th>\n",
              "      <td>3.583374</td>\n",
              "      <td>6.234216</td>\n",
              "      <td>4.438403</td>\n",
              "      <td>3.449198</td>\n",
              "      <td>4.679623</td>\n",
              "    </tr>\n",
              "  </tbody>\n",
              "</table>\n",
              "</div>"
            ],
            "text/plain": [
              "                    area  population  ...  elevation  annual rainfall\n",
              "London          5.081492    3.869379  ...   4.307492         4.928773\n",
              "Paris           4.232453    4.518210  ...   5.853597         3.727786\n",
              "Beijing         4.620894    7.366381  ...   5.620898         3.739936\n",
              "Medellin        3.925689    5.743874  ...   5.206349         7.043298\n",
              "Port Elizabeth  3.583374    6.234216  ...   3.449198         4.679623\n",
              "\n",
              "[5 rows x 5 columns]"
            ]
          },
          "metadata": {
            "tags": []
          },
          "execution_count": 14
        }
      ]
    },
    {
      "cell_type": "code",
      "metadata": {
        "id": "q2MivfZPS6iF"
      },
      "source": [
        "df2 = pd.DataFrame(5+np.random.randn(3, 5))\n",
        "df2.columns = ['area','population','mean temperature','elevation','annual rainfall']\n",
        "df2.index = ['Mumbai', 'Sydney', 'Boston']"
      ],
      "execution_count": null,
      "outputs": []
    },
    {
      "cell_type": "code",
      "metadata": {
        "id": "57DmpIiAS6iH",
        "colab": {
          "base_uri": "https://localhost:8080/",
          "height": 138
        },
        "outputId": "ad06e91f-bbbd-43e6-e7c0-a0e8fe927ec2"
      },
      "source": [
        "df2"
      ],
      "execution_count": null,
      "outputs": [
        {
          "output_type": "execute_result",
          "data": {
            "text/html": [
              "<div>\n",
              "<style scoped>\n",
              "    .dataframe tbody tr th:only-of-type {\n",
              "        vertical-align: middle;\n",
              "    }\n",
              "\n",
              "    .dataframe tbody tr th {\n",
              "        vertical-align: top;\n",
              "    }\n",
              "\n",
              "    .dataframe thead th {\n",
              "        text-align: right;\n",
              "    }\n",
              "</style>\n",
              "<table border=\"1\" class=\"dataframe\">\n",
              "  <thead>\n",
              "    <tr style=\"text-align: right;\">\n",
              "      <th></th>\n",
              "      <th>area</th>\n",
              "      <th>population</th>\n",
              "      <th>mean temperature</th>\n",
              "      <th>elevation</th>\n",
              "      <th>annual rainfall</th>\n",
              "    </tr>\n",
              "  </thead>\n",
              "  <tbody>\n",
              "    <tr>\n",
              "      <th>Mumbai</th>\n",
              "      <td>5.417786</td>\n",
              "      <td>4.811620</td>\n",
              "      <td>5.317506</td>\n",
              "      <td>6.236080</td>\n",
              "      <td>3.837114</td>\n",
              "    </tr>\n",
              "    <tr>\n",
              "      <th>Sydney</th>\n",
              "      <td>6.112041</td>\n",
              "      <td>5.481264</td>\n",
              "      <td>5.430748</td>\n",
              "      <td>6.519763</td>\n",
              "      <td>5.707748</td>\n",
              "    </tr>\n",
              "    <tr>\n",
              "      <th>Boston</th>\n",
              "      <td>7.196107</td>\n",
              "      <td>5.276257</td>\n",
              "      <td>3.551131</td>\n",
              "      <td>4.072748</td>\n",
              "      <td>5.102861</td>\n",
              "    </tr>\n",
              "  </tbody>\n",
              "</table>\n",
              "</div>"
            ],
            "text/plain": [
              "            area  population  mean temperature  elevation  annual rainfall\n",
              "Mumbai  5.417786    4.811620          5.317506   6.236080         3.837114\n",
              "Sydney  6.112041    5.481264          5.430748   6.519763         5.707748\n",
              "Boston  7.196107    5.276257          3.551131   4.072748         5.102861"
            ]
          },
          "metadata": {
            "tags": []
          },
          "execution_count": 15
        }
      ]
    },
    {
      "cell_type": "code",
      "metadata": {
        "id": "3kxmpWRDS6iK"
      },
      "source": [
        "df3 = pd.concat([df1,df2])"
      ],
      "execution_count": null,
      "outputs": []
    },
    {
      "cell_type": "code",
      "metadata": {
        "id": "5qSJVJEdS6iM",
        "colab": {
          "base_uri": "https://localhost:8080/",
          "height": 288
        },
        "outputId": "6a466a18-7afb-4867-b63e-5d8f5f20be41"
      },
      "source": [
        "df3"
      ],
      "execution_count": null,
      "outputs": [
        {
          "output_type": "execute_result",
          "data": {
            "text/html": [
              "<div>\n",
              "<style scoped>\n",
              "    .dataframe tbody tr th:only-of-type {\n",
              "        vertical-align: middle;\n",
              "    }\n",
              "\n",
              "    .dataframe tbody tr th {\n",
              "        vertical-align: top;\n",
              "    }\n",
              "\n",
              "    .dataframe thead th {\n",
              "        text-align: right;\n",
              "    }\n",
              "</style>\n",
              "<table border=\"1\" class=\"dataframe\">\n",
              "  <thead>\n",
              "    <tr style=\"text-align: right;\">\n",
              "      <th></th>\n",
              "      <th>area</th>\n",
              "      <th>population</th>\n",
              "      <th>mean temperature</th>\n",
              "      <th>elevation</th>\n",
              "      <th>annual rainfall</th>\n",
              "    </tr>\n",
              "  </thead>\n",
              "  <tbody>\n",
              "    <tr>\n",
              "      <th>London</th>\n",
              "      <td>5.081492</td>\n",
              "      <td>3.869379</td>\n",
              "      <td>4.810437</td>\n",
              "      <td>4.307492</td>\n",
              "      <td>4.928773</td>\n",
              "    </tr>\n",
              "    <tr>\n",
              "      <th>Paris</th>\n",
              "      <td>4.232453</td>\n",
              "      <td>4.518210</td>\n",
              "      <td>4.193620</td>\n",
              "      <td>5.853597</td>\n",
              "      <td>3.727786</td>\n",
              "    </tr>\n",
              "    <tr>\n",
              "      <th>Beijing</th>\n",
              "      <td>4.620894</td>\n",
              "      <td>7.366381</td>\n",
              "      <td>4.571175</td>\n",
              "      <td>5.620898</td>\n",
              "      <td>3.739936</td>\n",
              "    </tr>\n",
              "    <tr>\n",
              "      <th>Medellin</th>\n",
              "      <td>3.925689</td>\n",
              "      <td>5.743874</td>\n",
              "      <td>3.890910</td>\n",
              "      <td>5.206349</td>\n",
              "      <td>7.043298</td>\n",
              "    </tr>\n",
              "    <tr>\n",
              "      <th>Port Elizabeth</th>\n",
              "      <td>3.583374</td>\n",
              "      <td>6.234216</td>\n",
              "      <td>4.438403</td>\n",
              "      <td>3.449198</td>\n",
              "      <td>4.679623</td>\n",
              "    </tr>\n",
              "    <tr>\n",
              "      <th>Mumbai</th>\n",
              "      <td>5.417786</td>\n",
              "      <td>4.811620</td>\n",
              "      <td>5.317506</td>\n",
              "      <td>6.236080</td>\n",
              "      <td>3.837114</td>\n",
              "    </tr>\n",
              "    <tr>\n",
              "      <th>Sydney</th>\n",
              "      <td>6.112041</td>\n",
              "      <td>5.481264</td>\n",
              "      <td>5.430748</td>\n",
              "      <td>6.519763</td>\n",
              "      <td>5.707748</td>\n",
              "    </tr>\n",
              "    <tr>\n",
              "      <th>Boston</th>\n",
              "      <td>7.196107</td>\n",
              "      <td>5.276257</td>\n",
              "      <td>3.551131</td>\n",
              "      <td>4.072748</td>\n",
              "      <td>5.102861</td>\n",
              "    </tr>\n",
              "  </tbody>\n",
              "</table>\n",
              "</div>"
            ],
            "text/plain": [
              "                    area  population  ...  elevation  annual rainfall\n",
              "London          5.081492    3.869379  ...   4.307492         4.928773\n",
              "Paris           4.232453    4.518210  ...   5.853597         3.727786\n",
              "Beijing         4.620894    7.366381  ...   5.620898         3.739936\n",
              "Medellin        3.925689    5.743874  ...   5.206349         7.043298\n",
              "Port Elizabeth  3.583374    6.234216  ...   3.449198         4.679623\n",
              "Mumbai          5.417786    4.811620  ...   6.236080         3.837114\n",
              "Sydney          6.112041    5.481264  ...   6.519763         5.707748\n",
              "Boston          7.196107    5.276257  ...   4.072748         5.102861\n",
              "\n",
              "[8 rows x 5 columns]"
            ]
          },
          "metadata": {
            "tags": []
          },
          "execution_count": 17
        }
      ]
    },
    {
      "cell_type": "markdown",
      "metadata": {
        "id": "K1VdYJJ1S6iO"
      },
      "source": [
        "## Exercise: Concat continued\n",
        "\n",
        "Repeat the above for fictitious values for New York, Tokyo, Manila and Budapest - concatenate into a new dataframe \"df\"."
      ]
    },
    {
      "cell_type": "code",
      "metadata": {
        "id": "Pwnrh2AknrmH"
      },
      "source": [
        "df4 = pd.DataFrame(5+np.random.randn(4, 5))\n",
        "df4.columns = ['area','population','mean temperature','elevation','annual rainfall']\n",
        "df4.index = ['New York','Tokyo','Manila','Budapest']\n"
      ],
      "execution_count": null,
      "outputs": []
    },
    {
      "cell_type": "code",
      "metadata": {
        "id": "b5qRkLd3omVx",
        "colab": {
          "base_uri": "https://localhost:8080/",
          "height": 168
        },
        "outputId": "d6acbec8-4009-40ab-ebe9-deb59b623cdc"
      },
      "source": [
        "df4"
      ],
      "execution_count": null,
      "outputs": [
        {
          "output_type": "execute_result",
          "data": {
            "text/html": [
              "<div>\n",
              "<style scoped>\n",
              "    .dataframe tbody tr th:only-of-type {\n",
              "        vertical-align: middle;\n",
              "    }\n",
              "\n",
              "    .dataframe tbody tr th {\n",
              "        vertical-align: top;\n",
              "    }\n",
              "\n",
              "    .dataframe thead th {\n",
              "        text-align: right;\n",
              "    }\n",
              "</style>\n",
              "<table border=\"1\" class=\"dataframe\">\n",
              "  <thead>\n",
              "    <tr style=\"text-align: right;\">\n",
              "      <th></th>\n",
              "      <th>area</th>\n",
              "      <th>population</th>\n",
              "      <th>mean temperature</th>\n",
              "      <th>elevation</th>\n",
              "      <th>annual rainfall</th>\n",
              "    </tr>\n",
              "  </thead>\n",
              "  <tbody>\n",
              "    <tr>\n",
              "      <th>New York</th>\n",
              "      <td>6.025148</td>\n",
              "      <td>4.636446</td>\n",
              "      <td>4.935134</td>\n",
              "      <td>5.397630</td>\n",
              "      <td>4.693377</td>\n",
              "    </tr>\n",
              "    <tr>\n",
              "      <th>Tokyo</th>\n",
              "      <td>5.918232</td>\n",
              "      <td>6.239463</td>\n",
              "      <td>4.282085</td>\n",
              "      <td>4.478709</td>\n",
              "      <td>4.569858</td>\n",
              "    </tr>\n",
              "    <tr>\n",
              "      <th>Manila</th>\n",
              "      <td>4.224388</td>\n",
              "      <td>5.519968</td>\n",
              "      <td>5.215917</td>\n",
              "      <td>2.903339</td>\n",
              "      <td>4.841967</td>\n",
              "    </tr>\n",
              "    <tr>\n",
              "      <th>Budapest</th>\n",
              "      <td>5.310977</td>\n",
              "      <td>5.700712</td>\n",
              "      <td>7.256319</td>\n",
              "      <td>6.357586</td>\n",
              "      <td>5.361159</td>\n",
              "    </tr>\n",
              "  </tbody>\n",
              "</table>\n",
              "</div>"
            ],
            "text/plain": [
              "              area  population  mean temperature  elevation  annual rainfall\n",
              "New York  6.025148    4.636446          4.935134   5.397630         4.693377\n",
              "Tokyo     5.918232    6.239463          4.282085   4.478709         4.569858\n",
              "Manila    4.224388    5.519968          5.215917   2.903339         4.841967\n",
              "Budapest  5.310977    5.700712          7.256319   6.357586         5.361159"
            ]
          },
          "metadata": {
            "tags": []
          },
          "execution_count": 19
        }
      ]
    },
    {
      "cell_type": "code",
      "metadata": {
        "id": "jpPBnOvKoTCh"
      },
      "source": [
        "df = pd.concat([df3,df4])"
      ],
      "execution_count": null,
      "outputs": []
    },
    {
      "cell_type": "code",
      "metadata": {
        "id": "SWyECMxAopVB",
        "colab": {
          "base_uri": "https://localhost:8080/",
          "height": 408
        },
        "outputId": "2bde4e43-e75d-4906-e4b6-855a5f3debc5"
      },
      "source": [
        "df"
      ],
      "execution_count": null,
      "outputs": [
        {
          "output_type": "execute_result",
          "data": {
            "text/html": [
              "<div>\n",
              "<style scoped>\n",
              "    .dataframe tbody tr th:only-of-type {\n",
              "        vertical-align: middle;\n",
              "    }\n",
              "\n",
              "    .dataframe tbody tr th {\n",
              "        vertical-align: top;\n",
              "    }\n",
              "\n",
              "    .dataframe thead th {\n",
              "        text-align: right;\n",
              "    }\n",
              "</style>\n",
              "<table border=\"1\" class=\"dataframe\">\n",
              "  <thead>\n",
              "    <tr style=\"text-align: right;\">\n",
              "      <th></th>\n",
              "      <th>area</th>\n",
              "      <th>population</th>\n",
              "      <th>mean temperature</th>\n",
              "      <th>elevation</th>\n",
              "      <th>annual rainfall</th>\n",
              "    </tr>\n",
              "  </thead>\n",
              "  <tbody>\n",
              "    <tr>\n",
              "      <th>London</th>\n",
              "      <td>5.081492</td>\n",
              "      <td>3.869379</td>\n",
              "      <td>4.810437</td>\n",
              "      <td>4.307492</td>\n",
              "      <td>4.928773</td>\n",
              "    </tr>\n",
              "    <tr>\n",
              "      <th>Paris</th>\n",
              "      <td>4.232453</td>\n",
              "      <td>4.518210</td>\n",
              "      <td>4.193620</td>\n",
              "      <td>5.853597</td>\n",
              "      <td>3.727786</td>\n",
              "    </tr>\n",
              "    <tr>\n",
              "      <th>Beijing</th>\n",
              "      <td>4.620894</td>\n",
              "      <td>7.366381</td>\n",
              "      <td>4.571175</td>\n",
              "      <td>5.620898</td>\n",
              "      <td>3.739936</td>\n",
              "    </tr>\n",
              "    <tr>\n",
              "      <th>Medellin</th>\n",
              "      <td>3.925689</td>\n",
              "      <td>5.743874</td>\n",
              "      <td>3.890910</td>\n",
              "      <td>5.206349</td>\n",
              "      <td>7.043298</td>\n",
              "    </tr>\n",
              "    <tr>\n",
              "      <th>Port Elizabeth</th>\n",
              "      <td>3.583374</td>\n",
              "      <td>6.234216</td>\n",
              "      <td>4.438403</td>\n",
              "      <td>3.449198</td>\n",
              "      <td>4.679623</td>\n",
              "    </tr>\n",
              "    <tr>\n",
              "      <th>Mumbai</th>\n",
              "      <td>5.417786</td>\n",
              "      <td>4.811620</td>\n",
              "      <td>5.317506</td>\n",
              "      <td>6.236080</td>\n",
              "      <td>3.837114</td>\n",
              "    </tr>\n",
              "    <tr>\n",
              "      <th>Sydney</th>\n",
              "      <td>6.112041</td>\n",
              "      <td>5.481264</td>\n",
              "      <td>5.430748</td>\n",
              "      <td>6.519763</td>\n",
              "      <td>5.707748</td>\n",
              "    </tr>\n",
              "    <tr>\n",
              "      <th>Boston</th>\n",
              "      <td>7.196107</td>\n",
              "      <td>5.276257</td>\n",
              "      <td>3.551131</td>\n",
              "      <td>4.072748</td>\n",
              "      <td>5.102861</td>\n",
              "    </tr>\n",
              "    <tr>\n",
              "      <th>New York</th>\n",
              "      <td>6.025148</td>\n",
              "      <td>4.636446</td>\n",
              "      <td>4.935134</td>\n",
              "      <td>5.397630</td>\n",
              "      <td>4.693377</td>\n",
              "    </tr>\n",
              "    <tr>\n",
              "      <th>Tokyo</th>\n",
              "      <td>5.918232</td>\n",
              "      <td>6.239463</td>\n",
              "      <td>4.282085</td>\n",
              "      <td>4.478709</td>\n",
              "      <td>4.569858</td>\n",
              "    </tr>\n",
              "    <tr>\n",
              "      <th>Manila</th>\n",
              "      <td>4.224388</td>\n",
              "      <td>5.519968</td>\n",
              "      <td>5.215917</td>\n",
              "      <td>2.903339</td>\n",
              "      <td>4.841967</td>\n",
              "    </tr>\n",
              "    <tr>\n",
              "      <th>Budapest</th>\n",
              "      <td>5.310977</td>\n",
              "      <td>5.700712</td>\n",
              "      <td>7.256319</td>\n",
              "      <td>6.357586</td>\n",
              "      <td>5.361159</td>\n",
              "    </tr>\n",
              "  </tbody>\n",
              "</table>\n",
              "</div>"
            ],
            "text/plain": [
              "                    area  population  ...  elevation  annual rainfall\n",
              "London          5.081492    3.869379  ...   4.307492         4.928773\n",
              "Paris           4.232453    4.518210  ...   5.853597         3.727786\n",
              "Beijing         4.620894    7.366381  ...   5.620898         3.739936\n",
              "Medellin        3.925689    5.743874  ...   5.206349         7.043298\n",
              "Port Elizabeth  3.583374    6.234216  ...   3.449198         4.679623\n",
              "Mumbai          5.417786    4.811620  ...   6.236080         3.837114\n",
              "Sydney          6.112041    5.481264  ...   6.519763         5.707748\n",
              "Boston          7.196107    5.276257  ...   4.072748         5.102861\n",
              "New York        6.025148    4.636446  ...   5.397630         4.693377\n",
              "Tokyo           5.918232    6.239463  ...   4.478709         4.569858\n",
              "Manila          4.224388    5.519968  ...   2.903339         4.841967\n",
              "Budapest        5.310977    5.700712  ...   6.357586         5.361159\n",
              "\n",
              "[12 rows x 5 columns]"
            ]
          },
          "metadata": {
            "tags": []
          },
          "execution_count": 21
        }
      ]
    },
    {
      "cell_type": "markdown",
      "metadata": {
        "id": "_V4E81NFS6iO"
      },
      "source": [
        "## Combining on Attributes\n",
        "\n",
        "What if we're looking at the same locations but different attributes? Consider the same df1"
      ]
    },
    {
      "cell_type": "code",
      "metadata": {
        "id": "RY6pB5VNS6iO"
      },
      "source": [
        "df1 = pd.DataFrame(5+np.random.randn(5, 5))\n",
        "df1.columns = ['area','population','mean temperature','elevation','annual rainfall']\n",
        "df1.index = ['London', 'Paris', 'Beijing', 'Medellin', 'Port Elizabeth']"
      ],
      "execution_count": null,
      "outputs": []
    },
    {
      "cell_type": "code",
      "metadata": {
        "id": "RUhGQIVKS6iQ",
        "colab": {
          "base_uri": "https://localhost:8080/",
          "height": 198
        },
        "outputId": "f76226f7-1795-4fad-ae0d-a9ede154697b"
      },
      "source": [
        "df1"
      ],
      "execution_count": null,
      "outputs": [
        {
          "output_type": "execute_result",
          "data": {
            "text/html": [
              "<div>\n",
              "<style scoped>\n",
              "    .dataframe tbody tr th:only-of-type {\n",
              "        vertical-align: middle;\n",
              "    }\n",
              "\n",
              "    .dataframe tbody tr th {\n",
              "        vertical-align: top;\n",
              "    }\n",
              "\n",
              "    .dataframe thead th {\n",
              "        text-align: right;\n",
              "    }\n",
              "</style>\n",
              "<table border=\"1\" class=\"dataframe\">\n",
              "  <thead>\n",
              "    <tr style=\"text-align: right;\">\n",
              "      <th></th>\n",
              "      <th>area</th>\n",
              "      <th>population</th>\n",
              "      <th>mean temperature</th>\n",
              "      <th>elevation</th>\n",
              "      <th>annual rainfall</th>\n",
              "    </tr>\n",
              "  </thead>\n",
              "  <tbody>\n",
              "    <tr>\n",
              "      <th>London</th>\n",
              "      <td>4.921212</td>\n",
              "      <td>4.886539</td>\n",
              "      <td>6.790767</td>\n",
              "      <td>5.307661</td>\n",
              "      <td>5.371962</td>\n",
              "    </tr>\n",
              "    <tr>\n",
              "      <th>Paris</th>\n",
              "      <td>6.801604</td>\n",
              "      <td>4.763728</td>\n",
              "      <td>6.007510</td>\n",
              "      <td>4.315748</td>\n",
              "      <td>4.723309</td>\n",
              "    </tr>\n",
              "    <tr>\n",
              "      <th>Beijing</th>\n",
              "      <td>5.989856</td>\n",
              "      <td>4.419240</td>\n",
              "      <td>6.143849</td>\n",
              "      <td>5.637794</td>\n",
              "      <td>4.990644</td>\n",
              "    </tr>\n",
              "    <tr>\n",
              "      <th>Medellin</th>\n",
              "      <td>4.234630</td>\n",
              "      <td>2.982896</td>\n",
              "      <td>6.574984</td>\n",
              "      <td>4.431264</td>\n",
              "      <td>4.361568</td>\n",
              "    </tr>\n",
              "    <tr>\n",
              "      <th>Port Elizabeth</th>\n",
              "      <td>5.182834</td>\n",
              "      <td>5.557705</td>\n",
              "      <td>4.464518</td>\n",
              "      <td>6.937718</td>\n",
              "      <td>5.736605</td>\n",
              "    </tr>\n",
              "  </tbody>\n",
              "</table>\n",
              "</div>"
            ],
            "text/plain": [
              "                    area  population  ...  elevation  annual rainfall\n",
              "London          4.921212    4.886539  ...   5.307661         5.371962\n",
              "Paris           6.801604    4.763728  ...   4.315748         4.723309\n",
              "Beijing         5.989856    4.419240  ...   5.637794         4.990644\n",
              "Medellin        4.234630    2.982896  ...   4.431264         4.361568\n",
              "Port Elizabeth  5.182834    5.557705  ...   6.937718         5.736605\n",
              "\n",
              "[5 rows x 5 columns]"
            ]
          },
          "metadata": {
            "tags": []
          },
          "execution_count": 23
        }
      ]
    },
    {
      "cell_type": "markdown",
      "metadata": {
        "id": "mIL7nRfIS6iS"
      },
      "source": [
        "But a new dataframe df4, which details the same locations, but has different information about them:"
      ]
    },
    {
      "cell_type": "code",
      "metadata": {
        "id": "Iegqp8xGS6iS"
      },
      "source": [
        "df4 = pd.DataFrame(5+np.random.randn(5, 3))\n",
        "df4.columns = ['Mean House Price', 'median income','walkability score']\n",
        "df4.index = ['London', 'Paris', 'Beijing', 'Medellin', 'Port Elizabeth']"
      ],
      "execution_count": null,
      "outputs": []
    },
    {
      "cell_type": "code",
      "metadata": {
        "id": "rbAmWwAQS6iV",
        "colab": {
          "base_uri": "https://localhost:8080/",
          "height": 198
        },
        "outputId": "50e62887-38c0-497f-82b2-792730b34c6c"
      },
      "source": [
        "df4"
      ],
      "execution_count": null,
      "outputs": [
        {
          "output_type": "execute_result",
          "data": {
            "text/html": [
              "<div>\n",
              "<style scoped>\n",
              "    .dataframe tbody tr th:only-of-type {\n",
              "        vertical-align: middle;\n",
              "    }\n",
              "\n",
              "    .dataframe tbody tr th {\n",
              "        vertical-align: top;\n",
              "    }\n",
              "\n",
              "    .dataframe thead th {\n",
              "        text-align: right;\n",
              "    }\n",
              "</style>\n",
              "<table border=\"1\" class=\"dataframe\">\n",
              "  <thead>\n",
              "    <tr style=\"text-align: right;\">\n",
              "      <th></th>\n",
              "      <th>Mean House Price</th>\n",
              "      <th>median income</th>\n",
              "      <th>walkability score</th>\n",
              "    </tr>\n",
              "  </thead>\n",
              "  <tbody>\n",
              "    <tr>\n",
              "      <th>London</th>\n",
              "      <td>6.873187</td>\n",
              "      <td>4.499129</td>\n",
              "      <td>4.435177</td>\n",
              "    </tr>\n",
              "    <tr>\n",
              "      <th>Paris</th>\n",
              "      <td>5.186951</td>\n",
              "      <td>5.174756</td>\n",
              "      <td>7.056945</td>\n",
              "    </tr>\n",
              "    <tr>\n",
              "      <th>Beijing</th>\n",
              "      <td>5.333158</td>\n",
              "      <td>6.421765</td>\n",
              "      <td>4.550147</td>\n",
              "    </tr>\n",
              "    <tr>\n",
              "      <th>Medellin</th>\n",
              "      <td>4.012066</td>\n",
              "      <td>4.607717</td>\n",
              "      <td>6.430687</td>\n",
              "    </tr>\n",
              "    <tr>\n",
              "      <th>Port Elizabeth</th>\n",
              "      <td>5.380920</td>\n",
              "      <td>6.256150</td>\n",
              "      <td>4.510459</td>\n",
              "    </tr>\n",
              "  </tbody>\n",
              "</table>\n",
              "</div>"
            ],
            "text/plain": [
              "                Mean House Price  median income  walkability score\n",
              "London                  6.873187       4.499129           4.435177\n",
              "Paris                   5.186951       5.174756           7.056945\n",
              "Beijing                 5.333158       6.421765           4.550147\n",
              "Medellin                4.012066       4.607717           6.430687\n",
              "Port Elizabeth          5.380920       6.256150           4.510459"
            ]
          },
          "metadata": {
            "tags": []
          },
          "execution_count": 25
        }
      ]
    },
    {
      "cell_type": "markdown",
      "metadata": {
        "id": "0qqCGLRNS6iX"
      },
      "source": [
        "We have to join \"on\" the index - meaning when merging the records, python will look at the index column."
      ]
    },
    {
      "cell_type": "code",
      "metadata": {
        "id": "WYmpWEtDS6iY"
      },
      "source": [
        "df_joined = df1.merge(df4, left_index=True, right_index=True)"
      ],
      "execution_count": null,
      "outputs": []
    },
    {
      "cell_type": "code",
      "metadata": {
        "id": "vza_xrYaS6ic",
        "colab": {
          "base_uri": "https://localhost:8080/",
          "height": 198
        },
        "outputId": "d2177def-6fa4-4c6e-b0cb-108310b3536e"
      },
      "source": [
        "df_joined"
      ],
      "execution_count": null,
      "outputs": [
        {
          "output_type": "execute_result",
          "data": {
            "text/html": [
              "<div>\n",
              "<style scoped>\n",
              "    .dataframe tbody tr th:only-of-type {\n",
              "        vertical-align: middle;\n",
              "    }\n",
              "\n",
              "    .dataframe tbody tr th {\n",
              "        vertical-align: top;\n",
              "    }\n",
              "\n",
              "    .dataframe thead th {\n",
              "        text-align: right;\n",
              "    }\n",
              "</style>\n",
              "<table border=\"1\" class=\"dataframe\">\n",
              "  <thead>\n",
              "    <tr style=\"text-align: right;\">\n",
              "      <th></th>\n",
              "      <th>area</th>\n",
              "      <th>population</th>\n",
              "      <th>mean temperature</th>\n",
              "      <th>elevation</th>\n",
              "      <th>annual rainfall</th>\n",
              "      <th>Mean House Price</th>\n",
              "      <th>median income</th>\n",
              "      <th>walkability score</th>\n",
              "    </tr>\n",
              "  </thead>\n",
              "  <tbody>\n",
              "    <tr>\n",
              "      <th>London</th>\n",
              "      <td>4.921212</td>\n",
              "      <td>4.886539</td>\n",
              "      <td>6.790767</td>\n",
              "      <td>5.307661</td>\n",
              "      <td>5.371962</td>\n",
              "      <td>6.873187</td>\n",
              "      <td>4.499129</td>\n",
              "      <td>4.435177</td>\n",
              "    </tr>\n",
              "    <tr>\n",
              "      <th>Paris</th>\n",
              "      <td>6.801604</td>\n",
              "      <td>4.763728</td>\n",
              "      <td>6.007510</td>\n",
              "      <td>4.315748</td>\n",
              "      <td>4.723309</td>\n",
              "      <td>5.186951</td>\n",
              "      <td>5.174756</td>\n",
              "      <td>7.056945</td>\n",
              "    </tr>\n",
              "    <tr>\n",
              "      <th>Beijing</th>\n",
              "      <td>5.989856</td>\n",
              "      <td>4.419240</td>\n",
              "      <td>6.143849</td>\n",
              "      <td>5.637794</td>\n",
              "      <td>4.990644</td>\n",
              "      <td>5.333158</td>\n",
              "      <td>6.421765</td>\n",
              "      <td>4.550147</td>\n",
              "    </tr>\n",
              "    <tr>\n",
              "      <th>Medellin</th>\n",
              "      <td>4.234630</td>\n",
              "      <td>2.982896</td>\n",
              "      <td>6.574984</td>\n",
              "      <td>4.431264</td>\n",
              "      <td>4.361568</td>\n",
              "      <td>4.012066</td>\n",
              "      <td>4.607717</td>\n",
              "      <td>6.430687</td>\n",
              "    </tr>\n",
              "    <tr>\n",
              "      <th>Port Elizabeth</th>\n",
              "      <td>5.182834</td>\n",
              "      <td>5.557705</td>\n",
              "      <td>4.464518</td>\n",
              "      <td>6.937718</td>\n",
              "      <td>5.736605</td>\n",
              "      <td>5.380920</td>\n",
              "      <td>6.256150</td>\n",
              "      <td>4.510459</td>\n",
              "    </tr>\n",
              "  </tbody>\n",
              "</table>\n",
              "</div>"
            ],
            "text/plain": [
              "                    area  population  ...  median income  walkability score\n",
              "London          4.921212    4.886539  ...       4.499129           4.435177\n",
              "Paris           6.801604    4.763728  ...       5.174756           7.056945\n",
              "Beijing         5.989856    4.419240  ...       6.421765           4.550147\n",
              "Medellin        4.234630    2.982896  ...       4.607717           6.430687\n",
              "Port Elizabeth  5.182834    5.557705  ...       6.256150           4.510459\n",
              "\n",
              "[5 rows x 8 columns]"
            ]
          },
          "metadata": {
            "tags": []
          },
          "execution_count": 27
        }
      ]
    },
    {
      "cell_type": "markdown",
      "metadata": {
        "id": "EooLXZTQS6ie"
      },
      "source": [
        "Note that this joins on the *index*, not the row number - so if the order of elements in df4 is different, it should still work."
      ]
    },
    {
      "cell_type": "code",
      "metadata": {
        "id": "n_91cClkS6ie"
      },
      "source": [
        "df4 = pd.DataFrame(np.random.randn(5, 3))\n",
        "df4.columns = ['Mean House Price', 'median income','walkability score']\n",
        "df4.index = ['Paris','Port Elizabeth', 'Beijing', 'Medellin', 'London']"
      ],
      "execution_count": null,
      "outputs": []
    },
    {
      "cell_type": "code",
      "metadata": {
        "id": "w2x9D_uqS6ik"
      },
      "source": [
        "df_joined1 = df1.merge(df4, left_index=True, right_index=True)"
      ],
      "execution_count": null,
      "outputs": []
    },
    {
      "cell_type": "code",
      "metadata": {
        "id": "id3wkaJ-S6im",
        "colab": {
          "base_uri": "https://localhost:8080/",
          "height": 198
        },
        "outputId": "876aef81-3178-4ee4-d72d-3788a71a2d5b"
      },
      "source": [
        "df_joined1"
      ],
      "execution_count": null,
      "outputs": [
        {
          "output_type": "execute_result",
          "data": {
            "text/html": [
              "<div>\n",
              "<style scoped>\n",
              "    .dataframe tbody tr th:only-of-type {\n",
              "        vertical-align: middle;\n",
              "    }\n",
              "\n",
              "    .dataframe tbody tr th {\n",
              "        vertical-align: top;\n",
              "    }\n",
              "\n",
              "    .dataframe thead th {\n",
              "        text-align: right;\n",
              "    }\n",
              "</style>\n",
              "<table border=\"1\" class=\"dataframe\">\n",
              "  <thead>\n",
              "    <tr style=\"text-align: right;\">\n",
              "      <th></th>\n",
              "      <th>area</th>\n",
              "      <th>population</th>\n",
              "      <th>mean temperature</th>\n",
              "      <th>elevation</th>\n",
              "      <th>annual rainfall</th>\n",
              "      <th>Mean House Price</th>\n",
              "      <th>median income</th>\n",
              "      <th>walkability score</th>\n",
              "    </tr>\n",
              "  </thead>\n",
              "  <tbody>\n",
              "    <tr>\n",
              "      <th>London</th>\n",
              "      <td>4.921212</td>\n",
              "      <td>4.886539</td>\n",
              "      <td>6.790767</td>\n",
              "      <td>5.307661</td>\n",
              "      <td>5.371962</td>\n",
              "      <td>0.423411</td>\n",
              "      <td>0.569978</td>\n",
              "      <td>0.013914</td>\n",
              "    </tr>\n",
              "    <tr>\n",
              "      <th>Paris</th>\n",
              "      <td>6.801604</td>\n",
              "      <td>4.763728</td>\n",
              "      <td>6.007510</td>\n",
              "      <td>4.315748</td>\n",
              "      <td>4.723309</td>\n",
              "      <td>-0.270382</td>\n",
              "      <td>-0.289940</td>\n",
              "      <td>0.412300</td>\n",
              "    </tr>\n",
              "    <tr>\n",
              "      <th>Beijing</th>\n",
              "      <td>5.989856</td>\n",
              "      <td>4.419240</td>\n",
              "      <td>6.143849</td>\n",
              "      <td>5.637794</td>\n",
              "      <td>4.990644</td>\n",
              "      <td>-0.412598</td>\n",
              "      <td>-0.116371</td>\n",
              "      <td>-1.159064</td>\n",
              "    </tr>\n",
              "    <tr>\n",
              "      <th>Medellin</th>\n",
              "      <td>4.234630</td>\n",
              "      <td>2.982896</td>\n",
              "      <td>6.574984</td>\n",
              "      <td>4.431264</td>\n",
              "      <td>4.361568</td>\n",
              "      <td>-0.913010</td>\n",
              "      <td>1.131801</td>\n",
              "      <td>-2.163663</td>\n",
              "    </tr>\n",
              "    <tr>\n",
              "      <th>Port Elizabeth</th>\n",
              "      <td>5.182834</td>\n",
              "      <td>5.557705</td>\n",
              "      <td>4.464518</td>\n",
              "      <td>6.937718</td>\n",
              "      <td>5.736605</td>\n",
              "      <td>-0.146901</td>\n",
              "      <td>0.393836</td>\n",
              "      <td>-0.971449</td>\n",
              "    </tr>\n",
              "  </tbody>\n",
              "</table>\n",
              "</div>"
            ],
            "text/plain": [
              "                    area  population  ...  median income  walkability score\n",
              "London          4.921212    4.886539  ...       0.569978           0.013914\n",
              "Paris           6.801604    4.763728  ...      -0.289940           0.412300\n",
              "Beijing         5.989856    4.419240  ...      -0.116371          -1.159064\n",
              "Medellin        4.234630    2.982896  ...       1.131801          -2.163663\n",
              "Port Elizabeth  5.182834    5.557705  ...       0.393836          -0.971449\n",
              "\n",
              "[5 rows x 8 columns]"
            ]
          },
          "metadata": {
            "tags": []
          },
          "execution_count": 34
        }
      ]
    },
    {
      "cell_type": "markdown",
      "metadata": {
        "id": "3K9QAAtIS6io"
      },
      "source": [
        "## Merge Records\n",
        "Consider now a case where we have data for some but not all cities; so df1 stil has data for these 5 cities:"
      ]
    },
    {
      "cell_type": "code",
      "metadata": {
        "id": "3wuan3iVS6ip",
        "colab": {
          "base_uri": "https://localhost:8080/",
          "height": 198
        },
        "outputId": "7ac0d169-cb22-4538-8c9f-ad4c6b5777dd"
      },
      "source": [
        "df1"
      ],
      "execution_count": null,
      "outputs": [
        {
          "output_type": "execute_result",
          "data": {
            "text/html": [
              "<div>\n",
              "<style scoped>\n",
              "    .dataframe tbody tr th:only-of-type {\n",
              "        vertical-align: middle;\n",
              "    }\n",
              "\n",
              "    .dataframe tbody tr th {\n",
              "        vertical-align: top;\n",
              "    }\n",
              "\n",
              "    .dataframe thead th {\n",
              "        text-align: right;\n",
              "    }\n",
              "</style>\n",
              "<table border=\"1\" class=\"dataframe\">\n",
              "  <thead>\n",
              "    <tr style=\"text-align: right;\">\n",
              "      <th></th>\n",
              "      <th>area</th>\n",
              "      <th>population</th>\n",
              "      <th>mean temperature</th>\n",
              "      <th>elevation</th>\n",
              "      <th>annual rainfall</th>\n",
              "    </tr>\n",
              "  </thead>\n",
              "  <tbody>\n",
              "    <tr>\n",
              "      <th>London</th>\n",
              "      <td>4.921212</td>\n",
              "      <td>4.886539</td>\n",
              "      <td>6.790767</td>\n",
              "      <td>5.307661</td>\n",
              "      <td>5.371962</td>\n",
              "    </tr>\n",
              "    <tr>\n",
              "      <th>Paris</th>\n",
              "      <td>6.801604</td>\n",
              "      <td>4.763728</td>\n",
              "      <td>6.007510</td>\n",
              "      <td>4.315748</td>\n",
              "      <td>4.723309</td>\n",
              "    </tr>\n",
              "    <tr>\n",
              "      <th>Beijing</th>\n",
              "      <td>5.989856</td>\n",
              "      <td>4.419240</td>\n",
              "      <td>6.143849</td>\n",
              "      <td>5.637794</td>\n",
              "      <td>4.990644</td>\n",
              "    </tr>\n",
              "    <tr>\n",
              "      <th>Medellin</th>\n",
              "      <td>4.234630</td>\n",
              "      <td>2.982896</td>\n",
              "      <td>6.574984</td>\n",
              "      <td>4.431264</td>\n",
              "      <td>4.361568</td>\n",
              "    </tr>\n",
              "    <tr>\n",
              "      <th>Port Elizabeth</th>\n",
              "      <td>5.182834</td>\n",
              "      <td>5.557705</td>\n",
              "      <td>4.464518</td>\n",
              "      <td>6.937718</td>\n",
              "      <td>5.736605</td>\n",
              "    </tr>\n",
              "  </tbody>\n",
              "</table>\n",
              "</div>"
            ],
            "text/plain": [
              "                    area  population  ...  elevation  annual rainfall\n",
              "London          4.921212    4.886539  ...   5.307661         5.371962\n",
              "Paris           6.801604    4.763728  ...   4.315748         4.723309\n",
              "Beijing         5.989856    4.419240  ...   5.637794         4.990644\n",
              "Medellin        4.234630    2.982896  ...   4.431264         4.361568\n",
              "Port Elizabeth  5.182834    5.557705  ...   6.937718         5.736605\n",
              "\n",
              "[5 rows x 5 columns]"
            ]
          },
          "metadata": {
            "tags": []
          },
          "execution_count": 35
        }
      ]
    },
    {
      "cell_type": "markdown",
      "metadata": {
        "id": "Hb9KFYoWS6ir"
      },
      "source": [
        "But our new table, df5, contains data for three cities:"
      ]
    },
    {
      "cell_type": "code",
      "metadata": {
        "id": "HF4QTxXyS6ir"
      },
      "source": [
        "df5 = pd.DataFrame(5+np.random.randn(3, 3))\n",
        "df5.columns = ['Mean House Price', 'median income','walkability score']\n",
        "df5.index = ['London', 'Paris', 'Glasgow']"
      ],
      "execution_count": null,
      "outputs": []
    },
    {
      "cell_type": "code",
      "metadata": {
        "id": "XDqn6RpqS6it",
        "colab": {
          "base_uri": "https://localhost:8080/",
          "height": 138
        },
        "outputId": "af693174-7ad1-4b41-c577-3a24adbcce1e"
      },
      "source": [
        "df5"
      ],
      "execution_count": null,
      "outputs": [
        {
          "output_type": "execute_result",
          "data": {
            "text/html": [
              "<div>\n",
              "<style scoped>\n",
              "    .dataframe tbody tr th:only-of-type {\n",
              "        vertical-align: middle;\n",
              "    }\n",
              "\n",
              "    .dataframe tbody tr th {\n",
              "        vertical-align: top;\n",
              "    }\n",
              "\n",
              "    .dataframe thead th {\n",
              "        text-align: right;\n",
              "    }\n",
              "</style>\n",
              "<table border=\"1\" class=\"dataframe\">\n",
              "  <thead>\n",
              "    <tr style=\"text-align: right;\">\n",
              "      <th></th>\n",
              "      <th>Mean House Price</th>\n",
              "      <th>median income</th>\n",
              "      <th>walkability score</th>\n",
              "    </tr>\n",
              "  </thead>\n",
              "  <tbody>\n",
              "    <tr>\n",
              "      <th>London</th>\n",
              "      <td>4.941000</td>\n",
              "      <td>5.020842</td>\n",
              "      <td>5.474416</td>\n",
              "    </tr>\n",
              "    <tr>\n",
              "      <th>Paris</th>\n",
              "      <td>6.160287</td>\n",
              "      <td>5.601625</td>\n",
              "      <td>4.228803</td>\n",
              "    </tr>\n",
              "    <tr>\n",
              "      <th>Glasgow</th>\n",
              "      <td>4.803713</td>\n",
              "      <td>4.284299</td>\n",
              "      <td>4.559764</td>\n",
              "    </tr>\n",
              "  </tbody>\n",
              "</table>\n",
              "</div>"
            ],
            "text/plain": [
              "         Mean House Price  median income  walkability score\n",
              "London           4.941000       5.020842           5.474416\n",
              "Paris            6.160287       5.601625           4.228803\n",
              "Glasgow          4.803713       4.284299           4.559764"
            ]
          },
          "metadata": {
            "tags": []
          },
          "execution_count": 37
        }
      ]
    },
    {
      "cell_type": "markdown",
      "metadata": {
        "id": "p-nMMNZkS6iu"
      },
      "source": [
        "## Exercise:\n",
        "\n",
        "How many cities appear in: \n",
        "- both dataframes\n",
        "- only df1\n",
        "- only df5\n",
        "- neither df1 nor df5?"
      ]
    },
    {
      "cell_type": "code",
      "metadata": {
        "colab": {
          "base_uri": "https://localhost:8080/",
          "height": 228
        },
        "id": "7q7I_-upjRk1",
        "outputId": "ed9ed60e-9b89-4669-cdbd-ba55f2857389"
      },
      "source": [
        "#both \n",
        "df15 = df1.merge(df5, left_index=True, right_index=True, how='outer')\n",
        "df15"
      ],
      "execution_count": null,
      "outputs": [
        {
          "output_type": "execute_result",
          "data": {
            "text/html": [
              "<div>\n",
              "<style scoped>\n",
              "    .dataframe tbody tr th:only-of-type {\n",
              "        vertical-align: middle;\n",
              "    }\n",
              "\n",
              "    .dataframe tbody tr th {\n",
              "        vertical-align: top;\n",
              "    }\n",
              "\n",
              "    .dataframe thead th {\n",
              "        text-align: right;\n",
              "    }\n",
              "</style>\n",
              "<table border=\"1\" class=\"dataframe\">\n",
              "  <thead>\n",
              "    <tr style=\"text-align: right;\">\n",
              "      <th></th>\n",
              "      <th>area</th>\n",
              "      <th>population</th>\n",
              "      <th>mean temperature</th>\n",
              "      <th>elevation</th>\n",
              "      <th>annual rainfall</th>\n",
              "      <th>Mean House Price</th>\n",
              "      <th>median income</th>\n",
              "      <th>walkability score</th>\n",
              "    </tr>\n",
              "  </thead>\n",
              "  <tbody>\n",
              "    <tr>\n",
              "      <th>Beijing</th>\n",
              "      <td>5.989856</td>\n",
              "      <td>4.419240</td>\n",
              "      <td>6.143849</td>\n",
              "      <td>5.637794</td>\n",
              "      <td>4.990644</td>\n",
              "      <td>NaN</td>\n",
              "      <td>NaN</td>\n",
              "      <td>NaN</td>\n",
              "    </tr>\n",
              "    <tr>\n",
              "      <th>Glasgow</th>\n",
              "      <td>NaN</td>\n",
              "      <td>NaN</td>\n",
              "      <td>NaN</td>\n",
              "      <td>NaN</td>\n",
              "      <td>NaN</td>\n",
              "      <td>4.803713</td>\n",
              "      <td>4.284299</td>\n",
              "      <td>4.559764</td>\n",
              "    </tr>\n",
              "    <tr>\n",
              "      <th>London</th>\n",
              "      <td>4.921212</td>\n",
              "      <td>4.886539</td>\n",
              "      <td>6.790767</td>\n",
              "      <td>5.307661</td>\n",
              "      <td>5.371962</td>\n",
              "      <td>4.941000</td>\n",
              "      <td>5.020842</td>\n",
              "      <td>5.474416</td>\n",
              "    </tr>\n",
              "    <tr>\n",
              "      <th>Medellin</th>\n",
              "      <td>4.234630</td>\n",
              "      <td>2.982896</td>\n",
              "      <td>6.574984</td>\n",
              "      <td>4.431264</td>\n",
              "      <td>4.361568</td>\n",
              "      <td>NaN</td>\n",
              "      <td>NaN</td>\n",
              "      <td>NaN</td>\n",
              "    </tr>\n",
              "    <tr>\n",
              "      <th>Paris</th>\n",
              "      <td>6.801604</td>\n",
              "      <td>4.763728</td>\n",
              "      <td>6.007510</td>\n",
              "      <td>4.315748</td>\n",
              "      <td>4.723309</td>\n",
              "      <td>6.160287</td>\n",
              "      <td>5.601625</td>\n",
              "      <td>4.228803</td>\n",
              "    </tr>\n",
              "    <tr>\n",
              "      <th>Port Elizabeth</th>\n",
              "      <td>5.182834</td>\n",
              "      <td>5.557705</td>\n",
              "      <td>4.464518</td>\n",
              "      <td>6.937718</td>\n",
              "      <td>5.736605</td>\n",
              "      <td>NaN</td>\n",
              "      <td>NaN</td>\n",
              "      <td>NaN</td>\n",
              "    </tr>\n",
              "  </tbody>\n",
              "</table>\n",
              "</div>"
            ],
            "text/plain": [
              "                    area  population  ...  median income  walkability score\n",
              "Beijing         5.989856    4.419240  ...            NaN                NaN\n",
              "Glasgow              NaN         NaN  ...       4.284299           4.559764\n",
              "London          4.921212    4.886539  ...       5.020842           5.474416\n",
              "Medellin        4.234630    2.982896  ...            NaN                NaN\n",
              "Paris           6.801604    4.763728  ...       5.601625           4.228803\n",
              "Port Elizabeth  5.182834    5.557705  ...            NaN                NaN\n",
              "\n",
              "[6 rows x 8 columns]"
            ]
          },
          "metadata": {
            "tags": []
          },
          "execution_count": 103
        }
      ]
    },
    {
      "cell_type": "code",
      "metadata": {
        "colab": {
          "base_uri": "https://localhost:8080/"
        },
        "id": "6egnjdPVjlvd",
        "outputId": "b03d1453-c742-4208-c303-c5117d171cd0"
      },
      "source": [
        "#we could also check how many values there are in the columns (one column would be enough using df1['area'].count())\n",
        "print(df1.count())\n",
        "print(df5.count())"
      ],
      "execution_count": null,
      "outputs": [
        {
          "output_type": "stream",
          "text": [
            "area                5\n",
            "population          5\n",
            "mean temperature    5\n",
            "elevation           5\n",
            "annual rainfall     5\n",
            "dtype: int64\n",
            "Mean House Price     3\n",
            "median income        3\n",
            "walkability score    3\n",
            "dtype: int64\n"
          ],
          "name": "stdout"
        }
      ]
    },
    {
      "cell_type": "code",
      "metadata": {
        "id": "iaEF8NI-kStx"
      },
      "source": [
        "#in both dataframes, 6 cities appear \n",
        "#in df1, 5 do\n",
        "#in df5, 3 do \n",
        "#in neither of them, none (but is this a trick question? I don't know how to answer it in that case)"
      ],
      "execution_count": null,
      "outputs": []
    },
    {
      "cell_type": "markdown",
      "metadata": {
        "id": "7jbHLNWJS6iu"
      },
      "source": [
        "## Way Back Venn \n",
        "\n",
        "What is the mechanism for joining data where these mismatches exist? Well, there are several, starting with the..."
      ]
    },
    {
      "cell_type": "markdown",
      "metadata": {
        "id": "XjGv-0WiS6iv"
      },
      "source": [
        "## Inner Join:"
      ]
    },
    {
      "cell_type": "code",
      "metadata": {
        "id": "3tm0ueElS6iv",
        "colab": {
          "base_uri": "https://localhost:8080/",
          "height": 346
        },
        "outputId": "82062341-3316-4ff7-8c32-8f232eb524a0"
      },
      "source": [
        "from IPython.display import Image\n",
        "\n",
        "data_path = \"https://s3.eu-west-2.amazonaws.com/qm2/wk3/inner.png\"\n",
        "Image(data_path)"
      ],
      "execution_count": null,
      "outputs": [
        {
          "output_type": "execute_result",
          "data": {
            "image/png": "[encoded data removed]",
            "text/plain": [
              "<IPython.core.display.Image object>"
            ]
          },
          "metadata": {
            "tags": []
          },
          "execution_count": 43
        }
      ]
    },
    {
      "cell_type": "markdown",
      "metadata": {
        "id": "zqOCeIaQS6ix"
      },
      "source": [
        "(Image from http://blog.codinghorror.com/a-visual-explanation-of-sql-joins/)"
      ]
    },
    {
      "cell_type": "markdown",
      "metadata": {
        "id": "WAqZJFC0S6ix"
      },
      "source": [
        "The inner join *only* includes data whose index appears in both tables. Let's see what that looks like:"
      ]
    },
    {
      "cell_type": "code",
      "metadata": {
        "id": "db9q4sgPS6ix"
      },
      "source": [
        "df_joined = df1.merge(df5, left_index=True, right_index=True)"
      ],
      "execution_count": null,
      "outputs": []
    },
    {
      "cell_type": "code",
      "metadata": {
        "id": "8ADhCAjIS6iz",
        "colab": {
          "base_uri": "https://localhost:8080/",
          "height": 108
        },
        "outputId": "78500d8c-293f-440b-e931-642fc7d5dc0c"
      },
      "source": [
        "df_joined"
      ],
      "execution_count": null,
      "outputs": [
        {
          "output_type": "execute_result",
          "data": {
            "text/html": [
              "<div>\n",
              "<style scoped>\n",
              "    .dataframe tbody tr th:only-of-type {\n",
              "        vertical-align: middle;\n",
              "    }\n",
              "\n",
              "    .dataframe tbody tr th {\n",
              "        vertical-align: top;\n",
              "    }\n",
              "\n",
              "    .dataframe thead th {\n",
              "        text-align: right;\n",
              "    }\n",
              "</style>\n",
              "<table border=\"1\" class=\"dataframe\">\n",
              "  <thead>\n",
              "    <tr style=\"text-align: right;\">\n",
              "      <th></th>\n",
              "      <th>area</th>\n",
              "      <th>population</th>\n",
              "      <th>mean temperature</th>\n",
              "      <th>elevation</th>\n",
              "      <th>annual rainfall</th>\n",
              "      <th>Mean House Price</th>\n",
              "      <th>median income</th>\n",
              "      <th>walkability score</th>\n",
              "    </tr>\n",
              "  </thead>\n",
              "  <tbody>\n",
              "    <tr>\n",
              "      <th>London</th>\n",
              "      <td>4.921212</td>\n",
              "      <td>4.886539</td>\n",
              "      <td>6.790767</td>\n",
              "      <td>5.307661</td>\n",
              "      <td>5.371962</td>\n",
              "      <td>4.941000</td>\n",
              "      <td>5.020842</td>\n",
              "      <td>5.474416</td>\n",
              "    </tr>\n",
              "    <tr>\n",
              "      <th>Paris</th>\n",
              "      <td>6.801604</td>\n",
              "      <td>4.763728</td>\n",
              "      <td>6.007510</td>\n",
              "      <td>4.315748</td>\n",
              "      <td>4.723309</td>\n",
              "      <td>6.160287</td>\n",
              "      <td>5.601625</td>\n",
              "      <td>4.228803</td>\n",
              "    </tr>\n",
              "  </tbody>\n",
              "</table>\n",
              "</div>"
            ],
            "text/plain": [
              "            area  population  ...  median income  walkability score\n",
              "London  4.921212    4.886539  ...       5.020842           5.474416\n",
              "Paris   6.801604    4.763728  ...       5.601625           4.228803\n",
              "\n",
              "[2 rows x 8 columns]"
            ]
          },
          "metadata": {
            "tags": []
          },
          "execution_count": 45
        }
      ]
    },
    {
      "cell_type": "markdown",
      "metadata": {
        "id": "G6sp9kBzS6i0"
      },
      "source": [
        "Here, we have a couple of arguments specifying the manner of the join - we have specified that we are joining on the index of the left and right dataset with the optional \"left_index=True\" and \"right_index=True\". Less obviously, the **left** dataset is df1 (because we're using *df1.merge()* and the **right** dataset is df5 (because it appears as an argument in merge(). There's no special reason it shouldn't be the other way around, but for this function, it is this way around and we need to remember that when we use it. "
      ]
    },
    {
      "cell_type": "markdown",
      "metadata": {
        "id": "-_Cw_x_-S6i1"
      },
      "source": [
        "## Inner Space\n",
        "\n",
        "Although we haven't specified it, the merge() function has defaulted to an inner join (like the diagram above). We can specify how the join is calculated by changing the text in the optional argument \"how\":"
      ]
    },
    {
      "cell_type": "code",
      "metadata": {
        "id": "DgUf5p2aS6i2"
      },
      "source": [
        "df_joined = df1.merge(df5, left_index=True, right_index=True, how='inner')"
      ],
      "execution_count": null,
      "outputs": []
    },
    {
      "cell_type": "code",
      "metadata": {
        "id": "hSGBUxd-S6i4",
        "colab": {
          "base_uri": "https://localhost:8080/",
          "height": 108
        },
        "outputId": "b170ab2c-bb9b-455d-b0c8-95830ba9fea1"
      },
      "source": [
        "df_joined"
      ],
      "execution_count": null,
      "outputs": [
        {
          "output_type": "execute_result",
          "data": {
            "text/html": [
              "<div>\n",
              "<style scoped>\n",
              "    .dataframe tbody tr th:only-of-type {\n",
              "        vertical-align: middle;\n",
              "    }\n",
              "\n",
              "    .dataframe tbody tr th {\n",
              "        vertical-align: top;\n",
              "    }\n",
              "\n",
              "    .dataframe thead th {\n",
              "        text-align: right;\n",
              "    }\n",
              "</style>\n",
              "<table border=\"1\" class=\"dataframe\">\n",
              "  <thead>\n",
              "    <tr style=\"text-align: right;\">\n",
              "      <th></th>\n",
              "      <th>area</th>\n",
              "      <th>population</th>\n",
              "      <th>mean temperature</th>\n",
              "      <th>elevation</th>\n",
              "      <th>annual rainfall</th>\n",
              "      <th>Mean House Price</th>\n",
              "      <th>median income</th>\n",
              "      <th>walkability score</th>\n",
              "    </tr>\n",
              "  </thead>\n",
              "  <tbody>\n",
              "    <tr>\n",
              "      <th>London</th>\n",
              "      <td>4.921212</td>\n",
              "      <td>4.886539</td>\n",
              "      <td>6.790767</td>\n",
              "      <td>5.307661</td>\n",
              "      <td>5.371962</td>\n",
              "      <td>4.941000</td>\n",
              "      <td>5.020842</td>\n",
              "      <td>5.474416</td>\n",
              "    </tr>\n",
              "    <tr>\n",
              "      <th>Paris</th>\n",
              "      <td>6.801604</td>\n",
              "      <td>4.763728</td>\n",
              "      <td>6.007510</td>\n",
              "      <td>4.315748</td>\n",
              "      <td>4.723309</td>\n",
              "      <td>6.160287</td>\n",
              "      <td>5.601625</td>\n",
              "      <td>4.228803</td>\n",
              "    </tr>\n",
              "  </tbody>\n",
              "</table>\n",
              "</div>"
            ],
            "text/plain": [
              "            area  population  ...  median income  walkability score\n",
              "London  4.921212    4.886539  ...       5.020842           5.474416\n",
              "Paris   6.801604    4.763728  ...       5.601625           4.228803\n",
              "\n",
              "[2 rows x 8 columns]"
            ]
          },
          "metadata": {
            "tags": []
          },
          "execution_count": 47
        }
      ]
    },
    {
      "cell_type": "markdown",
      "metadata": {
        "id": "HXo07YMZS6i6"
      },
      "source": [
        "## The Future of The Left\n",
        "The *left* join includes **all** rows where the index appears on the **left** hand side of the join, and **any** data which **matches** it on the **right** hand side. If the index appears on the left but not the right, it will include the data from the left table, and have blanks for the columns on the right. "
      ]
    },
    {
      "cell_type": "code",
      "metadata": {
        "id": "_Fzj1fzLS6i7",
        "colab": {
          "base_uri": "https://localhost:8080/",
          "height": 346
        },
        "outputId": "f582ef6d-c48f-40d7-f3c2-2daed84fdc27"
      },
      "source": [
        "data_path = \"https://s3.eu-west-2.amazonaws.com/qm2/wk3/left.png\"\n",
        "Image(data_path)"
      ],
      "execution_count": null,
      "outputs": [
        {
          "output_type": "execute_result",
          "data": {
            "image/png": "[encoded data removed]",
            "text/plain": [
              "<IPython.core.display.Image object>"
            ]
          },
          "metadata": {
            "tags": []
          },
          "execution_count": 48
        }
      ]
    },
    {
      "cell_type": "markdown",
      "metadata": {
        "id": "uBYPSwlxS6i9"
      },
      "source": [
        "What does *this* look like? We will use the *how='left'* optional argument to create a left join:"
      ]
    },
    {
      "cell_type": "code",
      "metadata": {
        "id": "F3hxwEZxS6i-"
      },
      "source": [
        "df_joined = df1.merge(df5, left_index=True, right_index=True, how='left')"
      ],
      "execution_count": null,
      "outputs": []
    },
    {
      "cell_type": "code",
      "metadata": {
        "id": "7jVbmtsYS6jA",
        "colab": {
          "base_uri": "https://localhost:8080/",
          "height": 198
        },
        "outputId": "2d9a5217-9798-4f55-db58-e298ff292288"
      },
      "source": [
        "df_joined"
      ],
      "execution_count": null,
      "outputs": [
        {
          "output_type": "execute_result",
          "data": {
            "text/html": [
              "<div>\n",
              "<style scoped>\n",
              "    .dataframe tbody tr th:only-of-type {\n",
              "        vertical-align: middle;\n",
              "    }\n",
              "\n",
              "    .dataframe tbody tr th {\n",
              "        vertical-align: top;\n",
              "    }\n",
              "\n",
              "    .dataframe thead th {\n",
              "        text-align: right;\n",
              "    }\n",
              "</style>\n",
              "<table border=\"1\" class=\"dataframe\">\n",
              "  <thead>\n",
              "    <tr style=\"text-align: right;\">\n",
              "      <th></th>\n",
              "      <th>area</th>\n",
              "      <th>population</th>\n",
              "      <th>mean temperature</th>\n",
              "      <th>elevation</th>\n",
              "      <th>annual rainfall</th>\n",
              "      <th>Mean House Price</th>\n",
              "      <th>median income</th>\n",
              "      <th>walkability score</th>\n",
              "    </tr>\n",
              "  </thead>\n",
              "  <tbody>\n",
              "    <tr>\n",
              "      <th>London</th>\n",
              "      <td>4.921212</td>\n",
              "      <td>4.886539</td>\n",
              "      <td>6.790767</td>\n",
              "      <td>5.307661</td>\n",
              "      <td>5.371962</td>\n",
              "      <td>4.941000</td>\n",
              "      <td>5.020842</td>\n",
              "      <td>5.474416</td>\n",
              "    </tr>\n",
              "    <tr>\n",
              "      <th>Paris</th>\n",
              "      <td>6.801604</td>\n",
              "      <td>4.763728</td>\n",
              "      <td>6.007510</td>\n",
              "      <td>4.315748</td>\n",
              "      <td>4.723309</td>\n",
              "      <td>6.160287</td>\n",
              "      <td>5.601625</td>\n",
              "      <td>4.228803</td>\n",
              "    </tr>\n",
              "    <tr>\n",
              "      <th>Beijing</th>\n",
              "      <td>5.989856</td>\n",
              "      <td>4.419240</td>\n",
              "      <td>6.143849</td>\n",
              "      <td>5.637794</td>\n",
              "      <td>4.990644</td>\n",
              "      <td>NaN</td>\n",
              "      <td>NaN</td>\n",
              "      <td>NaN</td>\n",
              "    </tr>\n",
              "    <tr>\n",
              "      <th>Medellin</th>\n",
              "      <td>4.234630</td>\n",
              "      <td>2.982896</td>\n",
              "      <td>6.574984</td>\n",
              "      <td>4.431264</td>\n",
              "      <td>4.361568</td>\n",
              "      <td>NaN</td>\n",
              "      <td>NaN</td>\n",
              "      <td>NaN</td>\n",
              "    </tr>\n",
              "    <tr>\n",
              "      <th>Port Elizabeth</th>\n",
              "      <td>5.182834</td>\n",
              "      <td>5.557705</td>\n",
              "      <td>4.464518</td>\n",
              "      <td>6.937718</td>\n",
              "      <td>5.736605</td>\n",
              "      <td>NaN</td>\n",
              "      <td>NaN</td>\n",
              "      <td>NaN</td>\n",
              "    </tr>\n",
              "  </tbody>\n",
              "</table>\n",
              "</div>"
            ],
            "text/plain": [
              "                    area  population  ...  median income  walkability score\n",
              "London          4.921212    4.886539  ...       5.020842           5.474416\n",
              "Paris           6.801604    4.763728  ...       5.601625           4.228803\n",
              "Beijing         5.989856    4.419240  ...            NaN                NaN\n",
              "Medellin        4.234630    2.982896  ...            NaN                NaN\n",
              "Port Elizabeth  5.182834    5.557705  ...            NaN                NaN\n",
              "\n",
              "[5 rows x 8 columns]"
            ]
          },
          "metadata": {
            "tags": []
          },
          "execution_count": 50
        }
      ]
    },
    {
      "cell_type": "markdown",
      "metadata": {
        "id": "EzNh3WeSS6jC"
      },
      "source": [
        "As we see, the missing data appears as **NaN** - Not a Number."
      ]
    },
    {
      "cell_type": "markdown",
      "metadata": {
        "id": "qFwsma6tS6jC"
      },
      "source": [
        "## Exercise:\n",
        "\n",
        "Carry out *right* and *outer* joins on the dataframes df1 and df5 and explain how they're filtering and joining the data. "
      ]
    },
    {
      "cell_type": "code",
      "metadata": {
        "id": "nMtl5bIaptUE"
      },
      "source": [
        "df_joined = df1.merge(df5, left_index=True, right_index=True, how='right')"
      ],
      "execution_count": null,
      "outputs": []
    },
    {
      "cell_type": "code",
      "metadata": {
        "id": "IBKEUxyZp6j6",
        "colab": {
          "base_uri": "https://localhost:8080/",
          "height": 138
        },
        "outputId": "8820267c-725a-4656-d504-220ad5549742"
      },
      "source": [
        "df_joined"
      ],
      "execution_count": null,
      "outputs": [
        {
          "output_type": "execute_result",
          "data": {
            "text/html": [
              "<div>\n",
              "<style scoped>\n",
              "    .dataframe tbody tr th:only-of-type {\n",
              "        vertical-align: middle;\n",
              "    }\n",
              "\n",
              "    .dataframe tbody tr th {\n",
              "        vertical-align: top;\n",
              "    }\n",
              "\n",
              "    .dataframe thead th {\n",
              "        text-align: right;\n",
              "    }\n",
              "</style>\n",
              "<table border=\"1\" class=\"dataframe\">\n",
              "  <thead>\n",
              "    <tr style=\"text-align: right;\">\n",
              "      <th></th>\n",
              "      <th>area</th>\n",
              "      <th>population</th>\n",
              "      <th>mean temperature</th>\n",
              "      <th>elevation</th>\n",
              "      <th>annual rainfall</th>\n",
              "      <th>Mean House Price</th>\n",
              "      <th>median income</th>\n",
              "      <th>walkability score</th>\n",
              "    </tr>\n",
              "  </thead>\n",
              "  <tbody>\n",
              "    <tr>\n",
              "      <th>London</th>\n",
              "      <td>4.921212</td>\n",
              "      <td>4.886539</td>\n",
              "      <td>6.790767</td>\n",
              "      <td>5.307661</td>\n",
              "      <td>5.371962</td>\n",
              "      <td>4.941000</td>\n",
              "      <td>5.020842</td>\n",
              "      <td>5.474416</td>\n",
              "    </tr>\n",
              "    <tr>\n",
              "      <th>Paris</th>\n",
              "      <td>6.801604</td>\n",
              "      <td>4.763728</td>\n",
              "      <td>6.007510</td>\n",
              "      <td>4.315748</td>\n",
              "      <td>4.723309</td>\n",
              "      <td>6.160287</td>\n",
              "      <td>5.601625</td>\n",
              "      <td>4.228803</td>\n",
              "    </tr>\n",
              "    <tr>\n",
              "      <th>Glasgow</th>\n",
              "      <td>NaN</td>\n",
              "      <td>NaN</td>\n",
              "      <td>NaN</td>\n",
              "      <td>NaN</td>\n",
              "      <td>NaN</td>\n",
              "      <td>4.803713</td>\n",
              "      <td>4.284299</td>\n",
              "      <td>4.559764</td>\n",
              "    </tr>\n",
              "  </tbody>\n",
              "</table>\n",
              "</div>"
            ],
            "text/plain": [
              "             area  population  ...  median income  walkability score\n",
              "London   4.921212    4.886539  ...       5.020842           5.474416\n",
              "Paris    6.801604    4.763728  ...       5.601625           4.228803\n",
              "Glasgow       NaN         NaN  ...       4.284299           4.559764\n",
              "\n",
              "[3 rows x 8 columns]"
            ]
          },
          "metadata": {
            "tags": []
          },
          "execution_count": 58
        }
      ]
    },
    {
      "cell_type": "code",
      "metadata": {
        "id": "TXQplKzBqOvV"
      },
      "source": [
        "df_joined = df1.merge(df5, left_index=True, right_index=True, how='outer')"
      ],
      "execution_count": null,
      "outputs": []
    },
    {
      "cell_type": "code",
      "metadata": {
        "id": "MJRGFbJ7qPIt",
        "colab": {
          "base_uri": "https://localhost:8080/",
          "height": 228
        },
        "outputId": "7685543a-ef0b-4391-f01d-ef7c1a1574e6"
      },
      "source": [
        "df_joined"
      ],
      "execution_count": null,
      "outputs": [
        {
          "output_type": "execute_result",
          "data": {
            "text/html": [
              "<div>\n",
              "<style scoped>\n",
              "    .dataframe tbody tr th:only-of-type {\n",
              "        vertical-align: middle;\n",
              "    }\n",
              "\n",
              "    .dataframe tbody tr th {\n",
              "        vertical-align: top;\n",
              "    }\n",
              "\n",
              "    .dataframe thead th {\n",
              "        text-align: right;\n",
              "    }\n",
              "</style>\n",
              "<table border=\"1\" class=\"dataframe\">\n",
              "  <thead>\n",
              "    <tr style=\"text-align: right;\">\n",
              "      <th></th>\n",
              "      <th>area</th>\n",
              "      <th>population</th>\n",
              "      <th>mean temperature</th>\n",
              "      <th>elevation</th>\n",
              "      <th>annual rainfall</th>\n",
              "      <th>Mean House Price</th>\n",
              "      <th>median income</th>\n",
              "      <th>walkability score</th>\n",
              "    </tr>\n",
              "  </thead>\n",
              "  <tbody>\n",
              "    <tr>\n",
              "      <th>Beijing</th>\n",
              "      <td>5.989856</td>\n",
              "      <td>4.419240</td>\n",
              "      <td>6.143849</td>\n",
              "      <td>5.637794</td>\n",
              "      <td>4.990644</td>\n",
              "      <td>NaN</td>\n",
              "      <td>NaN</td>\n",
              "      <td>NaN</td>\n",
              "    </tr>\n",
              "    <tr>\n",
              "      <th>Glasgow</th>\n",
              "      <td>NaN</td>\n",
              "      <td>NaN</td>\n",
              "      <td>NaN</td>\n",
              "      <td>NaN</td>\n",
              "      <td>NaN</td>\n",
              "      <td>4.803713</td>\n",
              "      <td>4.284299</td>\n",
              "      <td>4.559764</td>\n",
              "    </tr>\n",
              "    <tr>\n",
              "      <th>London</th>\n",
              "      <td>4.921212</td>\n",
              "      <td>4.886539</td>\n",
              "      <td>6.790767</td>\n",
              "      <td>5.307661</td>\n",
              "      <td>5.371962</td>\n",
              "      <td>4.941000</td>\n",
              "      <td>5.020842</td>\n",
              "      <td>5.474416</td>\n",
              "    </tr>\n",
              "    <tr>\n",
              "      <th>Medellin</th>\n",
              "      <td>4.234630</td>\n",
              "      <td>2.982896</td>\n",
              "      <td>6.574984</td>\n",
              "      <td>4.431264</td>\n",
              "      <td>4.361568</td>\n",
              "      <td>NaN</td>\n",
              "      <td>NaN</td>\n",
              "      <td>NaN</td>\n",
              "    </tr>\n",
              "    <tr>\n",
              "      <th>Paris</th>\n",
              "      <td>6.801604</td>\n",
              "      <td>4.763728</td>\n",
              "      <td>6.007510</td>\n",
              "      <td>4.315748</td>\n",
              "      <td>4.723309</td>\n",
              "      <td>6.160287</td>\n",
              "      <td>5.601625</td>\n",
              "      <td>4.228803</td>\n",
              "    </tr>\n",
              "    <tr>\n",
              "      <th>Port Elizabeth</th>\n",
              "      <td>5.182834</td>\n",
              "      <td>5.557705</td>\n",
              "      <td>4.464518</td>\n",
              "      <td>6.937718</td>\n",
              "      <td>5.736605</td>\n",
              "      <td>NaN</td>\n",
              "      <td>NaN</td>\n",
              "      <td>NaN</td>\n",
              "    </tr>\n",
              "  </tbody>\n",
              "</table>\n",
              "</div>"
            ],
            "text/plain": [
              "                    area  population  ...  median income  walkability score\n",
              "Beijing         5.989856    4.419240  ...            NaN                NaN\n",
              "Glasgow              NaN         NaN  ...       4.284299           4.559764\n",
              "London          4.921212    4.886539  ...       5.020842           5.474416\n",
              "Medellin        4.234630    2.982896  ...            NaN                NaN\n",
              "Paris           6.801604    4.763728  ...       5.601625           4.228803\n",
              "Port Elizabeth  5.182834    5.557705  ...            NaN                NaN\n",
              "\n",
              "[6 rows x 8 columns]"
            ]
          },
          "metadata": {
            "tags": []
          },
          "execution_count": 63
        }
      ]
    },
    {
      "cell_type": "markdown",
      "metadata": {
        "id": "6Kw7EO9pS6jC"
      },
      "source": [
        "## I Am The One and Only\n",
        "\n",
        "So far, we've carried out joins on data which have a *one-to-one* relationship; data for cities or people. What if our data has a *one-to-many* correspondence? \n",
        "\n",
        "*Example:* We want to look at the quality of life in cities (a real student project from 2014). We have a dataset listing city-level characteristics for a number of cities in Europe, including the country each city is in. We also have a dataset listing the GDP, life expectancy and other indicators for a number of *countries* in Europe. How do we create a dataframe which, for each city, lists all of the characteristics of a city and those of its parent country?"
      ]
    },
    {
      "cell_type": "markdown",
      "metadata": {
        "id": "FBuvIDuUS6jC"
      },
      "source": [
        "We'll be working now with data from the UN, covering information about cities - real data this time. The UN has some great data, we've taken some from here and processed it in various ways:\n",
        "\n",
        "http://data.un.org/Data.aspx?d=POP&f=tableCode%3A240\n",
        "\n",
        "Let's load up data on city population - this set contains data for 2012-2014 inclusive:"
      ]
    },
    {
      "cell_type": "code",
      "metadata": {
        "id": "OT9bs-RKS6jD"
      },
      "source": [
        "data_path = \"./data/wk3/UN_Cities_1214_population.csv\"\n",
        "\n",
        "city_pop = pd.read_csv(data_path, encoding='latin1')"
      ],
      "execution_count": null,
      "outputs": []
    },
    {
      "cell_type": "code",
      "metadata": {
        "id": "KrxMQsfcS6jF",
        "colab": {
          "base_uri": "https://localhost:8080/",
          "height": 198
        },
        "outputId": "70429ded-1d25-4ea9-c3a0-0ea1f6b6af1c"
      },
      "source": [
        "city_pop.head()"
      ],
      "execution_count": null,
      "outputs": [
        {
          "output_type": "execute_result",
          "data": {
            "text/html": [
              "<div>\n",
              "<style scoped>\n",
              "    .dataframe tbody tr th:only-of-type {\n",
              "        vertical-align: middle;\n",
              "    }\n",
              "\n",
              "    .dataframe tbody tr th {\n",
              "        vertical-align: top;\n",
              "    }\n",
              "\n",
              "    .dataframe thead th {\n",
              "        text-align: right;\n",
              "    }\n",
              "</style>\n",
              "<table border=\"1\" class=\"dataframe\">\n",
              "  <thead>\n",
              "    <tr style=\"text-align: right;\">\n",
              "      <th></th>\n",
              "      <th>Year</th>\n",
              "      <th>Area</th>\n",
              "      <th>Sex</th>\n",
              "      <th>City</th>\n",
              "      <th>City type</th>\n",
              "      <th>Record Type</th>\n",
              "      <th>Reliability</th>\n",
              "      <th>Source Year</th>\n",
              "      <th>Value</th>\n",
              "      <th>Value Footnotes</th>\n",
              "    </tr>\n",
              "  </thead>\n",
              "  <tbody>\n",
              "    <tr>\n",
              "      <th>0</th>\n",
              "      <td>2013</td>\n",
              "      <td>Total</td>\n",
              "      <td>Both Sexes</td>\n",
              "      <td>MARIEHAMN</td>\n",
              "      <td>City proper</td>\n",
              "      <td>Estimate - de jure</td>\n",
              "      <td>Final figure, complete</td>\n",
              "      <td>2014</td>\n",
              "      <td>11370.0</td>\n",
              "      <td>NaN</td>\n",
              "    </tr>\n",
              "    <tr>\n",
              "      <th>1</th>\n",
              "      <td>2013</td>\n",
              "      <td>Total</td>\n",
              "      <td>Male</td>\n",
              "      <td>MARIEHAMN</td>\n",
              "      <td>City proper</td>\n",
              "      <td>Estimate - de jure</td>\n",
              "      <td>Final figure, complete</td>\n",
              "      <td>2014</td>\n",
              "      <td>5445.0</td>\n",
              "      <td>NaN</td>\n",
              "    </tr>\n",
              "    <tr>\n",
              "      <th>2</th>\n",
              "      <td>2013</td>\n",
              "      <td>Total</td>\n",
              "      <td>Female</td>\n",
              "      <td>MARIEHAMN</td>\n",
              "      <td>City proper</td>\n",
              "      <td>Estimate - de jure</td>\n",
              "      <td>Final figure, complete</td>\n",
              "      <td>2014</td>\n",
              "      <td>5925.0</td>\n",
              "      <td>NaN</td>\n",
              "    </tr>\n",
              "    <tr>\n",
              "      <th>3</th>\n",
              "      <td>2012</td>\n",
              "      <td>Total</td>\n",
              "      <td>Both Sexes</td>\n",
              "      <td>MARIEHAMN</td>\n",
              "      <td>City proper</td>\n",
              "      <td>Estimate - de jure</td>\n",
              "      <td>Final figure, complete</td>\n",
              "      <td>2013</td>\n",
              "      <td>11304.5</td>\n",
              "      <td>NaN</td>\n",
              "    </tr>\n",
              "    <tr>\n",
              "      <th>4</th>\n",
              "      <td>2012</td>\n",
              "      <td>Total</td>\n",
              "      <td>Male</td>\n",
              "      <td>MARIEHAMN</td>\n",
              "      <td>City proper</td>\n",
              "      <td>Estimate - de jure</td>\n",
              "      <td>Final figure, complete</td>\n",
              "      <td>2013</td>\n",
              "      <td>5408.0</td>\n",
              "      <td>NaN</td>\n",
              "    </tr>\n",
              "  </tbody>\n",
              "</table>\n",
              "</div>"
            ],
            "text/plain": [
              "   Year   Area         Sex  ... Source Year    Value Value Footnotes\n",
              "0  2013  Total  Both Sexes  ...        2014  11370.0             NaN\n",
              "1  2013  Total        Male  ...        2014   5445.0             NaN\n",
              "2  2013  Total      Female  ...        2014   5925.0             NaN\n",
              "3  2012  Total  Both Sexes  ...        2013  11304.5             NaN\n",
              "4  2012  Total        Male  ...        2013   5408.0             NaN\n",
              "\n",
              "[5 rows x 10 columns]"
            ]
          },
          "metadata": {
            "tags": []
          },
          "execution_count": 65
        }
      ]
    },
    {
      "cell_type": "markdown",
      "metadata": {
        "id": "hOKGwwvbS6jH"
      },
      "source": [
        "## Exercise\n",
        "\n",
        "There is a another datafile we downloaded called *UN_Cities_1214_country.csv*. This is saved to *./data/wk3/UN_Cities_1214_country.csv* - Load this into a dataframe called *city_c* with the city name as the index and view it; then, using *merge* on city name with city_pop to create a new dataframe called *cities*.\n",
        "\n",
        "**Hints:**\n",
        "You'll notice that the index **won't** be the column you want to merge on in the city_pop data. What column *should* you merge on in city_pop? Which column should you merge on in city_c?\n",
        "\n",
        "The syntax for merging on a **column** (which is not the index) is to pass the column name to the optional 'left_on=' or 'right_on=' arguments. And we don't use right_index=True (or left_index=True), depending on which we're using.\n",
        "\n",
        "So for example: **df1.merge(df2, left_on='Name', right_index=True)** would join df1 (on the left) to df2 (on the right), using the column 'Name' on the left (df1) and the index column (whatever that is) on the right (df2)."
      ]
    },
    {
      "cell_type": "code",
      "metadata": {
        "id": "hbQwHwaSS6jH"
      },
      "source": [
        "data_path1 = \"./data/wk3/UN_Cities_1214_country.csv\"\n",
        "city_c = pd.read_csv(data_path1, encoding='latin1', index_col=\"City\")"
      ],
      "execution_count": null,
      "outputs": []
    },
    {
      "cell_type": "code",
      "metadata": {
        "id": "IbCtpyUSt5Uq",
        "colab": {
          "base_uri": "https://localhost:8080/",
          "height": 228
        },
        "outputId": "8e0c95c6-b33f-487c-a64c-b3d7519f968b"
      },
      "source": [
        "city_c.head()"
      ],
      "execution_count": null,
      "outputs": [
        {
          "output_type": "execute_result",
          "data": {
            "text/html": [
              "<div>\n",
              "<style scoped>\n",
              "    .dataframe tbody tr th:only-of-type {\n",
              "        vertical-align: middle;\n",
              "    }\n",
              "\n",
              "    .dataframe tbody tr th {\n",
              "        vertical-align: top;\n",
              "    }\n",
              "\n",
              "    .dataframe thead th {\n",
              "        text-align: right;\n",
              "    }\n",
              "</style>\n",
              "<table border=\"1\" class=\"dataframe\">\n",
              "  <thead>\n",
              "    <tr style=\"text-align: right;\">\n",
              "      <th></th>\n",
              "      <th>Country or Area</th>\n",
              "    </tr>\n",
              "    <tr>\n",
              "      <th>City</th>\n",
              "      <th></th>\n",
              "    </tr>\n",
              "  </thead>\n",
              "  <tbody>\n",
              "    <tr>\n",
              "      <th>MARIEHAMN</th>\n",
              "      <td>íland Islands</td>\n",
              "    </tr>\n",
              "    <tr>\n",
              "      <th>Bahí_a Blanca-Cerri</th>\n",
              "      <td>Argentina</td>\n",
              "    </tr>\n",
              "    <tr>\n",
              "      <th>BUENOS AIRES</th>\n",
              "      <td>Argentina</td>\n",
              "    </tr>\n",
              "    <tr>\n",
              "      <th>Catamarca</th>\n",
              "      <td>Argentina</td>\n",
              "    </tr>\n",
              "    <tr>\n",
              "      <th>Comodoro Rivadavia-Rada Tilly</th>\n",
              "      <td>Argentina</td>\n",
              "    </tr>\n",
              "  </tbody>\n",
              "</table>\n",
              "</div>"
            ],
            "text/plain": [
              "                              Country or Area\n",
              "City                                         \n",
              "MARIEHAMN                      íland Islands\n",
              "Bahí_a Blanca-Cerri                 Argentina\n",
              "BUENOS AIRES                        Argentina\n",
              "Catamarca                           Argentina\n",
              "Comodoro Rivadavia-Rada Tilly       Argentina"
            ]
          },
          "metadata": {
            "tags": []
          },
          "execution_count": 67
        }
      ]
    },
    {
      "cell_type": "code",
      "metadata": {
        "id": "ZWdZptl8u6o9"
      },
      "source": [
        "cities = city_pop.merge(city_c, left_on = \"City\", right_index=True)"
      ],
      "execution_count": null,
      "outputs": []
    },
    {
      "cell_type": "code",
      "metadata": {
        "id": "JfMouTiBFFj4",
        "colab": {
          "base_uri": "https://localhost:8080/",
          "height": 198
        },
        "outputId": "5b210f48-1841-41f8-bbea-d2e5e3de8b9c"
      },
      "source": [
        "cities.head()"
      ],
      "execution_count": null,
      "outputs": [
        {
          "output_type": "execute_result",
          "data": {
            "text/html": [
              "<div>\n",
              "<style scoped>\n",
              "    .dataframe tbody tr th:only-of-type {\n",
              "        vertical-align: middle;\n",
              "    }\n",
              "\n",
              "    .dataframe tbody tr th {\n",
              "        vertical-align: top;\n",
              "    }\n",
              "\n",
              "    .dataframe thead th {\n",
              "        text-align: right;\n",
              "    }\n",
              "</style>\n",
              "<table border=\"1\" class=\"dataframe\">\n",
              "  <thead>\n",
              "    <tr style=\"text-align: right;\">\n",
              "      <th></th>\n",
              "      <th>Year</th>\n",
              "      <th>Area</th>\n",
              "      <th>Sex</th>\n",
              "      <th>City</th>\n",
              "      <th>City type</th>\n",
              "      <th>Record Type</th>\n",
              "      <th>Reliability</th>\n",
              "      <th>Source Year</th>\n",
              "      <th>Value</th>\n",
              "      <th>Value Footnotes</th>\n",
              "      <th>Country or Area</th>\n",
              "    </tr>\n",
              "  </thead>\n",
              "  <tbody>\n",
              "    <tr>\n",
              "      <th>0</th>\n",
              "      <td>2013</td>\n",
              "      <td>Total</td>\n",
              "      <td>Both Sexes</td>\n",
              "      <td>MARIEHAMN</td>\n",
              "      <td>City proper</td>\n",
              "      <td>Estimate - de jure</td>\n",
              "      <td>Final figure, complete</td>\n",
              "      <td>2014</td>\n",
              "      <td>11370.0</td>\n",
              "      <td>NaN</td>\n",
              "      <td>íland Islands</td>\n",
              "    </tr>\n",
              "    <tr>\n",
              "      <th>1</th>\n",
              "      <td>2013</td>\n",
              "      <td>Total</td>\n",
              "      <td>Male</td>\n",
              "      <td>MARIEHAMN</td>\n",
              "      <td>City proper</td>\n",
              "      <td>Estimate - de jure</td>\n",
              "      <td>Final figure, complete</td>\n",
              "      <td>2014</td>\n",
              "      <td>5445.0</td>\n",
              "      <td>NaN</td>\n",
              "      <td>íland Islands</td>\n",
              "    </tr>\n",
              "    <tr>\n",
              "      <th>2</th>\n",
              "      <td>2013</td>\n",
              "      <td>Total</td>\n",
              "      <td>Female</td>\n",
              "      <td>MARIEHAMN</td>\n",
              "      <td>City proper</td>\n",
              "      <td>Estimate - de jure</td>\n",
              "      <td>Final figure, complete</td>\n",
              "      <td>2014</td>\n",
              "      <td>5925.0</td>\n",
              "      <td>NaN</td>\n",
              "      <td>íland Islands</td>\n",
              "    </tr>\n",
              "    <tr>\n",
              "      <th>3</th>\n",
              "      <td>2012</td>\n",
              "      <td>Total</td>\n",
              "      <td>Both Sexes</td>\n",
              "      <td>MARIEHAMN</td>\n",
              "      <td>City proper</td>\n",
              "      <td>Estimate - de jure</td>\n",
              "      <td>Final figure, complete</td>\n",
              "      <td>2013</td>\n",
              "      <td>11304.5</td>\n",
              "      <td>NaN</td>\n",
              "      <td>íland Islands</td>\n",
              "    </tr>\n",
              "    <tr>\n",
              "      <th>4</th>\n",
              "      <td>2012</td>\n",
              "      <td>Total</td>\n",
              "      <td>Male</td>\n",
              "      <td>MARIEHAMN</td>\n",
              "      <td>City proper</td>\n",
              "      <td>Estimate - de jure</td>\n",
              "      <td>Final figure, complete</td>\n",
              "      <td>2013</td>\n",
              "      <td>5408.0</td>\n",
              "      <td>NaN</td>\n",
              "      <td>íland Islands</td>\n",
              "    </tr>\n",
              "  </tbody>\n",
              "</table>\n",
              "</div>"
            ],
            "text/plain": [
              "   Year   Area         Sex  ...    Value Value Footnotes Country or Area\n",
              "0  2013  Total  Both Sexes  ...  11370.0             NaN  íland Islands\n",
              "1  2013  Total        Male  ...   5445.0             NaN  íland Islands\n",
              "2  2013  Total      Female  ...   5925.0             NaN  íland Islands\n",
              "3  2012  Total  Both Sexes  ...  11304.5             NaN  íland Islands\n",
              "4  2012  Total        Male  ...   5408.0             NaN  íland Islands\n",
              "\n",
              "[5 rows x 11 columns]"
            ]
          },
          "metadata": {
            "tags": []
          },
          "execution_count": 69
        }
      ]
    },
    {
      "cell_type": "markdown",
      "metadata": {
        "id": "CPb3I6u1S6jJ"
      },
      "source": [
        "## A footnote about footnotes\n",
        "\n",
        "Just a quick note - if you look at the primary UN data, you'll see footnotes which will confuse the hell out of Pandas. I've taken the footnotes out, but you can use .tail() to see whether there's any junk in the trunk, and remove it via a text editor."
      ]
    },
    {
      "cell_type": "code",
      "metadata": {
        "colab": {
          "base_uri": "https://localhost:8080/",
          "height": 302
        },
        "id": "Gyv41CyrnY34",
        "outputId": "b37ce2d0-bc6d-4709-b48b-be5ee9032e5d"
      },
      "source": [
        "cities.tail()"
      ],
      "execution_count": null,
      "outputs": [
        {
          "output_type": "execute_result",
          "data": {
            "text/html": [
              "<div>\n",
              "<style scoped>\n",
              "    .dataframe tbody tr th:only-of-type {\n",
              "        vertical-align: middle;\n",
              "    }\n",
              "\n",
              "    .dataframe tbody tr th {\n",
              "        vertical-align: top;\n",
              "    }\n",
              "\n",
              "    .dataframe thead th {\n",
              "        text-align: right;\n",
              "    }\n",
              "</style>\n",
              "<table border=\"1\" class=\"dataframe\">\n",
              "  <thead>\n",
              "    <tr style=\"text-align: right;\">\n",
              "      <th></th>\n",
              "      <th>Year</th>\n",
              "      <th>Area</th>\n",
              "      <th>Sex</th>\n",
              "      <th>City</th>\n",
              "      <th>City type</th>\n",
              "      <th>Record Type</th>\n",
              "      <th>Reliability</th>\n",
              "      <th>Source Year</th>\n",
              "      <th>Value</th>\n",
              "      <th>Value Footnotes</th>\n",
              "      <th>Country or Area</th>\n",
              "    </tr>\n",
              "  </thead>\n",
              "  <tbody>\n",
              "    <tr>\n",
              "      <th>3789</th>\n",
              "      <td>2012</td>\n",
              "      <td>Total</td>\n",
              "      <td>Male</td>\n",
              "      <td>HARARE</td>\n",
              "      <td>City proper</td>\n",
              "      <td>Census - de facto - complete tabulation</td>\n",
              "      <td>Final figure, complete</td>\n",
              "      <td>2014</td>\n",
              "      <td>716595.0</td>\n",
              "      <td>NaN</td>\n",
              "      <td>Zimbabwe</td>\n",
              "    </tr>\n",
              "    <tr>\n",
              "      <th>3794</th>\n",
              "      <td>2012</td>\n",
              "      <td>Total</td>\n",
              "      <td>Female</td>\n",
              "      <td>HARARE</td>\n",
              "      <td>City proper</td>\n",
              "      <td>Census - de facto - complete tabulation</td>\n",
              "      <td>Final figure, complete</td>\n",
              "      <td>2014</td>\n",
              "      <td>768636.0</td>\n",
              "      <td>NaN</td>\n",
              "      <td>Zimbabwe</td>\n",
              "    </tr>\n",
              "    <tr>\n",
              "      <th>3785</th>\n",
              "      <td>2012</td>\n",
              "      <td>Total</td>\n",
              "      <td>Both Sexes</td>\n",
              "      <td>Mutare</td>\n",
              "      <td>City proper</td>\n",
              "      <td>Census - de facto - complete tabulation</td>\n",
              "      <td>Final figure, complete</td>\n",
              "      <td>2014</td>\n",
              "      <td>262124.0</td>\n",
              "      <td>NaN</td>\n",
              "      <td>Zimbabwe</td>\n",
              "    </tr>\n",
              "    <tr>\n",
              "      <th>3790</th>\n",
              "      <td>2012</td>\n",
              "      <td>Total</td>\n",
              "      <td>Male</td>\n",
              "      <td>Mutare</td>\n",
              "      <td>City proper</td>\n",
              "      <td>Census - de facto - complete tabulation</td>\n",
              "      <td>Final figure, complete</td>\n",
              "      <td>2014</td>\n",
              "      <td>125850.0</td>\n",
              "      <td>NaN</td>\n",
              "      <td>Zimbabwe</td>\n",
              "    </tr>\n",
              "    <tr>\n",
              "      <th>3795</th>\n",
              "      <td>2012</td>\n",
              "      <td>Total</td>\n",
              "      <td>Female</td>\n",
              "      <td>Mutare</td>\n",
              "      <td>City proper</td>\n",
              "      <td>Census - de facto - complete tabulation</td>\n",
              "      <td>Final figure, complete</td>\n",
              "      <td>2014</td>\n",
              "      <td>136274.0</td>\n",
              "      <td>NaN</td>\n",
              "      <td>Zimbabwe</td>\n",
              "    </tr>\n",
              "  </tbody>\n",
              "</table>\n",
              "</div>"
            ],
            "text/plain": [
              "      Year   Area         Sex  ...     Value Value Footnotes Country or Area\n",
              "3789  2012  Total        Male  ...  716595.0             NaN        Zimbabwe\n",
              "3794  2012  Total      Female  ...  768636.0             NaN        Zimbabwe\n",
              "3785  2012  Total  Both Sexes  ...  262124.0             NaN        Zimbabwe\n",
              "3790  2012  Total        Male  ...  125850.0             NaN        Zimbabwe\n",
              "3795  2012  Total      Female  ...  136274.0             NaN        Zimbabwe\n",
              "\n",
              "[5 rows x 11 columns]"
            ]
          },
          "metadata": {
            "tags": []
          },
          "execution_count": 70
        }
      ]
    },
    {
      "cell_type": "markdown",
      "metadata": {
        "id": "4mRhI_8mS6jJ"
      },
      "source": [
        "## Clean data\n",
        "We need to simplify this data a bit in the following ways:\n",
        "\n",
        "1. I'm going to focus on one year (2012)\n",
        "2. I'm going to just look at \"Both Sexes\" (not focus on one gender)\n",
        "3. I'm going to get rid of a column of data (the 'Value Footnotes' column) using the *drop()* method. "
      ]
    },
    {
      "cell_type": "code",
      "metadata": {
        "id": "tI1T3tHxS6jK"
      },
      "source": [
        "cities = cities[cities['Sex']=='Both Sexes']\n",
        "cities = cities[cities['Year']==2012]\n",
        "cities.drop('Value Footnotes', axis=1, inplace=True)"
      ],
      "execution_count": null,
      "outputs": []
    },
    {
      "cell_type": "code",
      "metadata": {
        "id": "Vq5LWR9WS6jM",
        "colab": {
          "base_uri": "https://localhost:8080/",
          "height": 198
        },
        "outputId": "7682020a-f4da-413a-ce49-e1a04115e7c6"
      },
      "source": [
        "cities.head()"
      ],
      "execution_count": null,
      "outputs": [
        {
          "output_type": "execute_result",
          "data": {
            "text/html": [
              "<div>\n",
              "<style scoped>\n",
              "    .dataframe tbody tr th:only-of-type {\n",
              "        vertical-align: middle;\n",
              "    }\n",
              "\n",
              "    .dataframe tbody tr th {\n",
              "        vertical-align: top;\n",
              "    }\n",
              "\n",
              "    .dataframe thead th {\n",
              "        text-align: right;\n",
              "    }\n",
              "</style>\n",
              "<table border=\"1\" class=\"dataframe\">\n",
              "  <thead>\n",
              "    <tr style=\"text-align: right;\">\n",
              "      <th></th>\n",
              "      <th>Year</th>\n",
              "      <th>Area</th>\n",
              "      <th>Sex</th>\n",
              "      <th>City</th>\n",
              "      <th>City type</th>\n",
              "      <th>Record Type</th>\n",
              "      <th>Reliability</th>\n",
              "      <th>Source Year</th>\n",
              "      <th>Value</th>\n",
              "      <th>Country or Area</th>\n",
              "    </tr>\n",
              "  </thead>\n",
              "  <tbody>\n",
              "    <tr>\n",
              "      <th>3</th>\n",
              "      <td>2012</td>\n",
              "      <td>Total</td>\n",
              "      <td>Both Sexes</td>\n",
              "      <td>MARIEHAMN</td>\n",
              "      <td>City proper</td>\n",
              "      <td>Estimate - de jure</td>\n",
              "      <td>Final figure, complete</td>\n",
              "      <td>2013</td>\n",
              "      <td>11304.5</td>\n",
              "      <td>íland Islands</td>\n",
              "    </tr>\n",
              "    <tr>\n",
              "      <th>34</th>\n",
              "      <td>2012</td>\n",
              "      <td>Total</td>\n",
              "      <td>Both Sexes</td>\n",
              "      <td>BUENOS AIRES</td>\n",
              "      <td>Urban agglomeration</td>\n",
              "      <td>Estimate - de facto</td>\n",
              "      <td>Final figure, complete</td>\n",
              "      <td>2012</td>\n",
              "      <td>13242375.0</td>\n",
              "      <td>Argentina</td>\n",
              "    </tr>\n",
              "    <tr>\n",
              "      <th>35</th>\n",
              "      <td>2012</td>\n",
              "      <td>Total</td>\n",
              "      <td>Both Sexes</td>\n",
              "      <td>Catamarca</td>\n",
              "      <td>Urban agglomeration</td>\n",
              "      <td>Estimate - de facto</td>\n",
              "      <td>Final figure, complete</td>\n",
              "      <td>2012</td>\n",
              "      <td>212174.0</td>\n",
              "      <td>Argentina</td>\n",
              "    </tr>\n",
              "    <tr>\n",
              "      <th>36</th>\n",
              "      <td>2012</td>\n",
              "      <td>Total</td>\n",
              "      <td>Both Sexes</td>\n",
              "      <td>Comodoro Rivadavia-Rada Tilly</td>\n",
              "      <td>Urban agglomeration</td>\n",
              "      <td>Estimate - de facto</td>\n",
              "      <td>Final figure, complete</td>\n",
              "      <td>2012</td>\n",
              "      <td>145475.0</td>\n",
              "      <td>Argentina</td>\n",
              "    </tr>\n",
              "    <tr>\n",
              "      <th>37</th>\n",
              "      <td>2012</td>\n",
              "      <td>Total</td>\n",
              "      <td>Both Sexes</td>\n",
              "      <td>Concordia</td>\n",
              "      <td>Urban agglomeration</td>\n",
              "      <td>Estimate - de facto</td>\n",
              "      <td>Final figure, complete</td>\n",
              "      <td>2012</td>\n",
              "      <td>155905.0</td>\n",
              "      <td>Argentina</td>\n",
              "    </tr>\n",
              "  </tbody>\n",
              "</table>\n",
              "</div>"
            ],
            "text/plain": [
              "    Year   Area         Sex  ... Source Year       Value Country or Area\n",
              "3   2012  Total  Both Sexes  ...        2013     11304.5  íland Islands\n",
              "34  2012  Total  Both Sexes  ...        2012  13242375.0       Argentina\n",
              "35  2012  Total  Both Sexes  ...        2012    212174.0       Argentina\n",
              "36  2012  Total  Both Sexes  ...        2012    145475.0       Argentina\n",
              "37  2012  Total  Both Sexes  ...        2012    155905.0       Argentina\n",
              "\n",
              "[5 rows x 10 columns]"
            ]
          },
          "metadata": {
            "tags": []
          },
          "execution_count": 74
        }
      ]
    },
    {
      "cell_type": "markdown",
      "metadata": {
        "id": "l_hXvqvdS6jO"
      },
      "source": [
        "## Extension: In My Place\n",
        "\n",
        "The command I used to get rid of that column is *cities.drop('Value Footnotes', axis=1, inplace=True)*. The syntax is not so complex - the first argument, *'Value Footnotes'*, is just the name of the column; the second argument,  *axis=1*, tells Pandas to look for a column to remove (instead of a row which has *axis=0*); the third and final argument, *inplace=True*, is a command that tells Pandas to edit *inplace*, i.e. to edit the dataframe (*cities*) directly. When *inplace* is False (the default), this command does not directly edit cities, but instead provide an output. So the syntax for that would be \n",
        "\n",
        "new_cities = cities.drop('Value Footnotes', axis=1)\n",
        "\n",
        "and new_cities would be a version of *cities* without the offending column. This is usually the safer option."
      ]
    },
    {
      "cell_type": "markdown",
      "metadata": {
        "id": "3Z5yN-D6S6jO"
      },
      "source": [
        "## Life, Oh Life\n",
        "\n",
        "The UN also has useful data by country, so let's try and work with some of that and join it up with our city data. Let's work with Life Expectancy Data:\n",
        "\n",
        "http://data.un.org/Data.aspx?d=WDI&f=Indicator_Code%3ASP.DYN.LE00.IN"
      ]
    },
    {
      "cell_type": "code",
      "metadata": {
        "id": "xJ3lzAz-S6jO"
      },
      "source": [
        "data_path = \"./data/wk3/UN_Life_all.csv\"\n",
        "life = pd.read_csv(data_path, index_col=0)"
      ],
      "execution_count": null,
      "outputs": []
    },
    {
      "cell_type": "code",
      "metadata": {
        "id": "IA9Jy3xJS6jQ",
        "colab": {
          "base_uri": "https://localhost:8080/",
          "height": 228
        },
        "outputId": "b67f7553-2a36-459d-9bf5-250d49de6e0e"
      },
      "source": [
        "life.head()"
      ],
      "execution_count": null,
      "outputs": [
        {
          "output_type": "execute_result",
          "data": {
            "text/html": [
              "<div>\n",
              "<style scoped>\n",
              "    .dataframe tbody tr th:only-of-type {\n",
              "        vertical-align: middle;\n",
              "    }\n",
              "\n",
              "    .dataframe tbody tr th {\n",
              "        vertical-align: top;\n",
              "    }\n",
              "\n",
              "    .dataframe thead th {\n",
              "        text-align: right;\n",
              "    }\n",
              "</style>\n",
              "<table border=\"1\" class=\"dataframe\">\n",
              "  <thead>\n",
              "    <tr style=\"text-align: right;\">\n",
              "      <th></th>\n",
              "      <th>Year</th>\n",
              "      <th>Value</th>\n",
              "      <th>Value Footnotes</th>\n",
              "    </tr>\n",
              "    <tr>\n",
              "      <th>Country or Area</th>\n",
              "      <th></th>\n",
              "      <th></th>\n",
              "      <th></th>\n",
              "    </tr>\n",
              "  </thead>\n",
              "  <tbody>\n",
              "    <tr>\n",
              "      <th>Afghanistan</th>\n",
              "      <td>2012</td>\n",
              "      <td>60.509122</td>\n",
              "      <td>NaN</td>\n",
              "    </tr>\n",
              "    <tr>\n",
              "      <th>Afghanistan</th>\n",
              "      <td>2011</td>\n",
              "      <td>60.065366</td>\n",
              "      <td>NaN</td>\n",
              "    </tr>\n",
              "    <tr>\n",
              "      <th>Afghanistan</th>\n",
              "      <td>2010</td>\n",
              "      <td>59.600098</td>\n",
              "      <td>NaN</td>\n",
              "    </tr>\n",
              "    <tr>\n",
              "      <th>Afghanistan</th>\n",
              "      <td>2009</td>\n",
              "      <td>59.112341</td>\n",
              "      <td>NaN</td>\n",
              "    </tr>\n",
              "    <tr>\n",
              "      <th>Afghanistan</th>\n",
              "      <td>2008</td>\n",
              "      <td>58.607098</td>\n",
              "      <td>NaN</td>\n",
              "    </tr>\n",
              "  </tbody>\n",
              "</table>\n",
              "</div>"
            ],
            "text/plain": [
              "                 Year      Value  Value Footnotes\n",
              "Country or Area                                  \n",
              "Afghanistan      2012  60.509122              NaN\n",
              "Afghanistan      2011  60.065366              NaN\n",
              "Afghanistan      2010  59.600098              NaN\n",
              "Afghanistan      2009  59.112341              NaN\n",
              "Afghanistan      2008  58.607098              NaN"
            ]
          },
          "metadata": {
            "tags": []
          },
          "execution_count": 76
        }
      ]
    },
    {
      "cell_type": "markdown",
      "metadata": {
        "id": "je4DUR8LS6jS"
      },
      "source": [
        "## Exercise:\n",
        "\n",
        "In a new cell, clean up the above dataframe by\n",
        "\n",
        "- removing the \"Value Footnotes\" Column\n",
        "- use only the most recent data (2012)"
      ]
    },
    {
      "cell_type": "code",
      "metadata": {
        "id": "hfT_HPmMFZ7T"
      },
      "source": [
        "life = life[life['Year']== 2012]\n",
        "life.drop('Value Footnotes', axis=1, inplace=True)"
      ],
      "execution_count": null,
      "outputs": []
    },
    {
      "cell_type": "code",
      "metadata": {
        "id": "AMODg_asGHsY",
        "colab": {
          "base_uri": "https://localhost:8080/",
          "height": 228
        },
        "outputId": "9ce44000-2b1d-4aa7-c7b0-1c4e1c190c9e"
      },
      "source": [
        "life.head()"
      ],
      "execution_count": null,
      "outputs": [
        {
          "output_type": "execute_result",
          "data": {
            "text/html": [
              "<div>\n",
              "<style scoped>\n",
              "    .dataframe tbody tr th:only-of-type {\n",
              "        vertical-align: middle;\n",
              "    }\n",
              "\n",
              "    .dataframe tbody tr th {\n",
              "        vertical-align: top;\n",
              "    }\n",
              "\n",
              "    .dataframe thead th {\n",
              "        text-align: right;\n",
              "    }\n",
              "</style>\n",
              "<table border=\"1\" class=\"dataframe\">\n",
              "  <thead>\n",
              "    <tr style=\"text-align: right;\">\n",
              "      <th></th>\n",
              "      <th>Year</th>\n",
              "      <th>Value</th>\n",
              "    </tr>\n",
              "    <tr>\n",
              "      <th>Country or Area</th>\n",
              "      <th></th>\n",
              "      <th></th>\n",
              "    </tr>\n",
              "  </thead>\n",
              "  <tbody>\n",
              "    <tr>\n",
              "      <th>Afghanistan</th>\n",
              "      <td>2012</td>\n",
              "      <td>60.509122</td>\n",
              "    </tr>\n",
              "    <tr>\n",
              "      <th>Albania</th>\n",
              "      <td>2012</td>\n",
              "      <td>77.350463</td>\n",
              "    </tr>\n",
              "    <tr>\n",
              "      <th>Algeria</th>\n",
              "      <td>2012</td>\n",
              "      <td>70.882171</td>\n",
              "    </tr>\n",
              "    <tr>\n",
              "      <th>Angola</th>\n",
              "      <td>2012</td>\n",
              "      <td>51.464000</td>\n",
              "    </tr>\n",
              "    <tr>\n",
              "      <th>Antigua and Barbuda</th>\n",
              "      <td>2012</td>\n",
              "      <td>75.665317</td>\n",
              "    </tr>\n",
              "  </tbody>\n",
              "</table>\n",
              "</div>"
            ],
            "text/plain": [
              "                     Year      Value\n",
              "Country or Area                     \n",
              "Afghanistan          2012  60.509122\n",
              "Albania              2012  77.350463\n",
              "Algeria              2012  70.882171\n",
              "Angola               2012  51.464000\n",
              "Antigua and Barbuda  2012  75.665317"
            ]
          },
          "metadata": {
            "tags": []
          },
          "execution_count": 78
        }
      ]
    },
    {
      "cell_type": "markdown",
      "metadata": {
        "id": "2se0IelGS6jS"
      },
      "source": [
        "Let's make it a little clearer what \"Value\" refers to, by renaming the column. This is one way to do that:"
      ]
    },
    {
      "cell_type": "code",
      "metadata": {
        "id": "234BRNRyS6jS"
      },
      "source": [
        "life.rename(columns={'Value':'Life Expectancy'}, inplace=True)"
      ],
      "execution_count": null,
      "outputs": []
    },
    {
      "cell_type": "code",
      "metadata": {
        "id": "Lb01c6upS6jV",
        "colab": {
          "base_uri": "https://localhost:8080/",
          "height": 228
        },
        "outputId": "2f105293-2906-40a5-8fd4-05be038f8f75"
      },
      "source": [
        "life.head()"
      ],
      "execution_count": null,
      "outputs": [
        {
          "output_type": "execute_result",
          "data": {
            "text/html": [
              "<div>\n",
              "<style scoped>\n",
              "    .dataframe tbody tr th:only-of-type {\n",
              "        vertical-align: middle;\n",
              "    }\n",
              "\n",
              "    .dataframe tbody tr th {\n",
              "        vertical-align: top;\n",
              "    }\n",
              "\n",
              "    .dataframe thead th {\n",
              "        text-align: right;\n",
              "    }\n",
              "</style>\n",
              "<table border=\"1\" class=\"dataframe\">\n",
              "  <thead>\n",
              "    <tr style=\"text-align: right;\">\n",
              "      <th></th>\n",
              "      <th>Year</th>\n",
              "      <th>Life Expectancy</th>\n",
              "    </tr>\n",
              "    <tr>\n",
              "      <th>Country or Area</th>\n",
              "      <th></th>\n",
              "      <th></th>\n",
              "    </tr>\n",
              "  </thead>\n",
              "  <tbody>\n",
              "    <tr>\n",
              "      <th>Afghanistan</th>\n",
              "      <td>2012</td>\n",
              "      <td>60.509122</td>\n",
              "    </tr>\n",
              "    <tr>\n",
              "      <th>Albania</th>\n",
              "      <td>2012</td>\n",
              "      <td>77.350463</td>\n",
              "    </tr>\n",
              "    <tr>\n",
              "      <th>Algeria</th>\n",
              "      <td>2012</td>\n",
              "      <td>70.882171</td>\n",
              "    </tr>\n",
              "    <tr>\n",
              "      <th>Angola</th>\n",
              "      <td>2012</td>\n",
              "      <td>51.464000</td>\n",
              "    </tr>\n",
              "    <tr>\n",
              "      <th>Antigua and Barbuda</th>\n",
              "      <td>2012</td>\n",
              "      <td>75.665317</td>\n",
              "    </tr>\n",
              "  </tbody>\n",
              "</table>\n",
              "</div>"
            ],
            "text/plain": [
              "                     Year  Life Expectancy\n",
              "Country or Area                           \n",
              "Afghanistan          2012        60.509122\n",
              "Albania              2012        77.350463\n",
              "Algeria              2012        70.882171\n",
              "Angola               2012        51.464000\n",
              "Antigua and Barbuda  2012        75.665317"
            ]
          },
          "metadata": {
            "tags": []
          },
          "execution_count": 80
        }
      ]
    },
    {
      "cell_type": "markdown",
      "metadata": {
        "id": "g6MsCtJwS6jW"
      },
      "source": [
        "# Exercise\n",
        "\n",
        "Now, merge this data with the cities data to show life expectancy for each city (based on the country it is in), and show the first 5 rows. \n",
        "\n",
        "How much data was \"missing\" in the merge?\n",
        "\n",
        "Relabel the City Population column so it's clear what it represents.\n",
        "\n",
        "\n",
        "**Extension:** Plot population against life expectancy. Use plot's *optional arguments* to specify the x column, y column, and that kind='scatter'. \n",
        "\n",
        "**Don't forget to include a title and axis labels!**\n",
        "\n",
        "How does London fit in this trend? What are the problems with doing this?"
      ]
    },
    {
      "cell_type": "code",
      "metadata": {
        "id": "_OXM4uygS6jW"
      },
      "source": [
        "city_n = cities.merge(life, left_on = \"Country or Area\", right_index=True)"
      ],
      "execution_count": null,
      "outputs": []
    },
    {
      "cell_type": "code",
      "metadata": {
        "id": "cqXL9cJpKhdW",
        "colab": {
          "base_uri": "https://localhost:8080/",
          "height": 302
        },
        "outputId": "998210af-16ed-4137-90bd-1a6a53bbeefa"
      },
      "source": [
        "city_n.head()"
      ],
      "execution_count": null,
      "outputs": [
        {
          "output_type": "execute_result",
          "data": {
            "text/html": [
              "<div>\n",
              "<style scoped>\n",
              "    .dataframe tbody tr th:only-of-type {\n",
              "        vertical-align: middle;\n",
              "    }\n",
              "\n",
              "    .dataframe tbody tr th {\n",
              "        vertical-align: top;\n",
              "    }\n",
              "\n",
              "    .dataframe thead th {\n",
              "        text-align: right;\n",
              "    }\n",
              "</style>\n",
              "<table border=\"1\" class=\"dataframe\">\n",
              "  <thead>\n",
              "    <tr style=\"text-align: right;\">\n",
              "      <th></th>\n",
              "      <th>Year_x</th>\n",
              "      <th>Area</th>\n",
              "      <th>Sex</th>\n",
              "      <th>City</th>\n",
              "      <th>City type</th>\n",
              "      <th>Record Type</th>\n",
              "      <th>Reliability</th>\n",
              "      <th>Source Year</th>\n",
              "      <th>Value</th>\n",
              "      <th>Country or Area</th>\n",
              "      <th>Year_y</th>\n",
              "      <th>Life Expectancy</th>\n",
              "    </tr>\n",
              "  </thead>\n",
              "  <tbody>\n",
              "    <tr>\n",
              "      <th>34</th>\n",
              "      <td>2012</td>\n",
              "      <td>Total</td>\n",
              "      <td>Both Sexes</td>\n",
              "      <td>BUENOS AIRES</td>\n",
              "      <td>Urban agglomeration</td>\n",
              "      <td>Estimate - de facto</td>\n",
              "      <td>Final figure, complete</td>\n",
              "      <td>2012</td>\n",
              "      <td>13242375.0</td>\n",
              "      <td>Argentina</td>\n",
              "      <td>2012</td>\n",
              "      <td>76.012683</td>\n",
              "    </tr>\n",
              "    <tr>\n",
              "      <th>35</th>\n",
              "      <td>2012</td>\n",
              "      <td>Total</td>\n",
              "      <td>Both Sexes</td>\n",
              "      <td>Catamarca</td>\n",
              "      <td>Urban agglomeration</td>\n",
              "      <td>Estimate - de facto</td>\n",
              "      <td>Final figure, complete</td>\n",
              "      <td>2012</td>\n",
              "      <td>212174.0</td>\n",
              "      <td>Argentina</td>\n",
              "      <td>2012</td>\n",
              "      <td>76.012683</td>\n",
              "    </tr>\n",
              "    <tr>\n",
              "      <th>36</th>\n",
              "      <td>2012</td>\n",
              "      <td>Total</td>\n",
              "      <td>Both Sexes</td>\n",
              "      <td>Comodoro Rivadavia-Rada Tilly</td>\n",
              "      <td>Urban agglomeration</td>\n",
              "      <td>Estimate - de facto</td>\n",
              "      <td>Final figure, complete</td>\n",
              "      <td>2012</td>\n",
              "      <td>145475.0</td>\n",
              "      <td>Argentina</td>\n",
              "      <td>2012</td>\n",
              "      <td>76.012683</td>\n",
              "    </tr>\n",
              "    <tr>\n",
              "      <th>37</th>\n",
              "      <td>2012</td>\n",
              "      <td>Total</td>\n",
              "      <td>Both Sexes</td>\n",
              "      <td>Concordia</td>\n",
              "      <td>Urban agglomeration</td>\n",
              "      <td>Estimate - de facto</td>\n",
              "      <td>Final figure, complete</td>\n",
              "      <td>2012</td>\n",
              "      <td>155905.0</td>\n",
              "      <td>Argentina</td>\n",
              "      <td>2012</td>\n",
              "      <td>76.012683</td>\n",
              "    </tr>\n",
              "    <tr>\n",
              "      <th>39</th>\n",
              "      <td>2012</td>\n",
              "      <td>Total</td>\n",
              "      <td>Both Sexes</td>\n",
              "      <td>Corrientes</td>\n",
              "      <td>Urban agglomeration</td>\n",
              "      <td>Estimate - de facto</td>\n",
              "      <td>Final figure, complete</td>\n",
              "      <td>2012</td>\n",
              "      <td>368778.0</td>\n",
              "      <td>Argentina</td>\n",
              "      <td>2012</td>\n",
              "      <td>76.012683</td>\n",
              "    </tr>\n",
              "  </tbody>\n",
              "</table>\n",
              "</div>"
            ],
            "text/plain": [
              "    Year_x   Area         Sex  ... Country or Area Year_y Life Expectancy\n",
              "34    2012  Total  Both Sexes  ...       Argentina   2012       76.012683\n",
              "35    2012  Total  Both Sexes  ...       Argentina   2012       76.012683\n",
              "36    2012  Total  Both Sexes  ...       Argentina   2012       76.012683\n",
              "37    2012  Total  Both Sexes  ...       Argentina   2012       76.012683\n",
              "39    2012  Total  Both Sexes  ...       Argentina   2012       76.012683\n",
              "\n",
              "[5 rows x 12 columns]"
            ]
          },
          "metadata": {
            "tags": []
          },
          "execution_count": 90
        }
      ]
    },
    {
      "cell_type": "code",
      "metadata": {
        "id": "-hXBAfKuo7eZ"
      },
      "source": [
        "city_n = city_n.drop(columns = 'Year_y')\n",
        "city_n.rename(columns={'Value':'City Population'}, inplace=True)"
      ],
      "execution_count": null,
      "outputs": []
    },
    {
      "cell_type": "code",
      "metadata": {
        "colab": {
          "base_uri": "https://localhost:8080/",
          "height": 302
        },
        "id": "Sl9C0TmYpoJw",
        "outputId": "24b474b0-a973-4e78-a1c0-1883f1f2ff12"
      },
      "source": [
        "city_n.head()"
      ],
      "execution_count": null,
      "outputs": [
        {
          "output_type": "execute_result",
          "data": {
            "text/html": [
              "<div>\n",
              "<style scoped>\n",
              "    .dataframe tbody tr th:only-of-type {\n",
              "        vertical-align: middle;\n",
              "    }\n",
              "\n",
              "    .dataframe tbody tr th {\n",
              "        vertical-align: top;\n",
              "    }\n",
              "\n",
              "    .dataframe thead th {\n",
              "        text-align: right;\n",
              "    }\n",
              "</style>\n",
              "<table border=\"1\" class=\"dataframe\">\n",
              "  <thead>\n",
              "    <tr style=\"text-align: right;\">\n",
              "      <th></th>\n",
              "      <th>Year_x</th>\n",
              "      <th>Area</th>\n",
              "      <th>Sex</th>\n",
              "      <th>City</th>\n",
              "      <th>City type</th>\n",
              "      <th>Record Type</th>\n",
              "      <th>Reliability</th>\n",
              "      <th>Source Year</th>\n",
              "      <th>City Population</th>\n",
              "      <th>Country or Area</th>\n",
              "      <th>Life Expectancy</th>\n",
              "    </tr>\n",
              "  </thead>\n",
              "  <tbody>\n",
              "    <tr>\n",
              "      <th>34</th>\n",
              "      <td>2012</td>\n",
              "      <td>Total</td>\n",
              "      <td>Both Sexes</td>\n",
              "      <td>BUENOS AIRES</td>\n",
              "      <td>Urban agglomeration</td>\n",
              "      <td>Estimate - de facto</td>\n",
              "      <td>Final figure, complete</td>\n",
              "      <td>2012</td>\n",
              "      <td>13242375.0</td>\n",
              "      <td>Argentina</td>\n",
              "      <td>76.012683</td>\n",
              "    </tr>\n",
              "    <tr>\n",
              "      <th>35</th>\n",
              "      <td>2012</td>\n",
              "      <td>Total</td>\n",
              "      <td>Both Sexes</td>\n",
              "      <td>Catamarca</td>\n",
              "      <td>Urban agglomeration</td>\n",
              "      <td>Estimate - de facto</td>\n",
              "      <td>Final figure, complete</td>\n",
              "      <td>2012</td>\n",
              "      <td>212174.0</td>\n",
              "      <td>Argentina</td>\n",
              "      <td>76.012683</td>\n",
              "    </tr>\n",
              "    <tr>\n",
              "      <th>36</th>\n",
              "      <td>2012</td>\n",
              "      <td>Total</td>\n",
              "      <td>Both Sexes</td>\n",
              "      <td>Comodoro Rivadavia-Rada Tilly</td>\n",
              "      <td>Urban agglomeration</td>\n",
              "      <td>Estimate - de facto</td>\n",
              "      <td>Final figure, complete</td>\n",
              "      <td>2012</td>\n",
              "      <td>145475.0</td>\n",
              "      <td>Argentina</td>\n",
              "      <td>76.012683</td>\n",
              "    </tr>\n",
              "    <tr>\n",
              "      <th>37</th>\n",
              "      <td>2012</td>\n",
              "      <td>Total</td>\n",
              "      <td>Both Sexes</td>\n",
              "      <td>Concordia</td>\n",
              "      <td>Urban agglomeration</td>\n",
              "      <td>Estimate - de facto</td>\n",
              "      <td>Final figure, complete</td>\n",
              "      <td>2012</td>\n",
              "      <td>155905.0</td>\n",
              "      <td>Argentina</td>\n",
              "      <td>76.012683</td>\n",
              "    </tr>\n",
              "    <tr>\n",
              "      <th>39</th>\n",
              "      <td>2012</td>\n",
              "      <td>Total</td>\n",
              "      <td>Both Sexes</td>\n",
              "      <td>Corrientes</td>\n",
              "      <td>Urban agglomeration</td>\n",
              "      <td>Estimate - de facto</td>\n",
              "      <td>Final figure, complete</td>\n",
              "      <td>2012</td>\n",
              "      <td>368778.0</td>\n",
              "      <td>Argentina</td>\n",
              "      <td>76.012683</td>\n",
              "    </tr>\n",
              "  </tbody>\n",
              "</table>\n",
              "</div>"
            ],
            "text/plain": [
              "    Year_x   Area         Sex  ... City Population Country or Area Life Expectancy\n",
              "34    2012  Total  Both Sexes  ...      13242375.0       Argentina       76.012683\n",
              "35    2012  Total  Both Sexes  ...        212174.0       Argentina       76.012683\n",
              "36    2012  Total  Both Sexes  ...        145475.0       Argentina       76.012683\n",
              "37    2012  Total  Both Sexes  ...        155905.0       Argentina       76.012683\n",
              "39    2012  Total  Both Sexes  ...        368778.0       Argentina       76.012683\n",
              "\n",
              "[5 rows x 11 columns]"
            ]
          },
          "metadata": {
            "tags": []
          },
          "execution_count": 93
        }
      ]
    },
    {
      "cell_type": "code",
      "metadata": {
        "colab": {
          "base_uri": "https://localhost:8080/",
          "height": 316
        },
        "id": "ouUmhP6ypv1S",
        "outputId": "a7e7d391-22b3-499b-ac1c-57d4569bdbbd"
      },
      "source": [
        "city_n.plot.scatter('City Population','Life Expectancy')\n",
        "plt.title('Population against Life expectancy in 2012')\n",
        "plt.xlabel('Population')\n",
        "plt.ylabel('Life Expectancy (years)')"
      ],
      "execution_count": null,
      "outputs": [
        {
          "output_type": "execute_result",
          "data": {
            "text/plain": [
              "Text(0, 0.5, 'Life Expectancy (years)')"
            ]
          },
          "metadata": {
            "tags": []
          },
          "execution_count": 102
        },
        {
          "output_type": "display_data",
          "data": {
            "image/png": "[encoded data removed]",
            "text/plain": [
              "<Figure size 432x288 with 1 Axes>"
            ]
          },
          "metadata": {
            "tags": []
          }
        }
      ]
    },
    {
      "cell_type": "code",
      "metadata": {
        "id": "JkI5wA2eq0MV"
      },
      "source": [
        "#the issue with this visualisation is that it represents specific data points but no trends, or lines we can use to \n",
        "#estimate the life expectancy of a city we know the population for \n",
        "#hence we can't plot london which has a population of almost 9 mln people\n",
        "#as we can see on the scatter plot, there is no way we could guess the life expectancy in london \n",
        "# +++ how can the unit on the x axis be changed? its not in mlns, it's not easy to use\n"
      ],
      "execution_count": null,
      "outputs": []
    },
    {
      "cell_type": "markdown",
      "metadata": {
        "id": "NegFX-rjS6jY"
      },
      "source": [
        "## Recap: Joins\n",
        "\n",
        "Pandas has **four** join methods:\n",
        "\n",
        "    - Left Join: use **only** keys from **left** DataFrame. SQL: [left outer join](http://goo.gl/JICveI)\n",
        "    - Right Join: use **only** keys from **right** DataFrame. SQL: [right outer join](http://goo.gl/TrrHjQ)\n",
        "    - Outer Join: use union of **keys from both** DataFrames. SQL: [full outer join](http://goo.gl/bVRqO8)\n",
        "    - Inner Join: use **intersection of keys** from both DataFrames. SQL: [inner join](http://goo.gl/Cf1MF8)"
      ]
    }
  ]
}