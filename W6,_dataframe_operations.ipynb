{
  "nbformat": 4,
  "nbformat_minor": 0,
  "metadata": {
    "kernelspec": {
      "display_name": "Python 3",
      "language": "python",
      "name": "python3"
    },
    "language_info": {
      "codemirror_mode": {
        "name": "ipython",
        "version": 3
      },
      "file_extension": ".py",
      "mimetype": "text/x-python",
      "name": "python",
      "nbconvert_exporter": "python",
      "pygments_lexer": "ipython3",
      "version": "3.7.4"
    },
    "colab": {
      "name": "W6, dataframe operations.ipynb",
      "provenance": [],
      "collapsed_sections": [],
      "toc_visible": true,
      "include_colab_link": true
    }
  },
  "cells": [
    {
      "cell_type": "markdown",
      "metadata": {
        "id": "view-in-github",
        "colab_type": "text"
      },
      "source": [
        "<a href=\"https://colab.research.google.com/github/ineslca/workbooks/blob/main/W6%2C_dataframe_operations.ipynb\" target=\"_parent\"><img src=\"https://colab.research.google.com/assets/colab-badge.svg\" alt=\"Open In Colab\"/></a>"
      ]
    },
    {
      "cell_type": "markdown",
      "metadata": {
        "id": "l59QPrpBfVrh"
      },
      "source": [
        "## Quantitative Methods 2:  Data Science and Visualisation\n",
        "## Workshop 6: Advanced Dataframe Operations\n",
        "\n",
        "Today we will be talking about and using **merging** and **joining** and performing some advanced Dataframe operations."
      ]
    },
    {
      "cell_type": "markdown",
      "metadata": {
        "id": "BIKuOGddfVrj"
      },
      "source": [
        "## Downloading the Data\n",
        "Let's grab the data we will need this week from our course website and save it into our data folder. If you've not already created a data folder then do so using the following command. \n",
        "\n",
        "Don't worry if it generates an error, that means you've already got a data folder."
      ]
    },
    {
      "cell_type": "code",
      "metadata": {
        "id": "TEZ4HT3ofVrk"
      },
      "source": [
        "!mkdir data"
      ],
      "execution_count": null,
      "outputs": []
    },
    {
      "cell_type": "code",
      "metadata": {
        "id": "xbqN01mFfVro",
        "colab": {
          "base_uri": "https://localhost:8080/"
        },
        "outputId": "639e2ed5-379b-4c55-d00f-dc15a57637d3"
      },
      "source": [
        "!mkdir data/wk6\n",
        "!mkdir data/wk6/crimeData\n",
        "\n",
        "!curl https://qm2.s3.eu-west-2.amazonaws.com/wk6/crimeData/2020-03-metropolitan-street.csv -o ./data/wk6/crimeData/2020-03-metropolitan-street.csv\n",
        "!curl https://qm2.s3.eu-west-2.amazonaws.com/wk6/crimeData/2020-04-metropolitan-street.csv -o ./data/wk6/crimeData/2020-04-metropolitan-street.csv\n",
        "!curl https://qm2.s3.eu-west-2.amazonaws.com/wk6/crimeData/2020-05-metropolitan-street.csv -o ./data/wk6/crimeData/2020-05-metropolitan-street.csv\n",
        "!curl https://qm2.s3.eu-west-2.amazonaws.com/wk6/crimeData/2020-06-metropolitan-street.csv -o ./data/wk6/crimeData/2020-06-metropolitan-street.csv\n",
        "!curl https://qm2.s3.eu-west-2.amazonaws.com/wk6/crimeData/2020-07-metropolitan-street.csv -o ./data/wk6/crimeData/2020-07-metropolitan-street.csv\n",
        "!curl https://qm2.s3.eu-west-2.amazonaws.com/wk6/crimeData/2020-08-metropolitan-street.csv -o ./data/wk6/crimeData/2020-08-metropolitan-street.csv\n",
        "!curl https://qm2.s3.eu-west-2.amazonaws.com/wk6/lsoa-data.csv -o ./data/wk6/lsoa-data.csv"
      ],
      "execution_count": null,
      "outputs": [
        {
          "output_type": "stream",
          "text": [
            "mkdir: cannot create directory ‘data/wk6’: File exists\n",
            "mkdir: cannot create directory ‘data/wk6/crimeData’: File exists\n",
            "  % Total    % Received % Xferd  Average Speed   Time    Time     Time  Current\n",
            "                                 Dload  Upload   Total   Spent    Left  Speed\n",
            "100 19.5M  100 19.5M    0     0  32.3M      0 --:--:-- --:--:-- --:--:-- 32.2M\n",
            "  % Total    % Received % Xferd  Average Speed   Time    Time     Time  Current\n",
            "                                 Dload  Upload   Total   Spent    Left  Speed\n",
            "100 21.2M  100 21.2M    0     0  55.4M      0 --:--:-- --:--:-- --:--:-- 55.4M\n",
            "  % Total    % Received % Xferd  Average Speed   Time    Time     Time  Current\n",
            "                                 Dload  Upload   Total   Spent    Left  Speed\n",
            "100 22.6M  100 22.6M    0     0  60.3M      0 --:--:-- --:--:-- --:--:-- 60.3M\n",
            "  % Total    % Received % Xferd  Average Speed   Time    Time     Time  Current\n",
            "                                 Dload  Upload   Total   Spent    Left  Speed\n",
            "100 20.9M  100 20.9M    0     0  53.6M      0 --:--:-- --:--:-- --:--:-- 53.6M\n",
            "  % Total    % Received % Xferd  Average Speed   Time    Time     Time  Current\n",
            "                                 Dload  Upload   Total   Spent    Left  Speed\n",
            "100 21.8M  100 21.8M    0     0  51.5M      0 --:--:-- --:--:-- --:--:-- 51.4M\n",
            "  % Total    % Received % Xferd  Average Speed   Time    Time     Time  Current\n",
            "                                 Dload  Upload   Total   Spent    Left  Speed\n",
            "100 21.8M  100 21.8M    0     0  44.0M      0 --:--:-- --:--:-- --:--:-- 44.0M\n",
            "  % Total    % Received % Xferd  Average Speed   Time    Time     Time  Current\n",
            "                                 Dload  Upload   Total   Spent    Left  Speed\n",
            "100 5300k  100 5300k    0     0  16.5M      0 --:--:-- --:--:-- --:--:-- 16.5M\n"
          ],
          "name": "stdout"
        }
      ]
    },
    {
      "cell_type": "markdown",
      "metadata": {
        "id": "PzMqsmAlfVrr"
      },
      "source": [
        "`--------------------------------`"
      ]
    },
    {
      "cell_type": "markdown",
      "metadata": {
        "id": "P9Gn0MqffVrs"
      },
      "source": [
        "Let's remind ourselves of the two types of join"
      ]
    },
    {
      "cell_type": "code",
      "metadata": {
        "id": "Xg7M9vBKfVrs",
        "colab": {
          "base_uri": "https://localhost:8080/",
          "height": 346
        },
        "outputId": "3f666f48-b587-4c28-a06c-51f15d23dbb6"
      },
      "source": [
        "from IPython.display import Image\n",
        "Image(\"http://danielhammocks.uk/teaching/BASC/wk6/inner_join.png\")"
      ],
      "execution_count": null,
      "outputs": [
        {
          "output_type": "execute_result",
          "data": {
            "image/png": "[encoded data removed]",
            "text/plain": [
              "<IPython.core.display.Image object>"
            ]
          },
          "metadata": {
            "tags": []
          },
          "execution_count": 4
        }
      ]
    },
    {
      "cell_type": "code",
      "metadata": {
        "id": "zgQquflSfVrv",
        "colab": {
          "base_uri": "https://localhost:8080/",
          "height": 346
        },
        "outputId": "c661a3ca-7ecb-404e-a587-37bf62e1537a"
      },
      "source": [
        "Image(\"http://danielhammocks.uk/teaching/BASC/wk6/left_outer_join.png\")"
      ],
      "execution_count": null,
      "outputs": [
        {
          "output_type": "execute_result",
          "data": {
            "image/png": "[encoded data removed]",
            "text/plain": [
              "<IPython.core.display.Image object>"
            ]
          },
          "metadata": {
            "tags": []
          },
          "execution_count": 5
        }
      ]
    },
    {
      "cell_type": "markdown",
      "metadata": {
        "id": "It1tZD89fVrx"
      },
      "source": [
        "We start with an example.\n",
        "\n",
        "Let's create two Dataframes "
      ]
    },
    {
      "cell_type": "code",
      "metadata": {
        "id": "rmeEvZ3GfVry"
      },
      "source": [
        "import matplotlib.pyplot as plt\n",
        "import pandas as pd\n",
        "import numpy as np\n",
        "import random"
      ],
      "execution_count": null,
      "outputs": []
    },
    {
      "cell_type": "code",
      "metadata": {
        "id": "5n-GRhebfVr1"
      },
      "source": [
        "df1 = pd.DataFrame(np.random.randn(5, 5))"
      ],
      "execution_count": null,
      "outputs": []
    },
    {
      "cell_type": "code",
      "metadata": {
        "id": "9qED19N-fVr5",
        "colab": {
          "base_uri": "https://localhost:8080/",
          "height": 198
        },
        "outputId": "8e8db294-959d-42e4-91e2-bae235292b22"
      },
      "source": [
        "df1"
      ],
      "execution_count": null,
      "outputs": [
        {
          "output_type": "execute_result",
          "data": {
            "text/html": [
              "<div>\n",
              "<style scoped>\n",
              "    .dataframe tbody tr th:only-of-type {\n",
              "        vertical-align: middle;\n",
              "    }\n",
              "\n",
              "    .dataframe tbody tr th {\n",
              "        vertical-align: top;\n",
              "    }\n",
              "\n",
              "    .dataframe thead th {\n",
              "        text-align: right;\n",
              "    }\n",
              "</style>\n",
              "<table border=\"1\" class=\"dataframe\">\n",
              "  <thead>\n",
              "    <tr style=\"text-align: right;\">\n",
              "      <th></th>\n",
              "      <th>0</th>\n",
              "      <th>1</th>\n",
              "      <th>2</th>\n",
              "      <th>3</th>\n",
              "      <th>4</th>\n",
              "    </tr>\n",
              "  </thead>\n",
              "  <tbody>\n",
              "    <tr>\n",
              "      <th>0</th>\n",
              "      <td>-1.147125</td>\n",
              "      <td>-1.140432</td>\n",
              "      <td>-0.341734</td>\n",
              "      <td>-2.338761</td>\n",
              "      <td>0.275693</td>\n",
              "    </tr>\n",
              "    <tr>\n",
              "      <th>1</th>\n",
              "      <td>-0.199884</td>\n",
              "      <td>-0.327936</td>\n",
              "      <td>1.442794</td>\n",
              "      <td>2.283854</td>\n",
              "      <td>-0.312242</td>\n",
              "    </tr>\n",
              "    <tr>\n",
              "      <th>2</th>\n",
              "      <td>0.455420</td>\n",
              "      <td>-1.707365</td>\n",
              "      <td>0.488175</td>\n",
              "      <td>-0.107236</td>\n",
              "      <td>-1.040094</td>\n",
              "    </tr>\n",
              "    <tr>\n",
              "      <th>3</th>\n",
              "      <td>1.052298</td>\n",
              "      <td>1.099960</td>\n",
              "      <td>-0.733325</td>\n",
              "      <td>0.138660</td>\n",
              "      <td>1.103515</td>\n",
              "    </tr>\n",
              "    <tr>\n",
              "      <th>4</th>\n",
              "      <td>-2.381680</td>\n",
              "      <td>2.073002</td>\n",
              "      <td>0.790677</td>\n",
              "      <td>-1.911498</td>\n",
              "      <td>2.077473</td>\n",
              "    </tr>\n",
              "  </tbody>\n",
              "</table>\n",
              "</div>"
            ],
            "text/plain": [
              "          0         1         2         3         4\n",
              "0 -1.147125 -1.140432 -0.341734 -2.338761  0.275693\n",
              "1 -0.199884 -0.327936  1.442794  2.283854 -0.312242\n",
              "2  0.455420 -1.707365  0.488175 -0.107236 -1.040094\n",
              "3  1.052298  1.099960 -0.733325  0.138660  1.103515\n",
              "4 -2.381680  2.073002  0.790677 -1.911498  2.077473"
            ]
          },
          "metadata": {
            "tags": []
          },
          "execution_count": 8
        }
      ]
    },
    {
      "cell_type": "code",
      "metadata": {
        "id": "Oun4bI67fVr8"
      },
      "source": [
        "df2 = pd.DataFrame(np.random.randn(3, 5))"
      ],
      "execution_count": null,
      "outputs": []
    },
    {
      "cell_type": "code",
      "metadata": {
        "id": "dtMPdqdnfVsB",
        "colab": {
          "base_uri": "https://localhost:8080/",
          "height": 138
        },
        "outputId": "0870eafb-08d2-43ab-d229-0fd5d8b395c7"
      },
      "source": [
        "df2"
      ],
      "execution_count": null,
      "outputs": [
        {
          "output_type": "execute_result",
          "data": {
            "text/html": [
              "<div>\n",
              "<style scoped>\n",
              "    .dataframe tbody tr th:only-of-type {\n",
              "        vertical-align: middle;\n",
              "    }\n",
              "\n",
              "    .dataframe tbody tr th {\n",
              "        vertical-align: top;\n",
              "    }\n",
              "\n",
              "    .dataframe thead th {\n",
              "        text-align: right;\n",
              "    }\n",
              "</style>\n",
              "<table border=\"1\" class=\"dataframe\">\n",
              "  <thead>\n",
              "    <tr style=\"text-align: right;\">\n",
              "      <th></th>\n",
              "      <th>0</th>\n",
              "      <th>1</th>\n",
              "      <th>2</th>\n",
              "      <th>3</th>\n",
              "      <th>4</th>\n",
              "    </tr>\n",
              "  </thead>\n",
              "  <tbody>\n",
              "    <tr>\n",
              "      <th>0</th>\n",
              "      <td>-1.533467</td>\n",
              "      <td>0.582318</td>\n",
              "      <td>0.294637</td>\n",
              "      <td>1.583048</td>\n",
              "      <td>0.853635</td>\n",
              "    </tr>\n",
              "    <tr>\n",
              "      <th>1</th>\n",
              "      <td>1.468662</td>\n",
              "      <td>0.100342</td>\n",
              "      <td>2.835232</td>\n",
              "      <td>-0.055519</td>\n",
              "      <td>-0.362082</td>\n",
              "    </tr>\n",
              "    <tr>\n",
              "      <th>2</th>\n",
              "      <td>-1.451262</td>\n",
              "      <td>0.276369</td>\n",
              "      <td>1.927570</td>\n",
              "      <td>-0.767134</td>\n",
              "      <td>0.898640</td>\n",
              "    </tr>\n",
              "  </tbody>\n",
              "</table>\n",
              "</div>"
            ],
            "text/plain": [
              "          0         1         2         3         4\n",
              "0 -1.533467  0.582318  0.294637  1.583048  0.853635\n",
              "1  1.468662  0.100342  2.835232 -0.055519 -0.362082\n",
              "2 -1.451262  0.276369  1.927570 -0.767134  0.898640"
            ]
          },
          "metadata": {
            "tags": []
          },
          "execution_count": 10
        }
      ]
    },
    {
      "cell_type": "markdown",
      "metadata": {
        "id": "l_oGrq2YfVsF"
      },
      "source": [
        "Let's merge them by rows. concat does that for us."
      ]
    },
    {
      "cell_type": "code",
      "metadata": {
        "id": "e1s8GgUafVsG"
      },
      "source": [
        "df3 = pd.concat([df1,df2])"
      ],
      "execution_count": null,
      "outputs": []
    },
    {
      "cell_type": "code",
      "metadata": {
        "id": "z-eK4MmofVsI",
        "colab": {
          "base_uri": "https://localhost:8080/",
          "height": 288
        },
        "outputId": "fbd6645f-dc61-4e01-932a-b0af44581332"
      },
      "source": [
        "df3"
      ],
      "execution_count": null,
      "outputs": [
        {
          "output_type": "execute_result",
          "data": {
            "text/html": [
              "<div>\n",
              "<style scoped>\n",
              "    .dataframe tbody tr th:only-of-type {\n",
              "        vertical-align: middle;\n",
              "    }\n",
              "\n",
              "    .dataframe tbody tr th {\n",
              "        vertical-align: top;\n",
              "    }\n",
              "\n",
              "    .dataframe thead th {\n",
              "        text-align: right;\n",
              "    }\n",
              "</style>\n",
              "<table border=\"1\" class=\"dataframe\">\n",
              "  <thead>\n",
              "    <tr style=\"text-align: right;\">\n",
              "      <th></th>\n",
              "      <th>0</th>\n",
              "      <th>1</th>\n",
              "      <th>2</th>\n",
              "      <th>3</th>\n",
              "      <th>4</th>\n",
              "    </tr>\n",
              "  </thead>\n",
              "  <tbody>\n",
              "    <tr>\n",
              "      <th>0</th>\n",
              "      <td>-1.147125</td>\n",
              "      <td>-1.140432</td>\n",
              "      <td>-0.341734</td>\n",
              "      <td>-2.338761</td>\n",
              "      <td>0.275693</td>\n",
              "    </tr>\n",
              "    <tr>\n",
              "      <th>1</th>\n",
              "      <td>-0.199884</td>\n",
              "      <td>-0.327936</td>\n",
              "      <td>1.442794</td>\n",
              "      <td>2.283854</td>\n",
              "      <td>-0.312242</td>\n",
              "    </tr>\n",
              "    <tr>\n",
              "      <th>2</th>\n",
              "      <td>0.455420</td>\n",
              "      <td>-1.707365</td>\n",
              "      <td>0.488175</td>\n",
              "      <td>-0.107236</td>\n",
              "      <td>-1.040094</td>\n",
              "    </tr>\n",
              "    <tr>\n",
              "      <th>3</th>\n",
              "      <td>1.052298</td>\n",
              "      <td>1.099960</td>\n",
              "      <td>-0.733325</td>\n",
              "      <td>0.138660</td>\n",
              "      <td>1.103515</td>\n",
              "    </tr>\n",
              "    <tr>\n",
              "      <th>4</th>\n",
              "      <td>-2.381680</td>\n",
              "      <td>2.073002</td>\n",
              "      <td>0.790677</td>\n",
              "      <td>-1.911498</td>\n",
              "      <td>2.077473</td>\n",
              "    </tr>\n",
              "    <tr>\n",
              "      <th>0</th>\n",
              "      <td>-1.533467</td>\n",
              "      <td>0.582318</td>\n",
              "      <td>0.294637</td>\n",
              "      <td>1.583048</td>\n",
              "      <td>0.853635</td>\n",
              "    </tr>\n",
              "    <tr>\n",
              "      <th>1</th>\n",
              "      <td>1.468662</td>\n",
              "      <td>0.100342</td>\n",
              "      <td>2.835232</td>\n",
              "      <td>-0.055519</td>\n",
              "      <td>-0.362082</td>\n",
              "    </tr>\n",
              "    <tr>\n",
              "      <th>2</th>\n",
              "      <td>-1.451262</td>\n",
              "      <td>0.276369</td>\n",
              "      <td>1.927570</td>\n",
              "      <td>-0.767134</td>\n",
              "      <td>0.898640</td>\n",
              "    </tr>\n",
              "  </tbody>\n",
              "</table>\n",
              "</div>"
            ],
            "text/plain": [
              "          0         1         2         3         4\n",
              "0 -1.147125 -1.140432 -0.341734 -2.338761  0.275693\n",
              "1 -0.199884 -0.327936  1.442794  2.283854 -0.312242\n",
              "2  0.455420 -1.707365  0.488175 -0.107236 -1.040094\n",
              "3  1.052298  1.099960 -0.733325  0.138660  1.103515\n",
              "4 -2.381680  2.073002  0.790677 -1.911498  2.077473\n",
              "0 -1.533467  0.582318  0.294637  1.583048  0.853635\n",
              "1  1.468662  0.100342  2.835232 -0.055519 -0.362082\n",
              "2 -1.451262  0.276369  1.927570 -0.767134  0.898640"
            ]
          },
          "metadata": {
            "tags": []
          },
          "execution_count": 12
        }
      ]
    },
    {
      "cell_type": "markdown",
      "metadata": {
        "id": "aImmd3w-fVsL"
      },
      "source": [
        "What is the problem with the dataframe above? "
      ]
    },
    {
      "cell_type": "code",
      "metadata": {
        "id": "nLsneBK2uue6"
      },
      "source": [
        "#the row index"
      ],
      "execution_count": null,
      "outputs": []
    },
    {
      "cell_type": "markdown",
      "metadata": {
        "id": "J9ZNGJAlfVsO"
      },
      "source": [
        "`-----------------------------------------`   \n",
        "  \n",
        "The solution is to set ignore_index to True."
      ]
    },
    {
      "cell_type": "code",
      "metadata": {
        "id": "rG4ReeUHfVsO"
      },
      "source": [
        "df3 = pd.concat([df1,df2], ignore_index=True)"
      ],
      "execution_count": null,
      "outputs": []
    },
    {
      "cell_type": "code",
      "metadata": {
        "id": "YNictvJHfVsR",
        "colab": {
          "base_uri": "https://localhost:8080/",
          "height": 288
        },
        "outputId": "bc7f5641-3ce3-4728-acf6-4a5199913897"
      },
      "source": [
        "df3"
      ],
      "execution_count": null,
      "outputs": [
        {
          "output_type": "execute_result",
          "data": {
            "text/html": [
              "<div>\n",
              "<style scoped>\n",
              "    .dataframe tbody tr th:only-of-type {\n",
              "        vertical-align: middle;\n",
              "    }\n",
              "\n",
              "    .dataframe tbody tr th {\n",
              "        vertical-align: top;\n",
              "    }\n",
              "\n",
              "    .dataframe thead th {\n",
              "        text-align: right;\n",
              "    }\n",
              "</style>\n",
              "<table border=\"1\" class=\"dataframe\">\n",
              "  <thead>\n",
              "    <tr style=\"text-align: right;\">\n",
              "      <th></th>\n",
              "      <th>0</th>\n",
              "      <th>1</th>\n",
              "      <th>2</th>\n",
              "      <th>3</th>\n",
              "      <th>4</th>\n",
              "    </tr>\n",
              "  </thead>\n",
              "  <tbody>\n",
              "    <tr>\n",
              "      <th>0</th>\n",
              "      <td>-1.147125</td>\n",
              "      <td>-1.140432</td>\n",
              "      <td>-0.341734</td>\n",
              "      <td>-2.338761</td>\n",
              "      <td>0.275693</td>\n",
              "    </tr>\n",
              "    <tr>\n",
              "      <th>1</th>\n",
              "      <td>-0.199884</td>\n",
              "      <td>-0.327936</td>\n",
              "      <td>1.442794</td>\n",
              "      <td>2.283854</td>\n",
              "      <td>-0.312242</td>\n",
              "    </tr>\n",
              "    <tr>\n",
              "      <th>2</th>\n",
              "      <td>0.455420</td>\n",
              "      <td>-1.707365</td>\n",
              "      <td>0.488175</td>\n",
              "      <td>-0.107236</td>\n",
              "      <td>-1.040094</td>\n",
              "    </tr>\n",
              "    <tr>\n",
              "      <th>3</th>\n",
              "      <td>1.052298</td>\n",
              "      <td>1.099960</td>\n",
              "      <td>-0.733325</td>\n",
              "      <td>0.138660</td>\n",
              "      <td>1.103515</td>\n",
              "    </tr>\n",
              "    <tr>\n",
              "      <th>4</th>\n",
              "      <td>-2.381680</td>\n",
              "      <td>2.073002</td>\n",
              "      <td>0.790677</td>\n",
              "      <td>-1.911498</td>\n",
              "      <td>2.077473</td>\n",
              "    </tr>\n",
              "    <tr>\n",
              "      <th>5</th>\n",
              "      <td>-1.533467</td>\n",
              "      <td>0.582318</td>\n",
              "      <td>0.294637</td>\n",
              "      <td>1.583048</td>\n",
              "      <td>0.853635</td>\n",
              "    </tr>\n",
              "    <tr>\n",
              "      <th>6</th>\n",
              "      <td>1.468662</td>\n",
              "      <td>0.100342</td>\n",
              "      <td>2.835232</td>\n",
              "      <td>-0.055519</td>\n",
              "      <td>-0.362082</td>\n",
              "    </tr>\n",
              "    <tr>\n",
              "      <th>7</th>\n",
              "      <td>-1.451262</td>\n",
              "      <td>0.276369</td>\n",
              "      <td>1.927570</td>\n",
              "      <td>-0.767134</td>\n",
              "      <td>0.898640</td>\n",
              "    </tr>\n",
              "  </tbody>\n",
              "</table>\n",
              "</div>"
            ],
            "text/plain": [
              "          0         1         2         3         4\n",
              "0 -1.147125 -1.140432 -0.341734 -2.338761  0.275693\n",
              "1 -0.199884 -0.327936  1.442794  2.283854 -0.312242\n",
              "2  0.455420 -1.707365  0.488175 -0.107236 -1.040094\n",
              "3  1.052298  1.099960 -0.733325  0.138660  1.103515\n",
              "4 -2.381680  2.073002  0.790677 -1.911498  2.077473\n",
              "5 -1.533467  0.582318  0.294637  1.583048  0.853635\n",
              "6  1.468662  0.100342  2.835232 -0.055519 -0.362082\n",
              "7 -1.451262  0.276369  1.927570 -0.767134  0.898640"
            ]
          },
          "metadata": {
            "tags": []
          },
          "execution_count": 14
        }
      ]
    },
    {
      "cell_type": "markdown",
      "metadata": {
        "id": "yk7RVaDifVsT"
      },
      "source": [
        "`ignore_index` is very useful when we want a new DataFrame which only contains data from other DataFrames , but unrelated otherwise. \n"
      ]
    },
    {
      "cell_type": "markdown",
      "metadata": {
        "id": "H70M4aeQv4ih"
      },
      "source": [
        "\n",
        "\n",
        "---\n",
        "\n",
        "Now we want to look at more comlex merge operations, which take in to account the data values."
      ]
    },
    {
      "cell_type": "markdown",
      "metadata": {
        "id": "uf6MJIXNvQ_Q"
      },
      "source": [
        "We have the last 6 months of crime data from the Metropolitan Police force. However, the data is not provided in a single file - it is separated into months. You should create a single dataframe called dataCrime that combines the 6 files.\n",
        "\n",
        "*Hint:* A quick google and search on stack overflow will find you the answer!"
      ]
    },
    {
      "cell_type": "code",
      "metadata": {
        "id": "Ju4z4Y0DvypI"
      },
      "source": [
        "#Enter your code here.\n",
        "crime1 = pd.read_csv('/content/data/wk6/crimeData/2020-03-metropolitan-street.csv')\n",
        "crime2 = pd.read_csv('/content/data/wk6/crimeData/2020-04-metropolitan-street.csv')\n",
        "crime3 = pd.read_csv('/content/data/wk6/crimeData/2020-05-metropolitan-street.csv')\n",
        "crime4 = pd.read_csv('/content/data/wk6/crimeData/2020-06-metropolitan-street.csv')\n",
        "crime5 = pd.read_csv('/content/data/wk6/crimeData/2020-07-metropolitan-street.csv')\n",
        "crime6 = pd.read_csv('/content/data/wk6/crimeData/2020-08-metropolitan-street.csv')"
      ],
      "execution_count": null,
      "outputs": []
    },
    {
      "cell_type": "code",
      "metadata": {
        "colab": {
          "base_uri": "https://localhost:8080/",
          "height": 512
        },
        "id": "agQCCiiCnAdE",
        "outputId": "139fb8a2-6a6b-497d-9a4b-a46d89467fbf"
      },
      "source": [
        "crime1.head()"
      ],
      "execution_count": null,
      "outputs": [
        {
          "output_type": "execute_result",
          "data": {
            "text/html": [
              "<div>\n",
              "<style scoped>\n",
              "    .dataframe tbody tr th:only-of-type {\n",
              "        vertical-align: middle;\n",
              "    }\n",
              "\n",
              "    .dataframe tbody tr th {\n",
              "        vertical-align: top;\n",
              "    }\n",
              "\n",
              "    .dataframe thead th {\n",
              "        text-align: right;\n",
              "    }\n",
              "</style>\n",
              "<table border=\"1\" class=\"dataframe\">\n",
              "  <thead>\n",
              "    <tr style=\"text-align: right;\">\n",
              "      <th></th>\n",
              "      <th>Crime ID</th>\n",
              "      <th>Month</th>\n",
              "      <th>Reported by</th>\n",
              "      <th>Falls within</th>\n",
              "      <th>Longitude</th>\n",
              "      <th>Latitude</th>\n",
              "      <th>Location</th>\n",
              "      <th>LSOA code</th>\n",
              "      <th>LSOA name</th>\n",
              "      <th>Crime type</th>\n",
              "      <th>Last outcome category</th>\n",
              "      <th>Context</th>\n",
              "    </tr>\n",
              "  </thead>\n",
              "  <tbody>\n",
              "    <tr>\n",
              "      <th>0</th>\n",
              "      <td>3123199437da9298db96b9e94b839e24a93efee18f3f5a...</td>\n",
              "      <td>2020-03</td>\n",
              "      <td>Metropolitan Police Service</td>\n",
              "      <td>Metropolitan Police Service</td>\n",
              "      <td>-0.638601</td>\n",
              "      <td>50.836270</td>\n",
              "      <td>On or near Spinney Walk</td>\n",
              "      <td>E01031393</td>\n",
              "      <td>Arun 003A</td>\n",
              "      <td>Violence and sexual offences</td>\n",
              "      <td>Investigation complete; no suspect identified</td>\n",
              "      <td>NaN</td>\n",
              "    </tr>\n",
              "    <tr>\n",
              "      <th>1</th>\n",
              "      <td>NaN</td>\n",
              "      <td>2020-03</td>\n",
              "      <td>Metropolitan Police Service</td>\n",
              "      <td>Metropolitan Police Service</td>\n",
              "      <td>0.135866</td>\n",
              "      <td>51.587336</td>\n",
              "      <td>On or near Gibbfield Close</td>\n",
              "      <td>E01000027</td>\n",
              "      <td>Barking and Dagenham 001A</td>\n",
              "      <td>Anti-social behaviour</td>\n",
              "      <td>NaN</td>\n",
              "      <td>NaN</td>\n",
              "    </tr>\n",
              "    <tr>\n",
              "      <th>2</th>\n",
              "      <td>NaN</td>\n",
              "      <td>2020-03</td>\n",
              "      <td>Metropolitan Police Service</td>\n",
              "      <td>Metropolitan Police Service</td>\n",
              "      <td>0.140192</td>\n",
              "      <td>51.582311</td>\n",
              "      <td>On or near Hatch Grove</td>\n",
              "      <td>E01000027</td>\n",
              "      <td>Barking and Dagenham 001A</td>\n",
              "      <td>Anti-social behaviour</td>\n",
              "      <td>NaN</td>\n",
              "      <td>NaN</td>\n",
              "    </tr>\n",
              "    <tr>\n",
              "      <th>3</th>\n",
              "      <td>3f69f7d8f8a3b261221b1509172d72c8c08f6fb475055b...</td>\n",
              "      <td>2020-03</td>\n",
              "      <td>Metropolitan Police Service</td>\n",
              "      <td>Metropolitan Police Service</td>\n",
              "      <td>0.140035</td>\n",
              "      <td>51.589112</td>\n",
              "      <td>On or near Beansland Grove</td>\n",
              "      <td>E01000027</td>\n",
              "      <td>Barking and Dagenham 001A</td>\n",
              "      <td>Burglary</td>\n",
              "      <td>Investigation complete; no suspect identified</td>\n",
              "      <td>NaN</td>\n",
              "    </tr>\n",
              "    <tr>\n",
              "      <th>4</th>\n",
              "      <td>305415befc01a2a0d966e0a5d58670316ef3e57412d7cb...</td>\n",
              "      <td>2020-03</td>\n",
              "      <td>Metropolitan Police Service</td>\n",
              "      <td>Metropolitan Police Service</td>\n",
              "      <td>0.138906</td>\n",
              "      <td>51.588737</td>\n",
              "      <td>On or near Kingston Hill Avenue</td>\n",
              "      <td>E01000027</td>\n",
              "      <td>Barking and Dagenham 001A</td>\n",
              "      <td>Burglary</td>\n",
              "      <td>Investigation complete; no suspect identified</td>\n",
              "      <td>NaN</td>\n",
              "    </tr>\n",
              "  </tbody>\n",
              "</table>\n",
              "</div>"
            ],
            "text/plain": [
              "                                            Crime ID  ... Context\n",
              "0  3123199437da9298db96b9e94b839e24a93efee18f3f5a...  ...     NaN\n",
              "1                                                NaN  ...     NaN\n",
              "2                                                NaN  ...     NaN\n",
              "3  3f69f7d8f8a3b261221b1509172d72c8c08f6fb475055b...  ...     NaN\n",
              "4  305415befc01a2a0d966e0a5d58670316ef3e57412d7cb...  ...     NaN\n",
              "\n",
              "[5 rows x 12 columns]"
            ]
          },
          "metadata": {
            "tags": []
          },
          "execution_count": 16
        }
      ]
    },
    {
      "cell_type": "code",
      "metadata": {
        "id": "dZHKaaJomouU"
      },
      "source": [
        "dataCrime = pd.concat([crime1,crime2,crime3,crime4,crime5,crime6], ignore_index=True)"
      ],
      "execution_count": null,
      "outputs": []
    },
    {
      "cell_type": "code",
      "metadata": {
        "id": "22pb3F6XfVsW",
        "colab": {
          "base_uri": "https://localhost:8080/",
          "height": 512
        },
        "outputId": "1b7e169e-9a62-46a3-9b77-87b924076f46"
      },
      "source": [
        "#Print the first 5 rows\n",
        "dataCrime.head()"
      ],
      "execution_count": null,
      "outputs": [
        {
          "output_type": "execute_result",
          "data": {
            "text/html": [
              "<div>\n",
              "<style scoped>\n",
              "    .dataframe tbody tr th:only-of-type {\n",
              "        vertical-align: middle;\n",
              "    }\n",
              "\n",
              "    .dataframe tbody tr th {\n",
              "        vertical-align: top;\n",
              "    }\n",
              "\n",
              "    .dataframe thead th {\n",
              "        text-align: right;\n",
              "    }\n",
              "</style>\n",
              "<table border=\"1\" class=\"dataframe\">\n",
              "  <thead>\n",
              "    <tr style=\"text-align: right;\">\n",
              "      <th></th>\n",
              "      <th>Crime ID</th>\n",
              "      <th>Month</th>\n",
              "      <th>Reported by</th>\n",
              "      <th>Falls within</th>\n",
              "      <th>Longitude</th>\n",
              "      <th>Latitude</th>\n",
              "      <th>Location</th>\n",
              "      <th>LSOA code</th>\n",
              "      <th>LSOA name</th>\n",
              "      <th>Crime type</th>\n",
              "      <th>Last outcome category</th>\n",
              "      <th>Context</th>\n",
              "    </tr>\n",
              "  </thead>\n",
              "  <tbody>\n",
              "    <tr>\n",
              "      <th>0</th>\n",
              "      <td>3123199437da9298db96b9e94b839e24a93efee18f3f5a...</td>\n",
              "      <td>2020-03</td>\n",
              "      <td>Metropolitan Police Service</td>\n",
              "      <td>Metropolitan Police Service</td>\n",
              "      <td>-0.638601</td>\n",
              "      <td>50.836270</td>\n",
              "      <td>On or near Spinney Walk</td>\n",
              "      <td>E01031393</td>\n",
              "      <td>Arun 003A</td>\n",
              "      <td>Violence and sexual offences</td>\n",
              "      <td>Investigation complete; no suspect identified</td>\n",
              "      <td>NaN</td>\n",
              "    </tr>\n",
              "    <tr>\n",
              "      <th>1</th>\n",
              "      <td>NaN</td>\n",
              "      <td>2020-03</td>\n",
              "      <td>Metropolitan Police Service</td>\n",
              "      <td>Metropolitan Police Service</td>\n",
              "      <td>0.135866</td>\n",
              "      <td>51.587336</td>\n",
              "      <td>On or near Gibbfield Close</td>\n",
              "      <td>E01000027</td>\n",
              "      <td>Barking and Dagenham 001A</td>\n",
              "      <td>Anti-social behaviour</td>\n",
              "      <td>NaN</td>\n",
              "      <td>NaN</td>\n",
              "    </tr>\n",
              "    <tr>\n",
              "      <th>2</th>\n",
              "      <td>NaN</td>\n",
              "      <td>2020-03</td>\n",
              "      <td>Metropolitan Police Service</td>\n",
              "      <td>Metropolitan Police Service</td>\n",
              "      <td>0.140192</td>\n",
              "      <td>51.582311</td>\n",
              "      <td>On or near Hatch Grove</td>\n",
              "      <td>E01000027</td>\n",
              "      <td>Barking and Dagenham 001A</td>\n",
              "      <td>Anti-social behaviour</td>\n",
              "      <td>NaN</td>\n",
              "      <td>NaN</td>\n",
              "    </tr>\n",
              "    <tr>\n",
              "      <th>3</th>\n",
              "      <td>3f69f7d8f8a3b261221b1509172d72c8c08f6fb475055b...</td>\n",
              "      <td>2020-03</td>\n",
              "      <td>Metropolitan Police Service</td>\n",
              "      <td>Metropolitan Police Service</td>\n",
              "      <td>0.140035</td>\n",
              "      <td>51.589112</td>\n",
              "      <td>On or near Beansland Grove</td>\n",
              "      <td>E01000027</td>\n",
              "      <td>Barking and Dagenham 001A</td>\n",
              "      <td>Burglary</td>\n",
              "      <td>Investigation complete; no suspect identified</td>\n",
              "      <td>NaN</td>\n",
              "    </tr>\n",
              "    <tr>\n",
              "      <th>4</th>\n",
              "      <td>305415befc01a2a0d966e0a5d58670316ef3e57412d7cb...</td>\n",
              "      <td>2020-03</td>\n",
              "      <td>Metropolitan Police Service</td>\n",
              "      <td>Metropolitan Police Service</td>\n",
              "      <td>0.138906</td>\n",
              "      <td>51.588737</td>\n",
              "      <td>On or near Kingston Hill Avenue</td>\n",
              "      <td>E01000027</td>\n",
              "      <td>Barking and Dagenham 001A</td>\n",
              "      <td>Burglary</td>\n",
              "      <td>Investigation complete; no suspect identified</td>\n",
              "      <td>NaN</td>\n",
              "    </tr>\n",
              "  </tbody>\n",
              "</table>\n",
              "</div>"
            ],
            "text/plain": [
              "                                            Crime ID  ... Context\n",
              "0  3123199437da9298db96b9e94b839e24a93efee18f3f5a...  ...     NaN\n",
              "1                                                NaN  ...     NaN\n",
              "2                                                NaN  ...     NaN\n",
              "3  3f69f7d8f8a3b261221b1509172d72c8c08f6fb475055b...  ...     NaN\n",
              "4  305415befc01a2a0d966e0a5d58670316ef3e57412d7cb...  ...     NaN\n",
              "\n",
              "[5 rows x 12 columns]"
            ]
          },
          "metadata": {
            "tags": []
          },
          "execution_count": 19
        }
      ]
    },
    {
      "cell_type": "markdown",
      "metadata": {
        "id": "RfMIcZ6kfVsd"
      },
      "source": [
        "This dataset is not very informative in its current state due to the amount of information it contains. Summarise the number of crimes committed under each category for the last 6 months to provide an broad overview of the crime in London.\n",
        "\n",
        "Hint: You can quickly summarise data in a DataFrame column by using the `value_counts()` method."
      ]
    },
    {
      "cell_type": "code",
      "metadata": {
        "id": "oUMhiIXcblq-",
        "colab": {
          "base_uri": "https://localhost:8080/"
        },
        "outputId": "8274a5c8-59d6-4f38-b582-872a33ff4c56"
      },
      "source": [
        "#Enter Code Here\n",
        "crimeCounts = dataCrime['Crime type'].value_counts()\n",
        "crimeCounts"
      ],
      "execution_count": null,
      "outputs": [
        {
          "output_type": "execute_result",
          "data": {
            "text/plain": [
              "Anti-social behaviour           255293\n",
              "Violence and sexual offences    114095\n",
              "Vehicle crime                    49057\n",
              "Other theft                      35869\n",
              "Drugs                            27830\n",
              "Public order                     27720\n",
              "Burglary                         27152\n",
              "Criminal damage and arson        25549\n",
              "Shoplifting                      15148\n",
              "Bicycle theft                    12306\n",
              "Robbery                          11508\n",
              "Theft from the person            10694\n",
              "Other crime                       4941\n",
              "Possession of weapons             2843\n",
              "Name: Crime type, dtype: int64"
            ]
          },
          "metadata": {
            "tags": []
          },
          "execution_count": 25
        }
      ]
    },
    {
      "cell_type": "markdown",
      "metadata": {
        "id": "507Ff0sHfVsf"
      },
      "source": [
        "Note that the returned data is a `Series`, we can turn it in to a DataFrame quite easily using 'to_frame'. Create a dataframe of the summary data called crimeCounts."
      ]
    },
    {
      "cell_type": "code",
      "metadata": {
        "id": "w3DNIj3mHbvn"
      },
      "source": [
        "crimeCounts = crimeCounts.to_frame()"
      ],
      "execution_count": null,
      "outputs": []
    },
    {
      "cell_type": "code",
      "metadata": {
        "id": "OoOaO4NKfVsj",
        "colab": {
          "base_uri": "https://localhost:8080/",
          "height": 468
        },
        "outputId": "9dde0d68-654a-46f2-d9b6-77e675c9e74a"
      },
      "source": [
        "#View the dataframe\n",
        "crimeCounts"
      ],
      "execution_count": null,
      "outputs": [
        {
          "output_type": "execute_result",
          "data": {
            "text/html": [
              "<div>\n",
              "<style scoped>\n",
              "    .dataframe tbody tr th:only-of-type {\n",
              "        vertical-align: middle;\n",
              "    }\n",
              "\n",
              "    .dataframe tbody tr th {\n",
              "        vertical-align: top;\n",
              "    }\n",
              "\n",
              "    .dataframe thead th {\n",
              "        text-align: right;\n",
              "    }\n",
              "</style>\n",
              "<table border=\"1\" class=\"dataframe\">\n",
              "  <thead>\n",
              "    <tr style=\"text-align: right;\">\n",
              "      <th></th>\n",
              "      <th>Crime type</th>\n",
              "    </tr>\n",
              "  </thead>\n",
              "  <tbody>\n",
              "    <tr>\n",
              "      <th>Anti-social behaviour</th>\n",
              "      <td>255293</td>\n",
              "    </tr>\n",
              "    <tr>\n",
              "      <th>Violence and sexual offences</th>\n",
              "      <td>114095</td>\n",
              "    </tr>\n",
              "    <tr>\n",
              "      <th>Vehicle crime</th>\n",
              "      <td>49057</td>\n",
              "    </tr>\n",
              "    <tr>\n",
              "      <th>Other theft</th>\n",
              "      <td>35869</td>\n",
              "    </tr>\n",
              "    <tr>\n",
              "      <th>Drugs</th>\n",
              "      <td>27830</td>\n",
              "    </tr>\n",
              "    <tr>\n",
              "      <th>Public order</th>\n",
              "      <td>27720</td>\n",
              "    </tr>\n",
              "    <tr>\n",
              "      <th>Burglary</th>\n",
              "      <td>27152</td>\n",
              "    </tr>\n",
              "    <tr>\n",
              "      <th>Criminal damage and arson</th>\n",
              "      <td>25549</td>\n",
              "    </tr>\n",
              "    <tr>\n",
              "      <th>Shoplifting</th>\n",
              "      <td>15148</td>\n",
              "    </tr>\n",
              "    <tr>\n",
              "      <th>Bicycle theft</th>\n",
              "      <td>12306</td>\n",
              "    </tr>\n",
              "    <tr>\n",
              "      <th>Robbery</th>\n",
              "      <td>11508</td>\n",
              "    </tr>\n",
              "    <tr>\n",
              "      <th>Theft from the person</th>\n",
              "      <td>10694</td>\n",
              "    </tr>\n",
              "    <tr>\n",
              "      <th>Other crime</th>\n",
              "      <td>4941</td>\n",
              "    </tr>\n",
              "    <tr>\n",
              "      <th>Possession of weapons</th>\n",
              "      <td>2843</td>\n",
              "    </tr>\n",
              "  </tbody>\n",
              "</table>\n",
              "</div>"
            ],
            "text/plain": [
              "                              Crime type\n",
              "Anti-social behaviour             255293\n",
              "Violence and sexual offences      114095\n",
              "Vehicle crime                      49057\n",
              "Other theft                        35869\n",
              "Drugs                              27830\n",
              "Public order                       27720\n",
              "Burglary                           27152\n",
              "Criminal damage and arson          25549\n",
              "Shoplifting                        15148\n",
              "Bicycle theft                      12306\n",
              "Robbery                            11508\n",
              "Theft from the person              10694\n",
              "Other crime                         4941\n",
              "Possession of weapons               2843"
            ]
          },
          "metadata": {
            "tags": []
          },
          "execution_count": 27
        }
      ]
    },
    {
      "cell_type": "markdown",
      "metadata": {
        "id": "NYVMbuRRfVs9"
      },
      "source": [
        "---\n",
        "# Merging with Real Data - London Demographic Dataset. \n",
        "\n",
        "Socio-economic and demographic factors are often associated with criminality and rates of crime. Using the latest census data lets explore some of these relationships. \n",
        "\n"
      ]
    },
    {
      "cell_type": "code",
      "metadata": {
        "id": "ESDqLYFSfVs9",
        "colab": {
          "base_uri": "https://localhost:8080/",
          "height": 489
        },
        "outputId": "ba865b8f-eb78-41dc-a27f-c59e9b454c28"
      },
      "source": [
        "#Specify the path to the demographic dataset\n",
        "path = './data/wk6/lsoa-data.csv'\n",
        "# Load the demographic dataset as df\n",
        "dataLSOA =  pd.read_csv(path, encoding = 'latin1')\n",
        "\n",
        "#View the first 5 entries\n",
        "dataLSOA.head()"
      ],
      "execution_count": null,
      "outputs": [
        {
          "output_type": "stream",
          "text": [
            "/usr/local/lib/python3.6/dist-packages/IPython/core/interactiveshell.py:2718: DtypeWarning: Columns (174,175,176,178,189,253,254) have mixed types.Specify dtype option on import or set low_memory=False.\n",
            "  interactivity=interactivity, compiler=compiler, result=result)\n"
          ],
          "name": "stderr"
        },
        {
          "output_type": "execute_result",
          "data": {
            "text/html": [
              "<div>\n",
              "<style scoped>\n",
              "    .dataframe tbody tr th:only-of-type {\n",
              "        vertical-align: middle;\n",
              "    }\n",
              "\n",
              "    .dataframe tbody tr th {\n",
              "        vertical-align: top;\n",
              "    }\n",
              "\n",
              "    .dataframe thead th {\n",
              "        text-align: right;\n",
              "    }\n",
              "</style>\n",
              "<table border=\"1\" class=\"dataframe\">\n",
              "  <thead>\n",
              "    <tr style=\"text-align: right;\">\n",
              "      <th></th>\n",
              "      <th>Lower Super Output Area</th>\n",
              "      <th>Names</th>\n",
              "      <th>Mid-year Population Estimates;All Ages;2001</th>\n",
              "      <th>Mid-year Population Estimates;All Ages;2002</th>\n",
              "      <th>Mid-year Population Estimates;All Ages;2003</th>\n",
              "      <th>Mid-year Population Estimates;All Ages;2004</th>\n",
              "      <th>Mid-year Population Estimates;All Ages;2005</th>\n",
              "      <th>Mid-year Population Estimates;All Ages;2006</th>\n",
              "      <th>Mid-year Population Estimates;All Ages;2007</th>\n",
              "      <th>Mid-year Population Estimates;All Ages;2008</th>\n",
              "      <th>Mid-year Population Estimates;All Ages;2009</th>\n",
              "      <th>Mid-year Population Estimates;All Ages;2010</th>\n",
              "      <th>Mid-year Population Estimates;All Ages;2011</th>\n",
              "      <th>Mid-year Population Estimates;All Ages;2012</th>\n",
              "      <th>Mid-year Population Estimates;All Ages;2013</th>\n",
              "      <th>Mid-year Population Estimates;Aged 0-15;2001</th>\n",
              "      <th>Mid-year Population Estimates;Aged 0-15;2002</th>\n",
              "      <th>Mid-year Population Estimates;Aged 0-15;2003</th>\n",
              "      <th>Mid-year Population Estimates;Aged 0-15;2004</th>\n",
              "      <th>Mid-year Population Estimates;Aged 0-15;2005</th>\n",
              "      <th>Mid-year Population Estimates;Aged 0-15;2006</th>\n",
              "      <th>Mid-year Population Estimates;Aged 0-15;2007</th>\n",
              "      <th>Mid-year Population Estimates;Aged 0-15;2008</th>\n",
              "      <th>Mid-year Population Estimates;Aged 0-15;2009</th>\n",
              "      <th>Mid-year Population Estimates;Aged 0-15;2010</th>\n",
              "      <th>Mid-year Population Estimates;Aged 0-15;2011</th>\n",
              "      <th>Mid-year Population Estimates;Aged 0-15;2012</th>\n",
              "      <th>Mid-year Population Estimates;Aged 0-15;2013</th>\n",
              "      <th>Mid-year Population Estimates;Aged 16-29;2001</th>\n",
              "      <th>Mid-year Population Estimates;Aged 16-29;2002</th>\n",
              "      <th>Mid-year Population Estimates;Aged 16-29;2003</th>\n",
              "      <th>Mid-year Population Estimates;Aged 16-29;2004</th>\n",
              "      <th>Mid-year Population Estimates;Aged 16-29;2005</th>\n",
              "      <th>Mid-year Population Estimates;Aged 16-29;2006</th>\n",
              "      <th>Mid-year Population Estimates;Aged 16-29;2007</th>\n",
              "      <th>Mid-year Population Estimates;Aged 16-29;2008</th>\n",
              "      <th>Mid-year Population Estimates;Aged 16-29;2009</th>\n",
              "      <th>Mid-year Population Estimates;Aged 16-29;2010</th>\n",
              "      <th>Mid-year Population Estimates;Aged 16-29;2011</th>\n",
              "      <th>Mid-year Population Estimates;Aged 16-29;2012</th>\n",
              "      <th>...</th>\n",
              "      <th>Car or van availability;Cars per household;2011</th>\n",
              "      <th>Public Transport Accessibility Levels (2014);Number of people in each PTAL level:;0</th>\n",
              "      <th>Public Transport Accessibility Levels (2014);Number of people in each PTAL level:;1a</th>\n",
              "      <th>Public Transport Accessibility Levels (2014);Number of people in each PTAL level:;1b</th>\n",
              "      <th>Public Transport Accessibility Levels (2014);Number of people in each PTAL level:;2</th>\n",
              "      <th>Public Transport Accessibility Levels (2014);Number of people in each PTAL level:;3</th>\n",
              "      <th>Public Transport Accessibility Levels (2014);Number of people in each PTAL level:;4</th>\n",
              "      <th>Public Transport Accessibility Levels (2014);Number of people in each PTAL level:;5</th>\n",
              "      <th>Public Transport Accessibility Levels (2014);Number of people in each PTAL level:;6a</th>\n",
              "      <th>Public Transport Accessibility Levels (2014);Number of people in each PTAL level:;6b</th>\n",
              "      <th>Public Transport Accessibility Levels (2014);Average Score;</th>\n",
              "      <th>Public Transport Accessibility Levels (2014);% 0-1 (poor access)</th>\n",
              "      <th>Public Transport Accessibility Levels (2014);% 2-3 (average access)</th>\n",
              "      <th>Public Transport Accessibility Levels (2014);% 4-6 (good access)</th>\n",
              "      <th>Child Benefit;Total Number of Children;2013</th>\n",
              "      <th>Child Benefit;Total Number of Families Claiming Benefit;2013</th>\n",
              "      <th>Child Benefit;Number of families with 3+ children;2013</th>\n",
              "      <th>Child Benefit;% of families with 3+ children;2013</th>\n",
              "      <th>Household Income, 2011/12;Mean Annual Household Income estimate (£)</th>\n",
              "      <th>Household Income, 2011/12;Median Annual Household Income estimate (£)</th>\n",
              "      <th>Road Casualties;2010;Fatal</th>\n",
              "      <th>Road Casualties;2010;Serious</th>\n",
              "      <th>Road Casualties;2010;Slight</th>\n",
              "      <th>Road Casualties;2010;2010 Total</th>\n",
              "      <th>Road Casualties;2011;Fatal</th>\n",
              "      <th>Road Casualties;2011;Serious</th>\n",
              "      <th>Road Casualties;2011;Slight</th>\n",
              "      <th>Road Casualties;2011;2011 Total</th>\n",
              "      <th>Road Casualties;2012;Fatal</th>\n",
              "      <th>Road Casualties;2012;Serious</th>\n",
              "      <th>Road Casualties;2012;Slight</th>\n",
              "      <th>Road Casualties;2012;2012 Total</th>\n",
              "      <th>Road Casualties;2013;Fatal</th>\n",
              "      <th>Road Casualties;2013;Serious</th>\n",
              "      <th>Road Casualties;2013;Slight</th>\n",
              "      <th>Road Casualties;2013;2013 Total</th>\n",
              "      <th>Road Casualties;2014;Fatal</th>\n",
              "      <th>Road Casualties;2014;Serious</th>\n",
              "      <th>Road Casualties;2014;Slight</th>\n",
              "      <th>Road Casualties;2014;2014 Total</th>\n",
              "    </tr>\n",
              "  </thead>\n",
              "  <tbody>\n",
              "    <tr>\n",
              "      <th>0</th>\n",
              "      <td>E01000907</td>\n",
              "      <td>Camden 001A</td>\n",
              "      <td>1519.0</td>\n",
              "      <td>1538.0</td>\n",
              "      <td>1528.0</td>\n",
              "      <td>1547.0</td>\n",
              "      <td>1593.0</td>\n",
              "      <td>1492.0</td>\n",
              "      <td>1455.0</td>\n",
              "      <td>1457.0</td>\n",
              "      <td>1421.0</td>\n",
              "      <td>1410.0</td>\n",
              "      <td>1431.0</td>\n",
              "      <td>1457.0</td>\n",
              "      <td>1466.0</td>\n",
              "      <td>339.0</td>\n",
              "      <td>349.0</td>\n",
              "      <td>321.0</td>\n",
              "      <td>313.0</td>\n",
              "      <td>333.0</td>\n",
              "      <td>314.0</td>\n",
              "      <td>303.0</td>\n",
              "      <td>312.0</td>\n",
              "      <td>301.0</td>\n",
              "      <td>302.0</td>\n",
              "      <td>296.0</td>\n",
              "      <td>309.0</td>\n",
              "      <td>329.0</td>\n",
              "      <td>347.0</td>\n",
              "      <td>329.0</td>\n",
              "      <td>348.0</td>\n",
              "      <td>348.0</td>\n",
              "      <td>356.0</td>\n",
              "      <td>306.0</td>\n",
              "      <td>298.0</td>\n",
              "      <td>282.0</td>\n",
              "      <td>265.0</td>\n",
              "      <td>245.0</td>\n",
              "      <td>244.0</td>\n",
              "      <td>238.0</td>\n",
              "      <td>...</td>\n",
              "      <td>0.5</td>\n",
              "      <td>0.0</td>\n",
              "      <td>0.0</td>\n",
              "      <td>0.0</td>\n",
              "      <td>15.0</td>\n",
              "      <td>759.0</td>\n",
              "      <td>439.0</td>\n",
              "      <td>217.0</td>\n",
              "      <td>0.0</td>\n",
              "      <td>0.0</td>\n",
              "      <td>4.6</td>\n",
              "      <td>0.0</td>\n",
              "      <td>54.1</td>\n",
              "      <td>45.9</td>\n",
              "      <td>315.0</td>\n",
              "      <td>180.0</td>\n",
              "      <td>35</td>\n",
              "      <td>19.4</td>\n",
              "      <td>39985.0</td>\n",
              "      <td>30223.0</td>\n",
              "      <td>0.0</td>\n",
              "      <td>0.0</td>\n",
              "      <td>2.0</td>\n",
              "      <td>2.0</td>\n",
              "      <td>0.0</td>\n",
              "      <td>0.0</td>\n",
              "      <td>1.0</td>\n",
              "      <td>1.0</td>\n",
              "      <td>0.0</td>\n",
              "      <td>2.0</td>\n",
              "      <td>0.0</td>\n",
              "      <td>2.0</td>\n",
              "      <td>0.0</td>\n",
              "      <td>0.0</td>\n",
              "      <td>0.0</td>\n",
              "      <td>0.0</td>\n",
              "      <td>0.0</td>\n",
              "      <td>0.0</td>\n",
              "      <td>0.0</td>\n",
              "      <td>0.0</td>\n",
              "    </tr>\n",
              "    <tr>\n",
              "      <th>1</th>\n",
              "      <td>E01000908</td>\n",
              "      <td>Camden 001B</td>\n",
              "      <td>1547.0</td>\n",
              "      <td>1577.0</td>\n",
              "      <td>1605.0</td>\n",
              "      <td>1637.0</td>\n",
              "      <td>1629.0</td>\n",
              "      <td>1598.0</td>\n",
              "      <td>1605.0</td>\n",
              "      <td>1526.0</td>\n",
              "      <td>1528.0</td>\n",
              "      <td>1497.0</td>\n",
              "      <td>1564.0</td>\n",
              "      <td>1605.0</td>\n",
              "      <td>1647.0</td>\n",
              "      <td>229.0</td>\n",
              "      <td>238.0</td>\n",
              "      <td>221.0</td>\n",
              "      <td>241.0</td>\n",
              "      <td>239.0</td>\n",
              "      <td>237.0</td>\n",
              "      <td>241.0</td>\n",
              "      <td>251.0</td>\n",
              "      <td>258.0</td>\n",
              "      <td>265.0</td>\n",
              "      <td>284.0</td>\n",
              "      <td>324.0</td>\n",
              "      <td>344.0</td>\n",
              "      <td>264.0</td>\n",
              "      <td>247.0</td>\n",
              "      <td>247.0</td>\n",
              "      <td>251.0</td>\n",
              "      <td>264.0</td>\n",
              "      <td>257.0</td>\n",
              "      <td>256.0</td>\n",
              "      <td>222.0</td>\n",
              "      <td>220.0</td>\n",
              "      <td>207.0</td>\n",
              "      <td>241.0</td>\n",
              "      <td>236.0</td>\n",
              "      <td>...</td>\n",
              "      <td>0.5</td>\n",
              "      <td>0.0</td>\n",
              "      <td>0.0</td>\n",
              "      <td>532.0</td>\n",
              "      <td>745.0</td>\n",
              "      <td>303.0</td>\n",
              "      <td>0.0</td>\n",
              "      <td>0.0</td>\n",
              "      <td>0.0</td>\n",
              "      <td>0.0</td>\n",
              "      <td>2.9</td>\n",
              "      <td>33.7</td>\n",
              "      <td>66.3</td>\n",
              "      <td>0.0</td>\n",
              "      <td>260.0</td>\n",
              "      <td>160.0</td>\n",
              "      <td>20</td>\n",
              "      <td>12.5</td>\n",
              "      <td>42394.0</td>\n",
              "      <td>32049.0</td>\n",
              "      <td>0.0</td>\n",
              "      <td>1.0</td>\n",
              "      <td>0.0</td>\n",
              "      <td>1.0</td>\n",
              "      <td>0.0</td>\n",
              "      <td>0.0</td>\n",
              "      <td>0.0</td>\n",
              "      <td>0.0</td>\n",
              "      <td>0.0</td>\n",
              "      <td>0.0</td>\n",
              "      <td>1.0</td>\n",
              "      <td>1.0</td>\n",
              "      <td>0.0</td>\n",
              "      <td>1.0</td>\n",
              "      <td>0.0</td>\n",
              "      <td>1.0</td>\n",
              "      <td>0.0</td>\n",
              "      <td>0.0</td>\n",
              "      <td>0.0</td>\n",
              "      <td>0.0</td>\n",
              "    </tr>\n",
              "    <tr>\n",
              "      <th>2</th>\n",
              "      <td>E01000909</td>\n",
              "      <td>Camden 001C</td>\n",
              "      <td>1600.0</td>\n",
              "      <td>1598.0</td>\n",
              "      <td>1618.0</td>\n",
              "      <td>1634.0</td>\n",
              "      <td>1610.0</td>\n",
              "      <td>1635.0</td>\n",
              "      <td>1615.0</td>\n",
              "      <td>1584.0</td>\n",
              "      <td>1560.0</td>\n",
              "      <td>1593.0</td>\n",
              "      <td>1602.0</td>\n",
              "      <td>1594.0</td>\n",
              "      <td>1642.0</td>\n",
              "      <td>324.0</td>\n",
              "      <td>300.0</td>\n",
              "      <td>304.0</td>\n",
              "      <td>281.0</td>\n",
              "      <td>275.0</td>\n",
              "      <td>293.0</td>\n",
              "      <td>263.0</td>\n",
              "      <td>252.0</td>\n",
              "      <td>243.0</td>\n",
              "      <td>248.0</td>\n",
              "      <td>238.0</td>\n",
              "      <td>233.0</td>\n",
              "      <td>252.0</td>\n",
              "      <td>278.0</td>\n",
              "      <td>295.0</td>\n",
              "      <td>288.0</td>\n",
              "      <td>289.0</td>\n",
              "      <td>293.0</td>\n",
              "      <td>290.0</td>\n",
              "      <td>294.0</td>\n",
              "      <td>274.0</td>\n",
              "      <td>270.0</td>\n",
              "      <td>271.0</td>\n",
              "      <td>287.0</td>\n",
              "      <td>271.0</td>\n",
              "      <td>...</td>\n",
              "      <td>0.9</td>\n",
              "      <td>0.0</td>\n",
              "      <td>0.0</td>\n",
              "      <td>0.0</td>\n",
              "      <td>1192.0</td>\n",
              "      <td>422.0</td>\n",
              "      <td>0.0</td>\n",
              "      <td>0.0</td>\n",
              "      <td>0.0</td>\n",
              "      <td>0.0</td>\n",
              "      <td>3.3</td>\n",
              "      <td>0.0</td>\n",
              "      <td>100.0</td>\n",
              "      <td>0.0</td>\n",
              "      <td>185.0</td>\n",
              "      <td>115.0</td>\n",
              "      <td>15</td>\n",
              "      <td>13.0</td>\n",
              "      <td>77370.0</td>\n",
              "      <td>58469.0</td>\n",
              "      <td>0.0</td>\n",
              "      <td>0.0</td>\n",
              "      <td>2.0</td>\n",
              "      <td>2.0</td>\n",
              "      <td>0.0</td>\n",
              "      <td>0.0</td>\n",
              "      <td>1.0</td>\n",
              "      <td>1.0</td>\n",
              "      <td>0.0</td>\n",
              "      <td>0.0</td>\n",
              "      <td>0.0</td>\n",
              "      <td>0.0</td>\n",
              "      <td>0.0</td>\n",
              "      <td>1.0</td>\n",
              "      <td>1.0</td>\n",
              "      <td>2.0</td>\n",
              "      <td>0.0</td>\n",
              "      <td>1.0</td>\n",
              "      <td>2.0</td>\n",
              "      <td>3.0</td>\n",
              "    </tr>\n",
              "    <tr>\n",
              "      <th>3</th>\n",
              "      <td>E01000912</td>\n",
              "      <td>Camden 001D</td>\n",
              "      <td>1738.0</td>\n",
              "      <td>1728.0</td>\n",
              "      <td>1678.0</td>\n",
              "      <td>1707.0</td>\n",
              "      <td>1710.0</td>\n",
              "      <td>1669.0</td>\n",
              "      <td>1645.0</td>\n",
              "      <td>1618.0</td>\n",
              "      <td>1593.0</td>\n",
              "      <td>1542.0</td>\n",
              "      <td>1589.0</td>\n",
              "      <td>1625.0</td>\n",
              "      <td>1653.0</td>\n",
              "      <td>309.0</td>\n",
              "      <td>279.0</td>\n",
              "      <td>268.0</td>\n",
              "      <td>254.0</td>\n",
              "      <td>257.0</td>\n",
              "      <td>237.0</td>\n",
              "      <td>233.0</td>\n",
              "      <td>246.0</td>\n",
              "      <td>262.0</td>\n",
              "      <td>262.0</td>\n",
              "      <td>257.0</td>\n",
              "      <td>270.0</td>\n",
              "      <td>274.0</td>\n",
              "      <td>459.0</td>\n",
              "      <td>456.0</td>\n",
              "      <td>426.0</td>\n",
              "      <td>445.0</td>\n",
              "      <td>428.0</td>\n",
              "      <td>422.0</td>\n",
              "      <td>392.0</td>\n",
              "      <td>387.0</td>\n",
              "      <td>345.0</td>\n",
              "      <td>320.0</td>\n",
              "      <td>356.0</td>\n",
              "      <td>373.0</td>\n",
              "      <td>...</td>\n",
              "      <td>0.4</td>\n",
              "      <td>0.0</td>\n",
              "      <td>0.0</td>\n",
              "      <td>0.0</td>\n",
              "      <td>0.0</td>\n",
              "      <td>928.0</td>\n",
              "      <td>312.0</td>\n",
              "      <td>348.0</td>\n",
              "      <td>0.0</td>\n",
              "      <td>0.0</td>\n",
              "      <td>4.6</td>\n",
              "      <td>0.0</td>\n",
              "      <td>58.4</td>\n",
              "      <td>41.6</td>\n",
              "      <td>290.0</td>\n",
              "      <td>160.0</td>\n",
              "      <td>30</td>\n",
              "      <td>18.8</td>\n",
              "      <td>41737.0</td>\n",
              "      <td>31551.0</td>\n",
              "      <td>0.0</td>\n",
              "      <td>2.0</td>\n",
              "      <td>5.0</td>\n",
              "      <td>7.0</td>\n",
              "      <td>0.0</td>\n",
              "      <td>2.0</td>\n",
              "      <td>10.0</td>\n",
              "      <td>12.0</td>\n",
              "      <td>0.0</td>\n",
              "      <td>0.0</td>\n",
              "      <td>9.0</td>\n",
              "      <td>9.0</td>\n",
              "      <td>0.0</td>\n",
              "      <td>1.0</td>\n",
              "      <td>10.0</td>\n",
              "      <td>11.0</td>\n",
              "      <td>0.0</td>\n",
              "      <td>0.0</td>\n",
              "      <td>7.0</td>\n",
              "      <td>7.0</td>\n",
              "    </tr>\n",
              "    <tr>\n",
              "      <th>4</th>\n",
              "      <td>E01000913</td>\n",
              "      <td>Camden 001E</td>\n",
              "      <td>1617.0</td>\n",
              "      <td>1676.0</td>\n",
              "      <td>1662.0</td>\n",
              "      <td>1714.0</td>\n",
              "      <td>1705.0</td>\n",
              "      <td>1690.0</td>\n",
              "      <td>1716.0</td>\n",
              "      <td>1657.0</td>\n",
              "      <td>1663.0</td>\n",
              "      <td>1709.0</td>\n",
              "      <td>1695.0</td>\n",
              "      <td>1776.0</td>\n",
              "      <td>1827.0</td>\n",
              "      <td>293.0</td>\n",
              "      <td>302.0</td>\n",
              "      <td>296.0</td>\n",
              "      <td>302.0</td>\n",
              "      <td>310.0</td>\n",
              "      <td>290.0</td>\n",
              "      <td>303.0</td>\n",
              "      <td>296.0</td>\n",
              "      <td>303.0</td>\n",
              "      <td>312.0</td>\n",
              "      <td>292.0</td>\n",
              "      <td>313.0</td>\n",
              "      <td>337.0</td>\n",
              "      <td>294.0</td>\n",
              "      <td>283.0</td>\n",
              "      <td>276.0</td>\n",
              "      <td>272.0</td>\n",
              "      <td>251.0</td>\n",
              "      <td>267.0</td>\n",
              "      <td>246.0</td>\n",
              "      <td>217.0</td>\n",
              "      <td>211.0</td>\n",
              "      <td>199.0</td>\n",
              "      <td>216.0</td>\n",
              "      <td>223.0</td>\n",
              "      <td>...</td>\n",
              "      <td>1.2</td>\n",
              "      <td>0.0</td>\n",
              "      <td>51.0</td>\n",
              "      <td>423.0</td>\n",
              "      <td>1043.0</td>\n",
              "      <td>185.0</td>\n",
              "      <td>8.0</td>\n",
              "      <td>0.0</td>\n",
              "      <td>0.0</td>\n",
              "      <td>0.0</td>\n",
              "      <td>2.8</td>\n",
              "      <td>27.8</td>\n",
              "      <td>71.8</td>\n",
              "      <td>0.5</td>\n",
              "      <td>190.0</td>\n",
              "      <td>105.0</td>\n",
              "      <td>20</td>\n",
              "      <td>19.0</td>\n",
              "      <td>96649.0</td>\n",
              "      <td>73024.0</td>\n",
              "      <td>0.0</td>\n",
              "      <td>1.0</td>\n",
              "      <td>6.0</td>\n",
              "      <td>7.0</td>\n",
              "      <td>0.0</td>\n",
              "      <td>0.0</td>\n",
              "      <td>2.0</td>\n",
              "      <td>2.0</td>\n",
              "      <td>0.0</td>\n",
              "      <td>3.0</td>\n",
              "      <td>8.0</td>\n",
              "      <td>11.0</td>\n",
              "      <td>0.0</td>\n",
              "      <td>1.0</td>\n",
              "      <td>6.0</td>\n",
              "      <td>7.0</td>\n",
              "      <td>0.0</td>\n",
              "      <td>1.0</td>\n",
              "      <td>13.0</td>\n",
              "      <td>14.0</td>\n",
              "    </tr>\n",
              "  </tbody>\n",
              "</table>\n",
              "<p>5 rows × 277 columns</p>\n",
              "</div>"
            ],
            "text/plain": [
              "  Lower Super Output Area  ... Road Casualties;2014;2014 Total\n",
              "0               E01000907  ...                             0.0\n",
              "1               E01000908  ...                             0.0\n",
              "2               E01000909  ...                             3.0\n",
              "3               E01000912  ...                             7.0\n",
              "4               E01000913  ...                            14.0\n",
              "\n",
              "[5 rows x 277 columns]"
            ]
          },
          "metadata": {
            "tags": []
          },
          "execution_count": 28
        }
      ]
    },
    {
      "cell_type": "markdown",
      "metadata": {
        "id": "fJFqpVh2oMcA"
      },
      "source": [
        "Merge the dataCrime and dataLSOA dataframes into a single dataframe called dataLondon."
      ]
    },
    {
      "cell_type": "code",
      "metadata": {
        "id": "xrHqCPOEfVtB"
      },
      "source": [
        "#Enter your code here.\n",
        "dataLondon = pd.concat([dataCrime,dataLSOA],ignore_index=True)"
      ],
      "execution_count": null,
      "outputs": []
    },
    {
      "cell_type": "code",
      "metadata": {
        "id": "gaNnC0wLfVtH",
        "colab": {
          "base_uri": "https://localhost:8080/",
          "height": 627
        },
        "outputId": "9a3469b7-48c3-4f13-b0bf-c12edb3cdaf8"
      },
      "source": [
        "#View the combined dataset\n",
        "dataLondon.head()"
      ],
      "execution_count": null,
      "outputs": [
        {
          "output_type": "execute_result",
          "data": {
            "text/html": [
              "<div>\n",
              "<style scoped>\n",
              "    .dataframe tbody tr th:only-of-type {\n",
              "        vertical-align: middle;\n",
              "    }\n",
              "\n",
              "    .dataframe tbody tr th {\n",
              "        vertical-align: top;\n",
              "    }\n",
              "\n",
              "    .dataframe thead th {\n",
              "        text-align: right;\n",
              "    }\n",
              "</style>\n",
              "<table border=\"1\" class=\"dataframe\">\n",
              "  <thead>\n",
              "    <tr style=\"text-align: right;\">\n",
              "      <th></th>\n",
              "      <th>Crime ID</th>\n",
              "      <th>Month</th>\n",
              "      <th>Reported by</th>\n",
              "      <th>Falls within</th>\n",
              "      <th>Longitude</th>\n",
              "      <th>Latitude</th>\n",
              "      <th>Location</th>\n",
              "      <th>LSOA code</th>\n",
              "      <th>LSOA name</th>\n",
              "      <th>Crime type</th>\n",
              "      <th>Last outcome category</th>\n",
              "      <th>Context</th>\n",
              "      <th>Lower Super Output Area</th>\n",
              "      <th>Names</th>\n",
              "      <th>Mid-year Population Estimates;All Ages;2001</th>\n",
              "      <th>Mid-year Population Estimates;All Ages;2002</th>\n",
              "      <th>Mid-year Population Estimates;All Ages;2003</th>\n",
              "      <th>Mid-year Population Estimates;All Ages;2004</th>\n",
              "      <th>Mid-year Population Estimates;All Ages;2005</th>\n",
              "      <th>Mid-year Population Estimates;All Ages;2006</th>\n",
              "      <th>Mid-year Population Estimates;All Ages;2007</th>\n",
              "      <th>Mid-year Population Estimates;All Ages;2008</th>\n",
              "      <th>Mid-year Population Estimates;All Ages;2009</th>\n",
              "      <th>Mid-year Population Estimates;All Ages;2010</th>\n",
              "      <th>Mid-year Population Estimates;All Ages;2011</th>\n",
              "      <th>Mid-year Population Estimates;All Ages;2012</th>\n",
              "      <th>Mid-year Population Estimates;All Ages;2013</th>\n",
              "      <th>Mid-year Population Estimates;Aged 0-15;2001</th>\n",
              "      <th>Mid-year Population Estimates;Aged 0-15;2002</th>\n",
              "      <th>Mid-year Population Estimates;Aged 0-15;2003</th>\n",
              "      <th>Mid-year Population Estimates;Aged 0-15;2004</th>\n",
              "      <th>Mid-year Population Estimates;Aged 0-15;2005</th>\n",
              "      <th>Mid-year Population Estimates;Aged 0-15;2006</th>\n",
              "      <th>Mid-year Population Estimates;Aged 0-15;2007</th>\n",
              "      <th>Mid-year Population Estimates;Aged 0-15;2008</th>\n",
              "      <th>Mid-year Population Estimates;Aged 0-15;2009</th>\n",
              "      <th>Mid-year Population Estimates;Aged 0-15;2010</th>\n",
              "      <th>Mid-year Population Estimates;Aged 0-15;2011</th>\n",
              "      <th>Mid-year Population Estimates;Aged 0-15;2012</th>\n",
              "      <th>Mid-year Population Estimates;Aged 0-15;2013</th>\n",
              "      <th>...</th>\n",
              "      <th>Car or van availability;Cars per household;2011</th>\n",
              "      <th>Public Transport Accessibility Levels (2014);Number of people in each PTAL level:;0</th>\n",
              "      <th>Public Transport Accessibility Levels (2014);Number of people in each PTAL level:;1a</th>\n",
              "      <th>Public Transport Accessibility Levels (2014);Number of people in each PTAL level:;1b</th>\n",
              "      <th>Public Transport Accessibility Levels (2014);Number of people in each PTAL level:;2</th>\n",
              "      <th>Public Transport Accessibility Levels (2014);Number of people in each PTAL level:;3</th>\n",
              "      <th>Public Transport Accessibility Levels (2014);Number of people in each PTAL level:;4</th>\n",
              "      <th>Public Transport Accessibility Levels (2014);Number of people in each PTAL level:;5</th>\n",
              "      <th>Public Transport Accessibility Levels (2014);Number of people in each PTAL level:;6a</th>\n",
              "      <th>Public Transport Accessibility Levels (2014);Number of people in each PTAL level:;6b</th>\n",
              "      <th>Public Transport Accessibility Levels (2014);Average Score;</th>\n",
              "      <th>Public Transport Accessibility Levels (2014);% 0-1 (poor access)</th>\n",
              "      <th>Public Transport Accessibility Levels (2014);% 2-3 (average access)</th>\n",
              "      <th>Public Transport Accessibility Levels (2014);% 4-6 (good access)</th>\n",
              "      <th>Child Benefit;Total Number of Children;2013</th>\n",
              "      <th>Child Benefit;Total Number of Families Claiming Benefit;2013</th>\n",
              "      <th>Child Benefit;Number of families with 3+ children;2013</th>\n",
              "      <th>Child Benefit;% of families with 3+ children;2013</th>\n",
              "      <th>Household Income, 2011/12;Mean Annual Household Income estimate (£)</th>\n",
              "      <th>Household Income, 2011/12;Median Annual Household Income estimate (£)</th>\n",
              "      <th>Road Casualties;2010;Fatal</th>\n",
              "      <th>Road Casualties;2010;Serious</th>\n",
              "      <th>Road Casualties;2010;Slight</th>\n",
              "      <th>Road Casualties;2010;2010 Total</th>\n",
              "      <th>Road Casualties;2011;Fatal</th>\n",
              "      <th>Road Casualties;2011;Serious</th>\n",
              "      <th>Road Casualties;2011;Slight</th>\n",
              "      <th>Road Casualties;2011;2011 Total</th>\n",
              "      <th>Road Casualties;2012;Fatal</th>\n",
              "      <th>Road Casualties;2012;Serious</th>\n",
              "      <th>Road Casualties;2012;Slight</th>\n",
              "      <th>Road Casualties;2012;2012 Total</th>\n",
              "      <th>Road Casualties;2013;Fatal</th>\n",
              "      <th>Road Casualties;2013;Serious</th>\n",
              "      <th>Road Casualties;2013;Slight</th>\n",
              "      <th>Road Casualties;2013;2013 Total</th>\n",
              "      <th>Road Casualties;2014;Fatal</th>\n",
              "      <th>Road Casualties;2014;Serious</th>\n",
              "      <th>Road Casualties;2014;Slight</th>\n",
              "      <th>Road Casualties;2014;2014 Total</th>\n",
              "    </tr>\n",
              "  </thead>\n",
              "  <tbody>\n",
              "    <tr>\n",
              "      <th>0</th>\n",
              "      <td>3123199437da9298db96b9e94b839e24a93efee18f3f5a...</td>\n",
              "      <td>2020-03</td>\n",
              "      <td>Metropolitan Police Service</td>\n",
              "      <td>Metropolitan Police Service</td>\n",
              "      <td>-0.638601</td>\n",
              "      <td>50.836270</td>\n",
              "      <td>On or near Spinney Walk</td>\n",
              "      <td>E01031393</td>\n",
              "      <td>Arun 003A</td>\n",
              "      <td>Violence and sexual offences</td>\n",
              "      <td>Investigation complete; no suspect identified</td>\n",
              "      <td>NaN</td>\n",
              "      <td>NaN</td>\n",
              "      <td>NaN</td>\n",
              "      <td>NaN</td>\n",
              "      <td>NaN</td>\n",
              "      <td>NaN</td>\n",
              "      <td>NaN</td>\n",
              "      <td>NaN</td>\n",
              "      <td>NaN</td>\n",
              "      <td>NaN</td>\n",
              "      <td>NaN</td>\n",
              "      <td>NaN</td>\n",
              "      <td>NaN</td>\n",
              "      <td>NaN</td>\n",
              "      <td>NaN</td>\n",
              "      <td>NaN</td>\n",
              "      <td>NaN</td>\n",
              "      <td>NaN</td>\n",
              "      <td>NaN</td>\n",
              "      <td>NaN</td>\n",
              "      <td>NaN</td>\n",
              "      <td>NaN</td>\n",
              "      <td>NaN</td>\n",
              "      <td>NaN</td>\n",
              "      <td>NaN</td>\n",
              "      <td>NaN</td>\n",
              "      <td>NaN</td>\n",
              "      <td>NaN</td>\n",
              "      <td>NaN</td>\n",
              "      <td>...</td>\n",
              "      <td>NaN</td>\n",
              "      <td>NaN</td>\n",
              "      <td>NaN</td>\n",
              "      <td>NaN</td>\n",
              "      <td>NaN</td>\n",
              "      <td>NaN</td>\n",
              "      <td>NaN</td>\n",
              "      <td>NaN</td>\n",
              "      <td>NaN</td>\n",
              "      <td>NaN</td>\n",
              "      <td>NaN</td>\n",
              "      <td>NaN</td>\n",
              "      <td>NaN</td>\n",
              "      <td>NaN</td>\n",
              "      <td>NaN</td>\n",
              "      <td>NaN</td>\n",
              "      <td>NaN</td>\n",
              "      <td>NaN</td>\n",
              "      <td>NaN</td>\n",
              "      <td>NaN</td>\n",
              "      <td>NaN</td>\n",
              "      <td>NaN</td>\n",
              "      <td>NaN</td>\n",
              "      <td>NaN</td>\n",
              "      <td>NaN</td>\n",
              "      <td>NaN</td>\n",
              "      <td>NaN</td>\n",
              "      <td>NaN</td>\n",
              "      <td>NaN</td>\n",
              "      <td>NaN</td>\n",
              "      <td>NaN</td>\n",
              "      <td>NaN</td>\n",
              "      <td>NaN</td>\n",
              "      <td>NaN</td>\n",
              "      <td>NaN</td>\n",
              "      <td>NaN</td>\n",
              "      <td>NaN</td>\n",
              "      <td>NaN</td>\n",
              "      <td>NaN</td>\n",
              "      <td>NaN</td>\n",
              "    </tr>\n",
              "    <tr>\n",
              "      <th>1</th>\n",
              "      <td>NaN</td>\n",
              "      <td>2020-03</td>\n",
              "      <td>Metropolitan Police Service</td>\n",
              "      <td>Metropolitan Police Service</td>\n",
              "      <td>0.135866</td>\n",
              "      <td>51.587336</td>\n",
              "      <td>On or near Gibbfield Close</td>\n",
              "      <td>E01000027</td>\n",
              "      <td>Barking and Dagenham 001A</td>\n",
              "      <td>Anti-social behaviour</td>\n",
              "      <td>NaN</td>\n",
              "      <td>NaN</td>\n",
              "      <td>NaN</td>\n",
              "      <td>NaN</td>\n",
              "      <td>NaN</td>\n",
              "      <td>NaN</td>\n",
              "      <td>NaN</td>\n",
              "      <td>NaN</td>\n",
              "      <td>NaN</td>\n",
              "      <td>NaN</td>\n",
              "      <td>NaN</td>\n",
              "      <td>NaN</td>\n",
              "      <td>NaN</td>\n",
              "      <td>NaN</td>\n",
              "      <td>NaN</td>\n",
              "      <td>NaN</td>\n",
              "      <td>NaN</td>\n",
              "      <td>NaN</td>\n",
              "      <td>NaN</td>\n",
              "      <td>NaN</td>\n",
              "      <td>NaN</td>\n",
              "      <td>NaN</td>\n",
              "      <td>NaN</td>\n",
              "      <td>NaN</td>\n",
              "      <td>NaN</td>\n",
              "      <td>NaN</td>\n",
              "      <td>NaN</td>\n",
              "      <td>NaN</td>\n",
              "      <td>NaN</td>\n",
              "      <td>NaN</td>\n",
              "      <td>...</td>\n",
              "      <td>NaN</td>\n",
              "      <td>NaN</td>\n",
              "      <td>NaN</td>\n",
              "      <td>NaN</td>\n",
              "      <td>NaN</td>\n",
              "      <td>NaN</td>\n",
              "      <td>NaN</td>\n",
              "      <td>NaN</td>\n",
              "      <td>NaN</td>\n",
              "      <td>NaN</td>\n",
              "      <td>NaN</td>\n",
              "      <td>NaN</td>\n",
              "      <td>NaN</td>\n",
              "      <td>NaN</td>\n",
              "      <td>NaN</td>\n",
              "      <td>NaN</td>\n",
              "      <td>NaN</td>\n",
              "      <td>NaN</td>\n",
              "      <td>NaN</td>\n",
              "      <td>NaN</td>\n",
              "      <td>NaN</td>\n",
              "      <td>NaN</td>\n",
              "      <td>NaN</td>\n",
              "      <td>NaN</td>\n",
              "      <td>NaN</td>\n",
              "      <td>NaN</td>\n",
              "      <td>NaN</td>\n",
              "      <td>NaN</td>\n",
              "      <td>NaN</td>\n",
              "      <td>NaN</td>\n",
              "      <td>NaN</td>\n",
              "      <td>NaN</td>\n",
              "      <td>NaN</td>\n",
              "      <td>NaN</td>\n",
              "      <td>NaN</td>\n",
              "      <td>NaN</td>\n",
              "      <td>NaN</td>\n",
              "      <td>NaN</td>\n",
              "      <td>NaN</td>\n",
              "      <td>NaN</td>\n",
              "    </tr>\n",
              "    <tr>\n",
              "      <th>2</th>\n",
              "      <td>NaN</td>\n",
              "      <td>2020-03</td>\n",
              "      <td>Metropolitan Police Service</td>\n",
              "      <td>Metropolitan Police Service</td>\n",
              "      <td>0.140192</td>\n",
              "      <td>51.582311</td>\n",
              "      <td>On or near Hatch Grove</td>\n",
              "      <td>E01000027</td>\n",
              "      <td>Barking and Dagenham 001A</td>\n",
              "      <td>Anti-social behaviour</td>\n",
              "      <td>NaN</td>\n",
              "      <td>NaN</td>\n",
              "      <td>NaN</td>\n",
              "      <td>NaN</td>\n",
              "      <td>NaN</td>\n",
              "      <td>NaN</td>\n",
              "      <td>NaN</td>\n",
              "      <td>NaN</td>\n",
              "      <td>NaN</td>\n",
              "      <td>NaN</td>\n",
              "      <td>NaN</td>\n",
              "      <td>NaN</td>\n",
              "      <td>NaN</td>\n",
              "      <td>NaN</td>\n",
              "      <td>NaN</td>\n",
              "      <td>NaN</td>\n",
              "      <td>NaN</td>\n",
              "      <td>NaN</td>\n",
              "      <td>NaN</td>\n",
              "      <td>NaN</td>\n",
              "      <td>NaN</td>\n",
              "      <td>NaN</td>\n",
              "      <td>NaN</td>\n",
              "      <td>NaN</td>\n",
              "      <td>NaN</td>\n",
              "      <td>NaN</td>\n",
              "      <td>NaN</td>\n",
              "      <td>NaN</td>\n",
              "      <td>NaN</td>\n",
              "      <td>NaN</td>\n",
              "      <td>...</td>\n",
              "      <td>NaN</td>\n",
              "      <td>NaN</td>\n",
              "      <td>NaN</td>\n",
              "      <td>NaN</td>\n",
              "      <td>NaN</td>\n",
              "      <td>NaN</td>\n",
              "      <td>NaN</td>\n",
              "      <td>NaN</td>\n",
              "      <td>NaN</td>\n",
              "      <td>NaN</td>\n",
              "      <td>NaN</td>\n",
              "      <td>NaN</td>\n",
              "      <td>NaN</td>\n",
              "      <td>NaN</td>\n",
              "      <td>NaN</td>\n",
              "      <td>NaN</td>\n",
              "      <td>NaN</td>\n",
              "      <td>NaN</td>\n",
              "      <td>NaN</td>\n",
              "      <td>NaN</td>\n",
              "      <td>NaN</td>\n",
              "      <td>NaN</td>\n",
              "      <td>NaN</td>\n",
              "      <td>NaN</td>\n",
              "      <td>NaN</td>\n",
              "      <td>NaN</td>\n",
              "      <td>NaN</td>\n",
              "      <td>NaN</td>\n",
              "      <td>NaN</td>\n",
              "      <td>NaN</td>\n",
              "      <td>NaN</td>\n",
              "      <td>NaN</td>\n",
              "      <td>NaN</td>\n",
              "      <td>NaN</td>\n",
              "      <td>NaN</td>\n",
              "      <td>NaN</td>\n",
              "      <td>NaN</td>\n",
              "      <td>NaN</td>\n",
              "      <td>NaN</td>\n",
              "      <td>NaN</td>\n",
              "    </tr>\n",
              "    <tr>\n",
              "      <th>3</th>\n",
              "      <td>3f69f7d8f8a3b261221b1509172d72c8c08f6fb475055b...</td>\n",
              "      <td>2020-03</td>\n",
              "      <td>Metropolitan Police Service</td>\n",
              "      <td>Metropolitan Police Service</td>\n",
              "      <td>0.140035</td>\n",
              "      <td>51.589112</td>\n",
              "      <td>On or near Beansland Grove</td>\n",
              "      <td>E01000027</td>\n",
              "      <td>Barking and Dagenham 001A</td>\n",
              "      <td>Burglary</td>\n",
              "      <td>Investigation complete; no suspect identified</td>\n",
              "      <td>NaN</td>\n",
              "      <td>NaN</td>\n",
              "      <td>NaN</td>\n",
              "      <td>NaN</td>\n",
              "      <td>NaN</td>\n",
              "      <td>NaN</td>\n",
              "      <td>NaN</td>\n",
              "      <td>NaN</td>\n",
              "      <td>NaN</td>\n",
              "      <td>NaN</td>\n",
              "      <td>NaN</td>\n",
              "      <td>NaN</td>\n",
              "      <td>NaN</td>\n",
              "      <td>NaN</td>\n",
              "      <td>NaN</td>\n",
              "      <td>NaN</td>\n",
              "      <td>NaN</td>\n",
              "      <td>NaN</td>\n",
              "      <td>NaN</td>\n",
              "      <td>NaN</td>\n",
              "      <td>NaN</td>\n",
              "      <td>NaN</td>\n",
              "      <td>NaN</td>\n",
              "      <td>NaN</td>\n",
              "      <td>NaN</td>\n",
              "      <td>NaN</td>\n",
              "      <td>NaN</td>\n",
              "      <td>NaN</td>\n",
              "      <td>NaN</td>\n",
              "      <td>...</td>\n",
              "      <td>NaN</td>\n",
              "      <td>NaN</td>\n",
              "      <td>NaN</td>\n",
              "      <td>NaN</td>\n",
              "      <td>NaN</td>\n",
              "      <td>NaN</td>\n",
              "      <td>NaN</td>\n",
              "      <td>NaN</td>\n",
              "      <td>NaN</td>\n",
              "      <td>NaN</td>\n",
              "      <td>NaN</td>\n",
              "      <td>NaN</td>\n",
              "      <td>NaN</td>\n",
              "      <td>NaN</td>\n",
              "      <td>NaN</td>\n",
              "      <td>NaN</td>\n",
              "      <td>NaN</td>\n",
              "      <td>NaN</td>\n",
              "      <td>NaN</td>\n",
              "      <td>NaN</td>\n",
              "      <td>NaN</td>\n",
              "      <td>NaN</td>\n",
              "      <td>NaN</td>\n",
              "      <td>NaN</td>\n",
              "      <td>NaN</td>\n",
              "      <td>NaN</td>\n",
              "      <td>NaN</td>\n",
              "      <td>NaN</td>\n",
              "      <td>NaN</td>\n",
              "      <td>NaN</td>\n",
              "      <td>NaN</td>\n",
              "      <td>NaN</td>\n",
              "      <td>NaN</td>\n",
              "      <td>NaN</td>\n",
              "      <td>NaN</td>\n",
              "      <td>NaN</td>\n",
              "      <td>NaN</td>\n",
              "      <td>NaN</td>\n",
              "      <td>NaN</td>\n",
              "      <td>NaN</td>\n",
              "    </tr>\n",
              "    <tr>\n",
              "      <th>4</th>\n",
              "      <td>305415befc01a2a0d966e0a5d58670316ef3e57412d7cb...</td>\n",
              "      <td>2020-03</td>\n",
              "      <td>Metropolitan Police Service</td>\n",
              "      <td>Metropolitan Police Service</td>\n",
              "      <td>0.138906</td>\n",
              "      <td>51.588737</td>\n",
              "      <td>On or near Kingston Hill Avenue</td>\n",
              "      <td>E01000027</td>\n",
              "      <td>Barking and Dagenham 001A</td>\n",
              "      <td>Burglary</td>\n",
              "      <td>Investigation complete; no suspect identified</td>\n",
              "      <td>NaN</td>\n",
              "      <td>NaN</td>\n",
              "      <td>NaN</td>\n",
              "      <td>NaN</td>\n",
              "      <td>NaN</td>\n",
              "      <td>NaN</td>\n",
              "      <td>NaN</td>\n",
              "      <td>NaN</td>\n",
              "      <td>NaN</td>\n",
              "      <td>NaN</td>\n",
              "      <td>NaN</td>\n",
              "      <td>NaN</td>\n",
              "      <td>NaN</td>\n",
              "      <td>NaN</td>\n",
              "      <td>NaN</td>\n",
              "      <td>NaN</td>\n",
              "      <td>NaN</td>\n",
              "      <td>NaN</td>\n",
              "      <td>NaN</td>\n",
              "      <td>NaN</td>\n",
              "      <td>NaN</td>\n",
              "      <td>NaN</td>\n",
              "      <td>NaN</td>\n",
              "      <td>NaN</td>\n",
              "      <td>NaN</td>\n",
              "      <td>NaN</td>\n",
              "      <td>NaN</td>\n",
              "      <td>NaN</td>\n",
              "      <td>NaN</td>\n",
              "      <td>...</td>\n",
              "      <td>NaN</td>\n",
              "      <td>NaN</td>\n",
              "      <td>NaN</td>\n",
              "      <td>NaN</td>\n",
              "      <td>NaN</td>\n",
              "      <td>NaN</td>\n",
              "      <td>NaN</td>\n",
              "      <td>NaN</td>\n",
              "      <td>NaN</td>\n",
              "      <td>NaN</td>\n",
              "      <td>NaN</td>\n",
              "      <td>NaN</td>\n",
              "      <td>NaN</td>\n",
              "      <td>NaN</td>\n",
              "      <td>NaN</td>\n",
              "      <td>NaN</td>\n",
              "      <td>NaN</td>\n",
              "      <td>NaN</td>\n",
              "      <td>NaN</td>\n",
              "      <td>NaN</td>\n",
              "      <td>NaN</td>\n",
              "      <td>NaN</td>\n",
              "      <td>NaN</td>\n",
              "      <td>NaN</td>\n",
              "      <td>NaN</td>\n",
              "      <td>NaN</td>\n",
              "      <td>NaN</td>\n",
              "      <td>NaN</td>\n",
              "      <td>NaN</td>\n",
              "      <td>NaN</td>\n",
              "      <td>NaN</td>\n",
              "      <td>NaN</td>\n",
              "      <td>NaN</td>\n",
              "      <td>NaN</td>\n",
              "      <td>NaN</td>\n",
              "      <td>NaN</td>\n",
              "      <td>NaN</td>\n",
              "      <td>NaN</td>\n",
              "      <td>NaN</td>\n",
              "      <td>NaN</td>\n",
              "    </tr>\n",
              "  </tbody>\n",
              "</table>\n",
              "<p>5 rows × 289 columns</p>\n",
              "</div>"
            ],
            "text/plain": [
              "                                            Crime ID  ... Road Casualties;2014;2014 Total\n",
              "0  3123199437da9298db96b9e94b839e24a93efee18f3f5a...  ...                             NaN\n",
              "1                                                NaN  ...                             NaN\n",
              "2                                                NaN  ...                             NaN\n",
              "3  3f69f7d8f8a3b261221b1509172d72c8c08f6fb475055b...  ...                             NaN\n",
              "4  305415befc01a2a0d966e0a5d58670316ef3e57412d7cb...  ...                             NaN\n",
              "\n",
              "[5 rows x 289 columns]"
            ]
          },
          "metadata": {
            "tags": []
          },
          "execution_count": 30
        }
      ]
    },
    {
      "cell_type": "markdown",
      "metadata": {
        "id": "rg3Mor6zMxtp"
      },
      "source": [
        "# Dataframe Subsets\n",
        "\n",
        "There are now a lot of columns in our dataset. We can use the following command to get a list of the column names:"
      ]
    },
    {
      "cell_type": "code",
      "metadata": {
        "id": "1ZEVCJc0NJwa",
        "colab": {
          "base_uri": "https://localhost:8080/"
        },
        "outputId": "f8a366f3-b4d4-4b83-a6d9-b39bfbe1828c"
      },
      "source": [
        "dataLondon.columns"
      ],
      "execution_count": null,
      "outputs": [
        {
          "output_type": "execute_result",
          "data": {
            "text/plain": [
              "Index(['Crime ID', 'Month', 'Reported by', 'Falls within', 'Longitude',\n",
              "       'Latitude', 'Location', 'LSOA code', 'LSOA name', 'Crime type',\n",
              "       ...\n",
              "       'Road Casualties;2012;Slight', 'Road Casualties;2012;2012 Total',\n",
              "       'Road Casualties;2013;Fatal', 'Road Casualties;2013;Serious',\n",
              "       'Road Casualties;2013;Slight', 'Road Casualties;2013;2013 Total',\n",
              "       'Road Casualties;2014;Fatal', 'Road Casualties;2014;Serious',\n",
              "       'Road Casualties;2014;Slight', 'Road Casualties;2014;2014 Total'],\n",
              "      dtype='object', length=289)"
            ]
          },
          "metadata": {
            "tags": []
          },
          "execution_count": 31
        }
      ]
    },
    {
      "cell_type": "markdown",
      "metadata": {
        "id": "CHRA7WtDNZBh"
      },
      "source": [
        "You will see that there are 289 different columns now! Suppose we are only interested in the Household composition data. We can use the `filter()` method combined with a regular expression to subset all of the columns that begin with a specific phrase."
      ]
    },
    {
      "cell_type": "code",
      "metadata": {
        "id": "fvsYKNAAN78k",
        "colab": {
          "base_uri": "https://localhost:8080/",
          "height": 322
        },
        "outputId": "bc011c06-d70c-4726-bcd2-294c5c541d18"
      },
      "source": [
        "#Filter the dataset\n",
        "dataHouseComposition = dataLondon.filter(regex=r'^Household Composition', axis=1)\n",
        "\n",
        "#Preview the data\n",
        "dataHouseComposition.head()"
      ],
      "execution_count": null,
      "outputs": [
        {
          "output_type": "execute_result",
          "data": {
            "text/html": [
              "<div>\n",
              "<style scoped>\n",
              "    .dataframe tbody tr th:only-of-type {\n",
              "        vertical-align: middle;\n",
              "    }\n",
              "\n",
              "    .dataframe tbody tr th {\n",
              "        vertical-align: top;\n",
              "    }\n",
              "\n",
              "    .dataframe thead th {\n",
              "        text-align: right;\n",
              "    }\n",
              "</style>\n",
              "<table border=\"1\" class=\"dataframe\">\n",
              "  <thead>\n",
              "    <tr style=\"text-align: right;\">\n",
              "      <th></th>\n",
              "      <th>Household Composition;Couple household with dependent children;2011</th>\n",
              "      <th>Household Composition;Couple household without dependent children;2011</th>\n",
              "      <th>Household Composition;Lone parent household;2011</th>\n",
              "      <th>Household Composition;One person household;2011</th>\n",
              "      <th>Household Composition;Other household Types;2011</th>\n",
              "      <th>Household Composition;% Couple household with dependent children;2011</th>\n",
              "      <th>Household Composition;% Couple household without dependent children;2011</th>\n",
              "      <th>Household Composition;% Lone parent household;2011</th>\n",
              "      <th>Household Composition;% One person household;2011</th>\n",
              "      <th>Household Composition;% Other multi person household;2011</th>\n",
              "    </tr>\n",
              "  </thead>\n",
              "  <tbody>\n",
              "    <tr>\n",
              "      <th>0</th>\n",
              "      <td>NaN</td>\n",
              "      <td>NaN</td>\n",
              "      <td>NaN</td>\n",
              "      <td>NaN</td>\n",
              "      <td>NaN</td>\n",
              "      <td>NaN</td>\n",
              "      <td>NaN</td>\n",
              "      <td>NaN</td>\n",
              "      <td>NaN</td>\n",
              "      <td>NaN</td>\n",
              "    </tr>\n",
              "    <tr>\n",
              "      <th>1</th>\n",
              "      <td>NaN</td>\n",
              "      <td>NaN</td>\n",
              "      <td>NaN</td>\n",
              "      <td>NaN</td>\n",
              "      <td>NaN</td>\n",
              "      <td>NaN</td>\n",
              "      <td>NaN</td>\n",
              "      <td>NaN</td>\n",
              "      <td>NaN</td>\n",
              "      <td>NaN</td>\n",
              "    </tr>\n",
              "    <tr>\n",
              "      <th>2</th>\n",
              "      <td>NaN</td>\n",
              "      <td>NaN</td>\n",
              "      <td>NaN</td>\n",
              "      <td>NaN</td>\n",
              "      <td>NaN</td>\n",
              "      <td>NaN</td>\n",
              "      <td>NaN</td>\n",
              "      <td>NaN</td>\n",
              "      <td>NaN</td>\n",
              "      <td>NaN</td>\n",
              "    </tr>\n",
              "    <tr>\n",
              "      <th>3</th>\n",
              "      <td>NaN</td>\n",
              "      <td>NaN</td>\n",
              "      <td>NaN</td>\n",
              "      <td>NaN</td>\n",
              "      <td>NaN</td>\n",
              "      <td>NaN</td>\n",
              "      <td>NaN</td>\n",
              "      <td>NaN</td>\n",
              "      <td>NaN</td>\n",
              "      <td>NaN</td>\n",
              "    </tr>\n",
              "    <tr>\n",
              "      <th>4</th>\n",
              "      <td>NaN</td>\n",
              "      <td>NaN</td>\n",
              "      <td>NaN</td>\n",
              "      <td>NaN</td>\n",
              "      <td>NaN</td>\n",
              "      <td>NaN</td>\n",
              "      <td>NaN</td>\n",
              "      <td>NaN</td>\n",
              "      <td>NaN</td>\n",
              "      <td>NaN</td>\n",
              "    </tr>\n",
              "  </tbody>\n",
              "</table>\n",
              "</div>"
            ],
            "text/plain": [
              "   Household Composition;Couple household with dependent children;2011  ...  Household Composition;% Other multi person household;2011\n",
              "0                                                NaN                    ...                                                NaN        \n",
              "1                                                NaN                    ...                                                NaN        \n",
              "2                                                NaN                    ...                                                NaN        \n",
              "3                                                NaN                    ...                                                NaN        \n",
              "4                                                NaN                    ...                                                NaN        \n",
              "\n",
              "[5 rows x 10 columns]"
            ]
          },
          "metadata": {
            "tags": []
          },
          "execution_count": 32
        }
      ]
    },
    {
      "cell_type": "markdown",
      "metadata": {
        "id": "oetq1yEifVtK"
      },
      "source": [
        "\n",
        "We can also filter the dataframe on specific values to analyse crime in areas with specific demographics.\n",
        "\n",
        "Lets look at the most top 5 prevalent crimes in areas where the median household income is greater than £50,000 per year.\n"
      ]
    },
    {
      "cell_type": "code",
      "metadata": {
        "id": "x77VD3tJfVtQ",
        "colab": {
          "base_uri": "https://localhost:8080/"
        },
        "outputId": "5904cddc-a76e-46d5-e479-a99d13b32d7b"
      },
      "source": [
        "dataLondon[dataLondon['Household Income, 2011/12;Median Annual Household Income estimate (£)']>50000].value_counts('Crime type')"
      ],
      "execution_count": null,
      "outputs": [
        {
          "output_type": "execute_result",
          "data": {
            "text/plain": [
              "Series([], dtype: int64)"
            ]
          },
          "metadata": {
            "tags": []
          },
          "execution_count": 36
        }
      ]
    },
    {
      "cell_type": "markdown",
      "metadata": {
        "id": "0BkiuGO2u5BE"
      },
      "source": [
        "Repeat this for the areas where the median household income is less than £20,000 per year."
      ]
    },
    {
      "cell_type": "code",
      "metadata": {
        "id": "-NHXlwDOu4ky",
        "colab": {
          "base_uri": "https://localhost:8080/"
        },
        "outputId": "ebeddacd-c9b0-45fb-fe5a-bb442ca19768"
      },
      "source": [
        "#Enter your code here\n",
        "dataLondon[dataLondon['Household Income, 2011/12;Median Annual Household Income estimate (£)']<20000].value_counts('Crime type')"
      ],
      "execution_count": null,
      "outputs": [
        {
          "output_type": "execute_result",
          "data": {
            "text/plain": [
              "Series([], dtype: int64)"
            ]
          },
          "metadata": {
            "tags": []
          },
          "execution_count": 37
        }
      ]
    },
    {
      "cell_type": "markdown",
      "metadata": {
        "id": "5pwx53Op93qu"
      },
      "source": [
        "Can we compare these directly? If not, why not, and what could be done to resolve this issue?"
      ]
    },
    {
      "cell_type": "code",
      "metadata": {
        "id": "rS0EsfZfv6Ax"
      },
      "source": [
        "#I don't get an actual value from the dataset... I am confused"
      ],
      "execution_count": null,
      "outputs": []
    },
    {
      "cell_type": "markdown",
      "metadata": {
        "id": "20pdT2JcKheT"
      },
      "source": [
        "If you think a correction is needed implement it here..."
      ]
    },
    {
      "cell_type": "markdown",
      "metadata": {
        "id": "clrPGBBNKoTm"
      },
      "source": [
        " What do you notice between the two sets of results? "
      ]
    },
    {
      "cell_type": "code",
      "metadata": {
        "id": "Ril_JgxkIQAv"
      },
      "source": [
        "#We see that... "
      ],
      "execution_count": null,
      "outputs": []
    },
    {
      "cell_type": "markdown",
      "metadata": {
        "id": "WrEgHXvEfVte"
      },
      "source": [
        "# Plotting the Data\n"
      ]
    },
    {
      "cell_type": "markdown",
      "metadata": {
        "id": "rWKJ4GMuXeoS"
      },
      "source": [
        "Let us first create a time-series plot in order to better understand how Londons crime profile has changed over the last 6 months."
      ]
    },
    {
      "cell_type": "code",
      "metadata": {
        "id": "K-95cs1XYLnS",
        "colab": {
          "base_uri": "https://localhost:8080/",
          "height": 198
        },
        "outputId": "fc93db83-c964-41e7-fa78-54b5234c2d97"
      },
      "source": [
        "#Convert the month column to a date format\n",
        "dataLondon['Month'] = pd.to_datetime(dataLondon['Month'])\n",
        "\n",
        "#Use the groupby method to create a dataframe of the plotting data\n",
        "dataPlot = dataLondon.groupby(['Month', 'Crime type']).size().reset_index(name=\"Count\")\n",
        "\n",
        "#View the dataframe\n",
        "dataPlot.head()"
      ],
      "execution_count": null,
      "outputs": [
        {
          "output_type": "execute_result",
          "data": {
            "text/html": [
              "<div>\n",
              "<style scoped>\n",
              "    .dataframe tbody tr th:only-of-type {\n",
              "        vertical-align: middle;\n",
              "    }\n",
              "\n",
              "    .dataframe tbody tr th {\n",
              "        vertical-align: top;\n",
              "    }\n",
              "\n",
              "    .dataframe thead th {\n",
              "        text-align: right;\n",
              "    }\n",
              "</style>\n",
              "<table border=\"1\" class=\"dataframe\">\n",
              "  <thead>\n",
              "    <tr style=\"text-align: right;\">\n",
              "      <th></th>\n",
              "      <th>Month</th>\n",
              "      <th>Crime type</th>\n",
              "      <th>Count</th>\n",
              "    </tr>\n",
              "  </thead>\n",
              "  <tbody>\n",
              "    <tr>\n",
              "      <th>0</th>\n",
              "      <td>2020-03-01</td>\n",
              "      <td>Anti-social behaviour</td>\n",
              "      <td>23014</td>\n",
              "    </tr>\n",
              "    <tr>\n",
              "      <th>1</th>\n",
              "      <td>2020-03-01</td>\n",
              "      <td>Bicycle theft</td>\n",
              "      <td>1078</td>\n",
              "    </tr>\n",
              "    <tr>\n",
              "      <th>2</th>\n",
              "      <td>2020-03-01</td>\n",
              "      <td>Burglary</td>\n",
              "      <td>5362</td>\n",
              "    </tr>\n",
              "    <tr>\n",
              "      <th>3</th>\n",
              "      <td>2020-03-01</td>\n",
              "      <td>Criminal damage and arson</td>\n",
              "      <td>4392</td>\n",
              "    </tr>\n",
              "    <tr>\n",
              "      <th>4</th>\n",
              "      <td>2020-03-01</td>\n",
              "      <td>Drugs</td>\n",
              "      <td>3657</td>\n",
              "    </tr>\n",
              "  </tbody>\n",
              "</table>\n",
              "</div>"
            ],
            "text/plain": [
              "       Month                 Crime type  Count\n",
              "0 2020-03-01      Anti-social behaviour  23014\n",
              "1 2020-03-01              Bicycle theft   1078\n",
              "2 2020-03-01                   Burglary   5362\n",
              "3 2020-03-01  Criminal damage and arson   4392\n",
              "4 2020-03-01                      Drugs   3657"
            ]
          },
          "metadata": {
            "tags": []
          },
          "execution_count": 38
        }
      ]
    },
    {
      "cell_type": "code",
      "metadata": {
        "id": "TxcCc0ddaS1r",
        "colab": {
          "base_uri": "https://localhost:8080/",
          "height": 312
        },
        "outputId": "edbbe166-d4f5-4737-a667-9061af8d76f7"
      },
      "source": [
        "#Seaborn: visualisation library\n",
        "import seaborn as sns\n",
        "\n",
        "#Create the plot\n",
        "plt.figure()\n",
        "sns.lineplot(data = dataPlot, x = 'Month', y = 'Count', hue = 'Crime type')\n",
        "\n",
        "#Move the legend outside of the plot\n",
        "plt.legend(loc='right', bbox_to_anchor=(1.6, 0.5), ncol=1, title = 'Crime Type')\n",
        "\n",
        "#Don't forget to add a title and label your axes!\n",
        "plt.ylabel('Frequency')\n",
        "plt.title('Frequency of each Crime Type from March to August 2020 in London')"
      ],
      "execution_count": null,
      "outputs": [
        {
          "output_type": "execute_result",
          "data": {
            "text/plain": [
              "Text(0.5, 1.0, 'Frequency of each Crime Type from March to August 2020 in London')"
            ]
          },
          "metadata": {
            "tags": []
          },
          "execution_count": 39
        },
        {
          "output_type": "display_data",
          "data": {
            "image/png": "[encoded data removed]",
            "text/plain": [
              "<Figure size 432x288 with 1 Axes>"
            ]
          },
          "metadata": {
            "tags": [],
            "needs_background": "light"
          }
        }
      ]
    },
    {
      "cell_type": "markdown",
      "metadata": {
        "id": "Z-RS9SVWfnFr"
      },
      "source": [
        "This creates a nice plot but it is difficult to distinguish the different categories. An interactive plot would help us overcome these difficulties...\n",
        "\n",
        "Below we use the plotly library to create an interactive equivalent of the above graph. Have a play around with the hover and different features available on the top right of the plot. \n",
        "\n",
        "We will not cover plotly further so if you are not sure on what these commands are doing then check out the plotly documentation."
      ]
    },
    {
      "cell_type": "code",
      "metadata": {
        "id": "2rJImK2dgGgH",
        "colab": {
          "base_uri": "https://localhost:8080/",
          "height": 542
        },
        "outputId": "404b1da4-7a0e-4443-8a23-84909c9c0efa"
      },
      "source": [
        "#Plotly Express: Visualisation Library (component of plotly)\n",
        "import plotly.express as px\n",
        "\n",
        "#Create the plot\n",
        "fig = px.line(dataPlot, x = 'Month', y = 'Count',\n",
        "              color = 'Crime type', line_group = 'Crime type',\n",
        "              labels={\"Count\": \"Frequency\", \"Crime type\": \"Crime Type\"},\n",
        "              title = 'Frequency of each Crime Type from March to August 2020 in London',\n",
        "              hover_name = 'Crime type')\n",
        "\n",
        "#Tidy up the legend\n",
        "fig.for_each_trace(lambda t: t.update(name=t.name.replace(\"Crime Type=\", \"\")))\n",
        "fig.show()"
      ],
      "execution_count": null,
      "outputs": [
        {
          "output_type": "display_data",
          "data": {
            "text/html": [
              "<html>\n",
              "<head><meta charset=\"utf-8\" /></head>\n",
              "<body>\n",
              "    <div>\n",
              "            <script src=\"https://cdnjs.cloudflare.com/ajax/libs/mathjax/2.7.5/MathJax.js?config=TeX-AMS-MML_SVG\"></script><script type=\"text/javascript\">if (window.MathJax) {MathJax.Hub.Config({SVG: {font: \"STIX-Web\"}});}</script>\n",
              "                <script type=\"text/javascript\">window.PlotlyConfig = {MathJaxConfig: 'local'};</script>\n",
              "        <script src=\"https://cdn.plot.ly/plotly-latest.min.js\"></script>    \n",
              "            <div id=\"20df19f0-3676-48d9-a525-2e18d7ffee6b\" class=\"plotly-graph-div\" style=\"height:525px; width:100%;\"></div>\n",
              "            <script type=\"text/javascript\">\n",
              "                \n",
              "                    window.PLOTLYENV=window.PLOTLYENV || {};\n",
              "                    \n",
              "                if (document.getElementById(\"20df19f0-3676-48d9-a525-2e18d7ffee6b\")) {\n",
              "                    Plotly.newPlot(\n",
              "                        '20df19f0-3676-48d9-a525-2e18d7ffee6b',\n",
              "                        [{\"hoverlabel\": {\"namelength\": 0}, \"hovertemplate\": \"<b>%{hovertext}</b><br><br>Crime Type=Anti-social behaviour<br>Month=%{x}<br>Frequency=%{y}\", \"hovertext\": [\"Anti-social behaviour\", \"Anti-social behaviour\", \"Anti-social behaviour\", \"Anti-social behaviour\", \"Anti-social behaviour\", \"Anti-social behaviour\"], \"legendgroup\": \"Crime Type=Anti-social behaviour\", \"line\": {\"color\": \"#636efa\", \"dash\": \"solid\"}, \"mode\": \"lines\", \"name\": \"Anti-social behaviour\", \"showlegend\": true, \"type\": \"scatter\", \"x\": [\"2020-03-01T00:00:00\", \"2020-04-01T00:00:00\", \"2020-05-01T00:00:00\", \"2020-06-01T00:00:00\", \"2020-07-01T00:00:00\", \"2020-08-01T00:00:00\"], \"xaxis\": \"x\", \"y\": [23014, 62763, 58502, 39584, 35588, 35842], \"yaxis\": \"y\"}, {\"hoverlabel\": {\"namelength\": 0}, \"hovertemplate\": \"<b>%{hovertext}</b><br><br>Crime Type=Bicycle theft<br>Month=%{x}<br>Frequency=%{y}\", \"hovertext\": [\"Bicycle theft\", \"Bicycle theft\", \"Bicycle theft\", \"Bicycle theft\", \"Bicycle theft\", \"Bicycle theft\"], \"legendgroup\": \"Crime Type=Bicycle theft\", \"line\": {\"color\": \"#EF553B\", \"dash\": \"solid\"}, \"mode\": \"lines\", \"name\": \"Bicycle theft\", \"showlegend\": true, \"type\": \"scatter\", \"x\": [\"2020-03-01T00:00:00\", \"2020-04-01T00:00:00\", \"2020-05-01T00:00:00\", \"2020-06-01T00:00:00\", \"2020-07-01T00:00:00\", \"2020-08-01T00:00:00\"], \"xaxis\": \"x\", \"y\": [1078, 1060, 1768, 2548, 2833, 3019], \"yaxis\": \"y\"}, {\"hoverlabel\": {\"namelength\": 0}, \"hovertemplate\": \"<b>%{hovertext}</b><br><br>Crime Type=Burglary<br>Month=%{x}<br>Frequency=%{y}\", \"hovertext\": [\"Burglary\", \"Burglary\", \"Burglary\", \"Burglary\", \"Burglary\", \"Burglary\"], \"legendgroup\": \"Crime Type=Burglary\", \"line\": {\"color\": \"#00cc96\", \"dash\": \"solid\"}, \"mode\": \"lines\", \"name\": \"Burglary\", \"showlegend\": true, \"type\": \"scatter\", \"x\": [\"2020-03-01T00:00:00\", \"2020-04-01T00:00:00\", \"2020-05-01T00:00:00\", \"2020-06-01T00:00:00\", \"2020-07-01T00:00:00\", \"2020-08-01T00:00:00\"], \"xaxis\": \"x\", \"y\": [5362, 3661, 3886, 4320, 4928, 4995], \"yaxis\": \"y\"}, {\"hoverlabel\": {\"namelength\": 0}, \"hovertemplate\": \"<b>%{hovertext}</b><br><br>Crime Type=Criminal damage and arson<br>Month=%{x}<br>Frequency=%{y}\", \"hovertext\": [\"Criminal damage and arson\", \"Criminal damage and arson\", \"Criminal damage and arson\", \"Criminal damage and arson\", \"Criminal damage and arson\", \"Criminal damage and arson\"], \"legendgroup\": \"Crime Type=Criminal damage and arson\", \"line\": {\"color\": \"#ab63fa\", \"dash\": \"solid\"}, \"mode\": \"lines\", \"name\": \"Criminal damage and arson\", \"showlegend\": true, \"type\": \"scatter\", \"x\": [\"2020-03-01T00:00:00\", \"2020-04-01T00:00:00\", \"2020-05-01T00:00:00\", \"2020-06-01T00:00:00\", \"2020-07-01T00:00:00\", \"2020-08-01T00:00:00\"], \"xaxis\": \"x\", \"y\": [4392, 3496, 3906, 4353, 4692, 4710], \"yaxis\": \"y\"}, {\"hoverlabel\": {\"namelength\": 0}, \"hovertemplate\": \"<b>%{hovertext}</b><br><br>Crime Type=Drugs<br>Month=%{x}<br>Frequency=%{y}\", \"hovertext\": [\"Drugs\", \"Drugs\", \"Drugs\", \"Drugs\", \"Drugs\", \"Drugs\"], \"legendgroup\": \"Crime Type=Drugs\", \"line\": {\"color\": \"#FFA15A\", \"dash\": \"solid\"}, \"mode\": \"lines\", \"name\": \"Drugs\", \"showlegend\": true, \"type\": \"scatter\", \"x\": [\"2020-03-01T00:00:00\", \"2020-04-01T00:00:00\", \"2020-05-01T00:00:00\", \"2020-06-01T00:00:00\", \"2020-07-01T00:00:00\", \"2020-08-01T00:00:00\"], \"xaxis\": \"x\", \"y\": [3657, 4978, 6427, 4665, 4569, 3534], \"yaxis\": \"y\"}, {\"hoverlabel\": {\"namelength\": 0}, \"hovertemplate\": \"<b>%{hovertext}</b><br><br>Crime Type=Other crime<br>Month=%{x}<br>Frequency=%{y}\", \"hovertext\": [\"Other crime\", \"Other crime\", \"Other crime\", \"Other crime\", \"Other crime\", \"Other crime\"], \"legendgroup\": \"Crime Type=Other crime\", \"line\": {\"color\": \"#19d3f3\", \"dash\": \"solid\"}, \"mode\": \"lines\", \"name\": \"Other crime\", \"showlegend\": true, \"type\": \"scatter\", \"x\": [\"2020-03-01T00:00:00\", \"2020-04-01T00:00:00\", \"2020-05-01T00:00:00\", \"2020-06-01T00:00:00\", \"2020-07-01T00:00:00\", \"2020-08-01T00:00:00\"], \"xaxis\": \"x\", \"y\": [813, 751, 823, 882, 892, 780], \"yaxis\": \"y\"}, {\"hoverlabel\": {\"namelength\": 0}, \"hovertemplate\": \"<b>%{hovertext}</b><br><br>Crime Type=Other theft<br>Month=%{x}<br>Frequency=%{y}\", \"hovertext\": [\"Other theft\", \"Other theft\", \"Other theft\", \"Other theft\", \"Other theft\", \"Other theft\"], \"legendgroup\": \"Crime Type=Other theft\", \"line\": {\"color\": \"#FF6692\", \"dash\": \"solid\"}, \"mode\": \"lines\", \"name\": \"Other theft\", \"showlegend\": true, \"type\": \"scatter\", \"x\": [\"2020-03-01T00:00:00\", \"2020-04-01T00:00:00\", \"2020-05-01T00:00:00\", \"2020-06-01T00:00:00\", \"2020-07-01T00:00:00\", \"2020-08-01T00:00:00\"], \"xaxis\": \"x\", \"y\": [7531, 3884, 4443, 5387, 6977, 7647], \"yaxis\": \"y\"}, {\"hoverlabel\": {\"namelength\": 0}, \"hovertemplate\": \"<b>%{hovertext}</b><br><br>Crime Type=Possession of weapons<br>Month=%{x}<br>Frequency=%{y}\", \"hovertext\": [\"Possession of weapons\", \"Possession of weapons\", \"Possession of weapons\", \"Possession of weapons\", \"Possession of weapons\", \"Possession of weapons\"], \"legendgroup\": \"Crime Type=Possession of weapons\", \"line\": {\"color\": \"#B6E880\", \"dash\": \"solid\"}, \"mode\": \"lines\", \"name\": \"Possession of weapons\", \"showlegend\": true, \"type\": \"scatter\", \"x\": [\"2020-03-01T00:00:00\", \"2020-04-01T00:00:00\", \"2020-05-01T00:00:00\", \"2020-06-01T00:00:00\", \"2020-07-01T00:00:00\", \"2020-08-01T00:00:00\"], \"xaxis\": \"x\", \"y\": [483, 460, 533, 463, 453, 451], \"yaxis\": \"y\"}, {\"hoverlabel\": {\"namelength\": 0}, \"hovertemplate\": \"<b>%{hovertext}</b><br><br>Crime Type=Public order<br>Month=%{x}<br>Frequency=%{y}\", \"hovertext\": [\"Public order\", \"Public order\", \"Public order\", \"Public order\", \"Public order\", \"Public order\"], \"legendgroup\": \"Crime Type=Public order\", \"line\": {\"color\": \"#FF97FF\", \"dash\": \"solid\"}, \"mode\": \"lines\", \"name\": \"Public order\", \"showlegend\": true, \"type\": \"scatter\", \"x\": [\"2020-03-01T00:00:00\", \"2020-04-01T00:00:00\", \"2020-05-01T00:00:00\", \"2020-06-01T00:00:00\", \"2020-07-01T00:00:00\", \"2020-08-01T00:00:00\"], \"xaxis\": \"x\", \"y\": [3966, 3464, 4250, 4966, 5584, 5490], \"yaxis\": \"y\"}, {\"hoverlabel\": {\"namelength\": 0}, \"hovertemplate\": \"<b>%{hovertext}</b><br><br>Crime Type=Robbery<br>Month=%{x}<br>Frequency=%{y}\", \"hovertext\": [\"Robbery\", \"Robbery\", \"Robbery\", \"Robbery\", \"Robbery\", \"Robbery\"], \"legendgroup\": \"Crime Type=Robbery\", \"line\": {\"color\": \"#FECB52\", \"dash\": \"solid\"}, \"mode\": \"lines\", \"name\": \"Robbery\", \"showlegend\": true, \"type\": \"scatter\", \"x\": [\"2020-03-01T00:00:00\", \"2020-04-01T00:00:00\", \"2020-05-01T00:00:00\", \"2020-06-01T00:00:00\", \"2020-07-01T00:00:00\", \"2020-08-01T00:00:00\"], \"xaxis\": \"x\", \"y\": [2711, 1101, 1293, 1705, 2168, 2530], \"yaxis\": \"y\"}, {\"hoverlabel\": {\"namelength\": 0}, \"hovertemplate\": \"<b>%{hovertext}</b><br><br>Crime Type=Shoplifting<br>Month=%{x}<br>Frequency=%{y}\", \"hovertext\": [\"Shoplifting\", \"Shoplifting\", \"Shoplifting\", \"Shoplifting\", \"Shoplifting\", \"Shoplifting\"], \"legendgroup\": \"Crime Type=Shoplifting\", \"line\": {\"color\": \"#636efa\", \"dash\": \"solid\"}, \"mode\": \"lines\", \"name\": \"Shoplifting\", \"showlegend\": true, \"type\": \"scatter\", \"x\": [\"2020-03-01T00:00:00\", \"2020-04-01T00:00:00\", \"2020-05-01T00:00:00\", \"2020-06-01T00:00:00\", \"2020-07-01T00:00:00\", \"2020-08-01T00:00:00\"], \"xaxis\": \"x\", \"y\": [2996, 1691, 1956, 2400, 3099, 3006], \"yaxis\": \"y\"}, {\"hoverlabel\": {\"namelength\": 0}, \"hovertemplate\": \"<b>%{hovertext}</b><br><br>Crime Type=Theft from the person<br>Month=%{x}<br>Frequency=%{y}\", \"hovertext\": [\"Theft from the person\", \"Theft from the person\", \"Theft from the person\", \"Theft from the person\", \"Theft from the person\", \"Theft from the person\"], \"legendgroup\": \"Crime Type=Theft from the person\", \"line\": {\"color\": \"#EF553B\", \"dash\": \"solid\"}, \"mode\": \"lines\", \"name\": \"Theft from the person\", \"showlegend\": true, \"type\": \"scatter\", \"x\": [\"2020-03-01T00:00:00\", \"2020-04-01T00:00:00\", \"2020-05-01T00:00:00\", \"2020-06-01T00:00:00\", \"2020-07-01T00:00:00\", \"2020-08-01T00:00:00\"], \"xaxis\": \"x\", \"y\": [3414, 677, 795, 1194, 2072, 2542], \"yaxis\": \"y\"}, {\"hoverlabel\": {\"namelength\": 0}, \"hovertemplate\": \"<b>%{hovertext}</b><br><br>Crime Type=Vehicle crime<br>Month=%{x}<br>Frequency=%{y}\", \"hovertext\": [\"Vehicle crime\", \"Vehicle crime\", \"Vehicle crime\", \"Vehicle crime\", \"Vehicle crime\", \"Vehicle crime\"], \"legendgroup\": \"Crime Type=Vehicle crime\", \"line\": {\"color\": \"#00cc96\", \"dash\": \"solid\"}, \"mode\": \"lines\", \"name\": \"Vehicle crime\", \"showlegend\": true, \"type\": \"scatter\", \"x\": [\"2020-03-01T00:00:00\", \"2020-04-01T00:00:00\", \"2020-05-01T00:00:00\", \"2020-06-01T00:00:00\", \"2020-07-01T00:00:00\", \"2020-08-01T00:00:00\"], \"xaxis\": \"x\", \"y\": [9621, 6327, 7277, 8102, 8811, 8919], \"yaxis\": \"y\"}, {\"hoverlabel\": {\"namelength\": 0}, \"hovertemplate\": \"<b>%{hovertext}</b><br><br>Crime Type=Violence and sexual offences<br>Month=%{x}<br>Frequency=%{y}\", \"hovertext\": [\"Violence and sexual offences\", \"Violence and sexual offences\", \"Violence and sexual offences\", \"Violence and sexual offences\", \"Violence and sexual offences\", \"Violence and sexual offences\"], \"legendgroup\": \"Crime Type=Violence and sexual offences\", \"line\": {\"color\": \"#ab63fa\", \"dash\": \"solid\"}, \"mode\": \"lines\", \"name\": \"Violence and sexual offences\", \"showlegend\": true, \"type\": \"scatter\", \"x\": [\"2020-03-01T00:00:00\", \"2020-04-01T00:00:00\", \"2020-05-01T00:00:00\", \"2020-06-01T00:00:00\", \"2020-07-01T00:00:00\", \"2020-08-01T00:00:00\"], \"xaxis\": \"x\", \"y\": [18371, 15638, 18149, 19629, 20991, 21317], \"yaxis\": \"y\"}],\n",
              "                        {\"legend\": {\"tracegroupgap\": 0}, \"template\": {\"data\": {\"bar\": [{\"error_x\": {\"color\": \"#2a3f5f\"}, \"error_y\": {\"color\": \"#2a3f5f\"}, \"marker\": {\"line\": {\"color\": \"#E5ECF6\", \"width\": 0.5}}, \"type\": \"bar\"}], \"barpolar\": [{\"marker\": {\"line\": {\"color\": \"#E5ECF6\", \"width\": 0.5}}, \"type\": \"barpolar\"}], \"carpet\": [{\"aaxis\": {\"endlinecolor\": \"#2a3f5f\", \"gridcolor\": \"white\", \"linecolor\": \"white\", \"minorgridcolor\": \"white\", \"startlinecolor\": \"#2a3f5f\"}, \"baxis\": {\"endlinecolor\": \"#2a3f5f\", \"gridcolor\": \"white\", \"linecolor\": \"white\", \"minorgridcolor\": \"white\", \"startlinecolor\": \"#2a3f5f\"}, \"type\": \"carpet\"}], \"choropleth\": [{\"colorbar\": {\"outlinewidth\": 0, \"ticks\": \"\"}, \"type\": \"choropleth\"}], \"contour\": [{\"colorbar\": {\"outlinewidth\": 0, \"ticks\": \"\"}, \"colorscale\": [[0.0, \"#0d0887\"], [0.1111111111111111, \"#46039f\"], [0.2222222222222222, \"#7201a8\"], [0.3333333333333333, \"#9c179e\"], [0.4444444444444444, \"#bd3786\"], [0.5555555555555556, \"#d8576b\"], [0.6666666666666666, \"#ed7953\"], [0.7777777777777778, \"#fb9f3a\"], [0.8888888888888888, \"#fdca26\"], [1.0, \"#f0f921\"]], \"type\": \"contour\"}], \"contourcarpet\": [{\"colorbar\": {\"outlinewidth\": 0, \"ticks\": \"\"}, \"type\": \"contourcarpet\"}], \"heatmap\": [{\"colorbar\": {\"outlinewidth\": 0, \"ticks\": \"\"}, \"colorscale\": [[0.0, \"#0d0887\"], [0.1111111111111111, \"#46039f\"], [0.2222222222222222, \"#7201a8\"], [0.3333333333333333, \"#9c179e\"], [0.4444444444444444, \"#bd3786\"], [0.5555555555555556, \"#d8576b\"], [0.6666666666666666, \"#ed7953\"], [0.7777777777777778, \"#fb9f3a\"], [0.8888888888888888, \"#fdca26\"], [1.0, \"#f0f921\"]], \"type\": \"heatmap\"}], \"heatmapgl\": [{\"colorbar\": {\"outlinewidth\": 0, \"ticks\": \"\"}, \"colorscale\": [[0.0, \"#0d0887\"], [0.1111111111111111, \"#46039f\"], [0.2222222222222222, \"#7201a8\"], [0.3333333333333333, \"#9c179e\"], [0.4444444444444444, \"#bd3786\"], [0.5555555555555556, \"#d8576b\"], [0.6666666666666666, \"#ed7953\"], [0.7777777777777778, \"#fb9f3a\"], [0.8888888888888888, \"#fdca26\"], [1.0, \"#f0f921\"]], \"type\": \"heatmapgl\"}], \"histogram\": [{\"marker\": {\"colorbar\": {\"outlinewidth\": 0, \"ticks\": \"\"}}, \"type\": \"histogram\"}], \"histogram2d\": [{\"colorbar\": {\"outlinewidth\": 0, \"ticks\": \"\"}, \"colorscale\": [[0.0, \"#0d0887\"], [0.1111111111111111, \"#46039f\"], [0.2222222222222222, \"#7201a8\"], [0.3333333333333333, \"#9c179e\"], [0.4444444444444444, \"#bd3786\"], [0.5555555555555556, \"#d8576b\"], [0.6666666666666666, \"#ed7953\"], [0.7777777777777778, \"#fb9f3a\"], [0.8888888888888888, \"#fdca26\"], [1.0, \"#f0f921\"]], \"type\": \"histogram2d\"}], \"histogram2dcontour\": [{\"colorbar\": {\"outlinewidth\": 0, \"ticks\": \"\"}, \"colorscale\": [[0.0, \"#0d0887\"], [0.1111111111111111, \"#46039f\"], [0.2222222222222222, \"#7201a8\"], [0.3333333333333333, \"#9c179e\"], [0.4444444444444444, \"#bd3786\"], [0.5555555555555556, \"#d8576b\"], [0.6666666666666666, \"#ed7953\"], [0.7777777777777778, \"#fb9f3a\"], [0.8888888888888888, \"#fdca26\"], [1.0, \"#f0f921\"]], \"type\": \"histogram2dcontour\"}], \"mesh3d\": [{\"colorbar\": {\"outlinewidth\": 0, \"ticks\": \"\"}, \"type\": \"mesh3d\"}], \"parcoords\": [{\"line\": {\"colorbar\": {\"outlinewidth\": 0, \"ticks\": \"\"}}, \"type\": \"parcoords\"}], \"pie\": [{\"automargin\": true, \"type\": \"pie\"}], \"scatter\": [{\"marker\": {\"colorbar\": {\"outlinewidth\": 0, \"ticks\": \"\"}}, \"type\": \"scatter\"}], \"scatter3d\": [{\"line\": {\"colorbar\": {\"outlinewidth\": 0, \"ticks\": \"\"}}, \"marker\": {\"colorbar\": {\"outlinewidth\": 0, \"ticks\": \"\"}}, \"type\": \"scatter3d\"}], \"scattercarpet\": [{\"marker\": {\"colorbar\": {\"outlinewidth\": 0, \"ticks\": \"\"}}, \"type\": \"scattercarpet\"}], \"scattergeo\": [{\"marker\": {\"colorbar\": {\"outlinewidth\": 0, \"ticks\": \"\"}}, \"type\": \"scattergeo\"}], \"scattergl\": [{\"marker\": {\"colorbar\": {\"outlinewidth\": 0, \"ticks\": \"\"}}, \"type\": \"scattergl\"}], \"scattermapbox\": [{\"marker\": {\"colorbar\": {\"outlinewidth\": 0, \"ticks\": \"\"}}, \"type\": \"scattermapbox\"}], \"scatterpolar\": [{\"marker\": {\"colorbar\": {\"outlinewidth\": 0, \"ticks\": \"\"}}, \"type\": \"scatterpolar\"}], \"scatterpolargl\": [{\"marker\": {\"colorbar\": {\"outlinewidth\": 0, \"ticks\": \"\"}}, \"type\": \"scatterpolargl\"}], \"scatterternary\": [{\"marker\": {\"colorbar\": {\"outlinewidth\": 0, \"ticks\": \"\"}}, \"type\": \"scatterternary\"}], \"surface\": [{\"colorbar\": {\"outlinewidth\": 0, \"ticks\": \"\"}, \"colorscale\": [[0.0, \"#0d0887\"], [0.1111111111111111, \"#46039f\"], [0.2222222222222222, \"#7201a8\"], [0.3333333333333333, \"#9c179e\"], [0.4444444444444444, \"#bd3786\"], [0.5555555555555556, \"#d8576b\"], [0.6666666666666666, \"#ed7953\"], [0.7777777777777778, \"#fb9f3a\"], [0.8888888888888888, \"#fdca26\"], [1.0, \"#f0f921\"]], \"type\": \"surface\"}], \"table\": [{\"cells\": {\"fill\": {\"color\": \"#EBF0F8\"}, \"line\": {\"color\": \"white\"}}, \"header\": {\"fill\": {\"color\": \"#C8D4E3\"}, \"line\": {\"color\": \"white\"}}, \"type\": \"table\"}]}, \"layout\": {\"annotationdefaults\": {\"arrowcolor\": \"#2a3f5f\", \"arrowhead\": 0, \"arrowwidth\": 1}, \"coloraxis\": {\"colorbar\": {\"outlinewidth\": 0, \"ticks\": \"\"}}, \"colorscale\": {\"diverging\": [[0, \"#8e0152\"], [0.1, \"#c51b7d\"], [0.2, \"#de77ae\"], [0.3, \"#f1b6da\"], [0.4, \"#fde0ef\"], [0.5, \"#f7f7f7\"], [0.6, \"#e6f5d0\"], [0.7, \"#b8e186\"], [0.8, \"#7fbc41\"], [0.9, \"#4d9221\"], [1, \"#276419\"]], \"sequential\": [[0.0, \"#0d0887\"], [0.1111111111111111, \"#46039f\"], [0.2222222222222222, \"#7201a8\"], [0.3333333333333333, \"#9c179e\"], [0.4444444444444444, \"#bd3786\"], [0.5555555555555556, \"#d8576b\"], [0.6666666666666666, \"#ed7953\"], [0.7777777777777778, \"#fb9f3a\"], [0.8888888888888888, \"#fdca26\"], [1.0, \"#f0f921\"]], \"sequentialminus\": [[0.0, \"#0d0887\"], [0.1111111111111111, \"#46039f\"], [0.2222222222222222, \"#7201a8\"], [0.3333333333333333, \"#9c179e\"], [0.4444444444444444, \"#bd3786\"], [0.5555555555555556, \"#d8576b\"], [0.6666666666666666, \"#ed7953\"], [0.7777777777777778, \"#fb9f3a\"], [0.8888888888888888, \"#fdca26\"], [1.0, \"#f0f921\"]]}, \"colorway\": [\"#636efa\", \"#EF553B\", \"#00cc96\", \"#ab63fa\", \"#FFA15A\", \"#19d3f3\", \"#FF6692\", \"#B6E880\", \"#FF97FF\", \"#FECB52\"], \"font\": {\"color\": \"#2a3f5f\"}, \"geo\": {\"bgcolor\": \"white\", \"lakecolor\": \"white\", \"landcolor\": \"#E5ECF6\", \"showlakes\": true, \"showland\": true, \"subunitcolor\": \"white\"}, \"hoverlabel\": {\"align\": \"left\"}, \"hovermode\": \"closest\", \"mapbox\": {\"style\": \"light\"}, \"paper_bgcolor\": \"white\", \"plot_bgcolor\": \"#E5ECF6\", \"polar\": {\"angularaxis\": {\"gridcolor\": \"white\", \"linecolor\": \"white\", \"ticks\": \"\"}, \"bgcolor\": \"#E5ECF6\", \"radialaxis\": {\"gridcolor\": \"white\", \"linecolor\": \"white\", \"ticks\": \"\"}}, \"scene\": {\"xaxis\": {\"backgroundcolor\": \"#E5ECF6\", \"gridcolor\": \"white\", \"gridwidth\": 2, \"linecolor\": \"white\", \"showbackground\": true, \"ticks\": \"\", \"zerolinecolor\": \"white\"}, \"yaxis\": {\"backgroundcolor\": \"#E5ECF6\", \"gridcolor\": \"white\", \"gridwidth\": 2, \"linecolor\": \"white\", \"showbackground\": true, \"ticks\": \"\", \"zerolinecolor\": \"white\"}, \"zaxis\": {\"backgroundcolor\": \"#E5ECF6\", \"gridcolor\": \"white\", \"gridwidth\": 2, \"linecolor\": \"white\", \"showbackground\": true, \"ticks\": \"\", \"zerolinecolor\": \"white\"}}, \"shapedefaults\": {\"line\": {\"color\": \"#2a3f5f\"}}, \"ternary\": {\"aaxis\": {\"gridcolor\": \"white\", \"linecolor\": \"white\", \"ticks\": \"\"}, \"baxis\": {\"gridcolor\": \"white\", \"linecolor\": \"white\", \"ticks\": \"\"}, \"bgcolor\": \"#E5ECF6\", \"caxis\": {\"gridcolor\": \"white\", \"linecolor\": \"white\", \"ticks\": \"\"}}, \"title\": {\"x\": 0.05}, \"xaxis\": {\"automargin\": true, \"gridcolor\": \"white\", \"linecolor\": \"white\", \"ticks\": \"\", \"title\": {\"standoff\": 15}, \"zerolinecolor\": \"white\", \"zerolinewidth\": 2}, \"yaxis\": {\"automargin\": true, \"gridcolor\": \"white\", \"linecolor\": \"white\", \"ticks\": \"\", \"title\": {\"standoff\": 15}, \"zerolinecolor\": \"white\", \"zerolinewidth\": 2}}}, \"title\": {\"text\": \"Frequency of each Crime Type from March to August 2020 in London\"}, \"xaxis\": {\"anchor\": \"y\", \"domain\": [0.0, 1.0], \"title\": {\"text\": \"Month\"}}, \"yaxis\": {\"anchor\": \"x\", \"domain\": [0.0, 1.0], \"title\": {\"text\": \"Frequency\"}}},\n",
              "                        {\"responsive\": true}\n",
              "                    ).then(function(){\n",
              "                            \n",
              "var gd = document.getElementById('20df19f0-3676-48d9-a525-2e18d7ffee6b');\n",
              "var x = new MutationObserver(function (mutations, observer) {{\n",
              "        var display = window.getComputedStyle(gd).display;\n",
              "        if (!display || display === 'none') {{\n",
              "            console.log([gd, 'removed!']);\n",
              "            Plotly.purge(gd);\n",
              "            observer.disconnect();\n",
              "        }}\n",
              "}});\n",
              "\n",
              "// Listen for the removal of the full notebook cells\n",
              "var notebookContainer = gd.closest('#notebook-container');\n",
              "if (notebookContainer) {{\n",
              "    x.observe(notebookContainer, {childList: true});\n",
              "}}\n",
              "\n",
              "// Listen for the clearing of the current output cell\n",
              "var outputEl = gd.closest('.output');\n",
              "if (outputEl) {{\n",
              "    x.observe(outputEl, {childList: true});\n",
              "}}\n",
              "\n",
              "                        })\n",
              "                };\n",
              "                \n",
              "            </script>\n",
              "        </div>\n",
              "</body>\n",
              "</html>"
            ]
          },
          "metadata": {
            "tags": []
          }
        }
      ]
    },
    {
      "cell_type": "markdown",
      "metadata": {
        "id": "9Ww8GJW-kxUU"
      },
      "source": [
        "What effect do you think covid-19 had on the crime profile? Consider the individual crime types and how lock down may have affected them. Do you need additional data to backup your claims? If so, what data?"
      ]
    },
    {
      "cell_type": "code",
      "metadata": {
        "id": "MvknRPiWlLtx"
      },
      "source": [
        "#antisocial behaviour seems to have tremendously increased during the first couple of months of lockdown\n",
        "#they have decreased since april 2020 (maybe the getting used to being quaratined? or just the lack of human contact,\n",
        "# although I've heard Londoners are not as strict as people in other european cities)\n",
        "#violence and sexual offences seem to decrease from march to april but then increase again\n",
        "#it's hard to see the trends of the other crime types but it seems like they all decrease until april and then increase\n",
        "#again except for posession of weapons and vehicle crime\n",
        "#the only one that increases at first and then decreases from may is drug use, to cope with pandemic stress? I don't know, not my method to cope with stress...\n",
        "#overall the decline in robbery, assault etc can be explained by stricter measures at the beginning of lockdown\n",
        "#the following incline can therefore be explained by a more 'relaxed' situation 'back to normal', there is no good way to formulate this\n",
        "#the two crimes that I see increased were drug use and anti-social behaviour, maybe reactions to the pandemic craziness "
      ],
      "execution_count": null,
      "outputs": []
    },
    {
      "cell_type": "markdown",
      "metadata": {
        "id": "9fAmqqAVfVtp"
      },
      "source": [
        "## Exercise:\n",
        "\n",
        "Investigate the trend between a demographic variable and crime.\n",
        "\n",
        "1. Choose a socio-demographic variable from the dataset and choose a crime variable that you would like to compare. This could be the total crime count in each LSOA, or the frequency of a specific crime type.\n",
        "2. Manipulate the dataframes as necessary in order to aid plotting.\n",
        "3. Plot absolute values, percent changes, means, medians. Compare the results, see if anything can be concluded. \n",
        "4. **Advanced:** Create a plot with different series.\n"
      ]
    }
  ]
}